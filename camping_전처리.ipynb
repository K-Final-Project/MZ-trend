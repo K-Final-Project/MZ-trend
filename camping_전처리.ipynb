{
 "cells": [
  {
   "cell_type": "code",
   "execution_count": 25,
   "metadata": {},
   "outputs": [],
   "source": [
    "import os\n",
    "import sys\n",
    "import re\n",
    "import numpy as np"
   ]
  },
  {
   "cell_type": "markdown",
   "metadata": {},
   "source": [
    "### DB 불러오기"
   ]
  },
  {
   "cell_type": "code",
   "execution_count": 73,
   "metadata": {},
   "outputs": [
    {
     "name": "stdout",
     "output_type": "stream",
     "text": [
      "Connection established\n"
     ]
    },
    {
     "data": {
      "text/html": [
       "<div>\n",
       "<style scoped>\n",
       "    .dataframe tbody tr th:only-of-type {\n",
       "        vertical-align: middle;\n",
       "    }\n",
       "\n",
       "    .dataframe tbody tr th {\n",
       "        vertical-align: top;\n",
       "    }\n",
       "\n",
       "    .dataframe thead th {\n",
       "        text-align: right;\n",
       "    }\n",
       "</style>\n",
       "<table border=\"1\" class=\"dataframe\">\n",
       "  <thead>\n",
       "    <tr style=\"text-align: right;\">\n",
       "      <th></th>\n",
       "      <th>id</th>\n",
       "      <th>제목</th>\n",
       "      <th>링크</th>\n",
       "      <th>발행일자</th>\n",
       "      <th>본문</th>\n",
       "    </tr>\n",
       "  </thead>\n",
       "  <tbody>\n",
       "    <tr>\n",
       "      <th>0</th>\n",
       "      <td>0</td>\n",
       "      <td>폴딩 텐트 트레일러 겨울캠핑도 문제없어 !</td>\n",
       "      <td>https://blog.naver.com/alswh03/221197806276</td>\n",
       "      <td>2018-01-31</td>\n",
       "      <td>(18)\\n공지 카카오뷰 창작센터 개설하고 보드 발행 방법 [카뷰 채널친구 맞추 단...</td>\n",
       "    </tr>\n",
       "    <tr>\n",
       "      <th>1</th>\n",
       "      <td>1</td>\n",
       "      <td>캠핑카와 캠핑트레일러 제작 믿을수있는 국내 업체</td>\n",
       "      <td>https://blog.naver.com/gasinae00/221189063401</td>\n",
       "      <td>2018-01-21</td>\n",
       "      <td>공지 EBS 다큐 잇 it 캠핑방송 출연 2박3일간 촬영 힘들었지만 방송보니 좋네\\...</td>\n",
       "    </tr>\n",
       "    <tr>\n",
       "      <th>2</th>\n",
       "      <td>2</td>\n",
       "      <td>감바스 알 아히요 캠핑 파티요리 만들기~</td>\n",
       "      <td>https://blog.naver.com/laeda/221176408914</td>\n",
       "      <td>2018-01-02</td>\n",
       "      <td>(81)\\n공지 사진 무단 도용시 법적 대응하겠습니다!\\n2021. 2. 22.\\n...</td>\n",
       "    </tr>\n",
       "    <tr>\n",
       "      <th>3</th>\n",
       "      <td>3</td>\n",
       "      <td>남양주 별내 짱아캠핑장에서 장박캠핑 시작</td>\n",
       "      <td>https://blog.naver.com/sks0926/221190316394</td>\n",
       "      <td>2018-01-22</td>\n",
       "      <td>캠핑,여행,낚시이야기 253개의 글\\n목록닫기\\n글 제목\\n작성일\\n홍천강 노지캠핑...</td>\n",
       "    </tr>\n",
       "    <tr>\n",
       "      <th>4</th>\n",
       "      <td>4</td>\n",
       "      <td>캠핑카제작 업체 믿고 맡기는 캠카랜드 놀라움!</td>\n",
       "      <td>https://blog.naver.com/dull33/221197657196</td>\n",
       "      <td>2018-01-31</td>\n",
       "      <td>(7)\\n공지 네이버TV 채널 만들기 구독과 좋아요 부탁드려요^^\\n2018. 7....</td>\n",
       "    </tr>\n",
       "    <tr>\n",
       "      <th>...</th>\n",
       "      <td>...</td>\n",
       "      <td>...</td>\n",
       "      <td>...</td>\n",
       "      <td>...</td>\n",
       "      <td>...</td>\n",
       "    </tr>\n",
       "    <tr>\n",
       "      <th>25195</th>\n",
       "      <td>25195</td>\n",
       "      <td>134th Camping, in 귤빛캠핑장... 장박캠핑 3주 차</td>\n",
       "      <td>https://blog.naver.com/heoung00/221754335956</td>\n",
       "      <td>2019-12-30</td>\n",
       "      <td>2019년 12월 27일(금) ~ 29일(일)\\n장박지인 귤빛캠핑장에서 장박 3주 ...</td>\n",
       "    </tr>\n",
       "    <tr>\n",
       "      <th>25196</th>\n",
       "      <td>25196</td>\n",
       "      <td>2019년 구니의 캠핑 &amp; 여행 결산</td>\n",
       "      <td>https://blog.naver.com/jtong/221754488506</td>\n",
       "      <td>2019-12-30</td>\n",
       "      <td>캠핑과 여행을 좋아하는 구니입니다.\\n2019년도 어느덧 마무리가 되어가는 12월입...</td>\n",
       "    </tr>\n",
       "    <tr>\n",
       "      <th>25197</th>\n",
       "      <td>25197</td>\n",
       "      <td>스타렉스 세미캠핑카 스카이라이프SLT 시공설치~ 스카이오토</td>\n",
       "      <td>https://blog.naver.com/ancobang/221747648096</td>\n",
       "      <td>2019-12-24</td>\n",
       "      <td>오늘은 스타렉스 차량을 캠핑카로 개조하신 차량이 입고가되어\\n스카이라이프SLT(LT...</td>\n",
       "    </tr>\n",
       "    <tr>\n",
       "      <th>25198</th>\n",
       "      <td>25198</td>\n",
       "      <td>[캠핑] 차박 캠핑 / 강릉 캠핑</td>\n",
       "      <td>https://blog.naver.com/noravose/221755331578</td>\n",
       "      <td>2019-12-31</td>\n",
       "      <td>2019.12.14 - 15\\n선자령 백패킹을 마치고 샤워 후 2일차 캠핑을 위해 ...</td>\n",
       "    </tr>\n",
       "    <tr>\n",
       "      <th>25199</th>\n",
       "      <td>25199</td>\n",
       "      <td>[0039] 191224~25 크리스마스 캠핑</td>\n",
       "      <td>https://blog.naver.com/soriem0201/221749779341</td>\n",
       "      <td>2019-12-26</td>\n",
       "      <td>올해는 첫 겨울캠핑에 이어 첫 크리스마스 캠핑이다..\\n왜 사람들이 \"캠핑은 겨울이...</td>\n",
       "    </tr>\n",
       "  </tbody>\n",
       "</table>\n",
       "<p>25200 rows × 5 columns</p>\n",
       "</div>"
      ],
      "text/plain": [
       "          id                                    제목  \\\n",
       "0          0               폴딩 텐트 트레일러 겨울캠핑도 문제없어 !   \n",
       "1          1            캠핑카와 캠핑트레일러 제작 믿을수있는 국내 업체   \n",
       "2          2                감바스 알 아히요 캠핑 파티요리 만들기~   \n",
       "3          3                남양주 별내 짱아캠핑장에서 장박캠핑 시작   \n",
       "4          4             캠핑카제작 업체 믿고 맡기는 캠카랜드 놀라움!   \n",
       "...      ...                                   ...   \n",
       "25195  25195  134th Camping, in 귤빛캠핑장... 장박캠핑 3주 차   \n",
       "25196  25196                  2019년 구니의 캠핑 & 여행 결산   \n",
       "25197  25197      스타렉스 세미캠핑카 스카이라이프SLT 시공설치~ 스카이오토   \n",
       "25198  25198                    [캠핑] 차박 캠핑 / 강릉 캠핑   \n",
       "25199  25199             [0039] 191224~25 크리스마스 캠핑   \n",
       "\n",
       "                                                   링크        발행일자  \\\n",
       "0         https://blog.naver.com/alswh03/221197806276  2018-01-31   \n",
       "1       https://blog.naver.com/gasinae00/221189063401  2018-01-21   \n",
       "2           https://blog.naver.com/laeda/221176408914  2018-01-02   \n",
       "3         https://blog.naver.com/sks0926/221190316394  2018-01-22   \n",
       "4          https://blog.naver.com/dull33/221197657196  2018-01-31   \n",
       "...                                               ...         ...   \n",
       "25195    https://blog.naver.com/heoung00/221754335956  2019-12-30   \n",
       "25196       https://blog.naver.com/jtong/221754488506  2019-12-30   \n",
       "25197    https://blog.naver.com/ancobang/221747648096  2019-12-24   \n",
       "25198    https://blog.naver.com/noravose/221755331578  2019-12-31   \n",
       "25199  https://blog.naver.com/soriem0201/221749779341  2019-12-26   \n",
       "\n",
       "                                                      본문  \n",
       "0      (18)\\n공지 카카오뷰 창작센터 개설하고 보드 발행 방법 [카뷰 채널친구 맞추 단...  \n",
       "1      공지 EBS 다큐 잇 it 캠핑방송 출연 2박3일간 촬영 힘들었지만 방송보니 좋네\\...  \n",
       "2      (81)\\n공지 사진 무단 도용시 법적 대응하겠습니다!\\n2021. 2. 22.\\n...  \n",
       "3      캠핑,여행,낚시이야기 253개의 글\\n목록닫기\\n글 제목\\n작성일\\n홍천강 노지캠핑...  \n",
       "4      (7)\\n공지 네이버TV 채널 만들기 구독과 좋아요 부탁드려요^^\\n2018. 7....  \n",
       "...                                                  ...  \n",
       "25195  2019년 12월 27일(금) ~ 29일(일)\\n장박지인 귤빛캠핑장에서 장박 3주 ...  \n",
       "25196  캠핑과 여행을 좋아하는 구니입니다.\\n2019년도 어느덧 마무리가 되어가는 12월입...  \n",
       "25197  오늘은 스타렉스 차량을 캠핑카로 개조하신 차량이 입고가되어\\n스카이라이프SLT(LT...  \n",
       "25198  2019.12.14 - 15\\n선자령 백패킹을 마치고 샤워 후 2일차 캠핑을 위해 ...  \n",
       "25199  올해는 첫 겨울캠핑에 이어 첫 크리스마스 캠핑이다..\\n왜 사람들이 \"캠핑은 겨울이...  \n",
       "\n",
       "[25200 rows x 5 columns]"
      ]
     },
     "execution_count": 73,
     "metadata": {},
     "output_type": "execute_result"
    }
   ],
   "source": [
    "import pandas as pd\n",
    "import psycopg2\n",
    "import sqlalchemy\n",
    "from sqlalchemy import create_engine\n",
    "\n",
    "# db connect \n",
    "conn = psycopg2.connect( \n",
    "    host = \"localhost\", \n",
    "    dbname = \"naver_blog\", \n",
    "    user = \"postgres\", \n",
    "    password = \"1234\"\n",
    "    )         \n",
    "sslmode = \"require\"\n",
    "print(\"Connection established\")\n",
    "\n",
    "cursor = conn.cursor()\n",
    "\n",
    "# DB에 저장된 테이블과 모든 열과 행을 가져오기\n",
    "cursor.execute(\"SELECT * FROM 캠핑;\")\n",
    "result = cursor.fetchall()\n",
    "# fetchall() 메서드는 모든 데이터를 한꺼번에 클라이언트로 가져올 때 사용\n",
    "# fetchone()은 한번 호출에 하나의 Row 만을 가져올 때 사용됨. fetchone()을 여러 번 호출하면, 호출 때마다 한 Row씩 데이터를 가져옴 \n",
    "# fetchmany(n) 메서드는 n개 만큼의 데이터를 한꺼번에 가져올 때 사용\n",
    "\n",
    "# 데이터프레임으로 만들기\n",
    "캠핑2018_19_df = pd.DataFrame(result)\n",
    "# row를 불러오는 방법1\n",
    "캠핑2018_19_df.columns = [i[0] for i in  cursor.description]\n",
    "캠핑2018_19_df \n",
    "\n",
    "# row를 불러오는 방법2\n",
    "# Print all rows\n",
    "# for row in rows:\n",
    "#     Data_row = \"(%s, %s, %s, %s)\" % (str(row[0]), str(row[1]), str(row[2]), str(row[3]))\n",
    "\n",
    "# Cleanup\n",
    "# conn.commit()\n",
    "# cursor.close()\n",
    "# conn.close()"
   ]
  },
  {
   "cell_type": "markdown",
   "metadata": {},
   "source": [
    "### 전처리"
   ]
  },
  {
   "cell_type": "code",
   "execution_count": 30,
   "metadata": {},
   "outputs": [],
   "source": [
    "# # id값을 인덱스로 바꾸기\n",
    "# def id_index(df):\n",
    "#     df2 = df.copy()\n",
    "#     df2 = df2.set_index(\"id\")\n",
    "#     return df2"
   ]
  },
  {
   "cell_type": "code",
   "execution_count": null,
   "metadata": {},
   "outputs": [],
   "source": [
    "# np.nan으로 결측값을 인식할 때 해결\n",
    "# df['본문'].replace('', np.nan, inplace=True)\n",
    "# df"
   ]
  },
  {
   "cell_type": "code",
   "execution_count": 74,
   "metadata": {},
   "outputs": [],
   "source": [
    "def nomalize(df):\n",
    "    df2 = df.copy()\n",
    "    # 전체 결측 데이터 확인\n",
    "    print('드롭 전 행의 총 개수 :', len(df2))\n",
    "    print('결측값 총합 :', df2.isnull().sum().sum())\n",
    "    # 결측값이 있는 행 없애기\n",
    "    df2 = df2.dropna(axis=0)\n",
    "    print('드롭 후 행의 총 개수 :', len(df2))\n",
    "    print('결측값 총합 :', df2.isnull().sum().sum())\n",
    "    print('중복값 확인 :', df2.duplicated().sum().sum())\n",
    "    df2 = df2.drop_duplicates(ignore_index=True)\n",
    "    print('총 행의 개수 :', len(df2))\n",
    "    return df2"
   ]
  },
  {
   "cell_type": "code",
   "execution_count": 83,
   "metadata": {},
   "outputs": [],
   "source": [
    "# 한글과 공백 제외 모두 제거 : 띄어쓰기 유지, 구두점 제거\n",
    "def extract_word(context):\n",
    "    hangul = re.compile('[^가-힣]')\n",
    "    result = hangul.sub(' ', context)\n",
    "    return result"
   ]
  },
  {
   "cell_type": "code",
   "execution_count": 97,
   "metadata": {},
   "outputs": [
    {
     "data": {
      "text/html": [
       "<div>\n",
       "<style scoped>\n",
       "    .dataframe tbody tr th:only-of-type {\n",
       "        vertical-align: middle;\n",
       "    }\n",
       "\n",
       "    .dataframe tbody tr th {\n",
       "        vertical-align: top;\n",
       "    }\n",
       "\n",
       "    .dataframe thead th {\n",
       "        text-align: right;\n",
       "    }\n",
       "</style>\n",
       "<table border=\"1\" class=\"dataframe\">\n",
       "  <thead>\n",
       "    <tr style=\"text-align: right;\">\n",
       "      <th></th>\n",
       "      <th>제목</th>\n",
       "    </tr>\n",
       "  </thead>\n",
       "  <tbody>\n",
       "    <tr>\n",
       "      <th>0</th>\n",
       "      <td>폴딩 텐트 트레일러 겨울캠핑도 문제없어</td>\n",
       "    </tr>\n",
       "    <tr>\n",
       "      <th>1</th>\n",
       "      <td>캠핑카와 캠핑트레일러 제작 믿을수있는 국내 업체</td>\n",
       "    </tr>\n",
       "    <tr>\n",
       "      <th>2</th>\n",
       "      <td>감바스 알 아히요 캠핑 파티요리 만들기</td>\n",
       "    </tr>\n",
       "    <tr>\n",
       "      <th>3</th>\n",
       "      <td>남양주 별내 짱아캠핑장에서 장박캠핑 시작</td>\n",
       "    </tr>\n",
       "    <tr>\n",
       "      <th>4</th>\n",
       "      <td>캠핑카제작 업체 믿고 맡기는 캠카랜드 놀라움</td>\n",
       "    </tr>\n",
       "  </tbody>\n",
       "</table>\n",
       "</div>"
      ],
      "text/plain": [
       "                           제목\n",
       "0     폴딩 텐트 트레일러 겨울캠핑도 문제없어  \n",
       "1  캠핑카와 캠핑트레일러 제작 믿을수있는 국내 업체\n",
       "2      감바스 알 아히요 캠핑 파티요리 만들기 \n",
       "3      남양주 별내 짱아캠핑장에서 장박캠핑 시작\n",
       "4   캠핑카제작 업체 믿고 맡기는 캠카랜드 놀라움 "
      ]
     },
     "execution_count": 97,
     "metadata": {},
     "output_type": "execute_result"
    }
   ],
   "source": [
    "def drop_row(df2):\n",
    "    df3 = df2.copy()\n",
    "    df3 = df3.drop(df3.columns[[0, 2, 3, 4]], axis=1)\n",
    "    return df3"
   ]
  },
  {
   "cell_type": "markdown",
   "metadata": {},
   "source": [
    "### 데이터프레임 csv파일로 저장"
   ]
  },
  {
   "cell_type": "code",
   "execution_count": 98,
   "metadata": {},
   "outputs": [],
   "source": [
    "# 데이터프레임 csv파일로 저장\n",
    "def save_csv(df, name):\n",
    "    name = name\n",
    "    df.to_csv(f'{name}.csv', index=False, encoding='cp949')"
   ]
  },
  {
   "cell_type": "markdown",
   "metadata": {},
   "source": [
    "### main 함수"
   ]
  },
  {
   "cell_type": "code",
   "execution_count": null,
   "metadata": {},
   "outputs": [],
   "source": [
    "# 메인 함수 : 함수 한꺼번에 실행\n",
    "if __name__=='__main__':\n",
    "    df = 캠핑2018_19_df\n",
    "    df2 = nomalize(df)\n",
    "    df2['제목'] = df2['제목'].apply(lambda x:extract_word(x))\n",
    "    df2['본문'] = df2['본문'].apply(lambda x:extract_word(x))\n",
    "    df3 = drop_row(df2)\n",
    "    df = df3\n",
    "    name = input('파일 이름을 지어주세요: ')\n",
    "    save_csv(df, name)\n",
    "    \n",
    "df2.head()\n",
    "df3.head()"
   ]
  }
 ],
 "metadata": {
  "interpreter": {
   "hash": "f08154012ddadd8e950e6e9e035c7a7b32c136e7647e9b7c77e02eb723a8bedb"
  },
  "kernelspec": {
   "display_name": "Python 3.9.7 ('base')",
   "language": "python",
   "name": "python3"
  },
  "language_info": {
   "codemirror_mode": {
    "name": "ipython",
    "version": 3
   },
   "file_extension": ".py",
   "mimetype": "text/x-python",
   "name": "python",
   "nbconvert_exporter": "python",
   "pygments_lexer": "ipython3",
   "version": "3.9.7"
  },
  "orig_nbformat": 4
 },
 "nbformat": 4,
 "nbformat_minor": 2
}
