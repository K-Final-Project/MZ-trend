{
  "nbformat": 4,
  "nbformat_minor": 0,
  "metadata": {
    "colab": {
      "name": "최프_네블_자연어처리.ipynb",
      "provenance": [],
      "collapsed_sections": []
    },
    "kernelspec": {
      "name": "python3",
      "display_name": "Python 3"
    },
    "language_info": {
      "name": "python"
    }
  },
  "cells": [
    {
      "cell_type": "code",
      "execution_count": null,
      "metadata": {
        "id": "BHY9shnTgs0y"
      },
      "outputs": [],
      "source": [
        "%pip install git+https://github.com/haven-jeon/PyKoSpacing.git"
      ]
    },
    {
      "cell_type": "code",
      "source": [
        "%pip install git+https://github.com/ssut/py-hanspell.git"
      ],
      "metadata": {
        "id": "A3kyl-q_hc_e"
      },
      "execution_count": null,
      "outputs": []
    },
    {
      "cell_type": "code",
      "source": [
        "%pip install konlpy"
      ],
      "metadata": {
        "colab": {
          "base_uri": "https://localhost:8080/"
        },
        "id": "WjZ7lXZdh88D",
        "outputId": "5947a773-0d84-44c7-f0db-cc94a3a5695c"
      },
      "execution_count": 8,
      "outputs": [
        {
          "output_type": "stream",
          "name": "stdout",
          "text": [
            "Requirement already satisfied: konlpy in /usr/local/lib/python3.7/dist-packages (0.6.0)\n",
            "Requirement already satisfied: JPype1>=0.7.0 in /usr/local/lib/python3.7/dist-packages (from konlpy) (1.3.0)\n",
            "Requirement already satisfied: lxml>=4.1.0 in /usr/local/lib/python3.7/dist-packages (from konlpy) (4.2.6)\n",
            "Requirement already satisfied: numpy>=1.6 in /usr/local/lib/python3.7/dist-packages (from konlpy) (1.19.5)\n",
            "Requirement already satisfied: typing-extensions in /usr/local/lib/python3.7/dist-packages (from JPype1>=0.7.0->konlpy) (3.7.4.3)\n"
          ]
        }
      ]
    },
    {
      "cell_type": "code",
      "source": [
        "%pip install customized_konlpy"
      ],
      "metadata": {
        "id": "bFCnCoSvh9Ck"
      },
      "execution_count": null,
      "outputs": []
    },
    {
      "cell_type": "code",
      "source": [
        "%pip install PyKomoran"
      ],
      "metadata": {
        "id": "-b7H8ohmh9FM"
      },
      "execution_count": null,
      "outputs": []
    },
    {
      "cell_type": "markdown",
      "source": [
        "## **자연어 처리**"
      ],
      "metadata": {
        "id": "712Lt6xoiI5i"
      }
    },
    {
      "cell_type": "code",
      "source": [
        "import numpy as np\n",
        "import pandas as pd\n",
        "import itertools\n",
        "\n",
        "import konlpy\n",
        "from konlpy.tag import Okt\n",
        "from nltk.corpus import stopwords\n",
        "from nltk.tokenize import word_tokenize \n",
        "from collections import Counter\n",
        "from pykospacing import Spacing\n",
        "from hanspell import spell_checker\n",
        "import re\n",
        "from PyKomoran import *\n",
        "komoran = Komoran(\"STABLE\")\n",
        "\n",
        "okt = Okt()\n",
        "spacing = Spacing()"
      ],
      "metadata": {
        "id": "Rg7k5fGch9H9"
      },
      "execution_count": 41,
      "outputs": []
    },
    {
      "cell_type": "markdown",
      "source": [
        "## **okt 사용자 정의 사전 열기**"
      ],
      "metadata": {
        "id": "TzXt3HjnjB-i"
      }
    },
    {
      "cell_type": "code",
      "source": [
        "import os\n",
        "\n",
        "os.chdir('/usr/local/lib/python3.7/dist-packages/konlpy/java')\n",
        "os.getcwd() \n",
        "# os.makedirs('./aaa') # 새로운 사용자 정의 사전 만들기\n",
        "\n",
        "!cp /usr/local/lib/python3.7/dist-packages/konlpy/java/open-korean-text-2.1.0.jar /usr/local/lib/python3.7/dist-packages/konlpy/java/aaa/open-korean-text-2.1.0.jar\n",
        "!jar xvf /usr/local/lib/python3.7/dist-packages/konlpy/java/aaa/open-korean-text-2.1.0.jar\n",
        "#/usr/local/lib/python3.7/dist-packages/konlpy/java/open-korean-text-2.1.0.jar"
      ],
      "metadata": {
        "colab": {
          "base_uri": "https://localhost:8080/"
        },
        "id": "zwUVhQO3h9NV",
        "outputId": "0364e91f-5462-4ca1-8141-d37a942e56c8"
      },
      "execution_count": 11,
      "outputs": [
        {
          "output_type": "stream",
          "name": "stdout",
          "text": [
            "cp: cannot create regular file '/usr/local/lib/python3.7/dist-packages/konlpy/java/aaa/open-korean-text-2.1.0.jar': No such file or directory\n",
            "java.io.FileNotFoundException: /usr/local/lib/python3.7/dist-packages/konlpy/java/aaa/open-korean-text-2.1.0.jar (No such file or directory)\n",
            "\tat java.base/java.io.FileInputStream.open0(Native Method)\n",
            "\tat java.base/java.io.FileInputStream.open(FileInputStream.java:219)\n",
            "\tat java.base/java.io.FileInputStream.<init>(FileInputStream.java:157)\n",
            "\tat java.base/java.io.FileInputStream.<init>(FileInputStream.java:112)\n",
            "\tat jdk.jartool/sun.tools.jar.Main.run(Main.java:407)\n",
            "\tat jdk.jartool/sun.tools.jar.Main.main(Main.java:1680)\n"
          ]
        }
      ]
    },
    {
      "cell_type": "code",
      "source": [
        "# 사용자 사전 열기\n",
        "with open(f\"/usr/local/lib/python3.7/dist-packages/konlpy/java/org/openkoreantext/processor/util/noun/names.txt\") as f:\n",
        "    data = f.read()"
      ],
      "metadata": {
        "id": "3fsHXRVYU3oV",
        "colab": {
          "base_uri": "https://localhost:8080/",
          "height": 227
        },
        "outputId": "5064e72d-7e9b-47c5-c72c-11d40fb82472"
      },
      "execution_count": 10,
      "outputs": [
        {
          "output_type": "error",
          "ename": "FileNotFoundError",
          "evalue": "ignored",
          "traceback": [
            "\u001b[0;31m---------------------------------------------------------------------------\u001b[0m",
            "\u001b[0;31mFileNotFoundError\u001b[0m                         Traceback (most recent call last)",
            "\u001b[0;32m<ipython-input-10-39dd3ffc98f1>\u001b[0m in \u001b[0;36m<module>\u001b[0;34m()\u001b[0m\n\u001b[1;32m      1\u001b[0m \u001b[0;31m# 사용자 사전 열기\u001b[0m\u001b[0;34m\u001b[0m\u001b[0;34m\u001b[0m\u001b[0;34m\u001b[0m\u001b[0m\n\u001b[0;32m----> 2\u001b[0;31m \u001b[0;32mwith\u001b[0m \u001b[0mopen\u001b[0m\u001b[0;34m(\u001b[0m\u001b[0;34mf\"/usr/local/lib/python3.7/dist-packages/konlpy/java/org/openkoreantext/processor/util/noun/names.txt\"\u001b[0m\u001b[0;34m)\u001b[0m \u001b[0;32mas\u001b[0m \u001b[0mf\u001b[0m\u001b[0;34m:\u001b[0m\u001b[0;34m\u001b[0m\u001b[0;34m\u001b[0m\u001b[0m\n\u001b[0m\u001b[1;32m      3\u001b[0m     \u001b[0mdata\u001b[0m \u001b[0;34m=\u001b[0m \u001b[0mf\u001b[0m\u001b[0;34m.\u001b[0m\u001b[0mread\u001b[0m\u001b[0;34m(\u001b[0m\u001b[0;34m)\u001b[0m\u001b[0;34m\u001b[0m\u001b[0;34m\u001b[0m\u001b[0m\n",
            "\u001b[0;31mFileNotFoundError\u001b[0m: [Errno 2] No such file or directory: '/usr/local/lib/python3.7/dist-packages/konlpy/java/org/openkoreantext/processor/util/noun/names.txt'"
          ]
        }
      ]
    },
    {
      "cell_type": "code",
      "source": [
        "# 새로운 단어 추가\n",
        "data += '이가탄\\n인사돌\\n'"
      ],
      "metadata": {
        "id": "aD-bh9hdU3li"
      },
      "execution_count": 41,
      "outputs": []
    },
    {
      "cell_type": "code",
      "source": [
        "# 파일 새롭게 저장\n",
        "with open(\"/usr/local/lib/python3.7/dist-packages/konlpy/java/org/openkoreantext/processor/util/noun/names.txt\", 'w') as f:\n",
        "    f.write(data)\n",
        "\n",
        "!jar cvf /usr/local/lib/python3.7/dist-packages/konlpy/java/aaa/open-korean-text-2.1.0.jar * "
      ],
      "metadata": {
        "id": "l71by2eyU3i1"
      },
      "execution_count": null,
      "outputs": []
    },
    {
      "cell_type": "code",
      "source": [
        "# 확인용\n",
        "a = spell_checker.check('영양제')\n",
        "result = a.checked\n",
        "print(result)\n",
        "\n",
        "okt.morphs('영양제')"
      ],
      "metadata": {
        "colab": {
          "base_uri": "https://localhost:8080/"
        },
        "id": "rLZqwidhU3gL",
        "outputId": "0516dea1-0e57-415c-f8b4-b61f63aafe5a"
      },
      "execution_count": null,
      "outputs": [
        {
          "output_type": "stream",
          "name": "stdout",
          "text": [
            "영양제\n"
          ]
        },
        {
          "output_type": "execute_result",
          "data": {
            "text/plain": [
              "['영양제']"
            ]
          },
          "metadata": {},
          "execution_count": 9
        }
      ]
    },
    {
      "cell_type": "markdown",
      "source": [
        "## csv 파일 불러오기 & 불용어"
      ],
      "metadata": {
        "id": "QHz8KTFxU-Ey"
      }
    },
    {
      "cell_type": "code",
      "source": [
        "#파일 직접 업로드하기\n",
        "from google.colab import files\n",
        "myfile = files.upload()"
      ],
      "metadata": {
        "colab": {
          "resources": {
            "http://localhost:8080/nbextensions/google.colab/files.js": {
              "data": "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",
              "ok": true,
              "headers": [
                [
                  "content-type",
                  "application/javascript"
                ]
              ],
              "status": 200,
              "status_text": ""
            }
          },
          "base_uri": "https://localhost:8080/",
          "height": 77
        },
        "id": "-rVJE0zWqo4m",
        "outputId": "a4f4c078-9ce4-42d1-d617-4bcf4546a73e"
      },
      "execution_count": 217,
      "outputs": [
        {
          "output_type": "display_data",
          "data": {
            "text/plain": [
              "<IPython.core.display.HTML object>"
            ],
            "text/html": [
              "\n",
              "     <input type=\"file\" id=\"files-f284a2db-d0a3-4bc8-a897-ed68beeed1fa\" name=\"files[]\" multiple disabled\n",
              "        style=\"border:none\" />\n",
              "     <output id=\"result-f284a2db-d0a3-4bc8-a897-ed68beeed1fa\">\n",
              "      Upload widget is only available when the cell has been executed in the\n",
              "      current browser session. Please rerun this cell to enable.\n",
              "      </output>\n",
              "      <script src=\"/nbextensions/google.colab/files.js\"></script> "
            ]
          },
          "metadata": {}
        },
        {
          "output_type": "stream",
          "name": "stdout",
          "text": [
            "Saving df_잇몸영양제_내용.csv to df_잇몸영양제_내용.csv\n"
          ]
        }
      ]
    },
    {
      "cell_type": "code",
      "source": [
        "#io와 pandas 모듈 import\n",
        "import io\n",
        "import pandas as pd\n",
        "\n",
        "#pd.read_csv로 csv파일 불러오기\n",
        "df_잇몸영양제_내용 = pd.read_csv(io.BytesIO(myfile['df_잇몸영양제_내용.csv']))\n",
        "df_잇몸영양제_내용.head()"
      ],
      "metadata": {
        "colab": {
          "base_uri": "https://localhost:8080/",
          "height": 206
        },
        "id": "UcvpDIjfrGLm",
        "outputId": "a34c5961-eb60-445a-e5dc-df10fea726e8"
      },
      "execution_count": 218,
      "outputs": [
        {
          "output_type": "execute_result",
          "data": {
            "text/plain": [
              "                                                  내용\n",
              "0  양치질을 아무리 잘한다고 하더라도\\n잘못된 양치질 또는 잇몸 자체가 약한 경우에는\\...\n",
              "1      아무리 하루 세 번 양치를 잘한다 해도\\n치아에는 쉽게 문제가 생기곤 하는데...\n",
              "2  나이가 드니 치아도 약해지나 봐요.\\n옛날이면 돌도 씹어 먹었을 텐데\\n이제는 그토...\n",
              "3  잇몸 영양제 조금 아쉬웠던 이유\\n한번씩 잇몸이 욱신대는 느낌이 느껴질때가 있어요....\n",
              "4  어머니께서 예전부터 잇몸이 좋지 않아\\n최근에 임플란트를 예정 중에 계신데 치과에서..."
            ],
            "text/html": [
              "\n",
              "  <div id=\"df-6facbb04-5074-44d4-99c3-8d80f5db0c67\">\n",
              "    <div class=\"colab-df-container\">\n",
              "      <div>\n",
              "<style scoped>\n",
              "    .dataframe tbody tr th:only-of-type {\n",
              "        vertical-align: middle;\n",
              "    }\n",
              "\n",
              "    .dataframe tbody tr th {\n",
              "        vertical-align: top;\n",
              "    }\n",
              "\n",
              "    .dataframe thead th {\n",
              "        text-align: right;\n",
              "    }\n",
              "</style>\n",
              "<table border=\"1\" class=\"dataframe\">\n",
              "  <thead>\n",
              "    <tr style=\"text-align: right;\">\n",
              "      <th></th>\n",
              "      <th>내용</th>\n",
              "    </tr>\n",
              "  </thead>\n",
              "  <tbody>\n",
              "    <tr>\n",
              "      <th>0</th>\n",
              "      <td>양치질을 아무리 잘한다고 하더라도\\n잘못된 양치질 또는 잇몸 자체가 약한 경우에는\\...</td>\n",
              "    </tr>\n",
              "    <tr>\n",
              "      <th>1</th>\n",
              "      <td>아무리 하루 세 번 양치를 잘한다 해도\\n치아에는 쉽게 문제가 생기곤 하는데...</td>\n",
              "    </tr>\n",
              "    <tr>\n",
              "      <th>2</th>\n",
              "      <td>나이가 드니 치아도 약해지나 봐요.\\n옛날이면 돌도 씹어 먹었을 텐데\\n이제는 그토...</td>\n",
              "    </tr>\n",
              "    <tr>\n",
              "      <th>3</th>\n",
              "      <td>잇몸 영양제 조금 아쉬웠던 이유\\n한번씩 잇몸이 욱신대는 느낌이 느껴질때가 있어요....</td>\n",
              "    </tr>\n",
              "    <tr>\n",
              "      <th>4</th>\n",
              "      <td>어머니께서 예전부터 잇몸이 좋지 않아\\n최근에 임플란트를 예정 중에 계신데 치과에서...</td>\n",
              "    </tr>\n",
              "  </tbody>\n",
              "</table>\n",
              "</div>\n",
              "      <button class=\"colab-df-convert\" onclick=\"convertToInteractive('df-6facbb04-5074-44d4-99c3-8d80f5db0c67')\"\n",
              "              title=\"Convert this dataframe to an interactive table.\"\n",
              "              style=\"display:none;\">\n",
              "        \n",
              "  <svg xmlns=\"http://www.w3.org/2000/svg\" height=\"24px\"viewBox=\"0 0 24 24\"\n",
              "       width=\"24px\">\n",
              "    <path d=\"M0 0h24v24H0V0z\" fill=\"none\"/>\n",
              "    <path d=\"M18.56 5.44l.94 2.06.94-2.06 2.06-.94-2.06-.94-.94-2.06-.94 2.06-2.06.94zm-11 1L8.5 8.5l.94-2.06 2.06-.94-2.06-.94L8.5 2.5l-.94 2.06-2.06.94zm10 10l.94 2.06.94-2.06 2.06-.94-2.06-.94-.94-2.06-.94 2.06-2.06.94z\"/><path d=\"M17.41 7.96l-1.37-1.37c-.4-.4-.92-.59-1.43-.59-.52 0-1.04.2-1.43.59L10.3 9.45l-7.72 7.72c-.78.78-.78 2.05 0 2.83L4 21.41c.39.39.9.59 1.41.59.51 0 1.02-.2 1.41-.59l7.78-7.78 2.81-2.81c.8-.78.8-2.07 0-2.86zM5.41 20L4 18.59l7.72-7.72 1.47 1.35L5.41 20z\"/>\n",
              "  </svg>\n",
              "      </button>\n",
              "      \n",
              "  <style>\n",
              "    .colab-df-container {\n",
              "      display:flex;\n",
              "      flex-wrap:wrap;\n",
              "      gap: 12px;\n",
              "    }\n",
              "\n",
              "    .colab-df-convert {\n",
              "      background-color: #E8F0FE;\n",
              "      border: none;\n",
              "      border-radius: 50%;\n",
              "      cursor: pointer;\n",
              "      display: none;\n",
              "      fill: #1967D2;\n",
              "      height: 32px;\n",
              "      padding: 0 0 0 0;\n",
              "      width: 32px;\n",
              "    }\n",
              "\n",
              "    .colab-df-convert:hover {\n",
              "      background-color: #E2EBFA;\n",
              "      box-shadow: 0px 1px 2px rgba(60, 64, 67, 0.3), 0px 1px 3px 1px rgba(60, 64, 67, 0.15);\n",
              "      fill: #174EA6;\n",
              "    }\n",
              "\n",
              "    [theme=dark] .colab-df-convert {\n",
              "      background-color: #3B4455;\n",
              "      fill: #D2E3FC;\n",
              "    }\n",
              "\n",
              "    [theme=dark] .colab-df-convert:hover {\n",
              "      background-color: #434B5C;\n",
              "      box-shadow: 0px 1px 3px 1px rgba(0, 0, 0, 0.15);\n",
              "      filter: drop-shadow(0px 1px 2px rgba(0, 0, 0, 0.3));\n",
              "      fill: #FFFFFF;\n",
              "    }\n",
              "  </style>\n",
              "\n",
              "      <script>\n",
              "        const buttonEl =\n",
              "          document.querySelector('#df-6facbb04-5074-44d4-99c3-8d80f5db0c67 button.colab-df-convert');\n",
              "        buttonEl.style.display =\n",
              "          google.colab.kernel.accessAllowed ? 'block' : 'none';\n",
              "\n",
              "        async function convertToInteractive(key) {\n",
              "          const element = document.querySelector('#df-6facbb04-5074-44d4-99c3-8d80f5db0c67');\n",
              "          const dataTable =\n",
              "            await google.colab.kernel.invokeFunction('convertToInteractive',\n",
              "                                                     [key], {});\n",
              "          if (!dataTable) return;\n",
              "\n",
              "          const docLinkHtml = 'Like what you see? Visit the ' +\n",
              "            '<a target=\"_blank\" href=https://colab.research.google.com/notebooks/data_table.ipynb>data table notebook</a>'\n",
              "            + ' to learn more about interactive tables.';\n",
              "          element.innerHTML = '';\n",
              "          dataTable['output_type'] = 'display_data';\n",
              "          await google.colab.output.renderOutput(dataTable, element);\n",
              "          const docLink = document.createElement('div');\n",
              "          docLink.innerHTML = docLinkHtml;\n",
              "          element.appendChild(docLink);\n",
              "        }\n",
              "      </script>\n",
              "    </div>\n",
              "  </div>\n",
              "  "
            ]
          },
          "metadata": {},
          "execution_count": 218
        }
      ]
    },
    {
      "cell_type": "code",
      "source": [
        "# 불용어 리스트 만들기\n",
        "# bul_word = []\n",
        "stopwords = ['르', '과', '까지', '곳', '다시금', '제현', '귀엽다', '과', '게', '때','쿠','쵸','존',\n",
        "             '링','보다','경우','반면','되다','있다','자나','살다','혹시','경우','때문','정도','사항',\n",
        "                   '해당','겁니다','이것','저것','그것','돋움','신명', '태명', '이미', '돋움',\n",
        "                   '동안','거기','저기','여기','대부분','누구','무엇','고딕','만큼','굴림','감사','건지','텐데',\n",
        "                   '안녕','그렇다','이번','걸로','수고','겁니까','그간','그건','그때','글쓴이','누가','니다','다면',\n",
        "                   '뭔가','또한','하다','이다','되다','다능','자다','자체','서체','지나가다','잇다','같다','미치','있다','없다', '여지','관련',\n",
        "                   '생각', '현재', '진행', '사람', '마음', '남산', '내용', '현실','음','막','전하다','들다','열다',\n",
        "                   '두다','서다','산하','지금','주변','대상','부분','요즘','하루','마련','시간','이상','행위',\n",
        "                   '이하','바로 가기','바로가기','제가','먹다','보이다','지나다','콜론','각','대하다','따르다','인하다','전','후','예','한','다','보다','그렇다','좋다',\n",
        "                   '나다','너무','정말','내다','많다','그리다','물론','조금','다시','느끼다','없이','특히','여러','다른','이런','가지다','어떻다','통하다', '위하다'\n",
        "                   '다니다','나서다','들다','열다','어떻게','막상','가다','오다','말다','계속','쉬다','혜량',\n",
        "                   '무현','여쭈다','베타','되묻다','뜨다', '다녀오다','서녀','붙다','찾다','생각나다','앉다','바니','이르다','크다',\n",
        "                   '그냥','그저','바로','시키다','허다','내내','해량','걸다', '이렇다','이렇게','켜다','어린이날','그날','남주','제일','지금껏',\n",
        "             '진짜','끌다','받다','넣다','무지','태주','아무튼','알다','틀다','마치','부리','익히다','만들다','잡다','아주','영재','대구','서울','매우','나오다',\n",
        "             '뫄다','케이','히나','이치','경허','비다','찌다','받다','나가다','일어나다','오키','일단','우왕','드리다',\n",
        "             '대다','덮다','바잔','스다','들어가다','놓아두다','놓다','틀다','들다','사다','팔다','이대로','서교동','조지','치다','그다음','다음',\n",
        "             '마티','파주시','태평','잘나다','모르다','알다','알고있다','주전','작대기','아이스','들뜨다','푸다','아우','쿠쿠','가장','몰다','뭐하다', '눕다', '누르다'\n",
        "             '존나','데리다','트다','쓰다','타임','라인','벌리다','타다','이제','위하다','다니다','한동안','저번','치과','마이','어쩌다','사실','그렇게','이렇게',\n",
        "             '해보다','해저','가세','시마','블루','부르다','야지','에서','의']\n",
        "                   \n",
        "# 기존 불용어 리스트에 추가\n",
        "# stopwords.append('홈페이지')\n",
        "stopwords_set = set(stopwords)\n",
        "\n",
        "# for word_tokens in kospacing_list:\n",
        "#     bul_word.append([word for word in okt.morphs(word_tokens) if not word in stopwords_set])\n",
        "\n",
        "# # print(bul_word)\n",
        "\n",
        "# # 이중리스트 제거\n",
        "# blist = sum(bul_word, [])\n",
        "# print(blist)"
      ],
      "metadata": {
        "id": "D7a2LJzBU3SL"
      },
      "execution_count": 219,
      "outputs": []
    },
    {
      "cell_type": "code",
      "source": [
        "##정규화\n",
        "def normalizing(context):\n",
        "    return okt.normalize(context)\n",
        "\n",
        "def extract_word(context):\n",
        "    hangul = re.compile('[^가-힣]')\n",
        "    result = hangul.sub(' ', context)\n",
        "    result = result.replace(' ','')\n",
        "    return result\n",
        "\n",
        "##띄어쓰기\n",
        "#1 pykospacing\n",
        "\n",
        "def spacing_text1(context):\n",
        "    try:\n",
        "      return spacing(context)\n",
        "    except:\n",
        "      return context\n",
        "\n",
        "#2 pyhanspell\n",
        "def spacing_text2(context):\n",
        "    try:\n",
        "      a = spell_checker.check(context)\n",
        "      result = a.checked\n",
        "      return result\n",
        "    except:\n",
        "      return context\n",
        "\n",
        "def text_tokenizer(context):\n",
        "    return [w.get_first() for w in komoran.get_list(context)]\n",
        "\n",
        "def noun_extractor(context):\n",
        "    return [w.get_first() for w in komoran.get_list(context) if w.get_second() in ['NNP','NNG']]\n",
        "\n",
        "# def text_nv(context):\n",
        "#     all = context.pos(context, join = True)\n",
        "#     return [word for word in all if word in ['Noun','Adjective','Verb']]\n",
        "\n",
        "# def text_nv(context):\n",
        "#     all = okt.pos(context, join = True)\n",
        "#     return [re.sub('[^가-힣]','',word) for word in all if ('Noun' in word or 'Verb' in word or 'Adjective' in word)]\n",
        "\n",
        "def text_nv(context):\n",
        "       return [w.get_first()+'다' if w.get_second() in ['VV','VA'] else w.get_first() for w in komoran.get_list(context) if w.get_second() in ['NNP','NNG','VA','VV','MAG']]"
      ],
      "metadata": {
        "id": "yfBcJeDs4JrH"
      },
      "execution_count": 220,
      "outputs": []
    },
    {
      "cell_type": "code",
      "source": [
        "def context_nlp(df):\n",
        "    title = input('파일 내용: ')\n",
        "    #df = df.drop('Unnamed: 0', axis=1)\n",
        "    df = df.dropna(axis=0)\n",
        "    print('시작')\n",
        "\n",
        "    df['내용'] = df['내용'].apply(lambda x:normalizing(x))\n",
        "    df['내용'] = df['내용'].apply(lambda x:extract_word(x))\n",
        "    df = df.dropna(axis=0)\n",
        "    print('정규화 완')\n",
        "    \n",
        "    df['내용'] = df['내용'].apply(lambda x:spacing_text1(x))\n",
        "    df = df.dropna(axis=0)\n",
        "    print('띄1 완')\n",
        "\n",
        "    # df['내용'] = df['내용'].apply(lambda x:spacing_text2(x))\n",
        "    # df = df.dropna(axis=0)\n",
        "    # print('띄2 완')\n",
        "\n",
        "    df['all_tokens'] = df['내용'].apply(lambda x:text_tokenizer(x))\n",
        "    df = df.dropna(axis=0)\n",
        "    print('토크나이징 완')\n",
        "    \n",
        "    df['tokens'] = df['내용'].apply(lambda x:text_nv(x))\n",
        "    df['nouns'] = df['내용'].apply(lambda x:noun_extractor(x))\n",
        "    print('토큰 추출 완')\n",
        "\n",
        "    # 한글자 형태소 제거\n",
        "    df['tokens'] = df['tokens'].apply(lambda x:[w for w in x if len(w) > 1])\n",
        "    df['all_tokens'] = df['all_tokens'].apply(lambda x:[w for w in x if len(w) > 1])\n",
        "    df['nouns'] = df['nouns'].apply(lambda x:[w for w in x if len(w) > 1])\n",
        "\n",
        "    # 불용어 제거\n",
        "    df['tokens'] = df['tokens'].apply(lambda x:[w for w in x if not w in stopwords_set])\n",
        "    df['nouns'] = df['nouns'].apply(lambda x:[w for w in x if not w in stopwords_set])\n",
        "    #df['all_tokens'] = df['all_tokens'].apply(lambda x:[w for w in x if not w in stopwords_set])\n",
        "\n",
        "    df.to_csv('/content/{0}_완료.csv'.format(title),encoding='utf-8-sig')\n",
        "\n",
        "    return df\n",
        "\n"
      ],
      "metadata": {
        "id": "yHqA02lT4Nj7"
      },
      "execution_count": 221,
      "outputs": []
    },
    {
      "cell_type": "code",
      "source": [
        "aqw = context_nlp(df_잇몸영양제_내용)"
      ],
      "metadata": {
        "colab": {
          "base_uri": "https://localhost:8080/"
        },
        "id": "2XgXvBrj55-T",
        "outputId": "f0be9dd3-5318-491d-9da6-e6cef0b52e7b"
      },
      "execution_count": 222,
      "outputs": [
        {
          "output_type": "stream",
          "name": "stdout",
          "text": [
            "파일 내용: 잇몸영양제_내용\n",
            "시작\n",
            "정규화 완\n",
            "띄1 완\n",
            "토크나이징 완\n",
            "토큰 추출 완\n"
          ]
        }
      ]
    },
    {
      "cell_type": "code",
      "source": [
        "aqw"
      ],
      "metadata": {
        "colab": {
          "base_uri": "https://localhost:8080/",
          "height": 815
        },
        "id": "H27CtE0t6Qih",
        "outputId": "0c6ebaf6-b357-4533-8f35-87eaf3c79160"
      },
      "execution_count": 223,
      "outputs": [
        {
          "output_type": "execute_result",
          "data": {
            "text/plain": [
              "                                                   내용  \\\n",
              "0   양치질을 아무리 잘한다고 하더라도 잘못된 양치질 또는 잇몸 자체가 약한 경우에는 잇...   \n",
              "1   아무리 하루 세 번 양치를 잘한다 해도 치아에는 쉽게 문제가 생기곤 하는데 얼마 전...   \n",
              "2   나이가 드니 치아도 약해지나 봐요옛날이면 돌도 씹어 먹었을 텐데 이제는 그토록 좋아...   \n",
              "3   잇몸 영양제조금 아쉬웠던 이유 한번씩 잇몸이 욱신대는 느낌이 느껴질 때가 있어요 그...   \n",
              "4   어머니께서 예전부터 잇몸이 좋지 않아 최근에 임플란트를 예정 중에 계신데 치과에서 ...   \n",
              "..                                                ...   \n",
              "95  안녕하세욤 치아는 어릴 때부터 꾸준하게 관리를 해주어야 해요평생 쓰는 치아이기 때문...   \n",
              "96  잇몸 부엇을 때 잇몸 내려 앉음 걱정 잇몸 영양제를 먹어보자 지난 년간의 치아교정으...   \n",
              "97  부광약품 웰치부광약품부 광약품 웰치잇몸영양제 치아 영양제 치아 건강 잇몸건강 잇몸건...   \n",
              "98  이웃님들 잇몸영양제 챙기고 있으신가요 저는 치아교정을 결혼하고 했는데 아무래도 늦은...   \n",
              "99  바이탈트리 인 사디플러스 프리미엄 정새로운 패키지 디자인으로 출시된 잇몸 영양제 인...   \n",
              "\n",
              "                                           all_tokens  \\\n",
              "0   [양치질, 아무리, ㄴ다고, 더라도, 잘못, 양치질, 또는, 잇몸, 자체, 약하, ...   \n",
              "1   [아무리, 하루, 양치, ㄴ다, 아도, 치아, 문제, 생기, 는데, 얼마, 부터, ...   \n",
              "2   [나이, 아도, 옛날, 이제, 그토록, 좋아하, 오징어, 하나, 어요, 모르, 다가...   \n",
              "3   [잇몸, 영양제, 조금, 아쉽, 이유, 한번, 잇몸, 다는, 느낌, 느껴지, 어요,...   \n",
              "4   [어머니, 께서, 예전, 부터, 잇몸, 최근, 예정, 계시, ㄴ데, 치과, 에서, ...   \n",
              "..                                                ...   \n",
              "95  [안녕하세요, 어리, 부터, 꾸준, 관리, 어야, 평생, 치아, 때문, 관리, 소홀...   \n",
              "96  [잇몸, 잇몸, 내리, 걱정, 잇몸, 영양제, 지나, 년간, 치아, 교정, 으로, ...   \n",
              "97  [부광약품, 웰치, 부광약품, 약품, 웰치, 잇몸, 영양제, 영양제, 건강, 잇몸,...   \n",
              "98  [이웃, 잇몸, 영양제, 챙기, 으시, ㄴ가요, 치아, 교정, 결혼, 는데, 아무래...   \n",
              "99  [이탈, 트리, 사디, 플러스, 프리미엄, 새롭, 패키지, 디자인, 으로, 출시, ...   \n",
              "\n",
              "                                               tokens  \\\n",
              "0   [양치질, 아무리, 잘못, 양치질, 또는, 잇몸, 약하다, 잇몸, 질환, 피하다, ...   \n",
              "1   [아무리, 양치, 치아, 쉽다, 문제, 생기다, 얼마, 칫솔, 출혈, 함께, 통증,...   \n",
              "2   [나이, 옛날, 씹다, 그토록, 좋아하다, 오징어, 씹다, 통증, 확실히, 잇몸, ...   \n",
              "3   [잇몸, 영양제, 아쉽다, 이유, 한번, 잇몸, 신다, 느낌, 느껴지다, 느낌, 생...   \n",
              "4   [어머니, 예전, 잇몸, 최근, 예정, 계시다, 상태, 치료, 불혹, 바라보다, 이...   \n",
              "..                                                ...   \n",
              "95  [어리다, 관리, 평생, 치아, 관리, 소홀, 건강, 빨간불, 켜지다, 금액, 되돌...   \n",
              "96  [잇몸, 붓다, 잇몸, 내리다, 걱정, 잇몸, 영양제, 치아, 교정, 교정, 확실히...   \n",
              "97  [부광약품, 웰치, 부광약품, 약품, 웰치, 잇몸, 영양제, 영양제, 건강, 잇몸,...   \n",
              "98  [이웃, 잇몸, 영양제, 챙기다, 치아, 교정, 결혼, 아무래도, 늦다, 나이, 치...   \n",
              "99  [이탈, 트리, 사디, 플러스, 프리미엄, 새롭다, 패키지, 디자인, 출시, 잇몸,...   \n",
              "\n",
              "                                                nouns  \n",
              "0   [양치질, 잘못, 양치질, 잇몸, 잇몸, 질환, 이야기, 음식, 방문, 관리, 양치...  \n",
              "1   [양치, 치아, 문제, 얼마, 칫솔, 출혈, 통증, 시작, 잘못, 양치질, 치아, ...  \n",
              "2   [나이, 옛날, 오징어, 통증, 잇몸, 나이, 전반, 신체, 노화, 일상생활, 불편...  \n",
              "3   [잇몸, 영양제, 이유, 한번, 잇몸, 느낌, 느낌, 찬물, 느낌, 잇몸, 영양제,...  \n",
              "4   [어머니, 예전, 잇몸, 최근, 예정, 상태, 치료, 불혹, 충치, 평생, 치아, ...  \n",
              "..                                                ...  \n",
              "95  [관리, 평생, 치아, 관리, 소홀, 건강, 빨간불, 금액, 상태, 치아, 잇몸, ...  \n",
              "96  [잇몸, 잇몸, 걱정, 잇몸, 영양제, 치아, 교정, 교정, 장치, 잇몸, 데미지,...  \n",
              "97  [부광약품, 웰치, 부광약품, 약품, 웰치, 잇몸, 영양제, 영양제, 건강, 잇몸,...  \n",
              "98  [이웃, 잇몸, 영양제, 치아, 교정, 결혼, 나이, 치아, 교정, 시작, 잇몸, ...  \n",
              "99  [이탈, 트리, 사디, 플러스, 프리미엄, 패키지, 디자인, 출시, 잇몸, 영양제,...  \n",
              "\n",
              "[100 rows x 4 columns]"
            ],
            "text/html": [
              "\n",
              "  <div id=\"df-543d1b90-9061-42e8-882c-8670d6a89970\">\n",
              "    <div class=\"colab-df-container\">\n",
              "      <div>\n",
              "<style scoped>\n",
              "    .dataframe tbody tr th:only-of-type {\n",
              "        vertical-align: middle;\n",
              "    }\n",
              "\n",
              "    .dataframe tbody tr th {\n",
              "        vertical-align: top;\n",
              "    }\n",
              "\n",
              "    .dataframe thead th {\n",
              "        text-align: right;\n",
              "    }\n",
              "</style>\n",
              "<table border=\"1\" class=\"dataframe\">\n",
              "  <thead>\n",
              "    <tr style=\"text-align: right;\">\n",
              "      <th></th>\n",
              "      <th>내용</th>\n",
              "      <th>all_tokens</th>\n",
              "      <th>tokens</th>\n",
              "      <th>nouns</th>\n",
              "    </tr>\n",
              "  </thead>\n",
              "  <tbody>\n",
              "    <tr>\n",
              "      <th>0</th>\n",
              "      <td>양치질을 아무리 잘한다고 하더라도 잘못된 양치질 또는 잇몸 자체가 약한 경우에는 잇...</td>\n",
              "      <td>[양치질, 아무리, ㄴ다고, 더라도, 잘못, 양치질, 또는, 잇몸, 자체, 약하, ...</td>\n",
              "      <td>[양치질, 아무리, 잘못, 양치질, 또는, 잇몸, 약하다, 잇몸, 질환, 피하다, ...</td>\n",
              "      <td>[양치질, 잘못, 양치질, 잇몸, 잇몸, 질환, 이야기, 음식, 방문, 관리, 양치...</td>\n",
              "    </tr>\n",
              "    <tr>\n",
              "      <th>1</th>\n",
              "      <td>아무리 하루 세 번 양치를 잘한다 해도 치아에는 쉽게 문제가 생기곤 하는데 얼마 전...</td>\n",
              "      <td>[아무리, 하루, 양치, ㄴ다, 아도, 치아, 문제, 생기, 는데, 얼마, 부터, ...</td>\n",
              "      <td>[아무리, 양치, 치아, 쉽다, 문제, 생기다, 얼마, 칫솔, 출혈, 함께, 통증,...</td>\n",
              "      <td>[양치, 치아, 문제, 얼마, 칫솔, 출혈, 통증, 시작, 잘못, 양치질, 치아, ...</td>\n",
              "    </tr>\n",
              "    <tr>\n",
              "      <th>2</th>\n",
              "      <td>나이가 드니 치아도 약해지나 봐요옛날이면 돌도 씹어 먹었을 텐데 이제는 그토록 좋아...</td>\n",
              "      <td>[나이, 아도, 옛날, 이제, 그토록, 좋아하, 오징어, 하나, 어요, 모르, 다가...</td>\n",
              "      <td>[나이, 옛날, 씹다, 그토록, 좋아하다, 오징어, 씹다, 통증, 확실히, 잇몸, ...</td>\n",
              "      <td>[나이, 옛날, 오징어, 통증, 잇몸, 나이, 전반, 신체, 노화, 일상생활, 불편...</td>\n",
              "    </tr>\n",
              "    <tr>\n",
              "      <th>3</th>\n",
              "      <td>잇몸 영양제조금 아쉬웠던 이유 한번씩 잇몸이 욱신대는 느낌이 느껴질 때가 있어요 그...</td>\n",
              "      <td>[잇몸, 영양제, 조금, 아쉽, 이유, 한번, 잇몸, 다는, 느낌, 느껴지, 어요,...</td>\n",
              "      <td>[잇몸, 영양제, 아쉽다, 이유, 한번, 잇몸, 신다, 느낌, 느껴지다, 느낌, 생...</td>\n",
              "      <td>[잇몸, 영양제, 이유, 한번, 잇몸, 느낌, 느낌, 찬물, 느낌, 잇몸, 영양제,...</td>\n",
              "    </tr>\n",
              "    <tr>\n",
              "      <th>4</th>\n",
              "      <td>어머니께서 예전부터 잇몸이 좋지 않아 최근에 임플란트를 예정 중에 계신데 치과에서 ...</td>\n",
              "      <td>[어머니, 께서, 예전, 부터, 잇몸, 최근, 예정, 계시, ㄴ데, 치과, 에서, ...</td>\n",
              "      <td>[어머니, 예전, 잇몸, 최근, 예정, 계시다, 상태, 치료, 불혹, 바라보다, 이...</td>\n",
              "      <td>[어머니, 예전, 잇몸, 최근, 예정, 상태, 치료, 불혹, 충치, 평생, 치아, ...</td>\n",
              "    </tr>\n",
              "    <tr>\n",
              "      <th>...</th>\n",
              "      <td>...</td>\n",
              "      <td>...</td>\n",
              "      <td>...</td>\n",
              "      <td>...</td>\n",
              "    </tr>\n",
              "    <tr>\n",
              "      <th>95</th>\n",
              "      <td>안녕하세욤 치아는 어릴 때부터 꾸준하게 관리를 해주어야 해요평생 쓰는 치아이기 때문...</td>\n",
              "      <td>[안녕하세요, 어리, 부터, 꾸준, 관리, 어야, 평생, 치아, 때문, 관리, 소홀...</td>\n",
              "      <td>[어리다, 관리, 평생, 치아, 관리, 소홀, 건강, 빨간불, 켜지다, 금액, 되돌...</td>\n",
              "      <td>[관리, 평생, 치아, 관리, 소홀, 건강, 빨간불, 금액, 상태, 치아, 잇몸, ...</td>\n",
              "    </tr>\n",
              "    <tr>\n",
              "      <th>96</th>\n",
              "      <td>잇몸 부엇을 때 잇몸 내려 앉음 걱정 잇몸 영양제를 먹어보자 지난 년간의 치아교정으...</td>\n",
              "      <td>[잇몸, 잇몸, 내리, 걱정, 잇몸, 영양제, 지나, 년간, 치아, 교정, 으로, ...</td>\n",
              "      <td>[잇몸, 붓다, 잇몸, 내리다, 걱정, 잇몸, 영양제, 치아, 교정, 교정, 확실히...</td>\n",
              "      <td>[잇몸, 잇몸, 걱정, 잇몸, 영양제, 치아, 교정, 교정, 장치, 잇몸, 데미지,...</td>\n",
              "    </tr>\n",
              "    <tr>\n",
              "      <th>97</th>\n",
              "      <td>부광약품 웰치부광약품부 광약품 웰치잇몸영양제 치아 영양제 치아 건강 잇몸건강 잇몸건...</td>\n",
              "      <td>[부광약품, 웰치, 부광약품, 약품, 웰치, 잇몸, 영양제, 영양제, 건강, 잇몸,...</td>\n",
              "      <td>[부광약품, 웰치, 부광약품, 약품, 웰치, 잇몸, 영양제, 영양제, 건강, 잇몸,...</td>\n",
              "      <td>[부광약품, 웰치, 부광약품, 약품, 웰치, 잇몸, 영양제, 영양제, 건강, 잇몸,...</td>\n",
              "    </tr>\n",
              "    <tr>\n",
              "      <th>98</th>\n",
              "      <td>이웃님들 잇몸영양제 챙기고 있으신가요 저는 치아교정을 결혼하고 했는데 아무래도 늦은...</td>\n",
              "      <td>[이웃, 잇몸, 영양제, 챙기, 으시, ㄴ가요, 치아, 교정, 결혼, 는데, 아무래...</td>\n",
              "      <td>[이웃, 잇몸, 영양제, 챙기다, 치아, 교정, 결혼, 아무래도, 늦다, 나이, 치...</td>\n",
              "      <td>[이웃, 잇몸, 영양제, 치아, 교정, 결혼, 나이, 치아, 교정, 시작, 잇몸, ...</td>\n",
              "    </tr>\n",
              "    <tr>\n",
              "      <th>99</th>\n",
              "      <td>바이탈트리 인 사디플러스 프리미엄 정새로운 패키지 디자인으로 출시된 잇몸 영양제 인...</td>\n",
              "      <td>[이탈, 트리, 사디, 플러스, 프리미엄, 새롭, 패키지, 디자인, 으로, 출시, ...</td>\n",
              "      <td>[이탈, 트리, 사디, 플러스, 프리미엄, 새롭다, 패키지, 디자인, 출시, 잇몸,...</td>\n",
              "      <td>[이탈, 트리, 사디, 플러스, 프리미엄, 패키지, 디자인, 출시, 잇몸, 영양제,...</td>\n",
              "    </tr>\n",
              "  </tbody>\n",
              "</table>\n",
              "<p>100 rows × 4 columns</p>\n",
              "</div>\n",
              "      <button class=\"colab-df-convert\" onclick=\"convertToInteractive('df-543d1b90-9061-42e8-882c-8670d6a89970')\"\n",
              "              title=\"Convert this dataframe to an interactive table.\"\n",
              "              style=\"display:none;\">\n",
              "        \n",
              "  <svg xmlns=\"http://www.w3.org/2000/svg\" height=\"24px\"viewBox=\"0 0 24 24\"\n",
              "       width=\"24px\">\n",
              "    <path d=\"M0 0h24v24H0V0z\" fill=\"none\"/>\n",
              "    <path d=\"M18.56 5.44l.94 2.06.94-2.06 2.06-.94-2.06-.94-.94-2.06-.94 2.06-2.06.94zm-11 1L8.5 8.5l.94-2.06 2.06-.94-2.06-.94L8.5 2.5l-.94 2.06-2.06.94zm10 10l.94 2.06.94-2.06 2.06-.94-2.06-.94-.94-2.06-.94 2.06-2.06.94z\"/><path d=\"M17.41 7.96l-1.37-1.37c-.4-.4-.92-.59-1.43-.59-.52 0-1.04.2-1.43.59L10.3 9.45l-7.72 7.72c-.78.78-.78 2.05 0 2.83L4 21.41c.39.39.9.59 1.41.59.51 0 1.02-.2 1.41-.59l7.78-7.78 2.81-2.81c.8-.78.8-2.07 0-2.86zM5.41 20L4 18.59l7.72-7.72 1.47 1.35L5.41 20z\"/>\n",
              "  </svg>\n",
              "      </button>\n",
              "      \n",
              "  <style>\n",
              "    .colab-df-container {\n",
              "      display:flex;\n",
              "      flex-wrap:wrap;\n",
              "      gap: 12px;\n",
              "    }\n",
              "\n",
              "    .colab-df-convert {\n",
              "      background-color: #E8F0FE;\n",
              "      border: none;\n",
              "      border-radius: 50%;\n",
              "      cursor: pointer;\n",
              "      display: none;\n",
              "      fill: #1967D2;\n",
              "      height: 32px;\n",
              "      padding: 0 0 0 0;\n",
              "      width: 32px;\n",
              "    }\n",
              "\n",
              "    .colab-df-convert:hover {\n",
              "      background-color: #E2EBFA;\n",
              "      box-shadow: 0px 1px 2px rgba(60, 64, 67, 0.3), 0px 1px 3px 1px rgba(60, 64, 67, 0.15);\n",
              "      fill: #174EA6;\n",
              "    }\n",
              "\n",
              "    [theme=dark] .colab-df-convert {\n",
              "      background-color: #3B4455;\n",
              "      fill: #D2E3FC;\n",
              "    }\n",
              "\n",
              "    [theme=dark] .colab-df-convert:hover {\n",
              "      background-color: #434B5C;\n",
              "      box-shadow: 0px 1px 3px 1px rgba(0, 0, 0, 0.15);\n",
              "      filter: drop-shadow(0px 1px 2px rgba(0, 0, 0, 0.3));\n",
              "      fill: #FFFFFF;\n",
              "    }\n",
              "  </style>\n",
              "\n",
              "      <script>\n",
              "        const buttonEl =\n",
              "          document.querySelector('#df-543d1b90-9061-42e8-882c-8670d6a89970 button.colab-df-convert');\n",
              "        buttonEl.style.display =\n",
              "          google.colab.kernel.accessAllowed ? 'block' : 'none';\n",
              "\n",
              "        async function convertToInteractive(key) {\n",
              "          const element = document.querySelector('#df-543d1b90-9061-42e8-882c-8670d6a89970');\n",
              "          const dataTable =\n",
              "            await google.colab.kernel.invokeFunction('convertToInteractive',\n",
              "                                                     [key], {});\n",
              "          if (!dataTable) return;\n",
              "\n",
              "          const docLinkHtml = 'Like what you see? Visit the ' +\n",
              "            '<a target=\"_blank\" href=https://colab.research.google.com/notebooks/data_table.ipynb>data table notebook</a>'\n",
              "            + ' to learn more about interactive tables.';\n",
              "          element.innerHTML = '';\n",
              "          dataTable['output_type'] = 'display_data';\n",
              "          await google.colab.output.renderOutput(dataTable, element);\n",
              "          const docLink = document.createElement('div');\n",
              "          docLink.innerHTML = docLinkHtml;\n",
              "          element.appendChild(docLink);\n",
              "        }\n",
              "      </script>\n",
              "    </div>\n",
              "  </div>\n",
              "  "
            ]
          },
          "metadata": {},
          "execution_count": 223
        }
      ]
    },
    {
      "cell_type": "markdown",
      "source": [
        "### 단어 카운트 \n"
      ],
      "metadata": {
        "id": "ZvF4eXetVR2j"
      }
    },
    {
      "cell_type": "code",
      "source": [
        "# a = list(itertools.chain(*den_wan['tokens']))\n",
        "den_wan = pd.read_csv('/content/잇몸영양제_내용_완료.csv')\n",
        "li = den_wan['tokens']\n",
        "# # 이중리스트 제거\n",
        "# 리스트가 문자열로 저장된 경우 (ex> [\"['dd','aa']\"])\n",
        "import ast\n",
        "n_list = []\n",
        "\n",
        "for i in li:\n",
        "  i = ast.literal_eval(i)\n",
        "  n_list.append(i)\n",
        "\n",
        "# 이중리스트 제거\n",
        "a = sum(n_list, [])"
      ],
      "metadata": {
        "id": "Sfsb7V3X4oWU"
      },
      "execution_count": 224,
      "outputs": []
    },
    {
      "cell_type": "code",
      "source": [
        "print(a)"
      ],
      "metadata": {
        "colab": {
          "base_uri": "https://localhost:8080/"
        },
        "id": "9hJHrTMM75Gb",
        "outputId": "76b2e4e1-a8b8-4bac-c0a2-79befb3f6de6"
      },
      "execution_count": 225,
      "outputs": [
        {
          "output_type": "stream",
          "name": "stdout",
          "text": [
            "['양치질', '아무리', '잘못', '양치질', '또는', '잇몸', '약하다', '잇몸', '질환', '피하다', '이야기', '특히나', '음식', '많이', '방문', '관리', '양치', '잇몸', '양치질', '잘못', '잇몸', '약하다', '잇몸', '관리', '함께', '보통', '올바르다', '칫솔', '가르치다', '잇몸', '관리', '방법', '여럿', '가르치다', '우선', '잇몸', '관리', '잇몸', '마사지', '아기', '양치질', '어렵다', '유치', '거즈', '이용', '잇몸', '마사지', '방식', '칫솔', '이용', '잇몸', '마사지', '싣다', '사용', '방법', '싣다', '사용', '방법', '올바르다', '양치질', '함께', '잇몸', '관리', '잇몸', '영양제', '함께', '섭취', '관리', '해주', '추천', '받았다', '주기', '검진', '필수', '상태', '검진', '안내', '돌아오다', '생활', '습관', '돌아보다', '잇몸', '관리', '영양제', '알아보다', '시작', '보통', '잇몸', '알려지다', '대표', '영양제', '제품', '성분', '전문', '브랜드', '위주', '검색', '잇몸', '알리다', '프로', '폴리스', '성분', '위주', '알아보다', '프로', '폴리스', '일반', '프로', '폴리스', '다르다', '나무', '추출', '성분', '수액', '이용', '생산', '초록색', '띄다', '프로', '폴리스', '이름', '붙이다', '일반', '프로', '폴리스', '잇몸', '성분', '성분', '중점', '알아보다', '맛있다', '헬퍼', '영양제', '고요', '이름', '잇몸', '영양제', '원료', '알아보다', '프로', '폴리스', '특징', '살펴보다', '일반', '원료', '브라질', '정부', '공식', '인증', '원료', '사용', '브라질', '정부', '원료', '성분', '제조', '공정', '모두', '품질', '체크', '보장', '인증', '제도', '공식', '인증', '원료', '브라질', '고원', '지대', '미나', '라이스', '지역', '리스', '나무', '수액', '추출', '이용', '원료', '청정', '지역', '원료', '주원료', '사용', '잇몸', '영양제', '어브', '타입', '섭취', '나물', '씹다', '삼키다', '제품', '씹다', '치아', '잇몸', '닿다', '성분', '빠르다', '흡수', '특히나', '기분', '제품', '프로', '폴리스', '서해', '칼슘', '비타민', '함유', '보통', '건강', '오르다', '칼슘', '치아', '건강', '관리', '성분', '칼슘', '칼슘', '함께', '섭취', '현대인', '부족', '알려지다', '비타민', '관리', '브랜드', '성분', '공개', '소비자', '하나하나', '검색', '비교', '주성분', '함께', '부원료', '함께', '체크', '부원료', '옥수수', '수염', '추출', '분말', '스테롤', '성분', '함유', '성분', '인터넷', '검색', '브랜드', '특징', '매력', '게시판', '이용', '약사', '약학', '박사', '전문', '인력', '브랜드', '차별화', '서비스', '제공', '게시판', '보통', '게시판', '이용', '답변', '약사', '문의', '하나하나', '답변', '제대로', '전문', '답변', '만족도', '높다', '해답', '성분', '문의', '알려주다', '잇몸', '영양제', '비교', '형제', '궁금증', '생기다', '비교', '광고', '무부', '형제', '문구', '자주', '검색', '광고', '제대로', '게시판', '문의', '생산비', '절감', '생산', '높이다', '업체', '사용', '화학', '성분', '아무래도', '가미', '성분', '배출', '소량', '체내', '쌓이다', '조금씩', '쌓이다', '추후', '알레르기', '위장', '질환', '위험', '이면', '첨가물', '선호', '설명', '신뢰', '건강', '기능', '식품', '배우다', '영양제', '성분', '게시판', '이용', '잇몸', '영양제', '알아보다', '평상시', '함께', '습관', '함께', '알아보다', '지키다', '치아', '잇몸', '대체', '불가능', '평생', '사용', '신체', '부위', '더욱이', '미리', '관리', '시대', '맛보다', '업체', '소정', '원고료', '지원', '작성', '포스팅', '아무리', '양치', '치아', '쉽다', '문제', '생기다', '얼마', '칫솔', '출혈', '함께', '통증', '느껴지다', '시작', '참다', '참다', '결국', '찾아가다', '잘못', '양치질', '치아', '관리', '깨닫다', '후회', '제대로', '관리', '치아', '약하다', '시리다', '느낌', '함께', '통증', '느껴지다', '증상', '어렵다', '방치', '점점', '나빠지다', '방문', '필요', '치료', '그동안', '쌓이다', '치석', '제거', '스케일링', '전체', '치아', '점검', '올바르다', '양치질', '사용', '건강', '영양소', '챙기다', '관리', '주기', '스케일링', '검진', '상태', '체크', '건강', '영양', '성분', '칼슘', '먼저', '떠오르다', '치아', '건강', '칼슘', '함유', '잇몸', '영양제', '챙기다', '처음', '영양', '성분', '음식', '챙기다', '음식', '섭취', '아무래도', '부족', '느껴지다', '이야기', '듣다', '챙기다', '방법', '칼슘', '체내', '흡수', '영양', '성분', '제대로', '효능', '얻다', '잇몸', '영양제', '건강', '기능', '식품', '보충', '듣다', '찾아보다', '칼슘', '챙기다', '비타민', '함께', '챙기다', '고려', '잇몸', '영양제', '찾아보다', '요시', '제품', '건강', '도움', '덴트', '선택', '선택', '이유', '알려드리다', '칼슘', '비타민', '비타민', '프로', '폴리스', '기능', '원료', '담다', '원료', '채우다', '건강', '지키다', '건강', '건강', '함께', '챙기다', '수많다', '후기', '구강', '건강', '챙기다', '섭취', '만족', '이야기', '듣다', '신뢰', '쌓이다', '높다', '평점', '후기', '믿다', '고객', '만족도', '높다', '칼슘', '형성', '필요', '잇몸', '건강', '충치', '예방', '도와주다', '챙겨주다', '체내', '영양', '성분', '결핍', '건강', '약하다', '쉽다', '부러지다', '쉽다', '부식', '염증', '유발', '부족', '잇몸', '영양제', '보충', '필요', '칼슘', '섭취', '반드시', '함께', '챙기다', '영양', '성분', '비타민', '체내', '흡수', '원활', '도와주다', '구강', '건강', '지키다', '비타민', '체내', '부족', '제대로', '흡수', '적정량', '챙겨주다', '장량', '규칙', '챙기다', '구강', '건강', '지키다', '면역력', '높다', '고르다', '잇몸', '영양제', '흡수', '고려', '활성', '비타민', '비타민', '사용', '프로', '폴리스', '자신', '지키다', '물질', '인체', '이롭다', '효과', '천연', '항생제', '효과', '뛰어나다', '항산화', '항바이러스', '구강', '염증', '억제', '구강', '질환', '예방', '효과', '입안', '출혈', '자주', '나타나다', '비타민', '챙기다', '들어보다', '잇몸', '영양제', '함께', '보충', '대표', '항산화', '영양소', '유해', '산소', '보호', '구강', '건강', '지키다', '신체', '건강', '증진', '유지', '효과', '함량', '따지다', '칼슘', '프로', '폴리스', '플라보노이드', '들어서다', '함량', '자랑', '제품', '프로프', '리스', '대표', '많이', '함유', '비타민', '장량', '충분히', '채우다', '부원료', '코엔', '자임', '항산화', '효과', '영양', '성분', '성분', '함께', '섭취', '항산화', '능력', '시너지', '높이다', '충치', '예방', '돕다', '옥수수', '수염', '추출', '분말', '항균', '작용', '도와주다', '효과', '지니다', '원료', '배합', '구강', '건강', '지키다', '건강', '잇몸', '매일', '챙기다', '필요량', '채우다', '부족', '보충', '흡수', '고려', '식사', '섭취', '권장', '매일', '섭취', '만약', '오늘', '전시', '섭취', '내일', '섭취', '매일', '꼬박꼬박', '챙기다', '섭취', '챙기다', '챙기다', '잇몸', '한결', '건강', '입안', '느껴지다', '냄새', '줄어들다', '전반', '만족도', '높다', '건강', '구강', '신경', '잇몸', '영양제', '꾸준히', '챙기다', '건강', '건강', '관리', '필요', '영양분', '챙기다', '건강', '잇몸', '건강', '평상시', '관리', '통증', '불편', '나타나다', '치료', '평소', '영양제', '챙겨주다', '방안', '올바르다', '양치질', '습관', '검진', '관리', '영양제', '매일', '필요', '영양소', '챙기다', '잇몸', '유지', '방법', '칼슘', '소모량', '잇몸', '문제', '고민', '매일', '구강', '건강', '관리', '챙기다', '건강', '함께', '지키다', '포스팅', '업체', '제품', '원고료', '지원', '작성', '나이', '옛날', '씹다', '그토록', '좋아하다', '오징어', '씹다', '통증', '확실히', '잇몸', '약하다', '자연스럽다', '나이', '전반', '신체', '노화', '일상생활', '불편', '느껴지다', '가끔', '차갑다', '음식', '시리다', '증상', '요약', '치아', '걱정', '잇몸', '영양제', '따로', '섭취', '찾아보다', '음식', '챙기다', '나아지다', '느낌', '음식', '아무리', '챙기다', '부족', '치아', '음식', '부족', '잇몸', '건강관리', '도움', '방법', '찾아보다', '시작', '건강', '기능', '식품', '많이', '섭취', '역시', '건강', '혈행', '개선', '항산화', '챙기다', '매일', '꾸준히', '섭취', '증상', '건강', '영양제', '도움', '치아', '도움', '대신', '영양제', '찾아보다', '제품', '치아', '칼슘', '함유', '프로', '폴리스', '비타민', '비타민', '기능', '제품', '그동안', '치아', '챙기다', '음식', '칼슘', '비타민', '그만큼', '반드시', '챙기다', '영양', '성분', '잇몸', '영양제', '챙기다', '영양', '채우다', '원료', '칼슘', '프로', '폴리스', '비타민', '비타민', '원료', '포함', '원료', '배합', '건강', '지키다', '개선', '잇몸', '영양제', '반드시', '챙기다', '영양소', '칼슘', '칼슘', '치아', '구성', '성분', '형성', '도움', '충치', '예방', '영향', '미치다', '체내', '칼슘', '부족', '치아', '쉽다', '부러지다', '염증', '생기다', '쉬워지다', '유지', '영양', '성분', '부족', '잇몸', '영양제', '칼슘', '포함', '강화', '보충', '필요', '천연', '항생제', '프로', '폴리스', '프로', '폴리스', '염증', '많이', '이야기', '역시', '건강', '기능', '식품', '관심', '익히', '들어오다', '천연', '항생제', '역할', '구강', '염증', '완화', '도와주다', '면역력', '높다', '오벌', '자신', '보호', '물질', '항산화', '작용', '항바이러스', '방면', '도움', '관리', '포함', '신체', '건강', '증진', '챙기다', '칼슘', '흡수', '돕다', '영양소', '비타민', '칼슘', '흡수', '돕다', '건강', '지키다', '지키다', '영양', '성분', '비타민', '칼슘', '흡수', '돕다', '반드시', '몸속', '필요', '만약', '부족', '제대로', '칼슘', '흡수', '그만큼', '역할', '잇몸', '영양제', '보충', '필요', '치아', '도움', '영양소', '비타민', '결합', '조직', '형성', '기능', '유지', '필요', '성분', '비타민', '챙기다', '유해', '산소', '세포', '보호', '돕다', '건강', '지키다', '구강', '결합', '조직', '형성', '관여', '도움', '만약', '통증', '느껴지다', '잇몸', '출혈', '발생', '비타민', '부족', '의심', '원료', '살펴보다', '제품', '함께', '배합', '부원료', '살펴보다', '항산화', '돕다', '코엔', '자임', '나이', '감소', '보충', '필요', '건강', '영양', '성분', '알리다', '원료', '배합', '전반', '신체', '챙기다', '엄선', '영양', '성분', '챙기다', '잇몸', '신체', '긍정', '영향', '꾸준히', '섭취', '흡수', '고려', '잇몸', '영양제', '식사', '섭취', '권장', '매일', '복용', '매일', '시간대', '정하다', '꼬박꼬박', '챙기다', '제품', '비교', '함량', '적다', '앞서', '칼슘', '프로', '폴리스', '함량', '담다', '가격', '부담', '성비', '함량', '섭취', '편하다', '개선', '도움', '음식', '챙기다', '부족', '생기다', '잇몸', '영양제', '보충', '효율', '평상시', '관리', '잇몸', '건강', '평상시', '관리', '노화', '잘못', '양치질', '습관', '치아', '망치다', '올바르다', '양치질', '방법', '함께', '싣다', '사용', '습관', '정기', '검진', '스케일링', '추천', '꾸준히', '섭취', '비교', '실히', '느낌', '직접', '확인', '스스로', '음식', '불편', '가끔', '출혈', '사라지다', '만족', '관리', '다르다', '다르다', '나이', '지키다', '건강', '수칙', '도저히', '빼놓다', '잇몸', '상태', '유지', '꾸준히', '챙기다', '나이', '상관없이', '관리', '문제', '일으키다', '쉽다', '관리', '필요', '잇몸', '올바르다', '생활', '습관', '잇몸', '영양제', '섭취', '세요', '잇몸', '영양제', '필수', '성분', '확인', '재생', '화질', '선택', '옵션', '자동', '잇몸', '영양제', '필수', '성분', '확인', '포스팅', '업체', '제품', '원고료', '지원', '작성', '잇몸', '영양제', '아쉽다', '이유', '한번', '잇몸', '신다', '느낌', '느껴지다', '느낌', '생기다', '덥다', '찬물', '마시다', '죽다', '결국', '느낌', '잇몸', '영양제', '챙기다', '시작', '열심히', '괜찮다', '매일', '챙기다', '압박감', '생기다', '귀찮다', '거리다', '느낌', '닿다', '찌릿찌릿', '그제서야', '깨달음', '잇몸', '영양제', '꾸준히', '챙기다', '결국', '선생', '찾아가다', '상황', '생기다', '뜨겁다', '맵다', '음식', '넘다', '스스로', '괜찮다', '노력', '많이', '시도', '직접', '괜찮다', '방법', '소개', '잇몸', '문제', '생기다', '이유', '잇몸', '영양제', '골고루', '챙기다', '반복', '모습', '나타나다', '문제점', '생기다', '알아보다', '어요', '원인', '개선', '치석', '문제', '일명', '그라다', '양치질', '치아', '잇몸', '사이', '치석', '남다', '수시로', '스케일링', '제거', '칫솔', '완벽', '남다', '치석', '제거', '어렵다', '주기', '케어', '바래다', '영양', '부족', '면역력', '저하', '바쁘다', '현대인', '영양', '칼슘', '부족', '문제', '생기다', '끼니', '거르다', '과식', '영양소', '많이', '음식', '골고루', '섭취', '드물다', '영양', '부족', '문제', '잇몸', '영양제', '따로', '챙기다', '부족', '영양', '상태', '먹히다', '개선', '찾아보다', '위생', '불규칙', '일상', '양치질', '빼먹다', '그대로', '청하다', '잠들다', '사이', '미생물', '세균', '구강', '생기다', '문제', '일으키다', '가능', '높다', '구강', '상태', '청결', '칫솔', '마치다', '칫솔', '클리너', '도구', '사용', '관리', '습관', '문제', '발생', '지키다', '피하다', '관리', '방법', '실천', '규칙', '수면', '습관', '잘못', '확실히', '피로감', '컨디션', '한번', '망가지다', '태도', '많이', '좋아지다', '일찍', '잠들다', '일찍', '규칙', '수면', '습관', '들이다', '노력', '휴식', '아침', '저녁', '식사', '스트레칭', '가볍다', '운동', '체력', '기르다', '괜찮다', '천연', '제품', '바꾸다', '세일', '품목', '이틀', '매일', '갑자기', '성분', '사용', '파헤치다', '잇몸', '영양제', '재생', '화질', '선택', '옵션', '자동', '접다', '펴다', '아쉽다', '이유', '세상', '많이', '사용', '맘먹다', '바꾸다', '천연', '제품', '찾아보다', '만나다', '천연', '치약', '프레쉬', '민트', '눈길', '제품', '자일리톨', '함유', '자연스럽다', '내주다', '괜찮다', '충치', '예방', '돕다', '불소', '걱정', '항균', '작용', '도와주다', '스틱', '추출물', '함께', '함유', '충치', '생기다', '막아주다', '도움', '구강', '환경', '이롭다', '역할', '정말로', '느낌', '투스', '페퍼민트', '오일', '성분', '보통', '구강', '문제', '생기다', '충치', '생기다', '걱정', '성분', '항균', '작용', '입속', '세균', '냄새', '도움', '놓이다', '그전', '사용', '구강', '자극', '느낌', '이렇듯', '평생', '생필품', '천연', '제품', '바꾸다', '사용', '얼마', '꾸준히', '영양제', '빠르다', '작용', '화학', '성분', '합성', '계면', '활성제', '양치', '기분', '심하다', '마르다', '성분', '거품', '계면', '활성제', '천연', '계면', '활성제', '사용', '자꾸', '마르다', '맞다', '일반', '치약', '비하다', '천연', '성분', '만족도', '월등히', '높다', '오프라인', '구매', '시국', '인터넷', '주문', '택배', '안심', '공식', '홈페이지', '둘러보다', '요본', '사도', '미니', '치약', '혜택', '매번', '사용', '노력', '식사', '사용', '상태', '유지', '관리', '청결', '구강', '상태', '유지', '문제', '기지', '예상', '잇몸', '영양제', '어머니', '예전', '잇몸', '최근', '예정', '계시다', '상태', '치료', '불혹', '바라보다', '이제서야', '충치', '조금씩', '생기다', '평생', '치아', '고통', '나이', '요새', '계시다', '아이', '청년', '무섭다', '어머니', '싫어하다', '평소', '치아', '관리', '올바르다', '잇몸', '건강', '인지', '관리', '쉽다', '잇몸', '질환', '관리', '방법', '잇몸', '영양제', '소개', '잇몸', '질환', '잇몸', '퇴축', '원인', '구강', '위생', '관리', '생기다', '쉽다', '올바르다', '양치질', '오래', '교정', '치료', '치석', '선천', '요인', '잇몸', '질환', '관리', '방법', '치석', '제거', '스케일링', '자극', '음식', '양치', '습관', '정기', '검진', '치아', '관리', '반드시', '필요', '평소', '잇몸', '영양제', '챙기다', '도움', '어느새', '치아', '관리', '필요', '잇몸', '관리', '신경', '챙기다', '제품', '성분', '칼슘', '주원료', '흡수', '높이다', '식물', '취급', '잇몸', '영양제', '성분', '시너지', '효과', '기대', '비타민', '포함', '성분', '모두', '유럽', '취급', '신뢰', '섭취', '제품', '함유', '분과', '장량', '기준', '모두', '사랑받다', '제품', '잇몸', '영양제', '섭취', '하얀색', '뒤덮이다', '사이즈', '거부감', '장소', '상관없이', '갯수', '신경', '잇몸', '영양제', '편하다', '챙기다', '나이', '음식', '건강', '유지', '치아', '지인', '이식', '잇몸', '상태', '나쁘다', '틀니', '끼다', '불편', '아픔', '고통', '음식', '잘못', '건강', '정신', '스트레스', '많이', '잇몸', '건강', '신경', '평소', '잇몸', '건강', '도움', '성분', '칼슘', '음식', '골고루', '음식', '부족', '여기다', '잇몸', '영양제', '선택', '살펴보다', '결정', '도움', '의원', '고료', '지급', '작성', '병원', '치주', '질환', '심하다', '내원', '환자', '살펴보다', '잇몸', '붓다', '양치', '증상', '대수롭다', '잇몸', '영양제', '방치', '순간', '통증', '완화', '굉장히', '잇몸', '영양제', '그대로', '영양제', '잇몸', '영향', '미치다', '잇몸', '붓다', '통증', '생기다', '넘어가다', '증상', '조속히', '내원', '검진', '권장', '갑자기', '잇몸', '잇몸', '붓다', '빨개지다', '보통', '증상', '나타나다', '치은염', '잇몸', '나타나다', '염증', '인치', '질환', '발생', '잇몸', '치은염', '잇몸', '가볍다', '발생', '염증', '평소', '구강', '관리', '컨디션', '조절', '쉽다', '회복', '가능', '잇몸', '붓다', '치은염', '치료', '잇몸', '영양제', '방치', '잇몸', '염증', '심화', '염증', '잇몸', '녹다', '원래', '건강', '상태', '돌아가다', '잇몸', '붓다', '미리', '관리', '잇몸', '건강', '놓치다', '바라다', '동그라미', '치석', '질환', '발생', '원인', '잇몸', '급속도', '나빠지다', '주저앉다', '세균', '덩어리', '치석', '논문', '의하다', '치석', '주위', '의의', '잇몸', '녹이다', '치아', '흔들거리다', '지지', '잇몸', '녹다', '잇몸', '내려앉다', '결국', '발치', '피하다', '상황', '놓이다', '잇몸', '성형', '내원', '치석', '발견', '사례', '병원', '내원', '환자', '증상', '원인', '제각각', '환자', '치석', '가득', '확인', '상태', '치주', '질환', '발생', '잇몸', '내려가다', '환자', '원인', '심하다', '환자', '치료', '본원', '구비', '기기', '구강', '스캐너', '균형', '측정', '장비', '사용', '환자', '검진', '요원', '환자', '갈다', '물다', '잘못', '습관', '사진', '자세히', '확인', '결과', '치아', '정상', '가하다', '치아', '생기다', '심하다', '스트레스', '잇몸', '주저앉다', '뿌리', '드러나다', '환자', '잇몸', '치료', '잘못', '구강', '습관', '교정', '치료', '병행', '강하다', '작용', '완화', '환자', '수면', '비염', '안면', '비대칭', '예상', '개선', '무척', '좋아하다', '잇몸', '붓다', '잇몸', '영양제', '혹은', '진통', '소염제', '의존', '마시다', '치료', '오랫동안', '건강', '잇몸', '유지', '이미지', '참조', '연식', '질기다', '고기', '음식', '치아', '잇몸', '많이', '불편', '느껴지다', '예전', '살짝', '불편', '불편', '사라지다', '나이', '군데군데', '불편', '시작', '얼마', '지인', '만나다', '물어보다', '인도', '불편', '얼마', '잇몸', '영양제', '잇몸', '영양제', '추천', '주문', '시작', '늘다', '추천', '구매', '프리미엄', '건강', '기능', '식품', '잇몸', '각종', '원료', '함유', '제품', '제품', '선택', '이유', '지인', '추천', '자세히', '알아보다', '잇몸', '영양제', '인증', '건강', '기능', '식품', '인증', '마크', '믿음', '제품', '고르다', '이유', '잇몸', '영양', '제안', '기능', '원료', '함께', '원료', '함유', '유일', '제품', '실제로', '여기저기', '검색', '알아보다', '아보카도', '플레', '성분', '치아', '잇몸', '질환', '개선', '도움', '많이', '성분', '국내', '영양제', '유일', '함유', '영양제', '잇몸', '사용', '성분', '관심', '계시다', '프로', '폴리스', '한꺼번에', '함유', '잇몸', '영양제', '유일', '바쁘다', '일상', '건강', '챙기다', '힘들다', '건강', '일찍이', '챙기다', '배송', '함께', '꾸준히', '섭취', '아침', '저녁', '기온차', '환절기', '잇몸', '염증', '자주', '생기다', '질기다', '고기', '씹다', '치아', '불편', '힘들다', '관리', '주문', '함께', '고체', '치약', '사용', '여행', '가져가다', '사용', '함께', '발송', '플라스틱', '건강', '챙기다', '영양제', '사놓다', '귀찮다', '제품', '플라스틱', '보관함', '함께', '발송', '일간', '담다', '가방', '상시', '챙기다', '꾸준히', '더욱', '치아', '잇몸', '건강', '필수', '성분', '모두', '담다', '잇몸', '영양제', '패키지', '구성', '선물', '주문', '부모님', '가족', '선물', '오늘', '제치다', '건강', '챙기다', '에덴', '양치질', '빠지다', '열심히', '잇몸', '영양제', '재생', '화질', '선택', '옵션', '자동', '접다', '펴다', '잇몸', '영양제', '모두', '건강', '바라다', '제품', '리뷰', '마치다', '포스팅', '업체', '제품', '소정', '원고료', '제공받다', '작성', '후기', '입다', '엄마', '인플라', '준비', '계시다', '잇몸', '상태', '치료', '인플라', '이제서야', '충치', '생기다', '평생', '치아', '고민', '계시다', '아이', '어른', '모두', '공포', '엄마', '싫다', '팍팍', '평소', '치아', '관리', '잇몸', '건강', '이론', '관리', '쉽다', '오늘', '내리다', '원인', '예방', '방법', '함께', '잇몸', '영양제', '정리', '잇몸', '내리다', '잇몸', '퇴축', '원인', '구강', '위생', '불량', '발생', '쉽다', '잘못', '양치질', '교정', '치료', '치석', '유전', '요인', '잇몸', '내리다', '예방', '방법', '정기', '치석', '제거', '스케일링', '자극', '음식', '양치', '습관', '바로잡다', '두려워하다', '검진', '치아', '관리', '필요', '평소', '잇몸', '영양제', '챙기다', '도움', '중년', '치아', '관리', '잇몸', '관리', '신경', '쓰이다', '챙기다', '제품', '제품', '주요', '성분', '프로', '폴리스', '칼슘', '프로', '폴리스', '많이', '들어보다', '항산', '화성', '항균', '작용', '도움', '알리다', '칼슘', '당연히', '잇몸', '중년', '이후', '칼슘', '흡수', '칼슘', '흡수', '돕다', '비타민', '마그네슘', '비타민', '역시', '함께', '유일', '아보카도', '플레', '스도', '섭취량', '기준', '함유', '프로', '폴리스', '칼슘', '아보카도', '플레', '스리', '잇몸', '건강', '필요', '성분', '모두', '모이다', '흔하다', '섭취', '씹다', '불편', '사이즈', '꼬박', '챙기다', '잇몸', '약하다', '잦다', '질환', '생기다', '유전', '가족력', '미리미리', '잇몸', '영양제', '챙기다', '시작', '나이', '건강', '유지', '아가', '어르신', '이식', '잇몸', '틀니', '착용', '불편', '통증', '떨어지다', '음식', '잘못', '체력', '정신', '우울', '많이', '잇몸', '건강', '평소', '잇몸', '건강', '도움', '콜라겐', '칼슘', '음식', '챙기다', '음식', '부족', '잇몸', '영양제', '성분', '꼼꼼히', '따지다', '선택', '준하다', '도움', '잇몸', '영양제', '잇몸', '내리다', '잇몸', '퇴축', '잇몸', '관리', '곰이', '치아', '건강', '오복', '그만큼', '어리다', '나이', '건강', '얼마나', '깨닫다', '건강관리', '다짐', '얼마', '건강', '잇몸', '건강', '챙기다', '건강', '양치질', '잇몸', '감싸다', '잇몸', '건강', '잇몸', '영양제', '알아보다', '요소', '건강', '따지다', '선택', '치아', '잇몸', '건강', '프리미엄', '건강', '기능', '식품', '닥터', '메타', '프리미엄', '선택', '잇몸', '영양제', '잇몸', '건강', '건강', '기능', '식품', '잇몸', '건강', '도움', '주원료', '항산화', '도움', '프로', '폴리스', '형성', '신경', '근육', '기능', '유지', '필요', '칼슘', '함유', '고요', '외부', '원료', '비타민', '비타민', '마그네슘', '담다', '프로', '폴리스', '탄산칼슘', '함량', '함유', '원료', '함께', '담다', '피쉬', '콜라겐', '자일리톨', '옥수수', '망고', '멜라니', '몰리브덴', '코엔', '자임', '함유', '국내', '유일', '국내', '독점', '원료', '아보카도', '플레', '슬다', '담다', '아보카도', '플레', '성분', '유명', '잇몸', '성분', '국내', '잇몸', '영양제', '유일', '독점', '함유', '아보카도', '플레', '성분', '스테롤', '수많다', '영양', '성분', '모두', '함유', '국내외', '연구', '논문', '골관절염', '치주', '질환', '감소', '소염', '진통', '도움', '결과', '확인', '잇몸', '영양제', '함유', '프로', '폴리스', '플라보노이드', '성분', '역시', '치아', '잇몸', '개선', '성분', '알리다', '프로', '폴리스', '세균', '바이러스', '억제', '작용', '항균', '항산화', '작용', '기능', '성분', '영양제', '잇몸', '쓰이다', '성분', '잇몸', '영양제', '치아', '잇몸', '질환', '개선', '보카', '플레', '스리', '프로', '폴리스', '칼슘', '모두', '함유', '잇몸', '영양제', '성분', '모두', '함유', '유일', '내치다', '건강', '치아', '잇몸', '건강', '필요', '성분', '함유', '따지다', '선택', '체크', '건강', '기능', '식품', '마크', '건강', '기타', '가공품', '잘못', '선택', '종종', '잇몸', '영양제', '선택', '건강', '기능', '식품', '확인', '구매', '기타', '가공품', '인증', '건강', '기능', '식품', '요인', '품질', '관리', '생산', '제품', '믿다', '선택', '캡슐', '포장', '위생', '섭취', '가능', '섭취', '방법', '알려드리다', '요일', '회정', '함께', '섭취', '아침', '한번', '섭취', '잠들다', '한번', '섭취', '건강', '건강', '관리', '매일', '양치', '기본', '잇몸', '영양제', '잊다', '챙기다', '세요', '잇몸', '영양제', '선택', '잇몸', '건강', '아보카도', '플레', '프로', '폴리스', '칼슘', '모두', '함유', '확인', '건강', '기능', '식품', '선택', '잊다', '잇몸', '영양제', '구매', '투스', '프레쉬', '고체', '치약', '사은품', '증정', '고체', '치약', '처음', '사용', '포스팅', '업체', '제품', '소정', '원고료', '지원', '작성', '함께', '치아', '잇몸', '전쯤', '오른쪽', '아래', '어금니', '아프다', '참다', '충치', '심하다', '치료', '오래', '문제', '스케일링', '잇몸', '상태', '꽤나', '수준', '원래', '성인', '적어도', '스케일링', '치석', '제거', '솔직히', '양치질', '문제', '잇몸', '많이', '상태', '스케일링', '많이', '심지어', '관리', '사이', '벌어지다', '느낌', '다행히', '메우다', '평소', '잘못', '양치질', '습관', '가끔', '늦다', '야식', '귀찮다', '이유', '잠자리', '여전히', '쉽다', '고치다', '또다시', '불편', '느낌', '스케일링', '요구', '더불어', '출혈', '시작', '평소', '똑같이', '깨다', '상태', '동생', '깨우다', '유독', '냄새', '가심', '아무리', '가족', '웃다', '넘기다', '아침', '식사', '양지', '구취', '사라지다', '치아', '문제', '생기다', '두렵다', '인터넷', '검색', '치은염', '증상', '나타나다', '이름', '시작', '결국', '문제', '생기다', '치아', '잇몸', '건강', '신경', '마음먹다', '방법', '알아보다', '비교', '잇몸', '건강', '지키다', '방법', '비교', '맞다', '괜찮다', '잇몸', '영양제', '영양제', '다짐', '선택', '제품', '센트럴', '포뮬러', '아이템', '진작', '반복', '치주', '질환', '문제', '빠르다', '개선', '괜히', '아쉽다', '영양제', '위생', '케어', '소홀히', '방심', '더욱', '신경', '관리', '선천', '잇몸', '약하다', '위생', '구강', '상태', '작다', '자극', '치아', '빠르다', '무너지다', '내리다', '평생', '관리', '구강', '건강', '젊다', '시작', '옳다', '게다가', '치주', '질환', '걸리다', '연령층', '점점', '낮아지다', '초기', '치료', '놓치다', '발치', '불상사', '발생', '방치', '치료', '기간', '길다', '많이', '무섭다', '아프다', '참다', '방치', '결국', '치료', '기간', '훨씬', '길다', '금전', '부담', '가볍다', '처치', '문제', '스스로', '악화', '일찍', '잇몸', '영양제', '챙기다', '건강', '구강', '검진', '청결', '구강', '관리', '주기', '스케일링', '기본', '케어', '방법', '모두', '지키다', '잇몸', '영양제', '함께', '꾸준히', '복용', '면역력', '떨어지다', '구강', '증상', '표출', '음식물', '씹다', '어려워지다', '상황', '찾아오다', '관리', '요장', '섭취', '가능', '건강', '기능', '식품', '장점', '기적', '관리', '복용', '문제', '안정', '제대로', '검증', '만성', '쉽다', '잇몸', '질환', '심하다', '제외', '도움', '영양', '성분', '섭취', '관리', '제품', '얼마나', '효능', '차근차근', '알려드리다', '잇몸', '맞다', '영양제', '원료', '주성분', '사용', '복합', '기능', '물질', '함량', '높다', '장점', '담다', '잇몸', '영양제', '먼저', '주원료', '칼슘', '프로', '폴리스', '체크', '치아', '지탱', '형성', '유지', '돕다', '칼슘', '함유', '항산화', '식품', '효능', '프로', '폴리스', '대표', '높다', '포함', '주원료', '함량', '높다', '비타민', '비타민', '포함', '무려', '부원료', '주성분', '종류', '비타민', '함유', '칼슘', '뒷받침', '비타민', '성분', '흡수', '높다', '형성', '유지', '도움', '비타민', '프로', '폴리스', '함께', '섭취', '시너지', '효과', '나타내다', '세포', '보호', '항산화', '작용', '극대화', '원료', '신뢰', '성분', '구성', '잇몸', '영양제', '주성분', '자주', '사용', '옥수수', '수염', '추출', '분말', '포함', '요충', '예방', '잇몸', '영양제', '도움', '원료', '복합', '목련', '추출물', '자일리톨', '분말', '냄새', '제거', '도움', '칼슘', '영양소', '효과', '만족스럽다', '제품', '시중', '영양제', '언뜻', '꼼꼼히', '따지다', '효율', '구하다', '실제', '리뷰', '검색', '저만큼', '만족스럽다', '더욱', '신뢰', '우선', '구취', '많이', '사라지다', '요청', '느낌', '효과', '출혈', '붓다', '함께', '시리다', '느낌', '증상', '불편', '사라지다', '섭취', '관리', '잇몸', '영양제', '재생', '화질', '선택', '옵션', '자동', '접다', '펴다', '잇몸', '영양제', '포스팅', '업체', '제품', '원고료', '지원', '작성', '올해', '환갑', '맞다', '아빠', '점점', '여기저기', '아프다', '아빠', '많이', '늙다', '슬프다', '걱정', '부단히', '챙기다', '노력', '중이', '지난번', '잇몸', '내려오다', '많이', '부딪히다', '앞니', '살짝', '깨지다', '부랴부랴', '잇몸', '영양제', '챙기다', '챙기다', '좋아하다', '나이', '이것저것', '영양제', '건강', '기능', '식품', '챙기다', '종류', '섭취', '부담', '정기', '간수', '검사', '아빠', '아빠', '역시', '따지다', '스타일', '구입', '기능', '안전', '인정받다', '인증', '제조', '시설', '생산', '제품', '확인', '모두', '저도', '한번', '정기', '검진', '스케일링', '관리', '잘못', '칫솔', '잇몸', '내려오다', '시리다', '치료', '관리', '아빠', '함께', '잇몸', '영양제', '시작', '형성', '도움', '성분', '칼슘', '주원료', '아직', '골밀도', '수치', '칼슘', '필히', '챙기다', '건강', '챙기다', '건강', '챙기다', '일석이조', '아빠', '시작', '날짜', '저렇게', '작다', '드세다', '회정', '챙기다', '아빠', '매일', '챙기다', '건강', '기능', '식품', '요일', '지정', '계시다', '매일', '꾸준히', '섭취', '권장', '매일', '꾸준히', '섭취', '효과', '아직', '별다르다', '증세', '잇몸', '치아', '시리다', '내려오다', '또는', '치아', '흔들리다', '느낌', '전조', '증상', '나타나다', '필히', '미리', '잇몸', '영양제', '챙기다', '추천', '치료제', '많이', '흔들리다', '붓다', '통증', '방문', '검진', '치료', '우선', '평소', '미리', '기능', '식품', '챙기다', '양치', '꼼꼼히', '닦다', '건강관리', '차원', '필요', '섭취', '음식', '몸속', '입안', '세균', '음식', '몸속', '건강', '해치다', '세균', '치주', '질환', '원인', '식후', '올바르다', '양치질', '동시', '세균', '바이러스', '억제', '항균', '효과', '프로', '폴리스', '주원료', '영양제', '잊다', '챙기다', '원료', '칼슘', '프로', '폴리스', '부원료', '마그네슘', '비타민', '기타', '자일리톨', '코엔', '자임', '옥수수', '부원료', '건강관리', '건강', '기능', '식품', '크기', '작다', '넘기다', '정식', '나누다', '챙기다', '번거롭다', '까먹다', '정하다', '꾸준히', '섭취', '포커스', '바라다', '무조건', '사무실', '책상', '식후', '챙기다', '아빠', '무조건', '식탁', '챙기다', '세요', '춥다', '벌써', '가시다', '양치', '찬물', '절대', '헹구다', '부원료', '잇몸', '영양제', '또는', '쓰이다', '성분', '완전', '신뢰도', '상승', '열심히', '챙기다', '중이', '치주', '질환', '감소', '관절염', '예방', '도움', '아보카도', '플레', '성분', '성분', '유일', '제품', '브랜드', '제품', '독점', '함유', '절대', '놓치다', '골밀도', '관절', '약하다', '중년', '챙기다', '잇몸', '영양제', '재생', '화질', '선택', '옵션', '자동', '접다', '펴다', '잇몸', '영양제', '개별', '포장', '그대로', '비치', '챙기다', '휴대', '약통', '따로', '담다', '파우치', '또는', '가방', '외출', '챙기다', '외출', '채우다', '잇몸', '영양제', '평소', '피곤', '잇몸', '필히', '챙기다', '권장', '보철', '치료', '또는', '깨지다', '쉽다', '미리미리', '예방', '관리', '최선', '치료', '챙기다', '요건', '염려증', '파우치', '영양제', '챙기다', '여자', '아직', '어른', '젊다', '미리', '관리', '잔소리', '벌써', '깨닫다', '늙다', '좋아하다', '고기', '씹다', '뜯다', '맛보다', '즐기다', '미리미리', '관리', '치아', '잇몸', '건강', '프리미엄', '원료', '담기다', '챙기다', '손해', '아빠', '잇몸', '영양제', '지정석', '챙기다', '건강', '기능', '식품', '자랑', '식탁', '쭈욱', '늘어뜨리다', '식후', '잊다', '챙기다', '계시다', '평소', '관절', '관리', '칼슘', '섭취', '필요', '바라다', '치아', '통증', '출혈', '치료제', '방문', '치아', '관리', '건강', '영양제', '챙기다', '영양제', '챙기다', '진료', '이빨', '관리', '잇몸', '많이', '가라앉다', '관리', '발견', '잇몸', '영양제', '후기', '오덴', '에센셜', '제품', '안전', '한번', '감싸다', '안전', '배송', '빠르다', '필요', '영양제', '찾아보다', '설명', '구매', '잇몸', '많이', '내려가다', '시리다', '심하다', '아랫니', '약하다', '잇몸', '영양제', '필수', '벌써', '관리', '신신당부', '보관', '직사광선', '피하다', '보관', '캡슐', '또는', '캡슐', '함께', '섭취', '유통', '기한', '굉장히', '길다', '한통', '캡슐', '나이', '부모님', '임신', '출산', '이후', '칼슘', '보충', '필요', '친구', '선물', '부실', '쉽다', '치아', '영양', '공급', '건강관리', '필수', '에센셜', '제품', '칼슘', '비타민', '비타민', '복합', '기능', '부원료', '이루어지다', '말씀드리다', '형성', '필요', '칼슘', '칼슘', '흡수', '필요', '비타민', '결합', '조직', '형성', '필요', '비타민', '구성', '칼슘', '인체', '치아', '함유', '건강', '유지', '칼슘', '흡수', '낮다', '비타민', '비타민', '도움', '필요', '어리다', '무섭다', '무섭다', '미리미리', '관리', '꾸준히', '잇몸', '영양제', '챙기다', '칼슘', '비타민', '비타민', '자세히', '설명', '칼슘', '형성', '필요', '신경', '근육', '기능', '유지', '필요', '골다공증', '발생', '위험', '감소', '도움', '비타민', '칼슘', '흡수', '이용', '필요', '형성', '유지', '필요', '비타민', '결합', '조직', '형성', '기능', '유지', '필요', '항산화', '작용', '유해', '산소', '세포', '보호', '필요', '설명', '자세', '적히다', '종이', '같이', '에센셜', '장점', '흡수', '뛰어나다', '식물', '해조', '칼슘', '사용', '비타민', '함께', '배합', '칼슘', '흡수', '더욱', '높이다', '참고', '에센셜', '반드시', '효과', '회사', '방침', '개봉', '만족', '전액', '환불', '보장', '그만큼', '제품', '자부심', '뚜껑', '아이', '쉽다', '안전', '뚜껑', '누르다', '돌려주다', '열리다', '누르다', '오른쪽', '돌려주다', '열리다', '포장', '신경', '느껴지다', '제품', '구매', '포인트', '안전', '누르다', '뚜껑', '포장', '대충', '포장', '제품', '포장', '제품', '선호', '포장', '뜯다', '안쪽', '제품', '흔들리다', '비닐', '습기', '거제도', '비닐', '제거', '습기', '제거제', '그대로', '에센셜', '캡슐', '제품', '크기', '알약', '사이즈', '제품', '유통', '기한', '기준', '철저히', '믿다', '제품', '칼슘', '흡수', '건강', '이유', '칼슘', '흡수', '영양소', '비하다', '낮다', '칼슘', '흡수', '저하', '칼슘', '섭취', '소장', '흡수', '체내', '들어오다', '칼슘', '저하', '체내', '칼슘', '이용', '칼슘', '흡수', '개선', '비타민', '적절히', '섭취', '자외선', '의하다', '피부', '비타민', '합성', '햇볕', '노출', '칼슘', '흡수', '도움', '참고', '고령화', '시대', '치아', '건강', '더욱', '여겨지다', '여성', '갱년기', '칼슘', '흡수', '낮아지다', '유지', '힘들다', '건강', '오복', '꾸준히', '관리', '건강', '챙기다', '캡슐', '잇몸', '영양제', '챙기다', '캡슐', '칼슘', '비타민', '비타민', '챙기다', '마찬가지', '칼슘', '의하다', '석회', '섭취', '음식', '씹다', '소화', '쉽다', '분비', '음식', '좋아하다', '꾸준히', '관리', '나이', '맛있다', '많이', '건강', '도움', '필요', '부모님', '건강', '치아', '건강', '생활', '원하다', '결합', '조직', '형성', '기능', '유지', '도움', '필요', '추천', '제품', '페페', '건강', '프리미엄', '영양제', '챙기다', '잇몸', '구강', '케어', '인생', '살아가다', '현대인', '양치', '바르다', '음주', '흡연', '습관', '나쁘다', '영향', '개인', '치료', '부담', '초창기', '제대로', '치료', '소요', '비용', '양치', '주기', '검진', '잇몸', '관리', '신경', '치아', '잇몸', '질환', '개선', '도움', '잇몸', '영양제', '최근', '섭취', '시작', '일정', '챙기다', '영양제', '치아', '영양제', '잇몸', '건강', '건강', '기능', '식품', '잇몸', '영양제', '성분', '세균', '바이러스', '억제', '기능', '항균', '항산화', '작용', '프로', '폴리스', '폴라', '보노', '치아', '형성', '신경', '근육', '기능', '유지', '필요', '칼슘', '기능', '원료', '이외', '원료', '담다', '잇몸', '케어', '성분', '따로', '유명', '잇몸', '성분', '아보카도', '플레', '슬다', '스테롤', '영양', '성분', '함유', '골관절염', '치주', '질환', '감소', '소염', '진통', '도움', '결과', '국내외', '연구', '논문', '확인', '아보카도', '플레', '성분', '국내', '영양제', '유일', '독점', '함량', '영양제', '잇몸', '쓰이다', '비타민', '비타민', '마그네슘', '프리미엄', '배합', '제조', '독보', '포뮬러', '인증', '건강', '기능', '식품', '믿다', '알아보다', '인증', '제조', '시설', '품질', '관리', '생산', '잇몸', '영양제', '섭취', '방법', '일회', '회정', '함께', '섭취', '잇몸', '영양제', '건강', '재생', '화질', '선택', '옵션', '자동', '접다', '펴다', '잇몸', '영양제', '건강', '양치', '종종', '잇몸', '방문', '일시', '현상', '결코', '현상', '출혈', '빈도', '잦다', '잇몸', '손상', '상태', '각종', '염증', '질환', '번지다', '대수롭다', '방치', '잇몸', '치명', '영향', '올바르다', '양치', '함께', '영양제', '챙기다', '건강', '프리미엄', '잇몸', '영양제', '소개', '출혈', '약하다', '잇몸', '고생', '오늘', '포스팅', '참고', '보시기', '바라다', '포스팅', '업체', '소정', '원고료', '작성', '예전', '아이', '허브', '제품', '많이', '사용', '순간', '우회', '원하다', '로켓', '직구', '자연스럽다', '아이', '허브', '멀리', '오랜만', '아이', '허브', '할인', '행사', '예전', '많이', '로켓', '직구', '건강식품', '아이', '허브', '컴백', '아이', '허브', '제품', '주문', '배송', '비타민', '비타민', '비타민', '제품', '설명', '등급', '비타민', '유비', '채식주의자', '적합', '유성', '분유', '전자', '변형', '성분', '함유', '우수', '제조', '품질', '관리', '기준', '인증', '시설', '생산', '골드', '개런티', '아이', '허브', '비타민', '제품', '사용', '법회', '제공', '캡슐', '비타민', '식사', '함께', '또는', '식사', '곧바로', '복용', '비타민', '아스코르브산', '비타민', '결핍', '원인', '부실', '식사', '채소', '섭취', '부족', '흡연', '담배', '개비', '비타민', '산화', '비타민', '결핍', '증상', '피로', '우울증', '잇몸', '관절', '통증', '통증', '근육통', '붓다', '비타민', '음식', '후추', '브로콜리', '파파야', '오렌지', '방울', '양배추', '키위', '딸기', '비타민', '장량', '비타민', '복용', '배출', '비타민', '나누다', '효과', '극대화', '한국인', '평균', '비타민', '섭취량', '권장', '섭취량', '성인', '많이', '섭취', '스트레스', '현대인', '권장', '섭취량', '많이', '도움', '넘다', '네이버', '지식', '출처', '비타민', '건강', '효능', '빈혈증', '철분', '섭취', '비타민', '같이', '섭취', '백내장', '예방', '콜라겐', '피부', '건강', '기미', '잡티', '예방', '항산화', '효과', '활성', '산소', '제거', '심장', '건강', '기억', '감기', '예방', '질환', '잇몸', '건강', '유지', '헬리코박터', '파일로리', '번식', '억제', '면역력', '증진', '피로', '회복', '잇몸', '영양제', '소스', '내츄럴', '메가', '스트', '스테롤', '정정', '우리나라', '잇몸', '영양제', '사도', '성분', '가격', '잇몸', '영양제', '소스', '내츄럴', '메가', '스트', '스테롤', '소스', '내츄럴', '메가', '스트', '스테롤', '제품', '설명', '가스', '트레', '스테롤', '제품', '사용법', '지방', '식사', '함께', '또는', '식사', '직전', '복용', '잇몸', '영양제', '소스', '내츄럴', '메다', '가스', '트레', '스테롤', '가스', '트레', '스테롤', '영양', '성분', '함량', '채식주의자', '적합', '효모', '제품', '계란', '글루텐', '포함', '설탕', '전분', '보존제', '또는', '인공', '색소', '또는', '향료', '함유', '아이', '허브', '치아', '잇몸', '영양제', '부모', '선물', '치아', '형성', '원하다', '왼쪽', '잇몸', '오른쪽', '비타민', '메가', '스트', '스테롤', '단점', '알약', '크기', '오메가', '프리미엄', '피쉬', '오일', '정정', '오메가', '프리미엄', '피쉬', '일정', '오메가', '프리미엄', '피쉬', '오일', '제품', '설명', '오메가', '프리미엄', '제품', '사용법', '음식', '함께', '또는', '공복', '복용', '오메가', '프리미엄', '피쉬', '오일', '성분', '천연', '피쉬', '오일', '농축물', '오메가', '프리미엄', '피쉬', '오일', '오메가', '프리미엄', '피쉬', '오일', '영양', '성분', '함량', '아이', '허브', '오메가', '프리미엄', '피쉬', '오일', '알약', '크기', '아이', '허브', '닥터', '베스트', '콜라겐', '비타민', '함유', '정정', '닥터', '베스트', '콜라겐', '제품', '설명', '보충', '모발', '피부', '손발톱', '힘줄', '필수', '구조', '도움', '유전자', '변형', '성분', '함유', '글루텐', '함유', '대두', '함유', '함유', '수분', '콜라겐', '건강', '모발', '피부', '손발톱', '증진', '관절', '힘줄', '유연성', '증진', '저분자', '펩타이드', '성분', '생체', '이용', '향상', '닥터', '베스트', '콜라겐', '제품', '사용법', '식사', '최소', '분전', '공복', '복용', '콜라겐', '흡수', '보장', '섭취', '이내', '단백질', '보충', '복용', '마시다', '닥터', '베스트', '콜라겐', '포함', '성분', '결정', '세다', '롤로', '크로스', '카멜', '로스', '소듐', '마그네슘', '레이트', '식물', '원료', '아르', '코팅', '정제', '수하', '이프로', '멜로', '닥터', '베스트', '콜라겐', '영양', '성분', '함량', '아이', '허브', '허브', '주문', '할인', '행사장', '바구니', '할인', '코드', '적용', '신규', '고객', '행사', '기간', '사용', '가능', '할인', '상품', '중복', '할인', '적용', '아이', '허브', '제품', '추천', '추천', '코드', '잇몸', '영양제', '햇살', '마을', '액티브', '플러스', '골드', '알아보다', '잇몸', '자주', '붓다', '잇몸', '잇몸', '영양제', '인사', '액티브', '플러스', '얼마', '캐다', '방문', '이빨', '흔들리다', '흔들다', '잇몸', '약하다', '흔들리다', '다행히', '흔들리다', '여사', '잇몸', '약하다', '상태', '보충', '섭취', '마침', '인사', '액티브', '플러스', '잇몸', '영양제', '복용', '건강', '오복', '여사', '적응', '사용', '본래', '이빨', '느낌', '다르다', '티브이', '광고', '제품', '많이', '인사', '액티브', '플러스', '골드', '잇몸', '영양제', '사용', '후기', '플로', '폴리스', '추출물', '칼슘', '비타민', '골고루', '함유', '치아', '잇몸', '여사', '부실', '레이디', '골다공증', '위험', '감소', '도움', '복용', '여사', '건강', '보조', '식품', '엘지생활건강', '식품', '여성', '강장제', '건강', '칼슘', '마그네슘', '섭취', '기본', '음식', '보조', '식품', '섭취', '오래', '살아오다', '이것저것', '고장', '오늘', '잇몸', '관리', '기본', '건강', '관계', '황산', '포함', '건강', '도움', '복용', '방법', '매일', '가격', '측면', '사용', '부담', '덜하다', '제품', '상자', '앞뒤', '살펴보다', '원재료', '함량', '섭취', '방법', '제조사', '판매원', '소비자', '상담실', '자세히', '설명', '주성분', '역시', '프로', '폴리스', '추출물', '칼슘', '비타민', '프로', '폴리스', '물질', '성분', '피곤', '부르트다', '입술', '프로', '폴리스', '원액', '살짝', '바르다', '쉽다', '치료', '황산', '건강식품', '최고봉', '프로', '폴리스', '황산', '작용', '최고봉', '복용', '잊어먹다', '으니', '휴대', '캐슈', '이니', '사용량', '요구', '만사', '칼슘', '필요', '영양소', '칼슘', '형성', '영향', '미치다', '자세히', '칼슘', '골다공증', '보조', '식품', '꾸준히', '그대로', '보조', '식품', '전적', '의지', '기타', '음식', '섭취', '칼슘', '이탈', '막아주다', '역활', '보조', '식품', '역활', '뉴이', '액티브', '플러스', '골드', '잇몸', '영양제', '보조', '식품', '머크', '달라지다', '기대', '나이', '음식', '약간', '보조', '식품', '칼슘', '이탈', '막아주다', '나빠지다', '목표', '치료제', '햇살', '마을', '수익', '일부', '어린이', '치료', '재단', '기부', '착하다', '기업인', '인사', '액티브', '플러스', '골드', '섭취', '알레르기', '검토', '프로', '폴리스', '알러지', '반응', '약사', '상담', '보통', '건강', '보조', '식품', '제품', '문제', '여사', '정수기', '아침', '식사', '후정', '섭취', '출근', '인사', '액티브', '플러스', '메이드인', '미국', '미국', '제조', '생산', '제품', '식품', '안전', '건강', '기능', '식품', '인정받다', '제품', '안심', '요인', '면역', '떨어지다', '약하다', '효과', '피곤', '이빨', '아프다', '비염', '여사', '코로나', '백신', '후유증', '두드러기', '그만큼', '면역력', '저항', '약하다', '여사', '피부', '이겨내다', '운동', '영양식', '음식', '골고루', '보충', '약간', '보조', '식품', '필요', '요건', '보조', '식품', '치료', '목적', '나빠지다', '미리', '섭취', '손실', '막아주다', '역할', '바라다', '섭취', '실망', '관리', '섭취', '스트레스', '잦다', '직장인', '인스턴트', '음식', '난무', '식생활', '패턴', '건강관리', '여사', '골다공증', '걱정', '우려', '칼슘', '보충', '비타민', '섭취', '필수', '자식', '항상', '부모', '걱정', '부모', '그동안', '엘지생활건강', '제품', '자주', '보내다', '곤하다', '잇몸', '영양제', '인사', '액티브', '플러스', '골드', '보내다', '이빨', '부실', '힘들다', '건강', '맞다', '약국', '인터넷', '구매', '뉴이', '액티브', '플러스', '골드', '업체', '상품', '제공받다', '섭취', '작성', '따다', '다단', '며칠', '스케일링', '평소', '자주', '양치질', '끼다', '치석', '쌓이다', '평소', '양치', '열심히', '평소', '관리', '방법', '잇몸', '영양제', '포함', '건강', '챙기다', '노력', '실천', '아무래도', '평소', '챙기다', '잇몸', '영양제', '제품', '기본', '칼슘', '잇몸', '영양제', '선택', '원하다', '칼슘', '치아', '형성', '신경', '근육', '유지', '도움', '역할', '긍정', '영향', '나치', '잇몸', '건강', '프리미엄', '건강', '기능', '식품', '프로', '폴리스', '칼슘', '아보카도', '플레', '스리', '옥수수', '수염', '원료', '유일한', '제품', '부원료', '살펴보다', '자일리톨', '옥수수', '수염', '망고', '올리브', '코엔', '자임', '코엔', '자임', '워낙', '선택', '믿음', '유일', '아보카도', '플레', '성분', '스테롤', '포함', '수많다', '영양', '성분', '담다', '알리다', '국내외', '연구', '논문', '골관절염', '치주', '질환', '도움', '연구', '결과', '제품', '성분', '프로', '폴리스', '건강', '영양제', '형태', '기본', '세균', '바이러스', '억제', '작용', '기능', '항균', '항산화', '기능', '작용', '논문', '연구', '결과', '나타나다', '이처럼', '잇몸', '영양제', '기능', '성분', '따로', '명성', '학술지', '논문', '참고', '제품', '성분', '고르다', '괜찮다', '평소', '고민', '도움', '성분', '후기', '살펴보다', '고려', '잇몸', '영양제', '꾸준히', '이유', '크기', '넘기다', '섭취', '많이', '부담', '함께', '케이스', '엄청', '꾸준히', '케이스', '편하다', '관리', '바뀌다', '컨디션', '엉망', '증거', '운동량', '줄어들다', '체력', '부진', '마스크', '화장', '게을리', '피부', '큰일', '얼마', '구강', '검진', '잇몸', '많이', '약하다', '얘기', '듣다', '잇몸', '영양제', '따로', '챙기다', '준비', '음식', '꾸준히', '어렵다', '아이', '반찬', '챙기다', '예삿일', '건강', '기능', '식품', '잇몸', '챙기다', '고르다', '기왕', '남편', '사이', '매일', '상자', '오픈', '개별', '포장', '위생', '프로', '폴리스', '칼슘', '아보카도', '플레', '원료', '인증', '잇몸', '영양제', '성분', '기초', '상식', '이후', '검색', '국내', '유일', '독점', '아보카도', '플레', '성분', '함량', '제품', '선택', '넘기다', '부담', '어서', '매일', '꾸준히', '챙기다', '역시', '성분', '꼼꼼히', '따지다', '고르다', '치아', '잇몸', '도움', '성분', '따로', '처음', '나이', '챙기다', '치아', '맛있다', '마음껏', '소용', '늦다', '관리', '부모님', '선물', '괜찮다', '아직', '젊다', '부모님', '연세', '본인', '챙기다', '소홀', '자식', '챙기다', '건강', '기능', '식품', '개별', '포장', '공기', '접촉', '막아주다', '아무래도', '닿다', '공기', '변질', '걱정', '아직', '일주일', '가량', '변화', '꾸준히', '포기', '장기', '예정', '크기', '작다', '한꺼번에', '부담', '나누다', '전혀', '불편', '크기', '외출', '챙기다', '개별', '따로', '박스', '동봉', '활용', '여행', '외출', '챙기다', '매일', '잊다', '노력', '잇몸', '영양제', '젊다', '소홀', '스트레스', '즉각', '반응', '관리', '따로', '특별히', '약하다', '대중', '후반', '미리', '챙기다', '나쁘다', '잘못', '피곤', '티나', '어깨', '뭉치다', '아프다', '잇몸', '붓다', '평소', '약하다', '피곤', '아프다', '잇몸', '친정', '엄마', '약하다', '아래', '잇몸', '삭다', '상황', '이식', '아프다', '느낌', '건강', '나빠지다', '살피다', '잇몸', '영양제', '챙기다', '잊다', '옥수수', '수염', '옥수수', '끓이다', '끓이다', '육아', '집안일', '따로', '매일', '꽤나', '번거롭다', '쉽다', '회사', '바쁘다', '직장인', '마찬가지', '편히', '챙기다', '택하다', '꾸준히', '관리', '방법', '치아', '잇몸', '건강', '건강', '기능', '식품', '프로', '폴리스', '칼슘', '아보카도', '플레', '옥수수', '수염', '원료', '함유', '유일', '제품', '국내', '유일', '독점', '아보카도', '플레', '성분', '함량', '함유', '관심', '기타', '가공품', '인증', '건강', '기능', '식품', '잇몸', '영양제', '안심', '선택', '프로', '폴리스', '탄산칼슘', '함량', '함유', '프로', '폴리스', '세균', '바이러스', '억제', '작용', '항균', '항산화', '작용', '기능', '알리다', '영양제', '잇몸', '성분', '말씀드리다', '국내', '함유', '아보카도', '플레', '슬다', '유명', '잇몸', '성분', '스테롤', '영양', '성분', '함유', '국내외', '연구', '논문', '관점', '치주', '질환', '감소', '소염', '진통', '도움', '결과', '확인', '아보카도', '플레', '프로', '폴리스', '칼슘', '모두', '함유', '잇몸', '영양제', '유일', '회정', '사이즈', '작다', '넘기다', '편하다', '손톱', '잇몸', '영양제', '건강', '부탁', '재생', '화질', '선택', '옵션', '자동', '접다', '펴다', '잇몸', '영양제', '건강', '부탁', '영상', '확인', '저녁', '잇몸', '영양제', '챙기다', '아무래도', '신경', '쓰이다', '열심히', '챙기다', '워낙', '어리다', '드나들다', '갑자기', '아프다', '불편감', '느껴지다', '오름', '다행히', '피로', '풀리다', '괜찮다', '아슬아슬', '기분', '관리', '아이', '어른', '넘다', '싫다', '마찬가지', '피곤', '약하다', '느껴지다', '미리미리', '잇몸', '영양제', '챙기다', '아직', '잇몸', '건강', '영양제', '챙기다', '이유', '슬다', '교정', '잇몸', '약하다', '양치', '피나다', '불안', '생기다', '아이스크림', '차갑다', '음식', '시리다', '증상', '생기다', '음식', '선호', '특히나', '필요', '잇몸', '영양제', '처음', '어리다', '광고', '이탄', '구입', '고심', '결정', '제품', '잇몸', '영양제', '잇몸', '건강', '치아', '관리', '프리미엄', '건기', '수식어', '아보카도', '플레', '성분', '함유', '이름', '추측', '아보카도', '오일', '콩기름', '추출', '적절히', '혼합', '새롭다', '탄생', '성분', '입다', '다이아', '보카', '플레', '성분', '무릎', '골관절염', '치주', '질환', '증상', '완화', '도움', '글로벌', '연구', '결과', '확인', '참고', '항산화', '작용', '프로', '폴리스', '추출물', '잇몸', '영양제', '필요', '포함', '성분', '포함', '제품', '유일무이', '추천', '칼슘', '옥수수', '피쉬', '콜라겐', '코엔', '자임', '원료', '치아', '잇몸', '건강', '도움', '솔직히', '처음', '잇몸', '영양제', '어리다', '나이', '굳이', '필요', '언급', '교정', '차례', '가끔', '잇몸', '미리', '예방', '성분', '후기', '살펴보다', '단순히', '일반', '식품', '분류', '우리나라', '인증', '받았다', '건강', '기능', '식품', '건강', '유지', '증진', '도움', '생체', '조절', '기능', '정부', '기관', '정하다', '건기', '규정', '인증', '단계', '거치다', '만들어지다', '특히나', '자극', '음식', '위주', '균형', '잡히다', '식사', '어렵다', '현대인', '부족', '성분', '보충', '건기', '제품', '모자라다', '채우다', '잇몸', '영양제', '추천', '박스', '총알', '일정', '복용', '대략', '총알', '섭취', '매일', '어렵다', '잇몸', '영양제', '함께', '챙겨주다', '까먹다', '알약', '크기', '대략', '종류', '많이', '물이랑', '같이', '삼키다', '넘어가다', '크기', '한꺼번에', '가너', '나중', '천문학', '비용', '미리', '영양', '챙겨주다', '경제', '잇몸', '나중', '겁먹다', '새싹', '건강', '잇몸', '비옥', '미리', '가꾸다', '솔직히', '양치질', '스케일링', '주기', '맞추다', '염증', '생기다', '괜찮다', '정기', '가요', '가요', '게으르다', '인간', '차다', '에미루', '자꾸', '타이밍', '놓치다', '잇몸', '영양제', '챙기다', '귀찮다', '함께', '복용', '까먹다', '편하다', '잇몸', '영양제', '로게', '재생', '화질', '선택', '옵션', '자동', '잇몸', '영양제', '로게', '믿다', '닦다', '진성', '잇몸', '도움', '느낌', '매일', '챙기다', '모두', '건강', '삽시', '생활', '습관', '함께', '규칙', '소정', '수수료', '작성', '리뷰', '화두', '건강', '건강', '절실히', '빈맥', '증상', '생기다', '응급실', '병원', '병원', '검사', '대학병원', '검사', '다행히', '운동', '꾸준히', '얼마나', '다행', '덜다', '증상', '일상', '작다', '아프다', '신경', '쓰이다', '최근', '잇몸', '갑자기', '찌릿찌릿', '시리다', '느낌', '잇몸', '영양제', '챙기다', '영양제', '꼬박꼬박', '챙기다', '스타일', '뜨겁다', '차갑다', '반복', '잇몸', '자극', '음식', '피하다', '잇몸', '건강', '이것저것', '비교', '잇몸', '영양제', '찾아보다', '기능', '안정', '인정받다', '건강', '기능', '식품', '선택', '상자', '섭취', '신랑', '잇몸', '신랑', '같이', '어요', '잇몸', '칼슘', '성분', '제품', '칼슘', '프로', '폴리스', '아보카도', '플레', '옥수수', '수염', '원료', '함유', '치아', '잇몸', '건강', '프리미엄', '건강', '기능', '식품', '꾸준히', '챙기다', '프로', '폴리스', '탄산칼슘', '함량', '제품', '아보카도', '플레', '성분', '제품', '비교', '아보카도', '플레', '슬다', '유명', '잇몸', '성분', '영양제', '유일', '함유', '국내외', '연구', '논문', '골관절염', '치주', '질환', '감소', '소염', '진통', '도움', '결과', '확인', '잇몸', '영양제', '프로', '폴리스', '세균', '바이러스', '억제', '작용', '항균', '항산화', '작용', '기능', '요리', '성분', '영양제', '잇몸', '성분', '개별', '포장', '위생', '잇몸', '찌릿찌릿', '신경', '쓰이다', '관리', '미리미리', '관리', '나중', '후회', '신랑', '특히나', '자주', '고생', '많이', '신랑', '잇몸', '영양제', '챙겨주다', '마취', '통증', '심하다', '엄청나다', '절규', '신랑', '프로', '폴리스', '칼슘', '성분', '챙기다', '잇몸', '건강', '챙기다', '프로', '폴리스', '탄산칼슘', '함량', '함유', '제품', '치아', '잇몸', '건강', '필수', '성분', '모두', '담다', '프리미엄', '영양제', '미리미리', '챙기다', '습관', '치아', '건강', '어머님', '치아', '건강', '오복', '관리', '잇몸', '영양제', '신랑', '챙겨주다', '꼼꼼히', '챙기다', '잇몸', '영양제', '재생', '화질', '선택', '옵션', '자동', '접다', '펴다', '잇몸', '영양제', '챙기다', '습관', '잇몸', '건강', '챙기다', '보카', '플레', '스리', '프로', '폴리스', '칼슘', '모두', '함유', '영양제', '제품', '유일', '꾸준히', '챙기다', '포스팅', '기업', '제품', '소정', '원고료', '제공받다', '작성', '강아지', '잇몸', '영양제', '가드', '강아지', '치주', '질환', '예방', '작년', '댕다', '치석', '제거', '꼬다', '불이', '어금니', '강아지', '진료', '거금', '들이다', '구강', '건강', '엄청', '신경', '꼬다', '불이', '어금니', '남다', '어금니', '신경', '노출', '간식', '금지', '가까이', '급여', '상태', '치즈', '선천', '잇몸', '약하다', '잇몸', '구강', '건강', '효과', '천연', '성분', '과학', '복합', '제조', '형성', '억제', '구취', '잇몸', '질병', '예방', '도움', '가드', '잇몸', '영양제', '급여', '치주', '질환', '소형', '동물', '발생', '확률', '높다', '이전', '치주', '질환', '강아지', '고양이', '치주', '질환', '동물', '병원', '수의사', '쌔다', '한번쯤', '구강', '건강관리', '동물', '잇몸', '망가지다', '씹다', '행복', '사라지다', '건강', '치명', '매일', '양치질', '당연히', '필수', '칫솔', '닿다', '방법', '형성', '억제', '나치', '치은염', '치주', '질환', '예방', '강아지', '잇몸', '영양제', '가드', '치석', '형성', '억제', '소염', '작용', '잇몸', '부종', '완화', '점막', '기능', '강화', '치석', '분해', '도움', '강아지', '잇몸', '영양제', '가드', '휴먼', '그레이드', '천연', '성분', '원료', '사용', '안심', '급여', '무우', '추출물', '잇몸', '부종', '완화', '진통', '작용', '도움', '애플', '추출물', '잇몸', '염증', '제거', '도움', '녹차', '추물', '형성', '억제', '구취', '제거', '도움', '솔잎', '추출물', '작용', '감소', '도움', '파파야', '추출물', '잇몸', '부종', '완화', '도움', '구연산', '아연', '치석', '형성', '억제', '점막', '기강', '도움', '강아지', '구내염', '자주', '생기다', '고양이', '급여', '가능', '생후', '급여', '문제', '뚜껑', '꼬시다', '뿌리다', '과립', '강아지', '잇몸', '영양제', '계량스푼', '계량스푼', '맞다', '급여', '급여량', '일회', '급여', '스푼', '깎다', '스푼', '미만', '구경', '기다리다', '치즈', '양치질', '가나', '잇몸', '약하다', '치즈', '필요', '강아지', '잇몸', '영양제', '급여', '방식', '담당', '추천', '방법', '급여', '기다리다', '냄새', '합격', '급여', '방법', '사료', '간식', '뿌리다', '급여', '단독', '급여', '담당', '추천', '방법', '사료', '간식', '급여', '직후', '단독', '급여', '입맛', '까다롭다', '치즈', '긴장', '상태', '부장', '기분', '퇴사', '선사', '겨울', '입맛', '엄청', '입맛', '까다', '치즈', '타나다', '걱정', '오늘', '다행히', '단독', '급여', '치즈', '꼬다', '불이', '다행', '제발', '작년', '강아지', '스켈링', '모두', '거금', '이후', '열심히', '양치질', '연초', '복용', '습식', '많이', '치석', '많이', '생기다', '짜다', '속상하다', '죽다', '네이버', '강아지', '고양이', '잇몸', '영양제', '제품', '기대', '급여', '일주일', '아직', '효과', '양치질', '같이', '치석', '형성', '억제', '치즈', '잇몸', '꼬다', '불이', '건강', '도움', '강아지', '잇몸', '영양제', '가드', '강아지', '냄새', '치석', '관리', '재생', '화질', '선택', '옵션', '자동', '강아지', '잇몸', '영양제', '가드', '강아지', '냄새', '치석', '관리', '가드', '뿌리다', '잇몸', '염증', '치석', '제거', '강아지', '고양이', '구강', '영양제', '공식', '온라인', '강아지', '고양', '구내염', '강아지', '냄새', '고양이', '냄새', '강아지', '잇몸', '영양제', '고양이', '잇몸', '영양제', '강아지', '고양이', '강아지', '잇몸', '고양이', '잇몸', '강아지', '치석', '고양이', '치석', '가드', '봄날', '새벽', '저녁', '제외', '외투', '가볍다', '아이스커피', '시리다', '워킹', '바쁘다', '아이', '등교', '이후', '시곗바늘', '돌아가다', '오손', '다같이', '잠깐', '각자', '보내다', '훨씬', '낫다', '어제', '반년', '넘다', '만나다', '이모', '잠깐', '놀러오다', '친정', '엄마', '재미나다', '이야기', '나누다', '잇몸', '영양제', '얘기', '이야기', '거리', '건강', '빠지다', '엄마', '가치', '가시다', '엄청나다', '견적', '뽑다', '진료', '아쉬워하다', '문제', '잇몸', '상태', '당장', '치료', '그동안', '관리', '정리', '필요', '치아', '관리', '식후', '자기', '양치질', '우선', '여기다', '맞다', '어리다', '양치질', '중요', '배우다', '잇몸', '영양제', '섭취', '필요', '계시다', '치아', '가트', '의미', '받치다', '잇몸', '포함', '단순히', '이빨', '상태', '판단', '머리카락', '두피', '상태', '머리카락', '영양분', '전달', '구조', '똑같다', '상태', '치료', '기간', '길다', '끝나다', '편하다', '지난번', '잇몸', '영양제', '말씀', '의외', '항상', '별다르다', '필요', '신뢰', '치아', '도움', '영양소', '섭취', '맞다', '일반', '구취', '제거', '잇몸', '질환', '치아', '성분', '따로', '국내', '영양제', '유일', '함유', '아보카도', '플레', '질환', '소염', '진통', '도움', '연구', '논문', '관심', '늙다', '푸념', '평소', '챙기다', '오복', '나치', '아가', '타고나다', '여기다', '잇몸', '영양제', '재생', '화질', '선택', '옵션', '자동', '잇몸', '영양제', '아프다', '케이스', '건드리다', '번쩍번쩍', '아이', '정기', '검진', '챙기다', '관리', '다행히', '아직', '치료', '타고나다', '관리', '의견', '엄마', '나이', '신경', '챙기다', '한번', '치아', '고생', '치아', '도움', '인증', '프리미엄', '건강', '기능', '품이', '원료', '프로', '폴리스', '칼슘', '부원료', '비타민', '비타민', '마그네슘', '포함', '함유', '앞서', '설명', '아보카도', '플레', '옥수수', '수염', '아프다', '자주', '듣다', '따로', '신경', '챙기다', '잇몸', '영양제', '얘기', '들어보다', '함께', '섭취', '챙기다', '까다', '잊다', '칼슘', '당연히', '필요', '영양', '성분', '일상생활', '식품', '섭취', '장량', '미치다', '항산화', '도움', '프로', '폴리스', '함께', '챙기다', '입속', '치아', '잇몸', '모두', '건강', '기대', '신랑', '후면', '공사', '따로', '잇몸', '영양제', '섭취', '중반', '넘어서다', '올바르다', '건강', '기능', '식품', '필요', '느껴지다', '기분', '꼬박꼬박', '챙기다', '요목', '넘기다', '쉽다', '크기', '섭취', '어려움', '필요', '결심', '어느새', '깜빡', '잊다', '시기', '놓치다', '주문', '이유', '찾아보다', '방법', '계절', '바뀌다', '정리', '관심', '신경', '쏟다', '채워지다', '만족도', '높다', '올해', '잇몸', '영양제', '진정', '가족', '관심', '갖다', '시중', '제품', '경험', '한번', '괜찮다', '이야기', '결정', '도움', '평소', '잇몸', '구강', '검사', '상태', '장기간', '복용', '관리', '잇몸', '영양제', '챙기다', '시작', '주위', '이빨', '고생', '많이', '아프다', '치료', '과정', '힘들다', '평소', '영양제', '가치', '사용', '습관', '들이다', '치아', '관리', '필요', '잇몸', '영양제', '추천', '더블', '특허', '조성물', '사용', '잇몸', '건강관리', '치아', '관리', '영양제', '더블', '수용', '폴리스', '아연', '칼슘', '비타민', '천연', '추출물', '멀티', '비타민', '캡슐', '모두', '챙기다', '건강', '기능', '식품', '소개', '영양', '기능', '정보', '이미지', '참다', '원래', '칼슘', '영양제', '따로', '챙기다', '더블', '프로', '폴리스', '함께', '구성', '영양제', '제품', '챙기다', '귀찮다', '무리', '치아', '도움', '필요', '성분', '이루어지다', '부담', '정만섭', '취하다', '캡슐', '챙기다', '귀찮다', '추천', '박스', '정구', '분량', '캡슐', '각각', '개별', '밀봉', '포장', '위생', '보관', '편리', '꺼내다', '함께', '섭취', '건강', '면역', '기능', '도움', '성분', '천연', '추출물', '밀크', '추출물', '옥수수', '수염', '추출', '분말', '아보카도', '열매', '추출', '분말', '줄기', '껍질', '추출', '분말', '원료', '효과', '잇몸', '건강관리', '항생제', '의존', '장기', '복용', '장점', '다가오다', '더블', '원료', '구성', '꾸준히', '괜찮다', '부모', '선물', '잇몸', '잇몸', '영양제', '추천', '포스팅', '더블', '프로', '폴리스', '정치', '면역', '기능', '항산화', '멀티', '비타민', '더블', '더블', '유구', '잇몸', '신체', '면역', '기능', '방법', '잇몸', '영양제', '추천', '더블', '유재', '생수', '화질', '선택', '옵션', '자동', '접다', '펴다', '잇몸', '영양제', '추천', '시피', '더블', '잇몸', '영양제', '추천', '잇몸', '붓다', '잇몸', '영양제', '피로', '누적', '체력', '떨어지다', '여기저기', '누수', '빨간불', '켜지다', '상황', '의사', '약사', '한의사', '물리', '치료사', '전문가', '케어', '케어', '챙기다', '방법', '개척', '오늘', '치아', '잇몸', '건강', '모두', '챙기다', '잇몸', '영양제', '프리미엄', '이야기', '제품명', '프리미엄', '용량', '제품', '특징', '치아', '잇몸', '건강', '건강', '도움', '상자', '캡슐', '회당', '캡슐', '섭취', '요렇게', '휴대', '상자', '매일매일', '꾸준히', '섭취', '노력', '프리미엄', '선택', '이유', '건강', '도움', '포뮬러', '타입', '프로', '폴리스', '아보카도', '플레', '칼슘', '옥수수', '수염', '비타민', '마그네슘', '원료', '함유', '유일한', '제품', '들어오다', '기타', '가공품', '인증', '건강', '기능', '식품', '일정', '회정', '섭취', '잇몸', '건강', '치아', '도움', '기능', '원료', '원료', '함유', '프리미엄', '잇몸', '건강', '필수', '성분', '모두', '담다', '잇몸', '영양제', '소리', '꼼꼼히', '따지다', '매일매일', '챙기다', '노력', '잇몸', '영양제', '잇몸', '질환', '개선', '도움', '성분', '널리', '알려지다', '프로', '폴리스', '잇몸', '영양제', '주로', '쓰이다', '성본', '프로', '폴리스', '폴라', '보노', '항균', '항산화', '작용', '기능', '성분', '세균', '바이러스', '억제', '도움', '프리미엄', '이야기', '원료', '탄산칼슘', '프로', '폴리스', '함량', '별표', '프리미엄', '주목', '성분', '아마도', '아보카도', '플레', '보카', '불검', '추출물', '잇몸', '성분', '알리다', '스테롤', '영양', '성분', '함유', '국내외', '연구', '논문', '치주', '질환', '감소', '골관절염', '증상', '소염', '진통', '도움', '명시', '성분', '아보카도', '플레', '성분', '국내', '잇몸', '영양제', '유일', '독점', '함유', '기억', '프로', '폴리스', '특유', '향취', '함께', '체크', '사시사철', '아아', '죽다', '고집', '계절', '음료', '혹서기', '차갑다', '즐기다', '적다', '미리미리', '잇몸', '영양제', '챙기다', '케어', '나쁘다', '선택', '남편', '치아', '잇몸', '약하다', '선천', '실제로', '시어머님', '잇몸', '원래', '약하다', '피곤', '잇몸', '붓다', '주말', '부부', '시작', '시점', '남편', '주말', '내려오다', '잇몸', '붓다', '힘들다', '실제로', '빠지다', '준비', '프리미엄', '브인', '잇몸', '건강', '프리미엄', '건강', '기능', '식품', '일반', '가공품', '인증', '건강', '기능', '식품', '남편', '잇몸', '선택', '잇몸', '영양제', '아침', '저녁', '챙기다', '택배', '남편', '붓다', '영안', '요새', '얼마나', '바쁘다', '전화', '아들', '아빠', '보내다', '확인', '부실', '부산', '비행기', '기차', '오가다', '원래', '잇몸', '휴대', '보관', '케이스', '언제', '쉽다', '개봉', '프로', '폴리스', '아보카도', '플레', '스리', '옥수수', '수염', '원료', '함유', '유일한', '잇몸', '영양제', '항산화', '도움', '프로', '폴리스', '형성', '신경', '근육', '기능', '유지', '필요', '정상', '혈액', '응고', '필요', '칼슘', '프로', '폴리스', '칼슘', '주원료', '치아', '잇몸', '도움', '기능', '성분', '원료', '고요', '아보카도', '플레', '성분', '함량', '성분', '국내외', '논문', '골관절염', '치주', '질환', '감소', '소염', '진통', '도움', '확인', '성분', '국내', '영양제', '국내', '유일', '국내', '독점', '확실히', '프리미엄', '영양제', '사이즈', '작다', '유선', '사이즈', '힘들다', '잇몸', '영양제', '건강', '기능', '식품', '사이즈', '집중', '월하', '요한', '상자', '상자', '이용', '체질', '도약', '담배', '야근', '업무', '머리', '아프다', '특별히', '잇몸', '관리', '필요', '함께', '이용', '피곤', '연잇다', '며칠', '어질다', '잇몸', '붓다', '염증', '생기다', '나빠지다', '평상시', '미리미리', '잇몸', '영양제', '챙기다', '나누다', '챙기다', '고요', '주말', '남기다', '챙기다', '남편', '비타민', '같이', '아보카도', '플레', '스리', '프로', '폴리스', '칼슘', '함유', '잇몸', '영양제', '비행기', '챙기다', '예전', '상황', '나빠지다', '잇몸', '상태', '영향', '미리미리', '챙기다', '힘들다', '바라다', '평균', '기대', '수명', '높아지다', '현대', '사회', '성인', '주되다', '관심사', '자신', '건강', '잇몸', '영양제', '비타민', '건강', '도움', '각종', '영양제', '단연', '관심도', '높다', '내원', '환자', '살펴보다', '잇몸', '영양제', '비타민', '보조제', '챙기다', '잇몸', '영양제', '의존', '나머지', '정작', '구강', '관리', '소홀히', '잇몸', '자주', '붓다', '내원', '출처', '네이버', '사전', '잠깐', '잇몸', '영양제', '사전', '의미', '되짚다', '그대로', '잇몸', '영양', '보충', '영양', '보충', '도움', '보조제', '개념', '요구', '관리', '소홀히', '잇몸', '영양제', '꾸준히', '잇몸', '건강', '면역력', '높아지다', '요정', '잇몸', '붓다', '증상', '나타나다', '치주', '질환', '증상', '질환', '잇몸', '영양제', '절대', '개선', '불가능', '원인', '파악', '없애다', '치료', '기본', '잇몸', '붓다', '원인', '석이', '물다', '까다', '갈다', '습관', '잘못', '양치질', '확인', '질환', '원인', '치석', '이치석', '세균', '경질', '덩어리', '제거', '문제', '잇몸', '침투', '치석', '의의', '잇몸', '녹이다', '잇몸', '내려앉다', '통증', '유발', '뽑다', '치주', '질환', '붓다', '시리다', '치료', '방법', '내원', '검진', '올바르다', '진료', '병원', '첨단', '기기', '구강', '스캐너', '균형', '측정', '촬영', '장비', '구비', '환자', '불편', '원인', '질환', '판단', '치료', '돕다', '잇몸', '치석', '침투', '보통', '잇몸', '메스', '이용', '절개', '치석', '기구', '이용', '제거', '봉합', '출혈', '많이', '발생', '회복', '기간', '오래', '걸리다', '심하다', '수술', '고생', '환자', '의원', '컴퓨터', '무통', '마취', '물방울', '레이저', '사용', '치료', '돕다', '일정', '마취', '필요', '소량', '마취', '주사', '마취', '줄이다', '잇몸', '치아', '인치', '물방울', '레이저', '주사', '치석', '긁어내다', '치료', '메스', '필요', '출혈', '통증', '최소한', '줄이다', '출혈', '최소화', '아프다', '진료', '환자', '돕다', '병원', '목표', '진료', '최대한', '환자', '입장', '치료', '돕다', '이미지', '참고', '공지', '기타', '목록', '열기', '잇몸', '영양제', '치아', '관리', '기타', '들치다', '건강', '가요', '어리다', '망하다', '충치', '워낙', '생기다', '치열', '엉망', '어리다', '놀이터', '무서워하다', '어린이', '동네', '만화책', '전권', '갖다', '맨날', '덕분', '교정', '뽑다', '무섭다', '매복', '사랑니', '뽑다', '쫄다', '사랑니', '태어나다', '독하다', '새끼', '째다', '은교', '끝나다', '충치', '생기다', '문제', '잇몸', '교정', '원래', '잇몸', '억지로', '움직이다', '양치', '쎄다', '뿌리', '갈리다', '드러나다', '시리다', '양치', '살살', '치료', '결국', '잇몸', '찾아다니다', '양치', '요세', '아빠', '양치', '세다', '같이', '잇몸', '잇몸', '영양제', '잇몸', '건강', '프리미엄', '건강', '기능', '식품', '기타', '가공품', '인증', '건강', '기능', '식품', '프로', '폴리스', '칼슘', '아보카도', '플레', '스리', '옥수수', '수염', '원료', '유일한', '품이', '아보카도', '플레', '국내', '잇몸', '영양제', '유일', '독점', '짝짝', '아보카도', '플레', '슬다', '잇몸', '성분', '국내외', '연구', '골관절염', '치주', '질환', '소염', '진통', '도움', '결과', '밝혀내다', '세균', '바이러스', '억제', '작용', '항산화', '작용', '기능', '성분', '프로', '폴리스', '감치다', '영양제', '잇몸', '쓰이다', '성분', '함유', '설명', '아보카도', '플레', '프로', '폴리스', '칼슘', '모두', '함유', '잇몸', '영양제', '유일', '뭉치', '총알', '해아', '하나', '매일', '밀다', '타입', '애기', '쉽다', '일일이', '잡아당기다', '열리다', '애기', '밀다', '타입', '작다', '사이즈', '부담', '무시', '잇몸', '영양제', '걸리다', '토하다', '잇몸', '고생', '망하다', '아나', '원래', '알약', '알약', '무섭다', '괜찮다', '아직', '무섭다', '섭취', '알약', '엄청', '엄청', '많이', '두께', '미리', '편하다', '아직', '망가지다', '서럽다', '꾸준히', '관리', '치아', '잇몸', '건강', '챙기다', '잇몸', '영양제', '영양제', '공감', '메모', '보내다', '인쇄', '블록', '기타', '카테고리', '전체', '이전', '잇몸', '건강', '관심도', '점차', '증가', '상품', '많이', '판매', '매체', '잇몸', '영양제', '홍보', '관심', '문제', '광고', '광고', '맹신', '잇몸', '붓다', '욱신거리다', '병원', '잠깐', '잇몸', '영양제', '안타깝다', '잇몸', '영양제', '단순히', '보조', '역할', '잇몸', '증상', '나타나다', '내부', '사라지다', '채우다', '혈류', '확장', '증거', '단순히', '해결', '문제', '잇몸', '영양제', '포함', '비타민', '칼슘', '성분', '잇몸', '필요', '요소', '충족', '면역력', '높다', '간접', '도움', '치주', '질환', '잇몸', '직접', '영향', '미치다', '찾아오다', '환자', '상태', '병원', '으니', '잇몸', '영양제', '괜찮다', '방치', '포스팅', '자주', '언급', '잇몸', '붓다', '멈추다', '상황', '건강', '되찾다', '염증', '세균', '열심히', '잠깐', '슬다', '언제든지', '활동', '가능', '높다', '사라지다', '도로', '재생', '입다', '건강', '보험', '심사', '평가원', '통계', '치주', '질환', '병원', '내원', '환자', '전체', '비율', '차지', '그만큼', '흔하다', '발생', '질환', '문제', '흔하다', '무시', '붓다', '아프다', '잇몸', '영양제', '챙기다', '넘어가다', '치은염', '금방', '내버려두다', '잇몸', '내려가다', '발치', '상황', '금방', '진료', '아프다', '무섭다', '해결', '마취', '아프다', '컴퓨터', '무통', '마취', '절개', '잇몸', '치료', '물방울', '레이저', '사용', '아프다', '치료', '미루다', '방치', '원래', '아프다', '치료', '미리미리', '주기', '검진', '문제', '해결', '바라다', '잇몸', '영양제', '도움', '구강', '관리', '건강', '상태', '유지', '쉽다', '치료', '적극', '추천', '검진', '이전', '잇몸', '치료', '한번', '아프다', '방문', '잇몸', '많이', '붓다', '우선', '스케일링', '건강', '잇몸', '습관', '의사', '선생', '약속', '요요기', '잇몸', '한번', '망가지다', '되돌리다', '잇몸', '붓다', '빠지다', '잇몸', '내려가다', '크기', '작다', '잇몸', '많이', '내려가다', '나중', '큰일', '교정', '치료', '이후', '잇몸', '내려가다', '절대', '잇몸', '약하다', '관리', '교정', '잇몸', '내려가다', '블랙', '트라이앵글', '꾸준히', '양치', '잇몸', '소독', '소독제', '바르다', '엄마', '함께', '챙기다', '닥터', '잇몸', '영양제', '케어', '포장지', '예쁘다', '어른', '선물', '가격대', '부담', '엄마', '최근', '잇몸', '치료', '잇몸', '영양제', '선물', '칫솔', '칫솔', '사이사이', '케어', '제품', '바꾸다', '닥터', '치약', '함께', '영양제', '칫솔', '바꾸다', '치약', '바꾸다', '케어', '분이', '잇몸', '약하다', '여동생', '치료', '엄마', '예정', '케어', '전문', '브랜드', '닥터', '잇몸', '영양제', '입다', '약국', '판매', '건강', '기능', '식품', '섭취량', '일회', '함께', '알갱이', '함께', '쉽다', '가볍다', '누르다', '잇몸', '관리', '사용', '소독제', '매일', '귀찮다', '자주', '어렵다', '한번', '로치', '건강', '케어', '잇몸', '케어', '고민', '로케', '미래', '잇몸', '쉽다', '지키다', '요크크', '케어', '잇몸', '건강', '도움', '잇몸', '성분', '고민', '그동안', '고민', '생활', '잇몸', '건강', '필수', '프로', '폴리스', '섭취량', '최대', '함량', '건강', '흡수', '높다', '해조', '칼슘', '사용', '비타민', '비타민', '건강', '필수', '영양소', '채우다', '엄마', '여동생', '함께', '잇몸', '영양제', '챙기다', '신경', '어렵다', '다행', '잇몸', '영양제', '케어', '박스', '재생', '화질', '선택', '옵션', '자동', '접다', '펴다', '잇몸', '영양제', '케어', '박스', '알갱이', '크기', '평소', '알약', '잘못', '쉽다', '체험단', '제품', '엄마', '근래', '좋아하다', '닥터', '치약', '함께', '사용', '얼른', '치약', '도사', '닥터', '케어', '잇몸', '영양', '건강', '기능', '식품', '닥터', '닥터', '닥터', '여아', '귀신', '무섭다', '어른', '무섭다', '웃다', '유머', '치료비', '깨지다', '매직', '최근', '잇몸', '치료', '보험', '금액', '잇몸', '치료', '관리', '최대한', '이것저것', '닦다', '관리', '솔직히', '영양제', '챙기다', '제대로', '기능', '잇몸', '마찬가지', '잇몸', '영양제', '알아보다', '따로', '챙기다', '프리미엄', '잇몸', '영양제', '애초', '건강', '건강', '굉장히', '잇몸', '영양제', '영양제', '국내외', '차이', '인지', '이것저것', '많이', '따지다', '참고', '잇몸', '영양제', '프리미엄', '제품', '잇몸', '모두', '성분', '전체', '관리', '프리미엄', '잇몸', '영양제', '프로', '폴리스', '칼슘', '아보카도', '플레', '옥수수', '수염', '원료', '모두', '함유', '제품', '원료', '잇몸', '영양제', '제품', '유일', '영양제', '체크', '프리미엄', '잇몸', '영양제', '인증', '건강', '기능', '식품', '아무렇게나', '만들어지다', '영양제', '잇몸', '영양제', '진료', '치아', '잇몸', '질환', '개선', '성분', '필요', '먼저', '아보카도', '플레', '일명', '성분', '잇몸', '골관절염', '치주', '질환', '감소', '도움', '국내', '해외', '논문', '실리다', '믿다', '신뢰', '프리미엄', '아보카도', '플레', '국내', '영양제', '유일', '잇몸', '영양제', '제품', '고르다', '프로', '폴리스', '성분', '프로', '폴리스', '로나', '면역력', '높이다', '엄청', '프로', '폴리스', '세균', '바이러스', '억제', '도움', '항균', '항산화', '작용', '도움', '성분', '코로나', '이전', '프로', '폴리스', '뿌리다', '그만큼', '성분', '거리', '치아', '관심', '들어보다', '성분', '영양제', '잇몸', '게리', '성분', '프리미엄', '성분', '모두', '잇몸', '영양제', '프리미엄', '끝나다', '참고', '아침', '영양제', '챙기다', '아르', '비타민', '칼슘', '프리미엄', '추가', '솔직히', '대지', '영양제', '친구', '잇몸', '건강', '미리미리', '챙겨두다', '나중', '금액', '되돌아오다', '영양제', '챙기다', '관리', '암만', '보험', '치료', '비싸다', '덜다', '치아', '잇몸', '건강', '도움', '성분', '국내', '유일', '잇몸', '영양제', '영양제', '챙기다', '약통', '담다', '일주일', '담다', '매주', '일요일', '새로', '채우다', '빼먹다', '매일매일', '치아', '잇몸', '건강', '챙기다', '잇몸', '영양제', '프리미엄', '잇몸', '건강', '챙기다', '재생', '화질', '선택', '옵션', '자동', '접다', '펴다', '잇몸', '영양제', '프리미엄', '잇몸', '챙기다', '잇몸', '관리', '적당히', '나중', '피눈물', '흘리다', '마시다', '미리미리', '잇몸', '영양제', '챙기다', '건강관리', '추천', '루트', '잇몸', '영양제', '챙기다', '인사', '플러스', '노년', '잇몸', '질환', '염증', '시리다', '피나다', '힘들다', '직접', '상품', '제작', '제품', '잇몸', '약하다', '챙기다', '챙기다', '박스', '제품', '정보', '잇몸', '염증', '프로', '폴리스', '아보카도', '추출물', '함유', '옥수수', '추출물', '비타민', '저렇게', '개별', '포장', '간식', '파우치', '미니', '아침', '바쁘다', '까먹다', '챙기다', '바쁘다', '바쁘다', '현대', '사회', '여유', '쏟아지다', '정보', '원래', '신경', '요새', '챙기다', '어둡다', '매일매일', '미니', '리스트', '버킷', '리스트', '실행', '해내다', '성취감', '요새', '영양제', '챙기다', '운동', '귀찮다', '습관', '확실히', '순환', '느낌', '피부', '귀찮다', '씻다', '스킨', '바르다', '얼마', '얼굴', '따갑다', '쌓이다', '점점', '악화', '반대', '관리', '늘어나다', '좋아지다', '잇몸', '여타', '건강관리', '하나하나', '세포', '많이', '적당히', '유통', '기한', '년월일', '아직', '혼자', '금방', '머이', '붓다', '칫솔', '바꾸다', '제품', '스트라이크', '맞다', '영양제', '꾸준히', '요약', '치료', '바라다', '케어', '도움', '유산균', '챙기다', '인사', '플러스', '챙기다', '목록', '안쪽', '면역력', '강화', '운동', '영상', '완전', '챙기다', '홍삼', '종종', '입다', '넘기다', '힘들다', '크기', '어렵다', '섭취', '아침', '정신', '까먹다', '읽다', '챙기다', '얼다', '손놀림', '가다듬다', '보통', '오른손잡이', '저만', '은지', '유난히', '왼손', '잘못', '글씨', '마시다', '요양', '발달', '왼손', '필사', '시작', '박스', '꺼내다', '제품', '보여주다', '종종', '까다', '박스', '다음번', '꺼내다', '뜯다', '가끔', '뚫리다', '보통', '아침', '약간', '비몽사몽', '차리다', '영양제', '사진', '곱다', '산호', '칼슘', '상관', '약간', '산호', '컬러', '맛있다', '많이', '재미있다', '놀다', '추억', '많이', '쌓다', '건강', '필수', '모두', '귀찮다', '식사', '영양제', '운동', '맞다', '전부', '즐겁다', '건강', '운동', '필요', '시작', '워밍업', '끝나다', '괜찮다', '댄스', '다이어트', '유양', '하구', '단지', '비타민', '이것저것', '챙기다', '스트레칭', '순환', '영양제', '맞다', '챙기다', '챙기다', '잇몸', '챙기다', '인사', '플러스', '재생', '화질', '선택', '옵션', '자동', '접다', '펴다', '체험단', '리뷰', '오늘', '열심히', '챙기다', '운동', '영상', '메뉴', '준비', '저녁', '영화', '준비', '넘치다', '점심시간', '다가오다', '갑자기', '고프다', '바이바이', '가야', '이와이', '시청', '노래', '요약', '닷컴', '전문', '약사', '소개', '가족', '건강', '기능', '식품', '약사', '닷컴', '인사', '플러스', '잇몸', '붓다', '잇몸', '내리다', '잇몸', '붓다', '잇몸', '영양제', '영양제', '프로', '폴리스', '비타민', '산호', '칼슘', '비타민', '모찌', '환절기', '건강관리', '계시다', '코로나', '백신', '독감', '백신', '접종', '한창', '날씨', '제법', '춥다', '건강관리', '유의', '시기', '감기', '조심', '시기', '체력', '원래', '날씨', '추워지다', '임파선', '기침', '감기', '증상', '면역력', '관리', '구강', '관리', '신경', '요구', '청결', '관리', '입안', '염증', '식도', '내려가다', '잇몸', '염증', '신경절', '두통', '영향', '생기다', '더욱', '신경', '신경', '스트레스', '잇몸', '붓다', '염증', '증상', '치아', '구강', '외관', '간단히', '관리', '낫다', '붓다', '증상', '생기다', '잇몸', '치아', '썩다', '외관', '증상', '버티다', '증상', '사라지다', '신랑', '스트레스', '화병', '올라오다', '잇몸', '붓다', '두통', '항상', '구비', '제품', '영양제', '챙기다', '좋아하다', '급하다', '염증', '앉히다', '영진', '약품', '티나', '약국', '판매', '영양제', '카피', '카피', '잇몸', '붓다', '아프다', '초기', '막히다', '늘상', '비하다', '잇몸', '영양제', '가격대', '티나', '성분', '완전', '구입', '잇몸', '관리', '부담', '요약', '설명', '주실', '아프다', '캡슐', '신통', '증상', '차다', '잇몸', '붓다', '아프다', '듣다', '찾아보다', '조짐', '성분', '소염', '작용', '스트레스', '잇몸', '염증', '진통제', '휴식', '취하다', '금방', '낫다', '잇몸', '건강', '영양제', '챙기다', '치약', '치약', '중요시', '여기다', '대충', '인터넷', '세일', '세트', '사놓다', '이것저것', '주의', '잇몸', '조금씩', '가라앉다', '잇몸', '염증', '주기', '잦아지다', '치약', '신경', '잇몸', '오드', '알래스카', '치약', '서울대학교', '병원', '획기적', '기술', '만들어지다', '천연', '치약', '연마제', '사용', '기술', '입안', '유해', '억제', '구취', '제거', '화이트닝', '충치', '잇몸', '질환', '예방', '효과', '자연', '유래', '성분', '천연', '치약', '추천', '암애', '치약', '자극', '민트', '좋아하다', '맵다', '입안', '벗겨지다', '자극', '치약', '별로', '좋아하다', '천연', '잇몸', '치약', '게다가', '잇몸', '염증', '붓다', '조금씩', '잦아지다', '치료', '곤란', '잇몸', '충치', '일으키다', '유해', '식도', '내려가다', '위염', '일으키다', '신경절', '두통', '통증', '생기다', '구강', '청결', '관리', '잇몸', '오드', '알래스카', '잇몸', '영양제', '구강', '건강', '챙기다', '재생', '화질', '선택', '옵션', '자동', '잇몸', '오드', '알래스카', '잇몸', '영양제', '구강', '건강', '챙기다', '게다가', '과산화수소수', '빼다', '미백', '효과', '나타나다', '천연', '치약', '안심', '사용', '신랑', '담배', '피다', '담배', '펴다', '경력', '이어서', '잇몸', '질환', '구강', '염증', '잇몸', '많이', '내려앉다', '상태', '신경', '쓰이다', '나중', '치아', '시리다', '치주', '질환', '노출', '쉽다', '매년', '스케일링', '잇몸', '영양제', '잇몸', '치약', '매일', '매일', '조금씩', '사용', '관리', '잇몸', '오드', '알래스카', '잇몸', '영양제', '구강', '건강', '챙기다', '재생', '화질', '선택', '옵션', '자동', '잇몸', '오드', '알래스카', '잇몸', '영양제', '구강', '건강', '챙기다', '폭풍', '양치', '옛날', '치약', '소금', '연하다', '죽염', '치약', '느낌', '개인', '자극', '넘넘', '양치', '잇몸', '지하', '아래', '쓸다', '천연', '성분', '치약', '멘토', '성분', '스피아', '민트', '오일', '입안', '마르다', '장시간', '사용감', '불소', '방부제', '합성', '계면', '활성제', '포함', '아이', '임산부', '사용', '안전', '치약', '불소', '억제', '기술', '충치', '예방', '잇몸', '치약', '잇몸', '많이', '천연', '순하다', '성분', '잇몸', '자극', '약하다', '잇몸', '사용', '편하다', '오드', '알래스카', '치약', '살림', '디테일', '신경', '아이', '준비', '차근차근', '천연', '제품', '순하다', '성분', '살림', '꾸리다', '오드', '알래스카', '치아', '미백', '천연', '임산부', '시리다', '불소', '치약', '뚝딱', '리빙', '잇몸', '치약', '미백치약', '불소', '치약', '구취', '제거', '제거', '치약', '잇몸', '케어', '잇몸', '치약', '천연', '치약', '임산부', '치약', '예방', '치약', '잇몸', '영양제', '건강', '걱정', '프리미엄', '꼽다', '먼저', '떠오르다', '요충', '생기다', '어리다', '자주', '힘들다', '기억', '진심', '이면', '아마', '공포증', '항상', '병원', '다짐', '잇몸', '건강', '건강', '신경', '관리', '관리', '잇몸', '건강', '보편', '양치', '별다르다', '관리', '방법', '떠오르다', '잇몸', '영양제', '프리미엄', '본격', '관리', '한번', '프리미엄', '브이', '박스', '패키지', '참고', '예쁘다', '영양제', '패키지', '그리', '기왕이면', '예쁘다', '고급', '패키지', '기분', '요정', '일회', '회정', '건강', '건강', '기능', '식품', '기능', '안전', '인정받다', '건강', '기능', '식품', '프로', '폴리스', '플라보노이드', '함유', '탄산칼슘', '함유', '비타민', '비타민', '마그네슘', '아보카도', '플레', '옥수수', '수염', '개지', '부원료', '프리미엄', '배합', '제조', '기타', '가공품', '인증', '건강', '기능', '식품', '믿다', '국내', '유일', '국내', '독점', '아보카도', '플레', '성분', '함량', '함유', '더욱', '주목', '보카', '플레', '성분', '이국', '영양제', '유일', '독점', '함유', '아보카도', '플레', '슬다', '국내외', '연구', '논문', '골관절염', '치주', '질환', '감소', '소염', '진통', '도움', '결과', '확인', '수많다', '영양', '성분', '함유', '치아', '잇몸', '건강', '도움', '이유', '잇몸', '영양제', '프리미엄', '위생', '포장', '휴대', '반절', '사무실', '갖다', '제품', '이유', '프로', '폴리', '플라보노이드', '세균', '바이러스', '억제', '작용', '항균', '항산화', '작용', '기능', '성분', '고리', '영양제', '잇몸', '쓰이다', '성분', '프리미엄', '아보카도', '플레', '프로', '폴리스', '칼슘', '모두', '함유', '유일한', '제품', '챙기다', '잇몸', '영양제', '이유', '오늘', '어버이날', '며칠', '선물', '부모', '보내다', '잇몸', '건강', '건강', '나이', '불문', '관리', '나이', '챙기다', '항상', '비타민', '오메가', '영양제', '챙기다', '정작', '치아', '잇몸', '소홀', '부부', '같이', '부모', '챙기다', '회정', '섭취', '아침', '저녁', '사은품', '케이스', '여행', '출장', '잊다', '책상', '올려놓다', '잇몸', '영양제', '잊다', '세요', '잇몸', '영양제', '재생', '화질', '선택', '옵션', '자동', '접다', '펴다', '잇몸', '영양제', '출산', '고민', '건강', '프리미엄', '잇몸', '영양제', '원래', '치아', '잇몸', '약하다', '임신', '중후반', '잇몸', '상태', '점점', '칫솔', '쉽다', '임신', '당시', '시작', '시기', '이니', '검진', '겁나다', '어영부영', '육아', '미루다', '마냥', '손놓다', '건강', '이것저것', '찾아보다', '잇몸', '영양제', '제대로', '챙기다', '챙기다', '시작', '잇몸', '영양제', '알약', '소분', '케이스', '고체', '치약', '서비스', '서비스', '건강', '포뮬러', '프리미엄', '프리미엄', '잇몸', '건강', '프리미엄', '건강', '기능', '식품', '기타', '가공품', '인증', '건강', '기능', '식품', '건강', '챙기다', '영양제', '제대로', '인증', '제품', '잇몸', '건강', '잇몸', '출산', '건강', '직격타', '덜다', '치아', '잇몸', '건강', '챙기다', '영양제', '선택', '이유', '성분', '아나', '잇몸', '질환', '개선', '성분', '도움', '도움', '성분', '따로', '주요', '영양', '성분', '아보카도', '플레', '프로', '폴리스', '아보카도', '레스', '유명', '잇몸', '성분', '국내외', '연구', '논문', '골관절염', '치주', '질환', '감소', '소염', '진통', '도움', '결과', '확인', '아보카도', '플레', '성분', '국내', '영양제', '유일', '독점', '함유', '폴리스', '플라보노이드', '세균', '바이러스', '억제', '작용', '항균', '항산화', '작용', '기능', '영양제', '잇몸', '성분', '영양', '성분', '기능', '알아보다', '건강', '도움', '영양', '성분', '성분', '모두', '함유', '영양제', '힘들다', '아보카도', '플레', '프로', '폴리스', '칼슘', '모두', '함유', '영양제', '유일', '이것저것', '비교', '선택', '치아', '잇몸', '건강', '도움', '기능', '성분', '원료', '피쉬', '콜라겐', '자일리톨', '코엔', '자임', '원료', '성분', '허투루', '놓치다', '꼼꼼히', '챙기다', '박스', '요렇게', '차곡차곡', '섭취', '일정', '섭취', '분량', '따로', '뜯다', '챙기다', '건강', '영양', '성분', '충분히', '사이즈', '부담', '매일', '챙기다', '영양제', '크기', '고민', '아무리', '성분', '사이즈', '영양제', '힘들다', '꾸준히', '넘기다', '사이즈', '요렇게', '매일', '잊다', '챙기다', '워낙', '잇몸', '약하다', '출산', '관절', '통증', '같이', '나타나다', '빼먹다', '매일', '함께', '일정', '챙기다', '그전', '건강', '프로', '폴리스', '영양제', '따로', '챙기다', '주성분', '프로', '폴리스', '함유', '따로', '챙기다', '필요', '해결', '예전', '건강', '칼슘', '따로', '건강', '잇몸', '영양제', '따로', '칼슘', '형성', '신경', '근육', '기능', '유지', '필요', '영양', '성분', '건강', '칼슘', '챙기다', '항산화', '작용', '도움', '영양제', '챙기다', '요점', '나이', '건강', '출산', '엄마', '부모', '챙기다', '같이', '잇몸', '건강', '필수', '성분', '모두', '담다', '프리미엄', '영양제', '추천', '포스팅', '업체', '제품', '소정', '원고료', '제공받다', '혼자', '고민', '입속', '건강', '관하다', '이야기', '많이', '직업', '계시다', '많이', '입안', '마르다', '피곤', '입안', '헐다', '괴롭다', '차다', '뜨겁다', '음식', '불편', '교정', '틀니', '신경', '쓰이다', '서툴다', '칫솔', '걱정', '모두', '추천', '구강', '건강', '구강', '유산균', '잠들다', '입안', '천천히', '녹이다', '품이', '요구', '유해', '수면', '급속히', '번식', '계시다', '라덴', '잠들다', '섭취', '권장', '각종', '구강', '건강', '예방', '관리', '제품', '청포도', '맛있다', '요구', '유산균', '많이', '요구', '유산균', '잇몸', '영양제', '관심', '눈여기다', '라덴', '시중', '구강', '유산균', '효과', '뛰어나다', '제품', '무려', '논문', '검증', '시중', '구강', '유산균', '유일', '구강', '정착', '확인', '제품', '확실히', '효과', '느껴지다', '잇몸', '건강', '구강', '건강', '혼자', '챙기다', '아이', '양치질', '잇몸', '부모', '추천', '아이', '충치', '예방', '가족', '유산균', '요구', '유산균', '하나하나', '살펴보다', '유해', '제거', '도와주다', '유해', '결합', '치아', '표면', '부착', '막다', '쉽다', '제거', '작용', '바이오', '필름', '제하다', '유해', '바이오', '필름', '생성', '과정', '억제', '표면', '보호', '항균', '물질', '항균', '물질', '스스로', '유해', '성장', '방해', '유해', '정착', '방해', '유해', '빨리', '구강', '정착', '유해', '정착', '방해', '유해', '작용', '차단', '도움', '나쁘다', '유전자', '억제', '유해', '세포', '유전자', '발현', '억제', '유래', '구강', '구강', '유산균', '라덴', '건강', '한국', '어린이', '구강', '유래', '특허', '균주', '와다', '함유', '유산균', '원리', '구강', '유산균', '섭취', '유익', '증가', '유해', '억제', '건강', '구강', '환경', '개선', '도움', '미생물', '구강', '유익', '늘리다', '각종', '구강', '문제', '근본', '원인', '해결', '제품', '유산균', '보호', '최적', '유산균', '전용', '용기', '실온', '보관', '유산균', '그대로', '섭취', '잠들다', '입안', '섭취', '평상시', '맛있다', '한국', '미국', '특허', '균주', '유산균', '생산', '네이버', '쇼핑', '판매', '판매', '돌파', '후기', '무려', '건의', '만족', '후기', '제품', '잠들다', '침대', '직전', '가족', '구강', '건강', '구강', '유산균', '챙기다', '요구', '유산균', '잇몸', '영양제', '박테리아', '테라', '피구', '영양', '구강', '케어', '잇몸', '음식', '치약', '영양제', '치아', '음식', '잇몸', '영양제', '잇몸', '관리', '리스', '구강', '유산균', '꾸다', '영양제', '소개', '최근', '많이', '스트레스', '영양제', '찾아보다', '오늘', '소개', '영양제', '평소', '관심', '영양제', '건강', '치아', '건강', '닥터', '정보통', '잇몸', '영양제', '부모', '선물', '많이', '잇몸', '영양제', '복용', '맞다', '고민', '칫솔', '워터', '피곤', '양치', '스트레스', '제품', '선택', '이유', '칼슘', '비타민', '포함', '정상', '혈액', '응고', '필요', '영양분', '갖추다', '선택', '이빨', '보험', '미리미리', '관리', '겁나다', '얼마', '청구', '영양제', '워터', '치아', '관리', '꾸준히', '추천', '건강', '스트레스', '일상생활', '칼슘', '섭취', '부족', '건강', '젊다', '시작', '사직', '회복', '점심', '저녁', '영양', '성분', '칼슘', '형성', '필요', '유해', '산소', '세포', '보호', '비타민', '골다공증', '발생', '위험', '감소', '도움', '영양', '성분', '포함', '중복', '피해', '주세', '요소', '흡수', '식물', '해조', '칼슘', '체내', '흡수', '높다', '알약', '잘못', '살짝', '넘기다', '아쉽다', '비리다', '전혀', '무취', '섭취', '거부감', '한국인', '명중', '칼슘', '부족', '한국', '국민', '건강', '통계자', '확인', '치아', '약하다', '꾸준히', '취하다', '건강관리', '치아', '탄탄', '정재', '생수', '화질', '선택', '옵션', '자동', '치아', '정제품', '정보', '구입처', '아래', '링크', '확인', '흡수', '높다', '해조', '칼슘', '망간', '비타민', '정종', '원료', '면역', '프로', '폴리스', '잇몸', '영양제', '닥터', '원료', '차이', '품질', '차이', '닥터', '며칠', '경부', '빨갛다', '붓다', '시작', '양치', '시작', '정기', '스케일링', '관리', '잦다', '치주', '질환', '메다', '잇몸', '건강', '잇몸', '영양제', '챙기다', '잇몸', '영양제', '선택', '반드시', '인증', '건강', '기능', '식품', '선택', '안전', '섭취', '잇몸', '건강', '프리미엄', '건강', '기능', '식품', '프로', '폴리스', '칼슘', '아보카도', '플레', '스리', '옥수수', '수염', '원료', '함유', '유일한', '제품', '기타', '가공품', '인증', '안전', '섭취', '용기', '한꺼번에', '담다', '제품', '낱개', '개별', '포장', '위생', '직장인', '가방', '언제', '섭취', '잇몸', '영양제', '알아보다', '치아', '잇몸', '질환', '개선', '성분', '따로', '잇몸', '성분', '아보카도', '플레', '슬다', '스테롤', '수많다', '영성', '모두', '함유', '국내외', '연구', '논문', '치주', '질환', '감소', '골관절염', '소염', '진통', '도움', '결과', '확인', '정암', '마도', '골관절염', '수술', '차례', '상태', '걷다', '힘들다', '엄마', '선물', '확실히', '예전', '무릎', '무리', '너무나', '좋아하다', '아보카도', '레스', '성분', '국내', '영양제', '유일', '독점', '함량', '함유', '프로', '폴리스', '탄산칼슘', '함량', '함유', '세균', '바이러스', '억제', '작용', '항균', '항산화', '작용', '만나다', '프로', '폴리스', '성분', '함유', '요리', '성분', '영양제', '잇몸', '성분', '잇몸', '건강', '도움', '치아', '잇몸', '건강', '도움', '기능', '성분', '프로', '폴리스', '칼슘', '비타민', '비타민', '마그네슘', '코엔', '자임', '아보카도', '플레', '원료', '함유', '한꺼번에', '영양제', '챙기다', '번거롭다', '섭취', '영양제', '섭취', '방법', '일회', '회정', '함께', '섭취', '세요', '정하다', '아침', '점심', '섭취', '남편', '피곤', '치주', '질환', '생기다', '함께', '섭취', '입맛', '남편', '입맛', '맞다', '섭취', '중단', '제품', '영양제', '비하다', '괜찮다', '벌써', '꾸준히', '섭취', '잇몸', '영양제', '잇몸', '건강', '챙기다', '재생', '화질', '선택', '옵션', '자동', '접다', '펴다', '잇몸', '영양제', '잇몸', '건강', '챙기다', '얼마', '덜다', '양치', '잇몸', '많이', '잇몸', '많이', '개선', '그동안', '치주', '질환', '속앓이', '많이', '잇몸', '질환', '고민', '계시다', '잇몸', '건강', '필수', '성분', '모두', '담다', '프리미엄', '잇몸', '영양제', '보카', '플레', '스리', '프로', '폴리스', '칼슘', '모두', '함유', '유일한', '제품', '젊다', '쉽다', '넘기다', '건강', '어리다', '약하다', '치아', '잇몸', '상태', '자주', '붓다', '시리다', '통증', '피곤', '체력', '떨어지다', '어김없이', '입안', '불편', '어리다', '겪다', '나이', '한번', '엄청나다', '깨지다', '건강', '어리다', '관리', '아이', '키우다', '신경', '양치질', '엄청', '주제', '요전', '귀찮다', '스스로', '관리', '최대한', '오래', '세상', '건강', '잇몸', '영양제', '관리', '치아', '프로', '폴리스', '칼슘', '함량', '오늘', '관리', '잇몸', '영양제', '프리미엄', '소개', '프리미엄', '프로', '폴리스', '칼슘', '아보카도', '플레', '옥수수', '수염', '원료', '국내', '유일', '아보카도', '플레', '성분', '함량', '치아', '도움', '주성분', '프로', '폴리스', '칼슘', '원료', '잇몸', '건강', '도움', '치아', '잇몸', '도움', '필수', '성분', '담다', '프리미엄', '아보카도', '플레', '함량', '아보카도', '플레', '최근', '잇몸', '영양제', '원료', '많이', '사용', '아보카도', '플레', '슬다', '아보카도', '콩기름', '불검', '화물', '적정', '비율', '배합', '잇몸', '많이', '사용', '성분', '스테롤', '영양', '성분', '함유', '이름', '느낌', '용성', '비타민', '성분', '많이', '함유', '치아', '도움', '성분', '아보카도', '플레', '독점', '잇몸', '영양제', '핵심', '프로', '폴리스', '세균', '바이러스', '억제', '작용', '플라보노이드', '함유', '영양제', '많이', '사용', '유기질', '무기질', '항산화', '작용', '기능', '도움', '칼슘', '빼놓다', '형성', '필요', '신경', '골다공증', '위험', '감소', '도움', '젊다', '칼슘', '챙기다', '마지막', '잇몸', '많이', '사용', '아보카도', '플레', '칼슘', '프로', '폴리스', '모두', '함유', '잇몸', '영양제', '프리미엄', '치아', '도움', '프로', '폴리스', '칼슘', '다량', '함유', '치아', '약하다', '도움', '어리다', '양치질', '본적', '염증', '생기다', '치아', '신경', '치아', '챙기다', '나중', '고생', '어리다', '고생', '아이', '어리다', '젊다', '등한시', '어리다', '신경', '나이', '잇몸', '약하다', '고기', '음식물', '씹다', '힘들다', '더러', '계시다', '결국', '건강', '치아', '필요', '관리', '얼마나', '서럽다', '평생', '지키다', '치아', '영양제', '도움', '힘들다', '오늘', '평생', '관리', '치아', '잇몸', '영양제', '프리미엄', '포스팅', '어리다', '관리', '특히나', '한시', '챙기다', '치아', '관리', '제대로', '포스팅', '업체', '제품', '수수료', '지원', '작성', '맛있다', '이야기', '목록', '열기', '잇몸', '영양제', '웰스', '영양제', '관리', '맛있다', '이야기', '잇몸', '영양제', '웰스', '영양제', '관리', '코로나', '걸리다', '화이자', '백신', '맞다', '주사', '맞다', '백신', '후유증', '잇몸', '통증', '심하다', '워낙', '치아', '자주', '통증', '느껴지다', '아프다', '잇몸', '통증', '심하다', '잇몸', '영양제', '문득', '잇몸', '관리', '네오', '웰스', '잇몸', '영양제', '데려오다', '프리미엄', '플러스', '잇몸', '영양제', '인기', '제품', '네오', '웰스', '영양제', '치아', '건강', '도움', '칼슘', '투입량', '함유', '생활', '활력', '칼슘', '프로', '폴리스', '비타민', '함께', '치아', '도움', '특히나', '비타민', '칼슘', '흡수', '돕다', '건강', '형성', '유지', '필요', '영양소', '상황', '실외', '활동량', '작다', '자연', '요인', '한국인', '비타민', '결핍', '상태', '세계', '하위', '수준', '따로', '섭취', '건강', '챙기다', '슬프다', '네오', '웰스', '프리미엄', '플러스', '가격', '비하다', '양도', '흔히', '건강', '칼슘', '필요', '칼슘', '함께', '섭취', '더욱', '비타민', '형성', '유지', '도움', '잇몸', '영양제', '네오', '웰스', '영양제', '관리', '중재', '생수', '화질', '선택', '옵션', '자동', '따로', '포장', '개별', '위생', '보관', '방법', '정물', '함께', '섭취', '영양제', '따로따로', '구분', '제품', '더러', '섭취', '번거로움', '편하다', '나이', '인플라', '잇몸', '건강', '요인', '치아', '관리', '소홀', '이해', '금방', '썩다', '치료', '상황', '털다', '영양제', '섭취', '건강', '관리', '나이', '들어서다', '건강', '상태', '유지', '프리미엄', '플러스', '잇몸', '붓다', '피나다', '건강관리', '필요', '부모', '선물', '플러스', '잇몸', '붓다', '피나다', '잇몸', '건강관리', '필요', '꾸준히', '복용', '나이', '잇몸', '치아', '잇몸', '잇몸', '영양제', '네오', '웰스', '영양', '제공', '블록', '카페', '메모', '보내다', '인쇄', '블록', '맛있다', '이야기', '카테고리', '전체', '이전', '치아', '교정', '넘다', '주기', '관리', '교정', '끝나다', '싫다', '치아', '잇몸', '관리', '특별히', '관리', '귀찮다', '알만', '치아', '잇몸', '관리', '잇몸', '영양제', '얼마', '챙기다', '시작', '프리미엄', '양치질', '관리', '가능', '얼마나', '부족', '영양소', '양치질', '잇몸', '관리', '부족', '잇몸', '영양제', '도움', '유나', '프리미엄', '선택', '국내', '잇몸', '영양제', '유일', '아보카도', '플레', '성분', '부원료', '아보카도', '플레', '성분', '처음', '국내외', '연구', '논문', '치주', '질환', '골관절염', '감소', '소염', '진통', '도움', '결과', '확인', '성분', '스테롤', '포함', '수많다', '영양', '성분', '함유', '평소', '잇몸', '약하', '자주', '영양제', '챙기다', '친정', '엄마', '선물', '항균', '항산화', '작용', '도움', '프로', '폴리스', '플라보노이드', '영양제', '잇몸', '쓰이다', '탄산칼슘', '함량', '함유', '부원료', '앞서', '이야기', '성분', '이외', '비타민', '비타민', '마그네슘', '망고', '피쉬', '콜라겐', '옥수수', '수염', '몰리브덴', '코엔', '자임', '섭취', '느낌', '일회', '섭취', '잊다', '챙기다', '아직', '섭취', '오래되다', '저렇다', '상황', '음식', '씹다', '양치질', '예전', '비하다', '불편', '덜하다', '기분', '기대', '치아', '잇몸', '건강', '얼마나', '그동안', '제대로', '관리', '잇몸', '건강', '필수', '성분', '모두', '담다', '잇몸', '영양제', '다행', '치아', '교정', '잇몸', '치료', '아픔', '너무나', '매일', '알로', '건강', '얼른', '양치', '모두', '영구치', '자라다', '회복', '치아', '맛있다', '많이', '선택', '필수', '건강', '사랑', '부모', '선물', '아내', '선물', '남편', '선물', '오래오래', '맛있다', '식사', '함께', '선물', '추천', '건강', '선물', '품격', '건강', '선물', '최근', '치아', '고민', '지인', '추천', '제품', '새롭다', '패키지', '디자인', '리뉴얼', '출시', '잇몸', '영양제', '영양제', '이탈', '트리', '사디', '플러스', '프리미엄', '장수', '시대', '좌우', '필수', '조건', '건강', '시작', '부모', '건강', '가격', '그대로', '성분', '플러스', '프리미엄', '업그레이드', '인사', '플러스', '프리미엄', '잇몸', '영양제', '영양제', '치아', '형성', '필요', '칼슘', '주성분', '프로', '폴리스', '옥수수', '추출', '분말', '콜라겐', '소자', '식물', '스테롤', '스테롤', '부원료', '배합', '건강', '도움', '건강', '기능', '식품', '이탈', '트리', '사디', '플러스', '프리미엄', '제품', '설명', '생산', '공정', '관리', '미국', '생산', '잇몸', '영양제', '영양제', '정총', '진공', '개별', '포장', '인사', '플러스', '프리미엄', '휴대', '편리', '포장', '챙기다', '언제', '섭취', '위생', '관리', '개별', '포장', '위생', '습기', '차단', '산화', '방지', '보호', '기능', '휴대', '개별', '진공', '휴대', '편리', '품질', '유지', '공정', '생산', '가능', '잇몸', '영양제', '영양제', '가격', '그대로', '성분', '플러스', '이탈', '트리', '재생', '화질', '선택', '옵션', '자동', '잇몸', '영양제', '영양제', '가격', '그대로', '성분', '플러스', '이탈', '트리', '필요', '영양소', '담다', '플라보노이드', '치아', '형성', '필요', '영양소', '함량', '탄산칼슘', '프로포', '리스', '옥수수', '수염', '추출', '분말', '콜라겐', '식물', '스테롤', '소자', '꿀벌', '자연', '선물', '항산화', '도움', '프로', '폴리스', '함유', '일회', '회정', '함께', '섭취', '사디', '플러스', '프리미엄', '잇몸', '영양제', '영양제', '추천', '치아', '부모', '귀하다', '고급', '선물', '치아', '붓다', '아프다', '불편', '관리', '필요', '신경', '근육', '기능', '유지', '관리', '필요', '항산화', '작용', '필요', '현대인', '치아', '붓다', '아프다', '불편', '관리', '필요', '치아', '건강', '필요', '노년기', '중장년', '골격', '형성', '필요', '성장기', '청소년', '치아', '건강', '걱정', '임산부', '수유부', '건강', '증진', '관리', '원하다', '분유', '제품', '채소', '칼슘', '함유', '식품', '섭취', '부족', '신경', '근육', '기능', '유지', '필요', '현대인', '이벤트', '박스', '구매', '메디안', '잇몸', '과학', '치약', '증정', '요인', '사디', '플러스', '프로', '폴리스', '영양제', '박스', '구매', '잇몸', '과학', '치약', '드림', '건강', '사디', '플러스', '프로', '폴리스', '영양제', '박스', '구매', '잇몸', '과학', '치약', '드림', '맛있다', '음식', '행복', '행복', '으뜸', '부모', '연세', '치아', '차갑다', '자극', '음식', '안타깝다', '속상하다', '건강', '미리', '미리', '지키다', '관리', '진리', '오래오래', '뜯다', '즐기다', '행복', '잇몸', '영양제', '프리미엄', '챙기다', '시작', '경고', '대수롭다', '미리미리', '챙기다', '큰일', '뻔하다', '경험', '털다', '친하다', '이웃', '건강', '진심', '다하다', '영양제', '따지다', '챙기다', '쓰이다', '자세히', '들여다보다', '은근', '건강', '기능', '식품', '인증', '마크', '제품', '요건', '기타', '가공품', '기능', '안정', '인정받다', '제품', '믿다', '안심', '선택', '성분', '제품', '이것저것', '성분', '많이', '담다', '장량', '턱없이', '따로', '챙겨주다', '제품', '필수', '필요', '영양소', '따로', '챙겨주다', '제품', '요건', '요건', '치아', '잇몸', '건강', '도움', '기능', '원료', '원료', '프리미엄', '담다', '제품', '프로', '폴리스', '칼슘', '아보카도', '플레', '스리', '옥수수', '수염', '부원료', '함께', '챙기다', '유일한', '제품', '아보카도', '플레', '아보카도', '플레', '성분', '국내외', '연구', '논문', '골관절염', '치주', '질환', '감소', '소염', '진통', '도움', '결과', '확인', '성분', '아보카도', '플레', '성분', '스테롤', '수많다', '영양', '성분', '모두', '함유', '유명', '잇몸', '성분', '개인', '먼저', '관심', '국내', '잇몸', '영양제', '유일', '독점', '함유', '국내', '유일', '국내', '독점', '아보카도', '플레', '성분', '함유', '함량', '따지다', '함량', '충분히', '담다', '프로', '폴리스', '탄산칼슘', '함량', '함유', '프리미엄', '충분히', '챙기다', '섭취', '시정', '섭취', '박스', '박스', '챙기다', '잇몸', '영양제', '포장', '아무래도', '꺼내다', '우르르', '쏟아지다', '닿다', '요렇게', '낱개', '포장', '하나하나', '공기', '접촉', '적다', '닿다', '위생', '사이즈', '넘기다', '불편', '챙기다', '저녁', '챙기다', '꾸준히', '챙기다', '다함께', '사은품', '약통', '사용', '낱개', '포장', '약통', '필요', '자르다', '회사', '챙기다', '할인', '행사', '구매', '사은품', '증정', '천예', '함께', '고체', '치약', '사은품', '증정', '액체', '성분', '비하다', '고체', '성분', '성분', '착하다', '많이', '비누', '사용', '치약', '사용', '넘다', '마시다', '행복', '오래오래', '누리다', '프리미엄', '잇몸', '영양제', '꾸준히', '챙기다', '작년', '약국', '판매', '일반', '의약품', '잇몸', '영양제', '압도', '순위', '전체', '순위', '감기', '일반', '영양제', '이어서', '잇몸', '기능', '잇몸', '영양제', '오르다', '문제', '환자', '잇몸', '영양제', '잇몸', '욱신거리다', '치주', '질환', '증상', '일시', '완화', '나아가다', '치료', '치주', '질환', '일시', '효과', '실질', '아프다', '원인', '해결', '통증', '방문', '검진', '본인', '치료', '잇몸', '영양제', '의지', '별다르다', '치료', '치주', '질환', '치조', '소실', '치아', '발치', '의료인', '입장', '아프다', '질환', '불러오다', '주되다', '요인', '잇몸', '치석', '스케일링', '대중화', '치조', '위치', '일반', '스케일링', '불가', '잇몸', '치료', '염증', '치석', '제거', '치주', '질환', '근본', '치료', '가능', '보통', '병원', '잇몸', '치석', '제거', '절개', '직접', '긁어내다', '봉합', '과정', '거치다', '환자', '통증', '부작용', '걱정', '많이', '치료', '아프다', '일반', '마취', '컴퓨터', '무통', '마취', '사용', '나아가다', '치료', '별도', '절개', '봉합', '레이저', '활용', '치석', '염증', '제거', '치석', '이외', '악물다', '습관', '부정', '교합', '갈이', '양치', '사라지다', '잇몸', '손상', '마냥', '잇몸', '영양제', '마시다', '내원', '정밀', '검진', '보시기', '바라다', '의원', '오해', '건강', '보조제', '잇몸', '영양제', '챙기다', '잇몸', '잇몸', '영양제', '딱히', '주기', '검진', '비타민', '건강', '보조제', '챙기다', '무강', '무병', '장수', '질환', '발생', '근본', '원인', '파악', '전문', '병원', '주기', '검사', '건강', '영위', '잇몸', '도매', '잇몸', '붓다', '시리다', '아프다', '잇몸', '영양제', '직관', '처방', '내원', '이유', '인지', '제대로', '확인', '맞다', '치료', '권장', '내원', '환자', '기억', '남다', '환자', '본인', '잇몸', '영양제', '챙기다', '양치질', '열심히', '잇몸', '잇몸', '내려앉다', '상태', '많이', '내원', '병원', '구비', '첨단', '촬영기', '구강', '스캐너', '근접', '영등', '확인', '결과', '잘못', '양치질', '잇몸', '치석', '가득', '잇몸', '녹이다', '치주', '굉장히', '약하다', '상황', '환자', '통증', '치료', '두려워하다', '의원', '무통', '마취', '물방울', '레이저', '사용', '출혈', '치료', '선보이다', '환자', '안심', '보통', '잇몸', '파고들다', '치석', '절개', '치석', '제거', '봉합', '과정', '출혈', '통증', '피하다', '레이저', '치아', '잇몸', '사이', '주사', '잇몸', '메스', '대지', '치료', '마무리', '놀라다', '흡족', '병원', '발치', '권유', '상심', '병원', '내원', '많이', '병원', '무통', '마취', '마취', '발생', '통증', '절감', '램프', '치료', '환자', '발치', '상황', '놓이다', '근본', '원인', '해결책', '제시', '하나하나', '원인', '제거', '치료', '돕다', '앓다', '덜다', '환자', '수술', '앞두다', '잇몸', '강하다', '잇몸', '영양제', '꾸준히', '여전히', '잇몸', '붓다', '수술', '어렵다', '앓다', '계시다', '근본', '치료', '질환', '발생', '건강', '잇몸', '잇몸', '영양제', '아무리', '잇몸', '멎다', '내원', '치료법', '검진', '해답', '찾아보다', '오늘', '소개', '제품', '필요', '잇몸', '영양제', '잇몸', '유전', '영향', '계시다', '어리다', '양치', '여하튼', '어리다', '치아', '잇몸', '붓다', '영양제', '건강', '잇몸', '바이오', '리얼', '중학교', '신경', '치료', '신경', '치료', '포함', '흔히', '떼다', '개정', '요크', '양치', '중요', '잇몸', '치아', '중요', '칫솔', '칫솔', '워터', '모두', '사용', '전부', '양치', '걸리다', '놀라다', '오래되다', '크라운', '치료', '얼마', '뜨겁다', '시리다', '뜨겁다', '시리다', '원래', '거리', '자꾸', '미루다', '연차', '거리', '여하튼', '알아보다', '잇몸', '영양제', '잇몸', '붓다', '영양제', '건강', '잇몸', '바이오', '리얼', '편하다', '잇몸', '건강', '챙기다', '기대', '아무리', '양치질', '상한', '잇몸', '돌아오다', '힘들다', '영양제', '도움', '잇몸', '붓다', '영양제', '건강', '잇몸', '바이오', '리얼', '잇몸', '영양제', '치아', '형성', '필요', '칼슘', '항산화', '도움', '프로', '폴리스', '비타민', '비타민', '골고루', '부모님', '출산', '얼마', '선물', '비타민', '햇빛', '필수', '비타민', '비타민', '챙기다', '사무실', '비타민', '부족', '비타민', '챙기다', '잇몸', '건강', '챙기다', '게다가', '편하다', '잇몸', '약과', '함께', '버릇', '잇몸', '붓다', '영양제', '건강', '잇몸', '바이오', '리얼', '유효', '기간', '엄청', '길다', '매일', '챙기다', '달이다', '구매', '세일', '도움', '찾아보다', '미국', '수입', '가끔', '수입', '시기', '맞다', '품절', '구매', '미리', '걱정', '잇몸', '붓다', '영양제', '건강', '잇몸', '바이오', '리얼', '일찍', '설날', '부모', '선물', '생신', '엄마', '아빠', '잇몸', '붓다', '양제', '건강', '잇몸', '바이오', '리얼', '개별', '포장', '원래', '영양제', '소분', '아침', '아침', '챙기다', '개별', '포장', '잇몸', '붓다', '영양제', '건강', '잇몸', '바이오', '리얼', '입다', '약통', '서비스', '세상', '함께', '잇몸', '붓다', '영양제', '건강', '잇몸', '바이오', '리얼', '다음날', '회사', '약통', '요약', '기존', '멀티', '비타민', '리얼', '케어', '개별', '포장', '굳이', '새로', '기념', '챙기다', '요리', '케어', '재생', '화질', '선택', '옵션', '자동', '접다', '펴다', '리얼', '칼슘', '건강', '잇몸', '잇몸', '붓다', '영양제', '건강', '잇몸', '바이오', '리얼', '다음날', '약통', '덕분', '비타민', '챙기다', '잇몸', '붓다', '영양제', '건강', '잇몸', '바이오', '리얼', '리얼', '케어', '비타민', '따로', '챙기다', '그만', '제한', '점심', '챙기다', '잇몸', '붓다', '영양제', '건강', '잇몸', '바이오', '리얼', '아직', '얼마', '후기', '결과', '효과', '꾸준히', '잊다', '달분이', '추가', '구매', '추가', '할인', '판매', '이벤트', '요구', '의향', '구매', '관심', '방문', '치아', '영양제', '건강', '추가', '구성', '잇몸', '치약', '바이오', '리얼', '치아', '영양제', '건강', '추가', '구성', '잇몸', '치약', '잇몸', '붓다', '영양제', '건강', '잇몸', '바이오', '리얼', '잇몸', '관리', '아프다', '빨리', '치료', '잇몸', '영양제', '잇몸', '붓다', '잇몸', '내리다', '부모', '선물', '산모', '선물', '비타민', '멀티', '비타민', '약통', '챙기다', '건강', '챙기다', '치아', '영양제', '잇몸', '많이', '잇몸', '치료', '치료', '건강', '부럽다', '잇몸', '치아', '약하다', '잇몸', '영양제', '부지런히', '챙기다', '에센셜', '칼슘', '치아', '함유', '건강', '유지', '칼슘', '칼슘', '흡수', '낮다', '비타민', '비타민', '도움', '필요', '잇몸', '잇몸', '영양제', '고르다', '챙기다', '잇몸', '영양제', '에센셜', '물다', '챙기다', '다르다', '꼬박꼬박', '챙기다', '캡슐', '섭취', '분량', '처음', '아침', '저녁', '캡슐', '귀찮다', '캡슐', '캡슐', '에센셜', '형성', '필요', '칼슘', '칼슘', '흡수', '필요', '비타민', '결합', '조직', '형성', '필요', '비타민', '섭취', '잇몸', '영양제', '강추', '잇몸', '영양제', '에센셜', '건강', '칼슘', '비타민', '비타민', '배합', '주원료', '영국', '비타민', '스위스', '비타민', '아일랜드', '칼슘', '유럽', '주원료', '사용', '흡수', '뛰어나다', '식물', '해조', '칼슘', '사용', '비타민', '칼슘', '흡수', '도움', '비타민', '함께', '잇몸', '영양제', '독특', '에센셜', '개봉', '만족', '전액', '환불', '보장', '부담', '잇몸', '영양제', '선물', '꾸준히', '넘다', '괜찮다', '약하다', '부모', '건강', '관심', '신경', '임신', '출산', '치아', '선물', '칼슘', '흡수', '낮아지다', '시기', '갱년기', '여성', '강추', '고요', '남편', '함께', '캡슐', '잇몸', '영양제', '재생', '화질', '선택', '옵션', '자동', '접다', '펴다', '잇몸', '영양제', '매일', '잇몸', '잇몸', '영양제', '꾸준히', '섭취', '잇몸', '약하다', '부부', '에센셜', '열심히', '도움', '추천', '이쁘다', '지영이', '그동안', '바쁘다', '거짓', '블록', '틈틈히', '블록', '포스팅', '열심히', '실제', '후기', '알차다', '정보', '많이', '알려드리다', '잇몸', '영양제', '스테롤', '건강', '양치질', '도움', '알아보다', '잇몸', '영양제', '스테롤', '서양', '불리다', '영양제', '잇몸', '도움', '성분', '스테롤', '인사', '돌이', '함유', '영양제', '많이', '계시다', '아침', '저녁', '챙기다', '잇몸', '영양제', '부담', '잇몸', '영양제', '스테롤', '직구', '아이', '허브', '구하다', '꾸준히', '모두', '건강', '잇몸', '잇몸', '영양제', '에센셜', '평소', '잇몸', '자주', '아프다', '붓다', '시리다', '느낌', '많이', '유독', '심하다', '이빨', '닦다', '잇몸', '증상', '나타나다', '이빨', '썩다', '이빨', '썩다', '잇몸', '건강', '상황', '생기다', '많이', '계시다', '잇몸', '건강', '건강', '말씀', '썩다', '세균', '구강', '건강', '알아두다', '잇몸', '잇몸', '영양제', '주기', '챙기다', '도움', '복합', '기능', '식물', '칼슘', '함유', '부원료', '제작', '에센셜', '챙기다', '잇몸', '약재', '생수', '화질', '선택', '옵션', '자동', '접다', '펴다', '잇몸', '형성', '필요', '칼슘', '칼슘', '흡수', '이용', '도움', '비타민', '필요', '결합', '조직', '형성', '기능', '유지', '필요', '비타민', '프로', '폴리스', '추출물', '분말', '유산균', '혼합', '분말', '옥수수', '추출', '농축액', '분말', '자일리톨', '녹차', '추출', '농축액', '분말', '부원료', '함유', '잇몸', '건강', '도움', '마찬가지', '칼슘', '의하다', '석회', '음식', '씹다', '치아', '불편', '신경', '치료', '잇몸', '치료', '치료', '건강', '되찾다', '미리', '예방', '주기', '로데', '에센셜', '잇몸', '영양제', '챙기다', '도움', '잇몸', '이것저것', '오늘', '세요', '나이', '이빨', '한없이', '시리다', '증상', '나타나다', '필요', '칼슘', '흡수', '낮아지다', '갱년기', '여성', '건강', '식생활', '원하다', '결합', '조직', '형성', '기능', '유지', '도움', '필요', '잊다', '마시다', '에센셜', '잇몸', '원하다', '하단', '링크', '클릭', '주세', '오덴', '에센셜', '일맥', '치아', '잇몸', '건강', '칼슘', '비타민', '비타민', '복합', '건강', '기능', '식품', '잇몸', '붓다', '얼마나', '불편', '피곤', '잇몸', '내리다', '붓다', '피로감', '쌓이다', '그만큼', '잇몸', '상태', '증상', '나타나다', '심하다', '두통', '이어지다', '평소', '관리', '얼마나', '깨닫다', '이후', '잇몸', '내리다', '잇몸', '붓다', '조치', '관리', '잇몸', '영양제', '추천', '건강', '기능', '식품', '챙기다', '잇몸', '영양제', '추천', '많이', '얘기', '잇몸', '영양제', '추천', '선택', '제품', '씹다', '어브', '캡슐', '구강', '건강', '챙기다', '신체', '건강', '챙기다', '복합', '성분', '이루어지다', '요구', '항균', '항산화', '프로', '폴리스', '함께', '밀크', '슬다', '비타민', '비타민', '비타민', '비타민', '비타민', '비타민', '엽산', '기능', '성분', '함유', '프로', '폴리스', '추출물', '섭취', '장량', '기준', '최대', '함량', '나타내다', '영양', '성분', '함유', '구강', '관리', '함께', '면역', '기능', '대사', '작용', '케어', '가능', '바쁘다', '현대인', '섭취', '제품', '담아내다', '이산화규소', '아리다', '마그네슘', '프로필', '메틸', '오스카르', '복시', '메틸셀룰로스', '첨가물', '원료', '부원료', '자일리톨', '칼슘', '종이', '함유', '섭취', '방법', '캡슐', '어브', '캡슐', '씹다', '캡슐', '타입', '그대로', '함께', '섭취', '방법', '프로', '폴리스', '특유', '싫다', '함께', '삼키다', '민트', '괜찮다', '깨물다', '씹다', '캡슐', '씹다', '터지다', '입안', '씹다', '구강', '직접', '작용', '삼키다', '터트리다', '씹다', '권장', '씹다', '건물', '섭취', '섭취', '편하다', '요한', '캡슐', '캡슐', '기준', '섭취', '제품', '건강', '기능', '식품', '전문', '미국', '제조사', '특허', '보유', '최신', '첨단', '기술', '국내', '제조사', '협력', '만들어지다', '미국', '생산', '완료', '제품', '직수입', '전국', '병원', '의원', '제휴', '판매', '제품', '의사', '연구', '개발', '참여', '잇몸', '내리다', '잇몸', '붓다', '불편', '영양제', '챙기다', '보세', '요구', '관리', '복합', '영양', '성분', '충족', '프리미엄', '더블', '잇몸', '영양제', '추천', '더블', '밀크', '비타민', '프로', '폴리스', '면역', '멀티', '비타민', '슐레', '더블', '더블', '유구', '잇몸', '신체', '면역', '기능', '방법', '프로', '플러스', '항산화', '프로', '폴리스', '잇몸', '영양제', '잇몸', '영양제', '활용', '프로', '취급', '소개', '정확히', '프로', '플러스', '메디', '바이오', '품이', '고요', '일반', '프로', '프로', '플러스', '차이', '사실상', '프로', '인터넷', '약국', '모두', '판매', '프로', '플러스', '약국', '전용', '성분', '구성', '효능', '차이', '갖다', '시중', '제품', '잇몸', '영양제', '표기', '유일한', '제품군', '속하다', '주요', '효과', '나타내다', '성분', '프로', '폴리스', '망고스틴', '추출', '분말', '프로', '폴리스', '스틴', '분말', '모두', '과거', '염증', '가라앉히다', '목적', '활용', '성분', '잇몸', '염증', '성분', '활용', '실험', '다수', '발견', '복용', '캡슐', '정제', '뿌리다', '스프레이', '바르다', '타입', '활용', '성분', '프로', '폴리스', '치료', '메타', '분석', '위약', '비교', '치주', '깊이', '개선', '나타나다', '망고스틴', '타입', '국소', '부위', '적용', '환자', '매개', '변수', '유의미', '개선', '프로', '플러스', '잇몸', '염증', '개선', '효과', '체외', '연구', '성분', '비율', '혼합물', '적용', '결과', '염증', '매개', '물질', '유의미', '감소', '프로', '폴리스', '추출', '분말', '스틴', '추출', '분말', '동시', '인간', '조골세포', '유형', '세포', '적용', '결과', '형성', '촉진', '작용', '나타내다', '그동안', '임상', '시험', '새롭다', '저널', '게재', '연세대', '경희대', '서울대', '보훈병원', '협력', '임상', '시험', '치은염', '또는', '초기', '진단', '명세', '환자', '주간', '무작위', '실험', '결과', '연구진', '망고스틴', '프로', '폴리스', '혼합물', '임상', '역학', '잇몸', '염증', '파생', '결과', '긍정', '작용', '결론', '내리다', '망고스틴', '또는', '프로', '폴리스', '단독', '사용', '혼합물', '나타나다', '효과', '아직', '추가', '연구', '필요', '잇몸', '영양제', '활용', '최소한', '근거', '제품', '잇몸', '영양제', '문구', '기존', '최근', '생기다', '망고스틴', '프로', '폴리스', '이외', '칼슘', '칼슘', '건조', '효모', '비타민', '셀레', '주원료', '부원료', '형태', '함유', '프로', '플러스', '제조', '공법', '효과', '성분', '함께', '성분', '효율', '흡수', '전달', '제조', '공법', '프로', '플러스', '정제', '형태', '제품', '용성', '물질', '리포좀', '기술', '적용', '특징', '용성', '물질', '생체', '이용', '높다', '도움', '이외', '구순', '분리', '정제', '유효', '물질', '방출', '조절', '기술', '활용', '수원', '매실', '봉담', '안산', '안양', '박스', '정정', '식사', '관계없이', '복용', '프로', '폴리스', '함유', '성분', '알러지', '알러지', '반응', '나타나다', '주의', '바라다', '제품', '포스팅', '마치다', '구입', '복용', '참고', '바라다', '연락처', '태광', '프라자', '약국', '경기도', '수원시', '권선구', '고색', '태광', '프라자', '약국', '치아', '관리', '잇몸', '영양제', '건강', '관리', '양치질', '가글', '사용', '계시다', '제대로', '지키다', '포함', '잇몸', '건강관리', '나이', '들어서다', '맛있다', '음식', '역시', '마찬가지', '나이', '근육', '관리', '멸치', '음식', '섭취', '오늘', '건강', '프리미엄', '소개', '잇몸', '영양제', '꾸준히', '관리', '도움', '기식', '프로', '폴리스', '추출물', '칼슘', '함유', '치아', '잇몸', '건강', '프로', '폴리스', '칼륨', '아보카도', '플레', '옥수수', '수염', '원료', '함유', '제품', '기타', '가공품', '인증', '건강', '기능', '식품', '프로', '폴리스', '탄산칼슘', '함량', '함유', '국내', '유일', '국내', '독점', '보카', '프레', '성분', '함량', '함유', '잇몸', '영양제', '함유', '아보카도', '플레', '계시다', '유명', '잇몸', '성분', '불검', '추출물', '보카', '플레', '성분', '국내', '영양제', '유일', '독점', '함유', '카드', '플레', '성분', '스테롤', '수많다', '영양', '성분', '모두', '함유', '국내외', '연구', '논문', '골관절염', '치주', '질환', '감소', '소염', '진통', '도움', '결과', '확인', '잇몸', '영양제', '프로', '폴리스', '폴라', '보노', '함유', '세균', '바이러스', '억제', '작용', '항균', '항산화', '작용', '기능', '역시', '함유', '영양제', '잇몸', '성분', '아보카도', '플레', '프로', '폴리스', '칼슘', '모두', '함유', '영양제', '유일', '치아', '잇몸', '건강', '도움', '기능', '원료', '함유', '잇몸', '영양제', '챙기다', '챙기다', '기식이', '치아', '잇몸', '건강', '걱정', '이대', '신경', '계시다', '부모', '걱정', '가정', '선물', '괜찮다', '최근', '지인', '가족', '선물', '건강', '제품', '위주', '이대', '부모', '연세', '건강', '도움', '기식', '좋아하다', '한번', '회정', '챙기다', '멀티', '비타민', '제품', '꾸준히', '챙기다', '이후', '라면', '건강', '신경', '꾸준히', '섭취', '도움', '건강', '어른', '꾸준히', '챙기다', '영양', '칼슘', '아보카도', '플레', '함량', '함유', '건강', '준비', '까먹다', '캡슐', '요약', '가방', '챙기다', '관리', '세요', '아마', '이대', '조금씩', '건강', '걱정', '맛있다', '음식', '잇몸', '영양제', '챙기다', '꾸준히', '관리', '업체', '제품', '원고료', '제공받다', '작성', '친정', '아버지', '예전', '말썽', '생기다', '새로', '많이', '상하다', '씹다', '많이', '힘들다', '베리', '친정', '아버지', '치아', '영양제', '고심', '복용', '인사', '프리미엄', '추천', '이탈', '트리', '사디', '플러스', '프리미엄', '가격', '그대로', '성분', '플러스', '프리미엄', '업그레이드', '인사', '플러스', '프리미엄', '시대', '필요', '치아', '연하다', '건강', '건강', '떨어지다', '이처럼', '건강', '살아가다', '굉장히', '차지', '부인', '시대', '보편', '수명', '점차', '늘다', '시대', '건강', '행복', '맛있다', '음식', '좋아하다', '음식', '마음껏', '즐기다', '가끔', '소홀', '치아', '잊다', '중히', '관리', '건강', '인사', '플러스', '위생', '복용', '인사', '플러스', '프리미엄', '진공', '개별', '포장', '위생', '섭취', '인사', '플러스', '진공', '개별', '포장', '습기', '차단', '뛰어나다', '산화', '방지', '위생', '마지막', '복용', '치아', '건강', '성분', '가득', '인사', '플러스', '프리미엄', '활성', '산소', '억제', '자연', '항균제', '프로', '폴리스', '치아', '형성', '필요', '성분', '탄산칼슘', '플라보노이드', '옥수수', '추출', '분말', '건강', '도움', '성분', '가득', '미국', '생산', '건강', '기능', '식품', '설립', '미국', '건강', '기능', '식품', '전문', '제조', '회사', '건강', '기능', '식품', '믿다', '선물', '인사', '플러스', '프리미엄', '친정', '아버지', '선물', '베리', '친정', '아버지', '건강', '선물', '건강', '증진', '칼슘', '섭취', '치아', '붓다', '아프다', '불편', '치아', '건강', '유지', '필요', '노년기', '장년층', '골격', '형성', '필요', '성장기', '청소년', '치아', '건강', '걱정', '임산부', '수유부', '잦다', '등산', '무리', '매니아', '사디', '플러스', '프리미엄', '사랑', '부모', '활력', '필요', '건강', '필요', '건강', '선물', '요인', '사디', '플러스', '프리미엄', '잇몸', '약하다', '염증', '예방', '치아', '잇몸', '영양제', '건강', '사디', '플러스', '프리미엄', '잇몸', '약하다', '염증', '예방', '치아', '잇몸', '영양제', '잇몸', '영양제', '사디', '플러스', '프리미엄', '선물', '프로', '폴리스', '영양제', '아직', '잇몸', '붓다', '이유', '매일', '양치', '습관', '잇몸', '관리', '제대로', '나이', '다양', '치질', '꾸준히', '부지런히', '잇몸', '붓다', '구취', '신경', '쓰이다', '종종', '잇몸', '관리', '쉽다', '점점', '깨닫다', '처음', '가볍다', '통증', '사이', '자연스레', '치료', '질환', '반복', '어느덧', '잇몸', '도나', '통증', '치료', '쉽다', '일상', '잇몸', '건강', '잇몸', '영양제', '스테롤', '재생', '화질', '선택', '옵션', '자동', '접다', '펴다', '식물', '스테롤', '에스터', '에스터', '형태', '스테롤', '스테롤', '스틱', '스테롤', '혼합', '출처', '스테롤', '식물', '스테롤', '작성자', '일상', '살아가다', '바쁘다', '자연스레', '영양제', '영양제', '치료제', '맹신', '제발', '영양제', '근본', '치료', '의사', '진료', '의사', '잇몸', '내리다', '관리', '늦다', '치료', '열심히', '잇몸', '영양제', '도움', '잇몸', '건강', '치아', '건강', '못지않다', '잇몸', '역할', '치아', '감싸다', '잇몸', '건강', '치아', '감싸다', '치아', '제대로', '역할', '포스팅', '목적', '잇몸', '영양제', '소개', '리뷰', '작성', '생기다', '잇몸', '붓다', '이유', '검색', '잇몸', '붓다', '이유', '피로', '쌓이다', '컨디션', '떨어지다', '바쁘다', '늦다', '퇴근', '이유', '현대인', '피곤', '피로', '피곤', '면역력', '떨어지다', '감기', '걸리다', '잇몸', '질환', '잘생기다', '수면', '부족', '바쁘다', '피로', '쌓이다', '피로', '수면', '피로', '피곤', '해결', '잇몸', '질환', '도움', '수면', '부족', '면역력', '떨어지다', '잇몸', '질환', '문제', '야기', '음식', '씹다', '잇몸', '자극', '음식', '근자', '씹다', '어금니', '씹다', '조각나다', '음식', '잇몸', '긁히다', '자극', '천천히', '어른', '틀림', '듣다', '싫다', '세균', '의하다', '입안', '음식물', '찌꺼기', '남다', '세균', '번식', '사이', '음식물', '잔존', '잇몸', '음식물', '끼다', '음식물', '처리', '잇몸', '건강', '피로', '관리', '수면', '높이다', '천천히', '음식', '씹다', '노력', '필요', '치석', '제거', '관리', '정기', '스케일링', '또는', '칫솔', '잔존', '음식물', '제거', '노력', '필요', '입안', '건조', '영양소', '부족', '잇몸', '붓다', '입안', '건조', '자주', '마시다', '묻다', '마시다', '가글', '노력', '잇몸', '질환', '예방', '방법', '잇몸', '증상', '그대로', '잇몸', '내리다', '단계', '잇몸', '질환', '관리', '스테롤', '성분', '많이', '영양제', '너무나', '인사', '성분', '스테롤', '처음', '이유', '잇몸', '자주', '붓다', '치료', '잇몸', '관리', '필요', '영양제', '관심', '갖다', '여기저기', '검색', '돌이', '나이', '국산', '잇몸', '질환', '영양제', '사먹다', '우연히', '스테롤', '네이버', '검색', '블록', '읽다', '영양제', '스테롤', '잇몸', '건강', '도움', '대표', '영양제', '염증', '개선', '전립선', '건강', '자궁', '경부', '예방', '탈모', '예방', '심혈관', '질환', '효능', '널리', '알리다', '오늘', '스테롤', '소개', '스테롤', '식물', '널리', '분포', '식물', '스테롤', '프로', '비타민', '일종', '잇몸', '건강', '영양소', '제품', '인사', '주성분', '알리다', '혈관', '건강', '도와주다', '혈액', '공급', '원활', '도와주다', '콜레스테롤', '흡수', '억제', '나쁘다', '콜레스테롤', '수치', '낮추다', '도움', '처음', '잇몸', '붓다', '스테롤', '잇몸', '질환', '예방', '남자', '필요', '영양제', '전립선', '건강', '남성', '탈모', '예방', '도움', '필수', '영양제', '스테롤', '자궁', '경부', '예방', '여성', '영양제', '염증', '수치', '낮추다', '염증', '개선', '나쁘다', '콜레스테롤', '흡수', '억제', '심혈관', '질환', '도움', '잇몸', '영양제', '제품', '브랜드', '고민', '역시', '네이버', '검색', '블록', '읽다', '체크', '아이', '허브', '사이트', '체크', '제품', '습득', '바탕', '아래', '제품', '선정', '아래', '제품', '고르다', '이유', '스테롤', '함량', '함량', '기준', '선정', '가격', '영양제', '그만큼', '가격', '비싸다', '사라', '많이', '이유', '믿음', '선정', '스테롤', '베다', '캡슐', '스테롤', '베다', '캡슐', '가격', '스테롤', '스틱', '스테롤', '스테롤', '보충', '건강', '성인', '아침', '식사', '함께', '복용', '자격', '갖추다', '의료', '전문가', '지시', '복용', '스테롤', '식물', '스테롤', '소프트', '스테롤', '식물', '스테롤', '소프트', '가격', '개개', '식물', '스테롤', '에스터', '스테롤', '스테롤', '스틱', '스테롤', '함유', '복용법', '매일', '소프트', '음식', '함께', '섭취', '스테롤', '스테롤', '가격', '스테롤', '스테롤', '스틱', '스테롤', '복용', '지방', '식사', '함께', '또는', '식사', '직전', '복용', '그런데', '도대체', '스테롤', '얼마큼', '거지', '베티', '스테롤', '함께', '스테롤', '스틱', '스테롤', '멀다', '점점', '머리', '아프다', '스테롤', '공통', '스테롤', '스테롤', '식물', '추출', '기름', '성분', '식물', '세포막', '세포벽', '사이', '분포', '식물', '스테롤', '고부', '대표', '성분', '스테롤', '스테롤', '스틱', '스테롤', '스테롤', '동물', '스테롤', '콜레스테롤', '식물', '스테롤', '스테롤', '스틱', '스테롤', '콜레스테롤', '세포막', '유지', '알리다', '식물', '스테롤', '마찬가지', '이제야', '스테롤', '인지', '영양제', '고르다', '얼핏', '스테롤', '스테롤', '스틱', '스테롤', '고르다', '맞다', '메가', '스트', '스테롤', '블록', '추천', '제품', '함량', '스테롤', '스테롤', '스테롤', '스테롤', '스틱', '스테롤', '함량', '나우', '푸드', '스테롤', '푸드', '스테롤', '함량', '메가', '스트', '스테롤', '함량', '밴스', '피지', '포뮬러', '스테롤', '함량', '나우', '푸드', '스테롤', '성분', '나우', '푸드', '메가', '스트', '밴스', '피지', '포뮬러', '나우', '푸드', '스테롤', '식물', '스테롤', '함량', '다이', '조사', '스테롤', '다르다', '스테롤', '비율', '보조제', '차이', '조사', '그만두다', '맞다', '영양제', '고르다', '맞다', '살펴보다', '도움', '판단', '구매', '방식', '영양제', '나우', '푸드', '스테롤', '식물', '스테롤', '소프트', '처음', '주문', '영양제', '처음', '개다', '주문', '주문', '개원', '주문', '오랫동안', '도움', '영양제', '잇몸', '붓다', '느낌', '복용법', '잇몸', '붓다', '괜찮다', '잇몸', '붓다', '이유', '나이', '잇몸', '노화', '음식', '씹다', '시리다', '아프다', '잇몸', '많이', '내려앉다', '잇몸', '관리', '스테롤', '영양제', '도움', '관리', '부작용', '주의', '체질', '매스껍다', '소화불량', '장내', '가스', '설사', '변비', '증상', '나타나다', '드물다', '발기', '부전', '나타나다', '임산부', '수유부', '가급적', '섭취', '잇몸', '내리다', '증상', '서두르다', '잇몸', '관리', '잇몸', '붓다', '이유', '영양제', '고민', '빨리', '관리', '함량', '스테롤', '잇몸', '건강', '도움', '잇몸', '영양제', '스테롤', '스틱', '스테롤', '스테롤', '잇몸', '붓다', '이유', '잇몸', '영양제', '잇몸', '건강', '잇몸', '내리다', '나이', '잇몸', '아프다', '엄마', '잇몸', '잇몸', '영양제', '약국', '잇몸', '단말', '의문', '시작', '남포동', '약국', '사고', '가격', '비싸다', '세다', '어브', '정작', '박스', '정의', '프로', '폴리스', '추출물', '칼슘', '함유', '건강', '포뮬러', '박스', '개봉', '정리', '잇몸', '영양', '확인', '잇몸', '영양제', '설명서', '박스', '함께', '동봉', '확인', '설명서', '우리나라', '사라', '읽다', '아보카도', '플레', '상분이', '유명', '잇몸', '성분', '다이아', '보카', '아보카도', '플레', '성분', '국내', '영양제', '유일', '독점', '함유', '아보카도', '플레', '성분', '스테롤', '수많다', '영양', '성분', '모두', '함유', '국내외', '연구', '논문', '밝혀지다', '골관절염', '치주', '질환', '감소', '소염', '진통', '도움', '결과', '확인', '잇몸', '영양제', '재생', '화질', '선택', '옵션', '자동', '잇몸', '영양제', '직접', '개봉', '후기', '보여드리다', '일정', '섭취', '꺼내다', '같이', '섭취', '프로', '폴리스', '플라보노이드', '성분', '함유', '프로', '폴리스', '세균', '바이러스', '억제', '작용', '항균', '항산화', '작용', '엄마', '한테', '영양제', '잇몸', '성분', '잇몸', '많이', '올리다', '사이즈', '넘기다', '부담', '묻다', '많이', '마음껏', '많이', '마시다', '잇몸', '건강', '잇몸', '영양제', '필요', '엄마', '전달', '바쁘다', '아프다', '핑계', '가깝다', '친정', '자주', '결혼', '결혼', '더더욱', '부모', '건강', '염려', '질환', '관리', '신대', '엄마', '잇몸', '영양제', '찾아보다', '가입', '보안관', '불리다', '구강', '유산균', '발견', '챙기다', '오라', '티저', '제품', '처음', '접하다', '브랜드', '관하다', '정보', '먼저', '찾아보다', '부모', '잇몸', '관리', '선택', '대한민국', '구강', '유산', '기업', '새롭다', '오라', '스로', '리뉴얼', '브랜드명', '패키지', '변경', '기존', '성분', '효능', '믿다', '제품', '검색', '구입', '선물', '기준', '선택', '구강', '영양제', '관하다', '칭하다', '시중', '제품', '효과', '뛰어나다', '제품', '무려', '논문', '검증', '한국', '미국', '특허', '균주', '유산균', '생산', '독보', '기술', '브랜드', '신뢰감', '높아지다', '거지', '양치', '가글', '열심히', '완벽', '충치', '예방', '어렵다', '요구', '구석', '양치', '노력', '치아', '닦이다', '놀라다', '게다가', '평소', '강한', '즐기다', '입속', '느낌', '강하다', '구취', '많이', '입속', '강하다', '가글', '제품', '주기', '구입', '입속', '유해', '유익', '모두', '죽이다', '입안', '미생물', '균형', '무너뜨리다', '장기', '구강', '문제', '발생', '그동안', '가글', '뱉다', '뻔하다', '따다', '유익', '지키다', '구강', '환경', '개선', '보안관', '오라', '잠들다', '한번', '꾸준히', '케어', '구강', '유산균', '주요', '세균', '억제', '유익', '늘리다', '건강', '입속', '환경', '충치', '뮤탄스', '포함', '세균', '세균', '형성', '억제', '요구', '취성', '분종', '감소', '공식', '수치', '확인', '입안', '세균', '구취', '치조', '보호', '효과', '전반', '잇몸', '관리', '정착', '유지', '가족', '함께', '넘다', '괜찮다', '대한민국', '기본', '오라', '선택', '제품', '유산균', '보호', '최적', '유산균', '전용', '용기', '원터치', '가볍다', '여닫다', '보관', '직사광선', '피하다', '실온', '보관', '덥다', '남다', '냉장고', '매일', '잠들다', '꺼내다', '네이버', '쇼핑', '판매', '판매', '돌파', '건의', '리얼', '만족', '후기', '손가락', '클릭', '확인', '믿음', '중량', '요원', '동전', '크기', '달달', '넘다', '괜찮다', '요구', '유산균', '섭취', '방법', '잠들다', '천천히', '녹이다', '입안', '벌어지다', '수많다', '입속', '보안관', '지키다', '취침', '이해', '다만', '제품', '양치질', '나가', '미생물', '입안', '유익', '늘리다', '고민', '구취', '구강', '고민', '근본', '원인', '해결', '도움', '구강', '유산균', '오라', '구강', '유산균', '모습', '재생', '화질', '선택', '옵션', '자동', '접다', '펴다', '오라', '구강', '유산균', '모습', '아이', '엄마', '잇몸', '치료', '병행', '케어', '선택', '넘다', '만족스럽다', '잇몸', '영양제', '자세히', '얼마', '스케일링', '빠짐없이', '계시다', '작년', '깜박', '올해', '잇몸', '조심', '조언', '칫솔', '바꾸다', '치약', '바꾸다', '얼마', '잇몸', '영양제', '챙기다', '시작', '박스', '개별', '포장', '공기', '노출', '변질', '위생', '챙기다', '아침', '식사', '챙기다', '정하다', '까먹다', '매일', '챙기다', '잇몸', '영양제', '굉장히', '프리미엄', '선택', '기타', '가공품', '인증', '건강', '기능', '식품', '잇몸', '건강', '치아', '도움', '개별', '챙기다', '종일', '기왕이면', '도움', '챙기다', '편이', '국내', '유일', '독점', '아보카도', '플레', '성분', '함량', '상당히', '높다', '아보카도', '플레', '슬다', '잇몸', '성분', '스테롤', '수많다', '영양', '성분', '모두', '함유', '국내외', '연구', '논문', '살펴보다', '아보카도', '플레', '골관절염', '치주', '질환', '감소', '소염', '진통', '도움', '적히다', '성분', '국내', '잇몸', '영양제', '유일', '독점', '프로', '폴리스', '폴라', '보노', '불리다', '성분', '많이', '따로', '챙기다', '잇몸', '영양제', '성분', '반갑다', '실제로', '프로', '폴리스', '살짝', '프로', '폴리스', '세균', '바이러스', '억제', '작용', '도와주다', '동시', '항산화', '작용', '도와주다', '데다', '치아', '잇몸', '건강', '도움', '기능', '성분', '원료', '피쉬', '콜라겐', '이리', '옥수수', '수염', '망고', '프로', '몰리브덴', '코엔', '자임', '부원료', '요리', '영양제', '찾아보다', '잇몸', '많이', '쓰이다', '성분', '잇몸', '건강', '도움', '필수', '성분', '모두', '아보카도', '플레', '시작', '프로', '폴리스', '칼슘', '모두', '잇몸', '영양제', '유일', '혼자', '챙기다', '출근', '신랑', '가방', '아침', '출근', '준비', '정신없이', '바쁘다', '회사', '챙기다', '바래다', '업체', '제품', '소정', '지원', '작성', '이웃', '입속', '건강', '가요', '직업', '특성', '많이', '입속', '자꾸', '마르다', '구강', '건조증', '닦다', '치료', '구취', '성분', '휘발', '악취', '냄새', '원인', '잇몸', '출혈', '세균', '구강', '건강', '지켜지다', '생기다', '말씀드리다', '구강', '건조증', '구취', '구강', '유산균', '신경', '챙기다', '오늘', '소개', '구강', '유산균', '프로', '녹다', '섭취', '편하다', '병원', '인턴', '시작', '종일', '이야기', '마스크', '자꾸', '마르다', '묻다', '자주', '마시다', '업무', '환경', '놓이다', '자연스럽다', '마르다', '구취', '도나', '고요', '구강', '건조증', '원인', '치료', '진료', '먼저', '방법', '아래', '동영상', '의사', '설명', '쓰레기', '썩다', '냄새', '기본', '진료', '원인', '구강', '건강', '신경', '프로', '구강', '유산균', '챙기다', '재미있다', '쏙쏙', '들어오다', '설명', '영상', '링크', '믹스', '바이오', '아프다', '로데', '로젠', '프로바이오틱', '슬다', '스웨덴', '품이', '건강', '여성', '모유', '유래', '프로', '모유', '수유', '신생아', '러스', '루테리', '인체', '면역력', '강하다', '질병', '저항력', '형성', '역할', '알리다', '프로', '슬다', '실제로', '건강', '여성', '모유', '분리', '동정', '프로바이오틱', '스로', '섭취', '안전', '프로바이오틱', '전국', '판매', '구강', '유산균', '유산균', '증식', '유해', '억제', '도움', '프로바이오틱', '바이오', '아프다', '로데', '안정', '기능', '인정받다', '제품', '연령층', '섭취', '가능', '요소', '아성', '노인', '심지어', '임산부', '연령대', '섭취', '가능', '프로바이오틱', '효과', '균주', '별로', '다르다', '프로바이오틱', '제품', '균주', '번호', '표기', '살펴보다', '유산균', '유산균', '무조건', '위산', '높다', '생존', '위장관', '정착', '바이오', '가이아', '특허', '품종', '루테리', '위장관', '정착', '확인', '제품', '칼로리', '잠들다', '문제', '동그랗다', '모양', '천천히', '녹이다', '입안', '느낌', '지속력', '요구', '많이', '줄어들다', '느낌', '요구', '유산균', '챙기다', '이웃', '구강', '유산균', '이웃', '모두', '추천', '냄새', '제거', '냄새', '원인', '잇몸', '출혈', '구강', '건강', '입속', '세균', '구취', '제거', '구강', '유산균', '입속', '세균', '잇몸', '영양제', '의사', '추천', '믹스', '공식', '온라인', '스토어', '진단', '솔루션', '제공', '전문', '기업', '바이오', '가이아', '의사', '종진', '먼저', '제목', '정답', '말씀드리다', '계시다', '잇몸', '자주', '욱신거리다', '병원', '가시다', '약국', '잇몸', '잇몸', '영양제', '도움', '단정', '짓다', '어렵다', '근본', '원인', '치료', '해결', '잠깐', '상태', '호전', '아예', '효과', '다반사', '상태', '상황', '그리', '방치', '잇몸', '문제', '생기다', '두통', '인후', '원래', '상태', '돌아가다', '단순히', '잇몸', '영양제', '보조', '수단', '사용', '원인', '초기', '발견', '치료', '행하다', '잇몸', '전부', '조금씩', '치조', '소실', '증거', '사라지다', '아프다', '만나다', '보통', '통증', '실제로', '파괴', '생기다', '잇몸', '쉽다', '그만큼', '혈류', '팽창', '잇몸', '약하다', '혈류', '부풀다', '오르다', '잇몸', '파고들다', '치석', '의하다', '사라지다', '잇몸', '대신', '생기다', '주의', '깊다', '상태', '체크', '일례', '최근', '내원', '중년', '여성', '이야기', '진료', '구강', '살피다', '연세', '비하다', '상태', '불량', '예후', '심하다', '통증', '자주', '이제야', '병원', '평소', '원래', '잇몸', '자주', '조금씩', '욱신거리다', '잇몸', '약하다', '대수롭다', '잇몸', '영양제', '괜찮다', '괜찮다', '조치', '취하다', '문제', '기관', '다르다', '잇몸', '나빠지다', '증상', '사라지다', '자연스럽다', '원래', '나아지다', '신체', '잇몸', '아프다', '잇몸', '영양제', '순간', '갑자기', '말끔히', '괜찮다', '단순히', '활동', '멈추다', '착각', '잇몸', '이유', '보통', '치석', '의하다', '세균', '잘못', '양치', '부정', '교합', '악물다', '행동', '갈이', '잇몸', '작용', '과도', '의하다', '발생', '진단', '병원', '방문', '추천', '다치다', '치료', '아프다', '잇몸', '통증', '무섭다', '병원', '꽤나', '아프다', '진료', '돕다', '물방울', '레이저', '컴퓨터', '무통', '마취', '사용', '걱정', '마시다', '바라다', '건강', '구강', '잇몸', '영양제', '챙기다', '주기', '검진', '문제점', '초기', '발견', '하루빨리', '치료', '바라다', '오랜만', '영양제', '늘리다', '지난번', '밀크', '영양제', '추가', '치아', '교정', '잇몸', '잇몸', '영양제', '발견', '제품', '햇살', '마을', '햇살', '인사', '액티브', '플러스', '영양제', '치약', '추가', '상품', '선택', '햇살', '인사', '액티브', '플러스', '영양제', '치약', '추가', '상품', '선택', '햇살', '마을', '햇살', '마을', '햇살', '마을', '제품', '현직', '약사', '설계', '제품', '햇살', '마을', '제품', '현직', '약사', '개발', '제품', '믿다', '수익', '일부', '어린이', '치료', '재단', '기부', '착하다', '기업', '이튼', '햇살', '아랑', '부모', '잇몸', '영양제', '많이', '윗면', '주원료', '적히다', '결합', '조직', '형성', '기능', '유지', '필요', '비타민', '형성', '필요', '칼슘', '항산화', '도움', '프로', '폴리스', '주로', '아보카도', '옥수수', '수염', '추출', '분말', '콜라겐', '식물', '스테롤', '함유', '반대', '영양', '성분', '기재', '아래', '성분', '도움', '기재', '뚜껑', '열어보다', '알약', '잇몸', '영양제', '정통', '캡슐', '하나하나', '개별', '포장', '위생', '박스', '분량', '알약', '완전', '오렌지색', '사이즈', '일반', '오메가', '알약', '사이즈', '재질', '알약', '알약', '먼저', '마시다', '프로', '폴리스', '특유', '치아', '프로', '폴리스', '항산화', '기능', '의원', '더욱', '건강', '오래', '영위', '매일', '꾸준히', '운동', '인스턴트', '같이', '음식', '가급적', '노력', '활동', '채우다', '영양분', '보통', '건강', '보조제', '충족', '건강', '유지', '보조제', '보조제', '본인', '평소', '유지', '습관', '내원', '환자', '약간', '계시다', '본인', '마찬가지', '주기', '스케일링', '고양', '급기야', '잇몸', '영양제', '섭취', '잇몸', '붓다', '환자', '면밀히', '진단', '구강', '스캐너', '턱관절', '교합', '자세', '촬영', '거치다', '검진', '잇몸', '영양제', '꾸준히', '환자', '구강', '살펴보다', '치석', '잇몸', '살펴보다', '치석', '가득', '잇몸', '녹이다', '상황', '잇몸', '건강', '지키다', '잇몸', '영양제', '매일', '정기', '내원', '검진', '내치다', '상태', '개선', '파악', '보통', '잇몸', '치석', '잇몸', '절개', '치석', '긁어내다', '봉합', '방식', '치료', '치아', '공기', '노출', '흡수', '빠르다', '속도', '녹다', '가능', '시리다', '통증', '오랫동안', '지속', '치료', '방법', '피하다', '의원', '물방울', '레이저', '이용', '잇몸', '치료', '돕다', '치아', '잇몸', '사이', '입자', '에너지', '분사', '뜨겁다', '치료', '물방울', '레이저', '주사', '절개', '봉합', '치석', '제거', '마취', '통증', '발생', '이유', '고르다', '압력', '주사', '병원', '컴퓨터', '무통', '마취', '일정', '마취', '천천히', '퍼지다', '치료', '가능', '마취', '불편', '내원', '망설이다', '걱정', '내려놓다', '치아', '습관', '물다', '악물다', '습관', '건강', '잇몸', '무조건', '개선', '습관', '발생', '초반', '잇몸', '영양제', '넘어가다', '점점', '심화', '치아', '법랑', '벗겨지다', '상아', '드러나다', '치아', '시리다', '잇몸', '점점', '약하다', '치아', '쉽다', '빠지다', '병원', '장치', '돕다', '잇몸', '건강', '잇몸', '영양제', '마시다', '내원', '치료', '권장', '이미지', '참조', '평소', '건강', '영양제', '잇몸', '관리', '딱히', '가끔', '병원', '양치질', '깨끗이', '최선', '며칠', '칫솔', '피곤', '붓다', '잇몸', '얼마', '신경', '치료', '관리', '나이', '여기저기', '증세', '나타나다', '온통', '머릿속', '건강', '걱정', '기회', '잇몸', '영양제', '챙기다', '잇몸', '영양제', '국내', '영양제', '성분', '함유', '제품', '국내', '영양제', '아보카도', '플레', '프리미엄', '국내', '유일', '국내', '독점', '프리미엄', '일정', '섭취', '닥터', '메타', '프리미엄', '포뮬러', '프로', '폴리스', '탄산칼슘', '기능', '원료', '아보카도', '플레', '원료', '함유', '치아', '잇몸', '건강', '도움', '치아', '잇몸', '건강', '도움', '필수', '성분', '모두', '담다', '프리미엄', '영양제', '프로', '폴리스', '항산화', '도움', '칼슘', '형성', '신경', '근육', '기능', '유지', '필요', '제품', '정상', '혈액', '응고', '골다공증', '발생', '위험', '감소', '도움', '프리미엄', '원료', '함께', '담다', '배합', '아보카도', '플레', '스도', '함유', '잇몸', '관리', '기능', '안정', '인정받다', '건강', '기능', '식품', '인정받다', '품이', '요인', '기능', '원료', '성분', '사용', '격하다', '품질', '관리', '믿음', '잇몸', '건강', '프리미엄', '건강', '기능', '식품', '프로', '폴리스', '칼슘', '아보카도', '플레', '피쉬', '콜라겐', '자일리톨', '옥수수', '수염', '망고', '몰리브덴', '코엔', '자임', '원료', '추가', '복합', '프리미엄', '원료', '프리미엄', '배합', '제조', '담다', '반드시', '부원료', '확인', '선택', '잇몸', '영양제', '닥터', '메타', '관리', '중이', '재생', '화질', '선택', '옵션', '자동', '잇몸', '양제', '닥터', '메타', '관리', '회정', '함께', '아침', '저녁', '섭취', '사이즈', '넘기다', '편하다', '매일', '챙기다', '잇몸', '질환', '예방', '도움', '아보카도', '플레', '스리', '프로', '폴리스', '칼슘', '모두', '함유', '영양제', '유일', '케이스', '담다', '가방', '휴대', '치아', '잇몸', '질환', '개선', '성분', '따로', '아보카도', '플레', '슬다', '유명', '잇몸', '성분', '아보카도', '불검', '추출물', '플레', '성분', '국내', '영양제', '유일', '독점', '함유', '아보카도', '플레', '성분', '스테롤', '수많다', '영양', '성분', '모두', '함유', '국내외', '연구', '논문', '골관절염', '치주', '질환', '감소', '소염', '진통', '도움', '결과', '확인', '성분', '치아', '잇몸', '건강', '많이', '관여', '영양제', '프로', '폴리스', '플라보노이드', '세균', '바이러스', '억제', '작용', '항균', '항산화', '작용', '기능', '영양제', '잇몸', '쓰이다', '성분', '잇몸', '영양제', '닥터', '메타', '영양제', '최근', '국내', '잇몸', '해외', '잇몸', '영양제', '성분', '알려지다', '성분', '유효', '성분', '식물', '자연', '얻어지다', '성분', '비교적', '안전', '보고', '부작용', '임산부', '수유', '부인', '제외', '나머지', '잇몸', '영양제', '섭취', '질환', '골관절염', '도움', '맞다', '제품', '관절', '병원', '조심', '잇몸', '건강', '건강', '매일매일', '잇몸', '영양제', '챙기다', '닥터', '메타', '제품', '온라인', '공식', '쇼핑몰', '오프라인', '약국', '병원', '쉽다', '편하다', '구입', '포스팅', '업체', '제품', '소정', '원고료', '지원', '작성', '친정', '엄마', '요새', '잇몸', '잇몸', '염증', '생기다', '치료', '아프다', '치료', '비하다', '즉각', '효과', '기대', '어렵다', '근본', '건강', '지키다', '잇몸', '영양제', '알아보다', '프리미엄', '건강', '프리미엄', '치아', '맞붙다', '건강', '잇몸', '건강', '당연히', '연결', '잇몸', '영양제', '성분', '건강', '도움', '칼슘', '주성분', '칼슘', '치아', '주요', '구성', '성분', '성인', '장량', '오덴', '섭취량', '인정', '칼슘', '함유', '장량', '섭취', '원료', '프로', '폴리스', '항산화', '도움', '널리', '알리다', '치주', '질환', '치아', '잇몸', '사이', '공간', '염증', '생기다', '발생', '프로', '폴리스', '세균', '바이러스', '억제', '작용', '항산화', '작용', '기능', '치주', '질환', '개선', '도움', '잇몸', '영양제', '알약', '형태', '손쉽다', '건강', '챙기다', '주원료', '주목', '부원료', '소개', '먼저', '아보카도', '플레', '아보카도', '불검', '추출물', '유명', '잇몸', '성분', '스테롤', '수많다', '영양', '성분', '함유', '국내외', '연구', '논문', '골관절염', '치주', '질환', '감소', '소염', '진통', '도움', '결과', '확인', '아보카도', '플레', '성분', '국내', '영양제', '유일', '독점', '함유', '부원료', '쓰이다', '양제', '잇몸', '성분', '코엔', '치아', '잇몸', '성분', '모두', '함유', '잇몸', '영양제', '섭취량', '박스', '분량', '생김새', '흔히', '하얗다', '알약', '형태', '흔히', '생기다', '개별', '포장', '쏙쏙', '빼먹다', '챙기다', '휴대', '약통', '함께', '챙기다', '잇몸', '영양제', '재생', '화질', '선택', '옵션', '자동', '접다', '펴다', '잇몸', '영양제', '아니', '할머니', '잇몸', '영양제', '담다', '야무지다', '쏙쏙', '빼다', '휴대', '약통', '담다', '할머니', '챙기다', '건강', '손톱', '기준', '새끼', '크기', '회정', '함께', '섭취', '간혹', '냄새', '후기', '엄마', '딱히', '불편', '더불어', '건강', '지키다', '함께', '알아보다', '칼슘', '음식', '섭취', '다우', '유유', '제품', '멸치', '조류', '칼슘', '강화', '식품', '곡식', '채소', '과일류', '섬유질', '식품', '양질', '단백질', '식품', '섭취', '과도', '가공', '식품', '탄산음료', '섭취', '줄이다', '지나치다', '음식', '섭취', '피하다', '당량', '불소', '섭취', '녹차', '정어리', '천일염', '식품', '섭취', '불소', '함유', '치약', '사용', '출처', '네이버', '지식', '질병', '영양', '대한', '영양사', '협회', '잇몸', '영양제', '건강', '치주', '질환', '잇몸', '붓다', '시릴', '보통', '병원', '내원', '해결', '과연', '잇몸', '영양제', '잇몸', '효과', '정답', '잇몸', '원인', '치석', '가능', '높다', '잇몸', '붓다', '고시', '치석', '잇몸', '파고들다', '잇몸', '상당히', '가능', '높다', '이때', '잇몸', '영양제', '잇몸', '섭취', '통증', '가라앉다', '효과', '나타나다', '일시', '원상태', '되돌아오다', '심하다', '잇몸', '앓다', '잇몸', '발생', '잇몸', '영양제', '효과', '기대', '내원', '원인', '치료', '권장', '실제로', '내원', '환자', '잇몸', '영양제', '믿다', '치아', '관리', '소홀히', '상태', '방문', '치료', '과정', '훨씬', '기간', '길다', '양치', '잇몸', '한잔', '마시다', '치아', '시리다', '해결', '마시', '내원', '권장', '잇몸', '발생', '이유', '치석', '치아', '발생', '갈다', '물다', '습관', '지속', '발생', '잇몸', '필요', '가하다', '잇몸', '발생', '한번', '나빠지다', '절대', '원래', '상태', '돌아가다', '한번', '염증', '발생', '가라앉다', '증상', '잇몸', '원래', '상태', '건강', '상태', '지속', '의존', '마시다', '내원', '권장', '기기', '구강', '스캐너', '첨단', '촬영', '장비', '사용', '환자', '잇몸', '발생', '원인', '얼마나', '확인', '검진', '결과', '바탕', '잇몸', '연구', '매진', '종진', '대표', '원장', '맞추다', '진료', '치료', '끝나다', '재발', '사후', '치료', '돕다', '염증', '증세', '생기다', '잇몸', '영양제', '통증', '완화', '가볍다', '넘어가다', '문제', '귀찮다', '내원', '원인', '찾아내다', '하루빨리', '건강', '되찾다', '바라다', '문의', '사진', '참조', '나이', '잇몸', '잇몸', '건강', '중요', '남편', '피곤', '잇몸', '붓다', '컨디션', '잇몸', '염증', '오늘', '잇몸', '부모', '아이', '충치', '예방', '도움', '가족', '유산균', '잇몸', '영양제', '라덴', '소개', '잇몸', '영양제', '라덴', '유산균', '구강', '유해', '관리', '전신', '건강관리', '시작', '계시다', '요구', '서식', '유해', '독소', '잇몸', '염증', '유발', '혈관', '돌다', '각종', '질환', '일으키다', '알리다', '칫솔', '가글', '닿다', '표면', '무려', '입안', '사각지대', '숨다', '유해', '제거', '입안', '남다', '구강', '문제', '일으키다', '근본', '원인', '유산균', '원리', '구강', '유산균', '섭취', '유익', '증가', '유해', '억제', '건강', '구강', '환경', '개선', '도움', '잇몸', '영양제', '라덴', '잇몸', '영양제', '라덴', '건강', '한국', '어린이', '구강', '유래', '특허', '균주', '함유', '한국', '미국', '특허', '균주', '유산균', '오직', '생산', '엄청나다', '구강', '유산균', '핵심', '살펴보다', '유해', '결합', '치아', '표면', '부착', '막다', '쉽다', '제거', '작용', '유해', '바이오', '필름', '생성', '과정', '억제', '치아', '표면', '보호', '항균', '물질', '스스로', '유해', '성장', '방해', '유해', '빨리', '구강', '정착', '유해', '정착', '방해', '유해', '작용', '차단', '도움', '유해', '세포', '유전자', '발현', '억제', '한마디', '구강', '미생물', '균형', '맞추다', '문제', '근본', '원인', '해결', '입안', '건강', '지키다', '반장', '역할', '톡톡히', '결과', '구강', '건강', '끊임없이', '연구', '국내', '최초', '구강', '전문', '연구소', '연구', '덕분', '끊임없이', '실험', '연구', '제품', '개발', '유통', '책임지다', '사명감', '담다', '고집', '요식', '처가', '인증', '원재료', '생산', '생산', '시설', '안전', '위생', '제조', '더욱', '믿음', '잇몸', '영양제', '라덴', '한국', '특허', '미국', '특허', '잇몸', '영양제', '라덴', '임산부', '아이', '유아', '노년', '가족', '건강', '안심', '맡기다', '네이버', '구강', '유산균', '판매량', '결과물', '얻다', '요건', '후기', '읽다', '믿다', '구매', '유산균', '전용', '용기', '담기다', '외부', '수분', '차단', '냉장', '보관', '필요', '실온', '유산균', '오래오래', '보호', '보관', '오라', '라덴', '구강', '유해', '수면', '급속히', '번식', '잠들다', '섭취', '권장', '일정', '입안', '천천히', '녹다', '섭취', '직후', '양치질', '나가', '구강', '유산균', '정착', '방해', '삼가', '뚜껑', '느껴지다', '달달', '청포도', '동전', '크기', '작다', '크기', '라덴', '녹이다', '부담감', '맛있다', '청포도', '어른', '아이', '전혀', '부담', '갖다', '추천', '이레', '맛있다', '자꾸', '달래다', '숨기다', '잇몸', '영양제', '라덴', '재생', '화질', '선택', '옵션', '자동', '잇몸', '영양제', '라덴', '잇몸', '영양제', '라덴', '자주', '마르다', '피곤', '입안', '헐다', '괴롭다', '뜨겁다', '음식', '불편', '분교', '틀니', '신경', '쓰이다', '서툴다', '칫솔', '걱정', '추천', '가족', '함께', '준비', '마치다', '잇몸', '영양제', '라덴', '챙기다', '아웅', '맛있다', '침대', '머리맡', '자리', '챙기다', '제자', '사모', '회원', '가입', '쿠폰', '제공', '회원', '가입', '추천인', '친구', '아이디', '모두', '적립금', '지급', '추천인', '입력', '적립금', '지급', '참고', '할인', '바라다', '아이', '쟁이다', '만족도', '높다', '잇몸', '영양제', '라덴', '티오', '가족', '건강', '지키다', '함께', '요구', '유산균', '잇몸', '영양제', '구강', '영양제', '구강', '잇몸', '아프다', '잇몸', '어금니', '잇몸', '통증', '치주', '증상', '잇몸', '잇몸', '음식', '구강', '염증', '얼마', '아버님', '잇몸', '염증', '생기다', '삽입', '빼내다', '치료', '시작', '말씀', '의사', '선생', '잇몸', '관리', '오래오래', '잇몸', '영양제', '챙기다', '칫솔', '엄청', '관리', '열심히', '열심히', '관리', '주위염', '생기다', '아버님', '잇몸', '오복', '맞다', '타고나다', '부러움', '어버이날', '선물', '고민', '잇몸', '영양제', '효과', '아버님', '선물', '선택', '센스', '기프트', '박스', '함께', '박스', '단위', '선물', '기프트', '박스', '조립', '유의', '함께', '동봉', '해조', '칼슘', '황산', '비타민', '주원료', '제품', '성분', '모두', '치아', '건강', '성분', '유통', '기한', '어르신', '인터넷', '검색', '구입', '힘들다', '약국', '방문', '영양제', '구입', '후기', '검증', '제품', '구입', '로켓', '배송', '입점', '네이버', '스마트', '스토어', '구매', '치아', '탄탄', '칼슘', '망간', '비타민', '복합', '건강', '기능', '식품', '원료', '닥터', '오탄', '닥터', '원료', '차이', '품질', '차이', '닥터', '꾸준히', '피곤', '잇몸', '붓다', '피나다', '증상', '줄어들다', '아버님', '효과', '기프트', '박스', '선물', '포장', '어버이날', '부모', '선물', '잇몸', '영양제', '준비', '재생', '화질', '선택', '옵션', '자동', '어버이날', '부모', '선물', '잇몸', '영양제', '준비', '영양제', '개봉', '은근히', '뜯다', '힘들다', '센스', '습기', '방지제', '알약', '거부감', '넘기다', '힘들다', '다나', '치아', '잇몸', '건강', '지키다', '어버이날', '선물', '아버님', '잇몸', '지키다', '덴트', '프리미엄', '영양제', '일상생활', '무리', '체력', '떨어지다', '신체', '피로감', '자주', '거스르다', '영양제', '챙기다', '건강', '덴트', '잇몸', '영양제', '소개', '프로', '폴리스', '함유', '칼슘', '비타민', '함유', '건강', '기능', '식품', '덴트', '형성', '칼슘', '항산화', '도움', '프로', '폴리스', '햇빛', '직장인', '필요', '비타민', '함유', '나이', '상관없이', '남녀노소', '섭취', '잇몸', '영양제', '최근', '잇몸', '들리다', '인지', '굉장히', '시리다', '차갑다', '음식', '딱히', '방법', '세다', '소다', '치약', '문지르다', '노화', '신호', '신랑', '시기', '잇몸', '변화', '생기다', '잇몸', '영양제', '덴트', '택하다', '점심', '식사', '챙기다', '시간대', '섭취', '권장', '요식', '섭취', '시간대', '섭취', '잇몸', '영양제', '꼬박', '챙기다', '잇몸', '아프다', '챙기다', '덴트', '잇몸', '영양제', '신랑', '치아', '많이', '약하다', '신랑', '필요', '영양제', '골다공증', '예방', '필요', '칼슘', '비타민', '섭취', '여성', '영양제', '영양제', '추천', '크기', '아이', '살짝', '부담', '크기', '자르다', '추천', '형성', '필요', '아이', '필요', '영양제', '가족', '영양제', '인기', '덴트', '잇몸', '영양제', '코엔', '자임', '생선', '콜라겐', '목련', '추출물', '옥수수', '수염', '추출', '말리', '아보카도', '추출', '분말', '자일리톨', '분말', '추가', '부원료', '함유', '건강', '덴트', '소분', '가방', '챙기다', '주말', '잊다', '챙기다', '잇몸', '아프다', '영양', '제리', '덴트', '재생', '화질', '선택', '옵션', '자동', '잇몸', '아프다', '영양', '제리', '덴트', '식후', '챙기다', '잇몸', '영양제', '치아', '형성', '칼슘', '소모량', '건강', '증진', '관리', '원하다', '치아', '건강', '민이', '신분', '적극', '추천', '잇몸', '영양제', '영양제', '나누다', '섭취', '힘들다', '일정', '프로', '폴리스', '칼슘', '비타민', '함유', '잇몸', '영양', '제리', '덴트', '추천', '잇몸', '아프다', '덴트', '건강', '보내다', '게시물', '체험단', '업체', '제품', '제공받다', '주관', '작성', '후기', '잇몸', '영양제', '건강', '영양제', '챙기다', '잇몸', '잊다', '영양제', '챙기다', '잇몸', '영양제', '살아가다', '굉장히', '느껴지다', '까먹다', '중요', '문제', '깨닫다', '늦다', '챙기다', '시작', '데다', '치아', '잇몸', '건강', '프리미엄', '건강', '기능', '식품', '오늘', '일정', '챙기다', '기타', '가공', '품이', '인증', '건강', '기능', '식품', '잇몸', '영양제', '고르다', '마크', '유무', '살펴보다', '선택', '이유', '아보카도', '플레', '프로', '폴리스', '칼슘', '모두', '함유', '잇몸', '영양제', '아보카도', '플레', '슬다', '왜냐하면', '국내', '영양제', '유일', '독점', '함유', '성분', '카드', '플레', '유명', '잇몸', '성분', '스테롤', '수많다', '영양', '성분', '모두', '함유', '국내외', '연구', '논문', '골관절염', '치주', '질환', '감소', '소염', '진통', '도움', '결과', '확인', '박스', '잇몸', '영양제', '가정', '요정', '포장', '편리', '일정', '분량', '치아', '잇몸', '건강', '필수', '성분', '모두', '담다', '프리미엄', '잇몸', '영양제', '기능', '프로', '폴리스', '칼슘', '원료', '비타민', '비타민', '피쉬', '콜라겐', '자일리톨', '옥수수', '수염', '망고', '리브', '코엔', '자임', '아보카도', '플레', '함께', '약통', '케이스', '증정', '잊다', '일정', '챙기다', '편하다', '숫자', '점자', '표기', '매일', '아보카도', '플레', '세균', '바이러스', '억제', '작용', '항균', '항산화', '작용', '기능', '프로', '폴리스', '영양제', '잇몸', '쓰이다', '일정', '챙기다', '부원료', '아보카도', '플레', '섭취량', '기준', '함유', '치아', '잇몸', '건강', '잇몸', '영양제', '잊다', '아무래도', '나이', '갈수록', '더욱', '잇몸', '중요', '깨닫다', '젊다', '부모', '추천', '제품', '일반', '건강식품', '건강', '기능', '식품', '인증', '제조', '시설', '품질', '관리', '생산', '이후', '꼬박꼬박', '챙기다', '종진', '대표', '원장', '오늘', '의사', '시선', '안타깝다', '조심스럽다', '말씀', '포스팅', '오늘', '잇몸', '욱신거리다', '잇몸', '질환', '증상', '또는', '스스로', '잇몸', '좋아지다', '병원', '잇몸', '영양제', '보조', '수단', '의지', '잇몸', '질환', '해결', '알려드리다', '잇몸', '영양제', '구강', '부정', '영향', '문제', '보조', '수단', '치주', '질환', '개선', '완전', '막다', '확신', '잇몸', '영양제', '포함', '성분', '잇몸', '치료', '빠르다', '돕다', '치석', '발생', '빈도', '줄이다', '두통', '생기다', '두통약', '두통', '사라지다', '원래', '상태', '돌아가다', '특히나', '잇몸', '질환', '발생', '원인', '잘못', '양치', '부정', '교합', '악물다', '행동', '갈이', '치아', '작용', '과도', '의하다', '나타나다', '방치', '치아', '뽑다', '안타깝다', '상황', '발생', '보통', '잇몸', '영양제', '챙기다', '잇몸', '욱신거리다', '많이', '잇몸', '치석', '원인', '사라지다', '상황', '잇몸', '알리다', '신호', '단순히', '치료', '필요', '잇몸', '기관', '달리', '작다', '문제', '생기다', '통증', '즉각', '나타나다', '질환', '통증', '발생', '염증', '치조', '파괴', '잇몸', '자주', '붓다', '빈도', '잇몸', '영양제', '가볍다', '넘어가다', '잇몸', '질환', '검진', '필요', '치료', '보통', '잇몸', '치료', '치주', '질환', '치료', '절개', '봉합', '안전', '컴퓨터', '무통', '마취', '물방울', '레이저', '활용', '절개', '잇몸', '치료', '최근', '내원', '순례', '가명', '할머니', '언제', '부터', '갑자기', '잇몸', '욱신거리다', '잇몸', '약하다', '스스로', '판단', '잇몸', '영양제', '버티다', '순간', '양치', '아프다', '내원', '잇몸', '질환', '판정', '물방울', '레이저', '잇몸', '치석', '염증', '청소', '관리', '욱신거리다', '느낌', '좋아하다', '방치', '시기', '치료', '사례', '환자', '상태', '기간', '방치', '뒤늦다', '발치', '이처럼', '가볍다', '방치', '영향력', '잇몸', '질환', '주기', '검진', '잇몸', '문제', '생기다', '각종', '원인', '파악', '근본', '치료', '필요', '환자', '입장', '최선', '다하다', '아프다', '진료', '제공', '항상', '노력', '아령', '오늘', '소개', '잇몸', '영양제', '자꾸', '붓다', '시리다', '잇몸', '우짜다', '더불어', '자꾸', '나이', '조금씩', '아프다', '건강', '잇몸', '건강', '요새', '꽤나', '관심', '최근', '자주', '시작', '오복', '오복', '건강', '미리', '챙기다', '나타나다', '닥터', '오탄', '잇몸', '영양제', '소개', '피셔', '닥터', '오탄', '잇몸', '영양제', '잇몸', '건강', '잇몸', '케어', '건강', '건강', '케어', '잇몸', '영양제', '영양제', '치아', '관리법', '잇몸', '관리법', '추이', '이웃', '환영', '닥터', '오탄', '플러', '등장', '씨다', '잇몸', '영양제', '치아', '형성', '필요', '더불어', '신경', '근육', '기능', '유지', '필요', '시작', '먼저', '살펴보다', '칼슘', '황산', '비타민', '치아', '구성', '핵심', '기능', '성분', '주원료', '칼슘', '망간', '비타민', '부족', '하디', '부족', '칼슘', '흡수', '높다', '건강', '비타민', '칼슘', '흡수', '도움', '함께', '골격', '형성', '항산화', '영양소', '칼슘', '비타민', '더불어', '황산', '망간', '함께', '맹글다', '잇몸', '영양제', '맹글다', '잇몸', '영양제', '복합', '기능', '받치다', '숙지', '프로', '폴리스', '옥수수', '수염', '커리', '뿌리', '작디작다', '일회', '회정', '샤를', '잇몸', '영양제', '소개', '오탄', '잇몸', '영양제', '최근', '트로', '고생', '앓다', '계시다', '잇몸', '고통', '고통', '앓다', '계시다', '중장년', '선천', '치아', '신경', '치료', '이후', '고통스럽다', '추천', '닥터', '오탄', '잇몸', '영양제', '재생', '화질', '선택', '옵션', '자동', '접다', '펴다', '닥터', '오탄', '잇몸', '영양제', '소개', '닥터', '오탄', '잇몸', '영양제', '소개', '마치다', '구매', '링크', '흡수', '높다', '해조', '칼슘', '망간', '비타민', '정종', '원료', '면역', '폴리스', '잇몸', '영양제', '닥터', '원료', '차이', '품질', '차이', '닥터', '어머니', '오래전', '교통사고', '당하다', '이후', '치아', '잇몸', '쭈욱', '고생', '신경', '그동안', '영양제', '챙기다', '치아', '잇몸', '영양제', '챙기다', '비타민', '챙기다', '보고서', '다르다', '선물', '포장', '엄마', '챙기다', '꼼지락', '꼼지락대다', '포장', '잇몸', '영양제', '관하다', '후기', '작성', '제품', '왠지', '휑하다', '느낌', '예전', '챙기다', '포장지', '포장', '엄마', '선물', '기분', '제품명', '프리미엄', '박스', '분량', '섭취', '영양제', '요식', '인증', '건강', '기능', '식품', '마크', '확인', '인증', '시설', '제조', '마크', '치아', '잇몸', '영양제', '프로', '폴리스', '추출물', '탄산칼슘', '주원료', '아보카도', '플레', '부원료', '프로', '폴리스', '탄산칼슘', '관하다', '나머지', '성분', '처음', '아보카도', '플레', '슬다', '골관절염', '치주', '질환', '감소', '소염', '도움', '성분', '국내외', '논문', '결과', '확인', '국내외', '영양제', '유일', '영양제', '잇몸', '쓰이다', '성분', '잇몸', '질환', '개선', '도움', '성분', '엄마', '영양제', '선물', '포장법', '재생', '화질', '선택', '옵션', '자동', '접다', '펴다', '엄마', '영양제', '선물', '포장법', '유통', '기한', '확인', '꼼지락', '꼼지락', '잇몸', '영양제', '포장', '예전', '포장', '그나마', '포장', '방법', '포장지', '길이', '위아래', '제품', '덮이다', '자르다', '층계', '위아래', '접어주다', '포장법', '종이', '담다', '선물', '느낌', '요렇게', '퇴근', '어머니', '건네다', '포장', '북북', '뜯기다', '포장', '제품', '변질', '우려', '적다', '낱개', '분리', '휴대', '가능', '어머니', '까먹다', '휴대', '약통', '평소', '영양제', '함께', '나누다', '담다', '휴대', '약통', '택배', '영양제', '같이', '어머니', '선물', '며칠', '걸리다', '불편', '캡슐', '괜찮다', '간혹', '캡슐', '삼키다', '걸리다', '내려가다', '인사', '플러스', '프리미엄', '나이', '뼈저리다', '오복', '건강', '어리다', '관리', '후회', '비용', '한번', '망가지다', '되돌리다', '어렵다', '건강', '잇몸', '약하다', '치료', '고생', '항상', '아이', '건강', '늦다', '신경', '많이', '잇몸', '영양제', '많이', '챙기다', '추천', '잇몸', '영양제', '소개', '인사', '플러스', '프리미엄', '잇몸', '영양제', '출처', '건강', '새롭다', '패키지', '리뉴얼', '고급스럽다', '디자인', '바뀌다', '포장', '뽁뽁', '포장', '선물', '배송', '유통', '넘다', '남다', '최근', '제품', '인사', '플러스', '프리미엄', '치아', '형성', '필요', '칼슘', '주성분', '함유', '옥수수', '수염', '추출', '말리', '소자', '프로', '폴리스', '콜라겐', '식물', '스테롤', '배합', '치아', '잇몸', '건강', '도움', '잇몸', '영양제', '함유', '프로', '폴리스', '항산화', '면역', '증진', '도움', '휴대', '편리', '위생', '포장', '가방', '챙기다', '박스', '인사', '플러스', '포장', '재생', '화질', '선택', '옵션', '자동', '인사', '플러스', '포장', '포장', '밀어주다', '손쉽다', '잇몸', '영양', '작다', '알약', '크기', '불편', '부담', '함께', '역시', '넘어가다', '잇몸', '건강', '스스로', '지키다', '바쁘다', '일상', '놓치다', '쉽다', '치아', '잇몸', '건강', '지키다', '잇몸', '영양제', '부모', '계시다', '신랑', '최근', '치료', '부모', '선물', '신랑', '선물', '인사', '플러스', '프리미엄', '치아', '잇몸', '필요', '칼슘', '영양소', '항산화', '도움', '프로', '폴리스', '함유', '휴대', '포장', '작다', '크기', '알약', '사이즈', '편하다', '챙기다', '잇몸', '영양제', '드다', '치아', '잇몸', '관리', '필요', '중장년', '치아', '잇몸', '건강', '챙기다', '관리', '성장기', '청소년', '항산화', '작용', '필요', '음식', '칼슘', '섭취', '부족', '잇몸', '붓다', '선물', '인사', '플러스', '프리미엄', '추천', '박스', '구매', '메디안', '잇몸', '치약', '증정', '이벤트', '요인', '사디', '플러스', '프로', '폴리스', '영양제', '박스', '구매', '잇몸', '과학', '치약', '드림', '건강', '사디', '플러스', '프로', '폴리스', '영양제', '박스', '구매', '잇몸', '과학', '치약', '드림', '피곤', '잇몸', '자주', '붓다', '상처', '고민', '찰나', '아이스크림', '계절', '빨다', '시리다', '건강', '고민', '바이오', '리얼', '벌써', '제품', '네이버', '스토어', '리뷰', '넘다', '입고', '판매', '중이', '치아', '칼슘', '프로', '폴리스', '비타민', '비타민', '달분이', '건강', '칼슘', '섭취', '프로', '폴리스', '비타민', '섭취', '바이오', '리얼', '구입', '칼슘', '성분', '칼슘', '오염', '산호', '추출', '성분', '성분', '꽉꽉', '채우다', '미국', '원료', '사용', '미국', '건강', '기능', '식품', '전문', '기업', '제조', '품질', '관리', '유전자', '변형', '유기체', '함유', '제품', '꼼꼼히', '확인', '햇빛', '무조건', '비타민', '따로', '섭취', '따로따로', '바이오', '스리', '얼케', '추천', '알약', '보통', '영양제', '크기', '요목', '넘기다', '나쁘다', '잇몸', '걱정', '잇몸', '영양제', '후기', '걱정', '자주', '영양제', '사은품', '알약', '담다', '수목', '까먹다', '센스', '잇몸', '영양제', '비하다', '성분', '함유량', '부모', '선물', '건강', '추천', '꾸준히', '효과', '끄다', '느낌', '요시', '프로', '폴리스', '프로', '폴리스', '꾸준히', '거부감', '밤낮', '온도', '심하다', '프로', '폴리스', '추출', '포함', '성분', '드다', '치아', '영양제', '건강', '추가', '구성', '잇몸', '치약', '바이오', '리얼', '치아', '영양제', '건강', '추가', '구성', '잇몸', '치약', '잇몸', '영양제', '추천', '장수', '좌우', '필수', '조건', '건강', '시작', '부모', '건강', '소화', '식사', '영양', '제안', '부럽다', '어버이날', '선물', '추천', '부모', '선물', '전반', '걸치다', '요소', '건강', '모두', '걱정', '바쁘다', '일상', '놓치다', '쉽다', '건강', '지인', '추천', '제품', '영양제', '잇몸', '영양제', '사디', '플러스', '프리미엄', '가격', '그대로', '성분', '플러스', '프리미엄', '업그레이드', '이탈', '트리', '플러스', '프리미엄', '건강', '지키다', '현명', '방법', '꿀벌', '자연', '프로', '폴리스', '추출물', '활성', '산소', '억제', '항산화', '물질', '프로', '폴리스', '추출물', '담다', '플라보노이드', '프로', '폴리스', '추출물', '칼슘', '함유', '플러스', '프리미엄', '제품', '설명', '미국', '생산', '건강', '기능', '식품', '미국', '건강', '기능', '식품', '제조', '전문', '회사', '설립', '위생', '개별', '포장', '산소', '온도', '습도', '차단', '외부', '영향', '최소화', '위생', '섭취', '가능', '공정', '생산', '기능', '품질', '유지', '가방', '파우치', '휴대', '외출', '까먹다', '챙기다', '일회', '회정', '함께', '섭취', '사디', '플러스', '치아', '형성', '필요', '칼슘', '주성분', '프로', '폴리스', '옥수수', '수염', '추출', '분말', '콜라겐', '식물', '스테롤', '스테롤', '소자', '원료', '배합', '건강', '도움', '건강', '기능', '식품', '프로', '폴리스', '추출물', '항산화', '작용', '도움', '칼슘', '형성', '필요', '신경', '근육', '기능', '유지', '필요', '정상', '혈액', '응고', '필요', '골다공증', '발생', '위험', '감소', '도움', '치아', '붓다', '아프다', '불편', '서관', '필요', '치아', '건강', '유지', '필요', '노년기', '중장년', '골격', '형성', '필요', '성장기', '청소년', '치아', '건강', '걱정', '임산부', '수유부', '건강', '증진', '관리', '원하다', '유제품', '채소', '칼슘', '함유', '식품', '섭취', '부족', '잦다', '등산', '무리', '등산', '마니아', '신경', '근육', '기능', '유지', '필요', '현대인', '잇몸', '영양제', '영양제', '이탈', '트리', '사디', '플러스', '프리미엄', '재생', '화질', '선택', '옵션', '자동', '잇몸', '영양제', '영양제', '이탈', '트리', '사디', '플러스', '사랑', '부모', '활력', '필요', '바쁘다', '직장인', '건강', '필요', '귀하다', '건강', '선물', '사디', '플러스', '프리미엄', '추천', '사디', '플러스', '프리미엄', '잇몸', '약하다', '염증', '예방', '치아', '잇몸', '영양제', '건강', '사디', '플러스', '프리미엄', '잇몸', '약하다', '염증', '예방', '치아', '잇몸', '영양제', '오복', '자랑', '남편', '가끔', '시리다', '잇몸', '약하다', '잇몸', '챙기다', '시작', '선택', '햇살', '잇몸', '영양제', '이튼', '햇살', '수익', '일부', '어린이', '치료', '재단', '기부', '기업', '제품', '동참', '선택', '햇살', '마을', '잇몸', '영양제', '약사', '의하다', '설립', '브랜드', '항산화', '도움', '프로', '폴리스', '형성', '필요', '칼슘', '함유', '아보카도', '옥수수', '수염', '추출', '분말', '콜라겐', '식물', '스테롤', '함유', '제품', '이튼', '햇살', '일정', '함께', '섭취', '박스', '오렌지', '색깔', '휴대', '편하다', '유효', '기간', '오렌지색', '알약', '넘기다', '부드럽다', '열심히', '챙겨주다', '며칠', '섭취', '남편', '시림', '덜하다', '잇몸', '좋아하다', '잇몸', '건강', '나빠지다', '치주', '질환', '생기다', '염증', '치매', '유발', '오복', '관리', '높이다', '잇몸', '관리', '열심히', '이튼', '햇살', '재생', '화질', '선택', '옵션', '자동', '이튼', '햇살', '영상', '찍다', '클릭', '보세', '오월', '가정', '부모님', '선물', '햇살', '마을', '잇몸', '영양제', '추천', '이튼', '햇살', '인사', '액티브', '플러스', '영양제', '치약', '추가', '상품', '선택', '햇살', '마을', '햇살', '마을', '햇살', '마을', '제품', '현직', '약사', '설계', '제품', '네이버', '지니', '셰프', '지니', '정성', '가득', '잇몸', '영양제', '잇몸', '염증', '잇몸', '붓다', '잇몸', '관리', '부모', '영양제', '잇몸', '영양제', '햇살', '마을', '햇살', '인사', '액티브', '가족', '건강', '아이템', '추천', '치아', '햇살', '마을', '햇살', '인사', '액티브', '플러스', '골드', '오늘', '오복', '건강', '그중', '잇몸', '건강', '잇몸', '영양제', '이튼', '햇살', '소개', '요한', '잇몸', '붓다', '염증', '생기다', '자주', '생기다', '영양제', '챙기다', '잇몸', '영양제', '햇살', '마을', '이튼', '햇살', '용량', '결합', '조직', '형성', '기능', '유지', '유해', '산소', '세포', '보호', '형성', '신경', '근육', '기능', '유지', '필요', '골다공증', '발생', '위험', '감소', '도움', '형성', '필요', '흡수', '필요', '패키지', '디자인', '예전', '비하다', '세련', '비타민', '칼슘', '프로', '폴리스', '추출물', '영양', '성분', '함유', '더욱', '잇몸', '영양제', '알로', '비타민', '결합', '조직', '형성', '기능', '유지', '흡수', '유해', '산소', '세포', '보하다', '필요', '칼슘', '형성', '필요', '신경', '근육', '기능', '유지', '정상', '혈액', '응고', '필요', '골다공증', '발생', '위험', '감소', '도움', '많이', '프로', '폴리스', '추출물', '항산화', '도움', '유통', '기한', '보관', '직사', '고온', '다습', '장소', '피하다', '회정', '함께', '꿀꺽', '잇몸', '영양제', '이튼', '햇살', '재생', '화질', '선택', '옵션', '자동', '접다', '펴다', '잇몸', '영양제', '이튼', '햇살', '패키지', '잇몸', '영양제', '총알', '개별', '포장', '여행', '챙기다', '색감', '주황색', '비타민', '끄다', '색깔', '황주', '매력', '거부감', '잇몸', '질환', '생기다', '머리', '아프다', '힘들다', '잇몸', '영양제', '열심히', '꼬박꼬박', '챙기다', '요한', '쏙쏙', '꺼내다', '요약', '따로', '빼다', '위생', '미국', '생산', '제품', '표면', '넘기다', '요소', '만지다', '맨들맨들', '매끄럽다', '삼키다', '알로', '잇몸', '건강', '지키다', '편리', '황주', '추다', '물다', '준비', '가족', '함께', '알로', '잇몸', '부모님', '함께', '꼬박꼬박', '챙기다', '무너지다', '치조', '되돌리다', '건강', '잇몸', '건강', '지켜보다', '햇살', '마을', '네이버', '쇼핑', '스마트', '스토어', '햇살', '마을', '제품', '현직', '약사', '설계', '제품', '구매', '햇살', '마을', '스토어', '오늘', '잇몸', '영양제', '잇몸', '영양제', '추천', '잇몸', '염증', '영양제', '햇살', '네이트', '햇살', '인사', '액티브', '플러스', '골드', '치아', '영양', '제뉴인', '사이', '잇몸', '영양제', '부모', '선물', '가족', '영야', '할머니', '선물', '할아버지', '선물', '어른', '영양제', '건강', '잇몸', '건강', '잇몸', '영양제', '추천', '엊그제', '남편', '앓다', '사랑니', '빼다', '스케일링', '단순히', '스케일링', '역시', '같이', '동반', '무섭다', '스케일링', '방문', '청천', '병력', '의사', '쌔다', '잇몸', '건강', '단순', '스케일링', '잇몸', '스케일링', '잇몸', '치료', '상황', '잇몸', '스케일', '하내', '잇몸', '언제', '치아', '잇몸', '건강', '인지', '어찌', '관리', '건강', '도움', '백지상태', '더군다나', '잇몸', '스케일링', '처음', '알아보다', '데려오다', '제품', '잇몸', '영양제', '에센셜', '잇몸', '건강', '관리', '평소', '습관', '관리', '칫솔', '워터', '세척기', '워낙', '제품', '이용', '닦다', '잇몸', '마사지', '잇몸', '영양제', '스푼', '칼슘', '인체', '치아', '함유', '건강', '유지', '칼슘', '충분히', '섭취', '칼슘', '흡수', '낮다', '비타민', '비타민', '도움', '필요', '잇몸', '영양제', '건강', '칼슘', '비타민', '비타민', '흡수', '배합', '잇몸', '영양제', '영국', '비타민', '스위스', '비타민', '아일랜드', '칼슘', '유럽', '주원료', '사용', '믿다', '흡수', '뛰어나다', '식물', '해조', '칼슘', '사용', '비타민', '함께', '배합', '칼슘', '흡수', '더욱', '높이다', '잇몸', '영양제', '도움', '건강', '도움', '필요', '노년', '중장년', '칼슘', '흡수', '낮아지다', '갱년기', '여성', '건강', '유지', '영양소', '보충', '필요', '건강', '치아', '건강', '생활', '원하다', '결합', '조직', '형성', '기능', '유지', '도움', '필요', '캡슐', '매일', '섭취', '건강', '챙기다', '요건', '식품', '반드시', '효과', '회사', '방침', '만족', '전액', '환불', '보장', '챙기다', '에센셜', '일맥', '치아', '잇몸', '건강', '칼슘', '비타민', '비타민', '복합', '건강', '기능', '식품', '리뷰', '플레이스', '당신', '리뷰', '마케팅', '포스팅', '리뷰', '플레이스', '대가', '제공받다', '주관', '작성', '건치', '태어나다', '관리', '자부', '나이', '칼슘', '부족', '잇몸', '건강', '예전', '잇몸', '영양제', '챙겨주다', '특히나', '상태', '잇몸', '문제', '들어서다', '더욱', '신경', '챙기다', '잇몸', '영양제', '프리미엄', '브인', '잇몸', '영양제', '챙기다', '이유', '인증', '건강', '기능', '식품', '성분', '다르다', '잇몸', '건강', '프리미엄', '건강', '기능', '식품', '프로', '폴리스', '칼슘', '아보카도', '플레', '스리', '옥수수', '수염', '원료', '신경', '제품', '주원료', '칼슘', '프로', '폴리스', '칼슘', '형성', '신경', '근육', '기능', '유지', '정상', '혈액', '응고', '골다공증', '발생', '위험', '감소', '도움', '프로', '폴리스', '항산화', '도움', '세균', '바이러스', '억제', '작용', '도움', '건강', '함께', '더욱', '데다', '주원료', '프로', '폴리스', '칼슘', '부원료', '신경', '더욱', '비타민', '비타민', '마그네슘', '치아', '잇몸', '건강', '필수', '성분', '모두', '담다', '프리미엄', '잇몸', '영양제', '밀봉', '포장', '제품', '꺼내다', '섭취', '요한', '박스', '분량', '섭취', '직전', '까다', '변질', '걱정', '섭취', '섭취', '잇몸', '영양제', '크기', '챙기다', '편하다', '치아', '잇몸', '필수', '성분', '담기다', '칼슘', '프로', '폴리스', '탄산칼슘', '함량', '함유', '국내', '유일', '독점', '성분', '아보카도', '플레', '함유', '원료', '꼼꼼히', '체크', '요리', '피쉬', '콜라겐', '자일리톨', '옥수수', '수염', '망고', '몰리브덴', '코엔', '자임', '아보카도', '플레', '영양제', '잇몸', '쓰이다', '성분', '아보카도', '불검', '추출물', '역시', '잇몸', '성분', '스테롤', '수많다', '영양', '성분', '함유', '국내외', '연구', '논문', '골관절염', '치주', '질환', '감소', '소염', '진통', '도움', '결과', '확인', '아보카도', '플레', '성분', '국내', '유일', '독점', '함유', '신랑', '기타', '가공품', '인증', '건강', '기능', '식품', '믿다', '함께', '챙기다', '단순히', '칼슘', '섭취', '해결', '건강', '칼슘', '프로', '폴리스', '카드', '플레', '치아', '잇몸', '건강', '필수', '성분', '담다', '프리미엄', '영양제', '유일', '체크', '그대로', '플레', '최고', '잇몸', '영양제', '검증', '라덴', '구강', '유산균', '관리', '요구', '충치', '잇몸', '구강', '문제', '원인', '입속', '알리다', '유해', '충치', '인식', '의외로', '유해', '유익', '환경', '성격', '바뀌다', '기회균등', '여종', '함께', '살아가다', '바르다', '균형', '이루다', '구강', '건강', '유지', '입속', '미생물', '균형', '파괴', '유해', '번식', '생기다', '문제', '무분별', '죽이다', '화학', '관리', '음주', '흡연', '외부', '유입', '미생물', '균형', '파괴', '유익', '유해', '더욱', '번식', '결국', '각종', '구강', '문제', '발생', '구강', '유산균', '들어보다', '요구', '유산균', '염려', '구강', '환경', '근본', '개선', '개념', '솔루션', '구강', '유익', '공급', '유해', '몰아내다', '원리', '장운동', '촉진', '면역력', '높이다', '유산균', '섭취', '원리', '오늘', '입속', '균형', '맞추다', '구강', '유산균', '소개', '네이버', '쇼핑', '판매', '판매량', '돌파', '만족', '후기', '무려', '효과', '검증', '국내', '유일', '구강', '유산균', '연구', '개발', '전문', '기업', '특허', '구강', '유산균', '국내', '판매', '라덴', '소개', '입안', '편안', '바라다', '희소식', '강추', '아이템', '반드시', '도움', '포스팅', '라덴', '일상', '바꾸다', '구강', '전문', '연구소', '잇몸', '영양', '라덴', '불편', '입안', '관리', '보편', '방법', '칫솔', '칫솔', '닦다', '구강', '면적', '전체', '나머지', '세척', '음식', '찌꺼기', '남다', '입안', '사각지대', '숨다', '유해', '제거', '남다', '구강', '문제', '일으키다', '근본', '원인', '바싹바싹', '입안', '불편', '지나치다', '입속', '자정', '능력', '높이다', '구강', '유산균', '주인', '원료', '특성', '설명', '제품', '효능', '외부', '유해', '물질', '유입', '세균', '세균', '구강', '유산균', '유익', '공급', '냄새', '충치', '치주', '질환', '일으키다', '유해', '없애다', '억제', '정착', '방해', '구강', '건강', '도움', '구강', '세균', '균형', '건강', '상태', '회복', '구강', '문제', '일시', '해결', '본질', '바로잡다', '건강', '구강', '환경', '개선', '도움', '라덴', '구강', '구강', '유산균', '라덴', '유산균', '구강', '건강', '한국', '어린이', '선별', '추출', '특허', '균주', '와다', '사용', '유산균', '기술력', '나타내다', '구강', '정착', '유해', '억제력', '해외', '구강', '유산균', '평가', '구강', '전문가', '구강', '유산균', '라덴', '구강', '유산균', '초반', '시작', '미국', '유럽', '일본', '제품', '판매', '대중화', '추세', '한국', '구강', '유산균', '기업', '의하다', '생산', '판매', '시작', '인체', '시험', '결과', '적용', '논문', '인체', '적용', '시험', '끊임없이', '실험', '연구', '제품', '개발', '유통', '책임지다', '생산', '제품', '믿다', '안전', '안심', '인증', '특허', '식품', '의약품', '안전', '처가', '인증', '원재료', '시설', '안전', '생산', '위생', '흠잡다', '유산균', '전용', '용기', '유산균', '보호', '라덴', '유산', '라덴', '그러다', '보관', '요구', '유산균', '어찌', '유산균', '번거롭다', '냉장', '보관', '걱정', '놉다', '라덴', '유산균', '전용', '용기', '꽈악', '담기다', '실온', '보관', '전혀', '문제', '양치', '라덴', '양치', '입안', '녹이다', '정제', '상관', '효과', '최대', '섭취', '괜찮다', '맵다', '청포도', '베리', '입안', '사각지대', '입속', '이리저리', '위치', '바꾸다', '녹이다', '라덴', '추천', '입안', '자주', '마르다', '피곤', '입안', '헐다', '괴롭다', '뜨겁다', '음식', '불편', '분교', '틀니', '신경', '쓰이다', '서툴다', '칫솔', '걱정', '오라', '라덴', '구매', '회원', '가입', '쿠폰', '적립금', '혜택', '구강', '유산균', '라덴', '잇몸', '아프다', '고통', '벗어나다', '잇몸', '부모', '아이', '충치', '예방', '가족', '유산균', '추천', '라덴', '구강', '유산균', '아침', '바라다', '구강', '유산균', '잇몸', '영양제', '구강', '영양제', '구강', '라덴', '잇몸', '아프다', '잇몸', '어금니', '잇몸', '통증', '잇몸', '잇몸', '음식', '잇몸', '건강', '건강', '기능', '식품', '많이', '챙기다', '너무나', '치아', '잇몸', '건강', '치료', '힘들다', '한번', '치아', '잇몸', '관리', '쉽다', '잇몸', '건강', '만나다', '당연히', '인증', '건강', '기능', '식품', '추천', '고급', '패키지', '인증', '인증', '제조', '시설', '더욱', '믿음', '팡팡', '프로', '폴리스', '칼슘', '보카', '플레', '옥수수', '수염', '원료', '유일한', '건강', '기능', '식품', '낱개', '포장', '빼다', '어르신', '편하다', '개별', '포장', '더욱', '위생', '프로', '폴리스', '탄산칼슘', '높다', '함량', '칼슘', '프로', '폴리스', '인기', '아보카도', '플레', '스도', '듬뿍', '담기다', '유일', '국내', '독점', '부원료', '함량', '담다', '치아', '잇몸', '건강', '도움', '기능', '성분', '원료', '치아', '잇몸', '건강', '필수', '성분', '모두', '담다', '프리미엄', '영양제', '알려드리다', '언급', '아보카도', '플레', '잠깐', '설명', '유명', '잇몸', '성분', '국내', '건강', '기능', '식품', '유일', '독점', '스테롤', '수많다', '영양', '성분', '국내외', '연구', '논문', '골관절염', '질환', '감소', '소염', '진통', '도움', '결과', '확인', '프로', '폴리스', '폴라', '보노', '세균', '바이러스', '억제', '작용', '알리다', '항균', '항산화', '작용', '기능', '알리다', '다리', '영양제', '잇몸', '쓰이다', '성분', '성분', '모두', '함유', '잇몸', '영양제', '유일', '케이스', '함께', '보내주다', '보관', '함께', '잇몸', '영양제', '재생', '화질', '선택', '옵션', '자동', '접다', '펴다', '잇몸', '영양제', '크기', '크기', '느낌', '영상', '부담', '괜찮다', '크기', '성분', '꼼꼼히', '따지다', '괜찮다', '추천', '건강', '미리미리', '챙기다', '잇몸', '영양제', '잇몸', '영양제', '나이', '느껴지다', '잇몸', '많이', '아프다', '애정', '건강', '기능', '식품', '햇살', '마을', '잇몸', '영양제', '인사', '액티브', '플러스', '골드', '프로', '폴리스', '칼슘', '비타민', '항산화', '골다공증', '예방', '군더더기', '포장', '알약', '크기', '이레', '편하다', '요렇게', '프로', '폴리스', '추출물', '칼슘', '비타민', '상자', '제조사', '미국', '보여드리다', '찍다', '미제', '입원', '챙기다', '잇몸', '영양제', '햇살', '마을', '액티브', '플러스', '골드', '영양제', '약과', '함께', '처방약', '햇살', '마을', '네이버', '쇼핑', '스마트', '스토어', '햇살', '마을', '제품', '현직', '약사', '설계', '제품', '잇몸', '염증', '반드시', '치조', '너트', '치아', '스스로', '절대', '좋아지다', '달다', '햇살', '마을', '잇몸', '영양제', '관리', '충무', '연세', '약국', '입다', '다년', '새해', '밝다', '모두', '새해', '많이', '오늘', '포스팅', '치아', '잇몸', '영양제', '케어', '연령대', '상관없이', '젊다', '잇몸', '약하다', '호소', '잇몸', '약하다', '건강', '빼다', '잇몸', '관리', '그만큼', '약사', '잇몸', '치아', '성분', '담다', '영양제', '소개', '처음', '패키지', '디자인', '예쁘다', '관심', '함유', '성분', '함량', '선택', '성분', '시중', '제품', '잇몸', '치아', '성분', '배합', '잇몸', '영양제', '끝판', '느낌', '주성분', '프로', '폴리스', '최대', '함량', '함유', '꿀벌', '분비물', '수액', '혼합', '생성', '물질', '항산화', '성분', '구강', '항균', '작용', '잇몸', '염증', '완화', '도움', '칼슘', '흡수', '해조', '칼슘', '사용', '형성', '도움', '칼슘', '비타민', '칼슘', '흡수', '도움', '비타민', '항산화제', '역할', '결합', '조직', '형성', '도움', '잇몸', '도움', '원료', '원료', '잇몸', '구성', '성분', '염증', '완화', '성분', '성분', '배합', '잇몸', '영양제', '많이', '잇몸', '약하다', '단골손님', '아버지', '제품', '많이', '선택', '제품', '포장', '개별', '포장', '위생', '복용법', '회정', '복용', '충무', '약국', '케어', '만나다', '충무', '연세', '약국', '충청남도', '아산시', '문화', '동호', '카카오', '채널', '스타', '건강', '상담', '세요', '잇몸', '영양제', '약국', '잇몸', '영양제', '영양제', '케어', '닥터', '마임', '관리', '잇몸', '관리', '건강', '프리미엄', '리뷰', '루시아', '확실히', '나이', '자꾸', '말썽', '잇몸', '약하다', '양치', '시리다', '잇몸', '어떻게든', '되살리다', '잇몸', '영양제', '시작', '나이', '뼛속', '칼슘', '점점', '빠져나가다', '치아', '건강', '서서히', '무너지다', '쉽다', '요나', '관절', '치아', '약하다', '아무리', '치아', '열심히', '치질', '건강', '치아', '어렵다', '젊다', '잇몸', '영양제', '신경', '치아', '관리', '치료', '경험', '무조건', '치아', '관리', '신경', '아프다', '평소', '치아', '관리', '중요', '깨닫다', '충치', '때우다', '무섭다', '양치질', '열심히', '나이', '들어서다', '씹다', '즐거움', '음식', '포기', '잇몸', '영양제', '잇몸', '건강', '프리미엄', '건강', '기능', '식품', '기타', '가공품', '기능', '안정', '인정받다', '인증', '제조', '시설', '품질', '관리', '생산', '제품', '안심', '믿다', '섭취', '프로', '폴리스', '칼슘', '아보카도', '플레', '스리', '옥수수', '수염', '원료', '함유', '유일한', '제품', '프로', '폴리스', '탄산칼륨', '함량', '함유', '국내', '유일', '국내', '독점', '아보카도', '플레', '성분', '고함', '치아', '잇몸', '건강', '도움', '성분', '함유', '잇몸', '영양제', '유일', '지주', '기능', '원료', '치아', '잇몸', '건강', '필수', '성분', '모두', '담다', '치아', '관리', '하나', '챙기다', '얼마나', '회정', '섭취', '개별', '포장', '위생', '섭취', '가능', '고급', '패키지', '평소', '선물', '부담', '필요', '영양제', '의미', '선물', '설날', '부모', '선물', '하나', '주문', '약통', '같이', '휴대', '보관', '편리', '매일매일', '까먹다', '알약', '평소', '영양제', '장량', '골고루', '출근', '챙기다', '잊다', '매일', '챙기다', '알약', '크기', '삼키다', '전혀', '무리', '딱히', '냄새', '거부감', '느껴지다', '만족', '잇몸', '영양제', '프리미엄', '재생', '화질', '선택', '옵션', '자동', '접다', '펴다', '잇몸', '영양제', '프리미엄', '예전', '잇몸', '영양제', '효과', '신뢰', '편이', '요원', '약하다', '중단', '잇몸', '오래', '꾸준히', '작다', '습관', '건강', '챙기다', '영양제', '끊다', '느껴지다', '괜히', '요한', '영양제', '늘어나다', '슬프다', '쉽다', '건강관리', '올해', '아프다', '건강관리', '나빠지다', '늦다', '시작', '미리미리', '건강', '챙기다', '바라다', '잇몸', '영양제', '건강', '잇몸', '건강', '영양제', '치아', '관리', '영양제', '잇몸', '영양제', '부광약품', '웰치', '건강', '잇몸', '건강', '챙기다', '부광약품', '영양제', '웰치', '보내주다', '체험', '웰치', '음료수', '이름', '왠지', '낯익다', '건강', '기능', '식품', '자세히', '소개', '웰치', '형성', '필요', '신경', '근육', '기능', '유지', '정상', '혈액', '응고', '필요', '골다공증', '발생', '위험', '감소', '칼슘', '결합', '조직', '형성', '기능', '유지', '필요', '흡수', '필요', '항산화', '작용', '유해', '산소', '세포', '보호', '필요', '비타민', '형성', '유지', '필요', '칼슘', '흡수', '이용', '필요', '골다공증', '발생', '위험', '감소', '도움', '비타민', '형성', '필요', '에너지', '이용', '필요', '망간', '정상', '면역', '기능', '필요', '정상', '세포', '분열', '아연', '유해', '산소', '세포', '보호', '필요', '셀레', '항상', '도움', '프로', '폴리스', '추출물', '제품', '영양', '기능', '정보', '살펴보다', '세요', '회정', '섭취', '무척', '요원', '재료', '프로', '폴리스', '추출물', '유통', '기한', '사진', '하단', '영양제', '잇몸', '영양제', '부광약품', '웰치', '정보', '아래', '링크', '부광약품', '웰치', '오라', '오늘', '라이브', '방송', '오늘', '라이브', '방송', '녹다', '라이브', '머스', '용기', '뒷면', '웰치', '영양', '기능', '정보', '쓰이다', '건강', '잇몸', '건강', '챙기다', '관리', '필요', '뚜껑', '찍다', '사진', '아래', '누르다', '돌리다', '열리다', '구조', '버진', '밀봉', '버진', '오픈', '프로', '폴리스', '풍기다', '많이', '함유', '성분', '프로', '폴리스', '오렌지', '타원형', '모양', '손바닥', '올려놓다', '크기', '회정', '복용', '부담', '게다가', '영양제', '잇몸', '영양제', '부광약품', '웰치', '건강', '잇몸', '건강', '챙기다', '재생', '화질', '선택', '옵션', '자동', '접다', '펴다', '영양제', '잇몸', '영양제', '부광약품', '웰치', '건강', '잇몸', '건강', '챙기다', '책상', '올리다', '웰치', '치아', '잇몸', '챙기다', '웰치', '영양제', '잇몸', '영양제', '치아', '잇몸', '챙겨주다', '점심', '비타민', '함께', '넘기다', '프로', '폴리스', '함유', '면역력', '도움', '아든', '건강', '챙기다', '잇몸', '건강', '챙기다', '튼튼히', '골다공증', '막다', '바람', '불다', '무릎', '시리다', '관절', '걱정', '나이', '관절', '걱정', '권하다', '치아', '영양제', '잇몸', '영양', '실제로', '부광약품', '웰치', '건강', '잇몸', '건강', '챙기다', '관리', '기쁨', '목록', '열기', '잇몸', '영양제', '바이오', '리얼', '어버이날', '선물', '추천', '기쁨', '피곤', '잇몸', '자주', '붓다', '건강', '신경', '잇몸', '영양제', '챙기다', '잇몸', '영양제', '바이오', '리얼', '케어', '요한', '박스', '잇몸', '영양제', '바이오', '리얼', '케어', '구매', '약통', '서비스', '보내주다', '요약', '잇몸', '영양제', '바이오', '리얼', '케어', '치아', '형성', '필요', '칼슘', '항산화', '도움', '프로', '폴리스', '칼슘', '흡수', '필요', '비타민', '결합', '조직', '형성', '흡수', '필요', '비타민', '신중', '선택', '부원료', '잇몸', '영양제', '바이오', '리얼', '케어', '박스', '양이', '잇몸', '영양제', '바이오', '리얼', '케어', '건강', '치아', '원하다', '즐겁다', '식생활', '원하다', '신경', '근육', '기능', '유지', '건강', '증진', '유지', '활성', '산소', '항산화', '필요', '분출', '건강', '고민', '추천', '잇몸', '영양제', '바이오', '스리', '케어', '프로', '폴리스', '추출물', '칼슘', '비타민', '비타민', '옥수수', '수염', '추출물', '식물', '스테롤', '아보카도', '추출', '물리', '망고스틴', '추출물', '함유', '리얼', '치아', '건강', '관리', '잇몸', '영양제', '바이오', '리얼', '케어', '치아', '형성', '필요', '칼슘', '항산화', '도움', '프로', '폴리스', '비타민', '비타민', '어르신', '선물', '직접', '영양제', '챙기다', '잇몸', '영양제', '바이오', '리얼', '케어', '어버이날', '선물', '부모', '선물', '추천', '잇몸', '영양제', '바이오', '리얼', '케어', '포장', '오염', '물질', '자유롭다', '성질', '변화', '자유롭다', '정제', '산화', '보호', '외부', '충격', '손상', '보호', '잇몸', '붓다', '바이오', '리얼', '케어', '미국', '제조', '안전', '인정받다', '믿다', '잇몸', '붓다', '바이오', '리얼', '케어', '오염', '바다', '산호', '추출', '칼슘', '사용', '섭취', '부담', '낮추다', '칼슘', '흡수', '잇몸', '붓다', '리얼', '케어', '칼슘', '흡수', '비타민', '함유', '잇몸', '붓다', '바이오', '리얼', '케어', '프로', '폴리스', '함유', '항산화', '유해', '물질', '방지', '잇몸', '붓다', '바이오', '리얼', '케어', '비타민', '함유', '세포', '보호', '결합', '조직', '흡수', '도움', '잇몸', '붓다', '바이오', '리얼', '케어', '알약', '편이', '잇몸', '영양제', '바이오', '리얼', '어버이날', '선물', '추천', '재생', '화질', '선택', '옵션', '자동', '잇몸', '붓다', '바이오', '리얼', '케어', '함께', '섭취', '알로', '잇몸', '건강', '챙기다', '편하다', '잇몸', '내리다', '바이오', '리얼', '케어', '결과', '효과', '믿다', '구매', '현대', '사무실', '비타민', '부족', '비타민', '챙기다', '잇몸', '건강', '챙기다', '석조', '잇몸', '영양제', '비하다', '잇몸', '내리다', '바이오', '리얼', '케어', '퀄리티', '제품', '고가', '성비', '잇몸', '내리다', '바이오', '리얼', '어버이날', '선물', '명절', '선물', '추천', '출산', '선물', '건강', '잇몸', '영양제', '바이오', '리얼', '칼슘', '프로', '폴리스', '비타민', '비타민', '어버이날', '선물', '부모', '선물', '잇몸', '붓다', '칼슘', '명절', '선물', '출산', '선물', '공감', '블록', '카페', '메모', '보내다', '인쇄', '블록', '기쁨', '카테고리', '전체', '이전', '전국', '팔도', '방방곡곡', '가격', '인심', '성비', '부동산', '매물', '맨날', '맨날', '열심히', '뛰어다니다', '긋다', '사정', '경북', '구미', '우리동네', '위주', '뻔질나게', '싸돌아다니다', '자칭', '구미', '대표', '부동산', '정보', '통구미', '아너', '공인', '왠지', '쑤다', '잇몸', '잇몸', '영양제', '짜잔하다', '운명', '만나다', '느낌', '찌이', '기대', '화요일', '아침', '인사드리다', '작년', '피곤', '음주가무', '즐기다', '다음날', '부쩍', '잇몸', '부어오르다', '증상', '병원', '장내', '잇몸', '고생', '도저히', '잇몸', '잇몸', '영양제', '알아보다', '일반', '티비', '많이', '인사', '구입', '이후', '맨날', '티비', '인사', '자주', '자주', '믿다', '달려가다', '구미', '원호', '누리', '아파트', '단지', '상가', '약국', '번개', '쫓다', '요약', '잇몸', '인사', '소마', '잠시', '약사', '추천', '잇몸', '영양제', '메디', '바이오', '프로', '프로', '잇몸', '인사', '아이', '요가', '잇몸', '강추', '약사', '추천', '혼내다', '잇몸', '영양제', '메디', '바이오', '프로', '쬐그맣다', '구입', '그러다', '가정', '끄다', '야산', '쑤다', '머리', '쥐다', '대충', '넘다', '전문가', '기냥', '잇몸', '프로', '폴리스', '비타민', '칼슘', '아연', '셀레', '재료', '긋다', '모냥', '잇몸', '영양제', '꽤나', '괜찮다', '항산화', '항산화', '상당히', '괜찮다', '끄다', '사방팔방', '요리조리', '요일', '단맛', '뵈다', '다가구', '잇몸', '영양제', '프로', '포장지', '쓰윽', '들여다보다', '포장', '개별', '확인', '어찌', '당연지사', '이날', '처음', '구입', '개봉', '잇몸', '영양제', '메디', '바이오', '프로', '요한', '너구리', '오징어', '우치', '이쁘다', '프로', '향기', '솔솔', '뿜다', '향기', '향기', '상당히', '불편', '아마', '성분', '향기', '아침', '출근', '사무실', '냄새', '맡다', '생수', '기냥', '벌컥', '벌컥', '삼키다', '부담', '적다', '향기', '몹시', '길다', '잇몸', '꾸욱', '참다', '섭취', '요일', '대략', '섭취', '괜찮다', '부쩍', '피곤', '자주', '잇몸', '붓다', '괜찮다', '성분', '꽤나', '자칭', '타칭', '구미', '대표', '정보통', '아너', '공인', '느낌', '쑤다', '괜찮다', '화요일', '아침', '시원시원', '잇몸', '영양제', '메디', '바이오', '프로', '이야기', '이웃', '남다', '화요일', '언제나', '알차다', '보내다', '아너', '슬다', '한우리', '동네', '달려오다', '혜민', '약국', '경상북도', '구미시', '누리', '타운', '영양제', '목록', '열기구', '유산균', '바이오', '가이아', '로젠', '잇몸', '영양제', '영양제', '리뷰', '건강', '구취', '제거', '유산균', '바이오', '가이아', '로젠', '바이오', '아프다', '로데', '로젠', '건강', '여성', '모유', '유래', '모유', '유산균', '러스', '루테리', '건강', '기능', '식품', '마크', '확인', '가능', '안심', '구강', '유산균', '냄새', '원인', '입속', '세균', '걱정', '구강', '건강', '관심', '높다', '의사', '추천', '영양제', '바이오', '아프다', '로데', '로젠', '잇몸', '출혈', '잇몸', '영양제', '필요', '천천히', '녹다', '섭취', '매일', '챙기다', '바이오', '아프다', '로데', '로젠', '구강', '유산균', '장염', '민성', '대장', '증후군', '도움', '요구', '세균', '직접', '염증', '유발', '면역', '작용', '염증', '악화', '요동', '영상', '장염', '민성', '대장', '증후군', '구강', '유산균', '토끼', '다잡다', '장염', '민성', '대장', '증후군', '구강', '유산균', '유산균', '많이', '계시다', '구강', '나쁘다', '세균', '염증', '유발', '민트', '사탕', '부담', '녹다', '구강', '유산균', '바이오', '아프다', '로데', '로젠', '프로바이오틱', '구강', '주로', '시너지', '잇몸', '영양제', '구강', '유산균', '바이오', '가이아', '믹스', '홈페이지', '믹스', '공식', '온라인', '스토어', '건강', '솔루션', '제공', '전문', '기업', '바이오', '가이아', '냄새', '원인', '잇몸', '출혈', '구강', '건강', '입속', '세균', '구취', '제거', '구강', '유산균', '잇몸', '영양제', '의사', '추천', '건강', '기능', '식품', '마크', '확인', '프로', '유산균', '바이오', '공감', '메모', '보내다', '인쇄', '블록', '영양제', '카테고리', '전체', '이전', '얼마', '어머니', '잇몸', '붓다', '구강', '세정', '구매', '꾸준히', '치아', '잇몸', '영양제', '이것저것', '잇몸', '알아보다', '인사', '알파', '섭취', '잇몸', '영양제', '인사', '알파', '형성', '필요', '도움', '칼슘', '함량', '높다', '영양제', '섭취', '잇몸', '영양제', '잇몸', '영양제', '잇몸', '광고', '인사', '유명', '제품', '어머니', '친구', '인사', '알파', '계시다', '고요', '약국', '약사', '추천', '어머니', '친구', '인도', '계시다', '잇몸', '영양제', '엄마', '인사', '알파', '잇몸', '영양제', '항산화', '효과', '플로', '보노', '보통', '피부', '플로', '보노', '잇몸', '도움', '프로', '폴리스', '항산화', '성분', '함유', '물질', '덕분', '영양제', '잇몸', '잇몸', '치아', '동시', '케어', '잇몸', '영양제', '영양제', '추천', '제품', '사용', '잇몸', '영양제', '건강', '기능', '식품', '살짝', '디자인', '화살표', '방향', '실링', '당기다', '표시', '화살', '노란색', '인사', '알파', '처음', '눈길', '처리', '방습', '비닐', '인사', '알파', '잇몸', '영양제', '케이스', '직사광선', '차단', '불투명', '용기', '사용', '게다가', '영양제', '영양제', '케이스', '내용물', '케이스', '절반', '혹은', '절반', '인사', '알파', '잇몸', '영양제', '실링', '방습', '비닐', '빼내다', '입구', '가득', '차다', '잇몸', '영양제', '명색', '잇몸', '영양제', '겨우', '플로', '폴리스', '잇몸', '결합', '조직', '형성', '비타민', '잇몸', '면역', '정상', '기능', '도움', '아연', '유해', '산소', '세포', '보호', '필요', '셀렌', '비로소', '영양제', '겸하다', '잇몸', '영양제', '완성', '브랜드', '국내', '알려지다', '잇몸', '영양제', '식물', '스테롤', '인사', '알파', '단순히', '그치다', '알차다', '원료', '구성', '잇몸', '영양제', '인사', '알파', '잇몸', '영양제', '잇몸', '붓다', '잇몸', '함께', '꾸준히', '매일', '섭취', '잇몸', '거울', '얼굴', '안쪽', '잇몸', '붓다', '혹은', '잇몸', '아프다', '관리', '역시', '아프다', '관심', '아프다', '호들갑', '떨다', '잇몸', '건강', '잇몸', '영양', '꾸준히', '섭취', '기존', '광고', '잇몸', '영양제', '잇몸', '성분', '많이', '잇몸', '영양제', '추천', '제품', '요인', '알파', '원료', '함량', '설명서', '첨부', '박스', '단순', '주원료', '부원료', '원료', '확인', '후기', '잇몸', '영양제', '본인', '도움', '잇몸', '고르다', '잇몸', '영양제', '잇몸', '알파', '재생', '화질', '선택', '옵션', '자동', '접다', '펴다', '잇몸', '영양제', '잇몸', '인사', '알파', '인사', '알파', '잇몸', '영양제', '원료', '피쉬', '콜라겐', '펩타이드', '포함', '덕분', '어머니', '열심히', '챙기다', '영양제', '가족', '영양제', '인사', '알파', '가득', '구매', '성비', '잇몸', '영양제', '인사', '플러스', '프리미엄', '잇몸', '영양제', '사디', '플러스', '프리미엄', '부모', '선물', '프로', '폴리스', '영양제', '어버이날', '선물', '추천', '영양제', '추천', '잇몸', '영양제', '추천', '사디', '플러스', '프리미엄', '영양', '제품', '건강', '잇몸', '건강', '구강', '건강', '잇몸', '영양제', '칼슘', '영양제', '칼슘', '면역', '강화', '질환', '잇몸', '질환', '예방', '명절', '선물', '추석', '선물', '설날', '선물', '건강', '네이버', '쇼핑', '스마트', '스토어', '사디', '플러스', '프리미엄', '리버', '쎄다', '건강', '기능', '식품', '전문', '쇼핑몰', '잇몸', '영양제', '영양제', '사디', '플러스', '프리미엄', '입다', '건강', '지키다', '현명', '방법', '인사', '플러스', '맞추다', '구강', '관리', '입다', '치아', '잇몸', '건강관리', '건강', '정상', '면역', '기능', '비타민', '건강', '생활', '복합', '기능', '영양제', '잇몸', '영양제', '영양제', '사디', '플러스', '프리미엄', '제품', '프로', '폴리스', '추출물', '플라보노이드', '활성', '산소', '억제', '항산화', '물질', '탄산칼슘', '형성', '필요', '성분', '옥수수', '수염', '추출', '분말', '콜라겐', '식물', '스테롤', '소자', '아보카도', '치아', '형성', '필요', '영양', '성분', '담다', '미국', '생산', '완제품', '정식', '통관', '절차', '거치다', '정식', '수입', '제품', '잇몸', '영양제', '영양제', '사디', '플러스', '프리미엄', '제품', '모습', '건강', '마찬가지', '칼슘', '의하다', '석회', '섭취', '음식', '씹다', '소화', '쉽다', '분비', '음식', '건강', '치아', '건강', '잇몸', '씹다', '기능', '발음', '기능', '원활히', '의미', '개별', '휴대', '언제', '섭취', '남편', '살짝', '풍치', '조심', '도움', '영양제', '인사', '플러스', '제품', '매일매일', '꾸준히', '치아', '잇몸', '건강', '챙기다', '요인', '사디', '플러스', '프리미엄', '재생', '화질', '선택', '옵션', '자동', '인사', '플러스', '프리미엄', '일정', '함께', '섭취', '치아', '약하다', '부모', '선물', '치아', '붓다', '아프다', '불편', '관리', '필요', '신경', '근육', '기능', '지르다', '관리', '필요', '항산화', '작용', '필요', '건강', '지켜보다', '세요', '잇몸', '영양제', '영양제', '사디', '플러스', '프리미엄', '분말', '형태', '압축', '섭취', '몸속', '빠르다', '녹다', '흡수', '캡슐', '형태', '고향', '치아', '잇몸', '건강', '미리', '예방', '차원', '잇몸', '영양제', '영양제', '사디', '플러스', '프리미엄', '꾸준히', '섭취', '요인', '플러스', '프리', '잇몸', '약하다', '염증', '예방', '치아', '잇몸', '영양제', '건강', '사디', '플러스', '프리미엄', '잇몸', '약하다', '염증', '예방', '치아', '잇몸', '영양제', '잇몸', '영양제', '사디', '플러스', '프리미엄', '부모', '선물', '프로', '폴리스', '영양제', '어버이날', '선물', '추천', '영양제', '추천', '잇몸', '영양제', '추천', '사디', '플러스', '프리미엄', '영양', '제품', '건강', '잇몸', '건강', '구강', '건강', '잇몸', '영양제', '칼슘', '영양제', '칼슘', '면역', '강화', '질환', '잇몸', '질환', '예방', '명절', '선물', '추석', '선물', '설날', '선물', '잇몸', '제품', '시중', '판매', '모습', '어렵다', '접하다', '잇몸', '영양제', '약국', '많이', '구비', '보조', '방법', '치주', '질환', '궁극', '치료', '염증', '치석', '발생', '증상', '검진', '원인', '밝히다', '잇몸', '영양제', '섭취', '면역력', '증가', '영양분', '균형', '맞추다', '일시', '호전', '잇몸', '돌려놓다', '실질', '치료', '필요', '염증', '음료', '마시다', '또는', '시리다', '아프다', '일상생활', '무리', '빠르다', '시일', '해결', '잇몸', '내려가다', '녹다', '치아', '발치', '결과', '결국', '잇몸', '자주', '붓다', '쉽다', '가라앉다', '내려가다', '과정', '증거', '잇몸', '영양제', '조속히', '내원', '진료', '추천', '무섭다', '고민', '병원', '걱정', '한시름', '덜다', '이유', '컴퓨터', '입력', '데이터', '맞추다', '마취', '주사', '무통', '마취', '직접', '가하다', '이용', '물방울', '레이저', '사용', '통증', '출혈', '대표', '원장', '연세대학교', '의사', '강의', '잇몸', '전문가', '대학병원', '다방면', '경험', '테크닉', '계시다', '믿다', '현직', '치주과', '교수', '선생', '봐주다', '걱정', '마지막', '잇몸', '붓다', '치은염', '각종', '질환', '또는', '발병', '이야기', '진단', '한번', '권장', '오늘', '포스팅', '마무리', '건강', '관심', '친구', '만나다', '빼먹다', '얘기', '영양제', '널다', '영양제', '챙기다', '항상', '얘기', '매번', '유산균', '유산균', '얘기', '처음', '구강', '유산균', '얘기', '구강', '유산균', '챙기다', '매일', '싣다', '친구', '중요', '구강', '유산균', '강추', '구강', '유산균', '관심', '구강', '유산균', '라덴', '시중', '구강', '유산균', '효과', '뛰어나다', '제품', '펴다', '논문', '검증', '라덴', '구강', '유산균', '구강', '미생물', '균형', '맞추다', '문제', '근본', '원인', '해결', '도움', '영양제', '아이', '충치', '예방', '잇몸', '영양제', '부모', '선물', '가족', '가족', '유산균', '최초', '구강', '전문', '연구소', '제품', '라덴', '믿음', '한국', '미국', '특허', '균주', '유산균', '생산', '라덴', '어린이', '구강', '추출', '구강', '특화', '구강', '유산균', '임산부', '아이', '유아', '노년', '남녀노소', '안심', '구강', '유산균', '라덴', '방법', '사탕', '라덴', '평소', '꿀꺽', '삼키다', '어렵다', '잠들다', '녹이다', '영양제', '다달', '아이', '거부감', '구강', '유산균', '네이버', '쇼핑', '판매', '판매량', '돌파', '만족', '후기', '달하다', '라덴', '구강', '유산균', '매일', '챙기다', '구강', '케어', '마스크', '그나마', '신경', '쓰이다', '많이', '만나다', '직업', '구강', '케어', '신경', '쓰이다', '구강', '유산균', '관리', '냠냠', '녹다', '구강', '유산균', '자사', '신규', '회원', '가입', '쿠폰', '제공', '이벤트', '기회', '할인', '행사', '기간', '쿠폰', '발급', '친구', '추천', '이벤트', '회원', '가입', '친구', '아이디', '모두', '적립금', '지급', '추천인', '입력', '적립금', '지급', '유산균', '유산균', '넘다', '구강', '유산균', '챙기다', '구강', '유산균', '얼마', '사랑니', '발치', '잇몸', '약하다', '잇몸', '영양제', '알아보다', '더블', '발견', '꾸준히', '더블', '치아', '건강', '잇몸', '붓다', '붓다', '방지', '치아', '면역', '관계', '정상', '면역', '기능', '건강', '영양소', '비타민', '미네랄', '관리', '영양소', '부족', '치아', '필요', '영양소', '잇몸', '영양제', '더블', '캐나다', '생산', '완제품', '직수입', '제품', '잇몸', '붓다', '한정', '치아', '도음', '비타민', '칼슘', '프로', '폴리스', '아연', '비타민', '비타민', '비타민', '우리', '칼슘', '치아', '존재', '식사', '영양', '균형', '활동', '부족', '칼슘', '손실', '쉽다', '칼슘', '따로', '챙기다', '잇몸', '붓다', '늦다', '꾸준히', '건강', '주원료', '부원료', '밀크', '추출물', '옥수수', '수염', '추출', '분말', '아보카도', '열매', '계피', '줄기', '껍질', '추출', '분말', '모두', '성분', '읽다', '동생', '잇몸', '붓다', '고생', '많이', '선물', '방법', '박스', '맞다', '평소', '잇몸', '영양제', '필요', '칼슘', '섭취', '부족', '규칙', '습관', '갖다', '부족', '방법', '채우다', '더블', '유라', '사랑니', '뽑다', '잇몸', '붓다', '진작', '치료', '항생제', '항생제', '설사', '장기', '잇몸', '영양제', '시작', '잇몸', '붓다', '더블', '잇몸', '영양제', '재생', '화질', '선택', '옵션', '자동', '잇몸', '붓다', '더블', '잇몸', '영양제', '잇몸', '구내염', '안쪽', '상처', '면역력', '떨어지다', '생기다', '프로', '폴리스', '면역', '떨어지다', '느낌', '유난히', '피곤', '한정', '알약', '제품', '아이', '제품', '굉장히', '제품', '같이', '구경', '더블', '프로', '폴리스', '정치', '면역', '기능', '항산화', '멀티', '비타민', '더블', '유구', '잇몸', '신체', '면역', '기능', '방법', '잇몸', '영양', '제프리', '벤트', '네이처', '잇몸', '영양', '제프리', '벤트', '네이처', '백세', '프리', '벤트', '약국', '전문', '기반', '차별화', '건강식품', '브랜드', '국내외', '우수', '건강식품', '제조업체', '제휴', '품질', '프리미엄', '제품', '합리', '가격', '공급', '일정', '섭취', '판매', '잇몸', '영양', '제프리', '벤트', '네이처', '형성', '필요', '신경', '근육', '기능', '유지', '정상', '혈액', '응고', '골다공증', '발생', '위험', '감소', '도움', '칼슘', '항산화', '도움', '프로', '폴리스', '추출물', '칼슘', '흡수', '이용', '형성', '유지', '골다공증', '발생', '위험', '감소', '도움', '비타민', '함유', '잇몸', '영양', '제프리', '벤트', '네이처', '식물', '스테롤', '원료', '함유', '이산화규소', '첨가물', '첨가', '건강', '기능', '식품', '잇몸', '영양', '제프리', '벤트', '네이처', '탑재', '생수', '화질', '선택', '옵션', '자동', '접다', '펴다', '잇몸', '영양', '제프리', '벤트', '네이처', '잇몸', '영양', '제프리', '벤트', '네이처', '가지', '첨가물', '이산화규소', '아리다', '마그네슘', '착색', '감미료', '합성', '향료', '록시', '프로필', '메틸', '로스', '복시', '메틸', '로스', '칼슘', '첨가물', '함유', '잇몸', '영양', '제프리', '벤트', '네이처', '원료', '영국', '해조', '칼슘', '다시마', '미역', '바다', '식물', '원료', '추출', '해조', '칼슘', '주원료', '함유', '조류', '의하다', '소화', '해조', '칼슘', '소화', '흡수', '잇몸', '영양', '제프리', '벤트', '네이처', '항산화', '건강관리', '도움', '주산', '프로', '폴리스', '칼슘', '흡수', '돕다', '형성', '골다공증', '발생', '위험', '감소', '건조', '효모', '비타민', '함유', '외부', '오염', '걱정', '개별', '포장', '위생', '휴대', '잇몸', '영양', '제프리', '벤트', '네이처', '치아', '건강', '유지', '필요', '중장년', '골격', '형성', '필요', '성장기', '청소년', '골다공증', '발생', '위험', '감소', '필요', '항산화', '성분', '보충', '필요', '이러하다', '프리', '벤트', '네이처', '탑정', '자연', '유래', '원료', '합성', '첨가물', '아이', '잇몸', '영양', '제프리', '벤트', '프리', '벤트', '약국', '전문', '영양', '프리', '벤트', '공식', '스토어', '잇몸', '영양제', '잇몸', '건강', '잇몸', '영양제', '잇몸', '케어', '잇몸', '질환', '예방', '건강', '영양제', '잇몸', '골다공증', '위험', '감소', '골다공증', '영양제', '영양제', '추천', '잇몸', '영양제', '추천', '어버이날', '선물', '부모', '선물', '건강', '잇몸', '영양제', '네오', '웰스', '추천', '얼마', '스틱', '싣다', '잇몸', '철철', '넘다', '무섭다', '꾸준히', '해결', '영양제', '알아보다', '잇몸', '영양제', '웰스', '손가락', '무릎', '관절', '건강', '건강', '기능', '식품', '브랜드', '덜다', '영양제', '웰스', '프로', '폴리스', '추출물', '칼슘', '비타민', '함유', '관리', '잇몸', '영양제', '요양', '치석', '제거', '잘다', '관리', '필요', '보내다', '일회', '캡슐', '함께', '섭취', '잇몸', '영양제', '네오', '웰스', '영양제', '플러스', '잇몸', '영양제', '가족', '치아', '건강', '영양제', '프로', '폴리스', '추출물', '항산화', '작용', '돕다', '칼슘', '형성', '필요', '신경', '근육', '기능', '유지', '정상', '혈액', '응고', '골다공증', '발생', '위험', '감소', '도움', '비타민', '칼슘', '흡수', '치아', '잇몸', '영양제', '플러스', '남녀노소', '치아', '건강관리', '관심', '챙기다', '프로', '폴리스', '추출물', '함유', '칼슘', '함유', '비타민', '함유', '지부', '원료', '영양소', '가득', '영양제', '플러스', '건강관리', '짙다', '오렌지색', '컬러', '영양제', '캡슐', '사이즈', '많이', '넘기다', '쉽다', '치아', '잇몸', '영양제', '프로', '폴리스', '추출물', '성분', '인체', '유해', '황성', '산소', '막다', '세포', '손상', '예방', '꾸준히', '챙기다', '잇몸', '영양제', '네오', '웰스', '칼슘', '함께', '섭취', '비타민', '영양제', '웰스', '잇몸', '건강', '챙기다', '세요', '프리미엄', '플러스', '잇몸', '붓다', '피나다', '건강', '관리', '필요', '부모', '선물', '영양제', '웰스', '플러스', '잇몸', '붓다', '피나다', '잇몸', '건강관리', '필요', '꾸준히', '복용', '나이', '잇몸', '치아', '잇몸', '더욱', '맛있다', '씹다', '즐기다', '잇몸', '관리', '네오', '웰스', '만나다', '부모', '선물', '영양제', '구강', '건강', '네오', '웰스', '비타민', '영양제', '잇몸', '잇몸', '건강', '잇몸', '건강', '영양제', '잇몸', '영양제', '잇몸', '영양제', '잇몸', '영양제', '추천', '잇몸', '재생', '잇몸', '통증', '건강', '영양제', '칼슘', '영양제', '프로', '폴리스', '영양제', '잇몸', '붓다', '염증', '잇몸', '영양제', '클리너', '리오', '밸런스', '케어', '평소', '피곤', '잇몸', '염증', '생기다', '잇몸', '건강', '신경', '구석구석', '신경', '닦다', '클리너', '가글', '완벽', '구강', '케어', '검색', '잇몸', '영양제', '클리너', '리오', '밸런스', '케어', '클리너', '리오', '밸런스', '케어', '구강', '유해', '억제', '유익', '늘리다', '근본', '구강', '환경', '개산', '특허', '구강', '유산', '방법', '시도', '구강', '염증', '근본', '원인', '해결', '잇몸', '붓다', '방법', '필요', '잇몸', '영양제', '요구', '강속', '유해', '억제', '유익', '늘리다', '특허', '구강', '유산균', '함께', '비타민', '자일리톨', '비타민', '저분자', '콜라겐', '칼슘', '마그네슘', '필수', '영양소', '함유', '구강', '유산균', '필수', '영양소', '챙기다', '양치', '잠들다', '한정', '녹이다', '잇몸', '건강', '쉽다', '케어', '잇몸', '영양제', '그동안', '고민', '잇몸', '붓다', '잇몸', '염증', '벗어나다', '기대', '아무리', '구석구석', '닦다', '칫솔', '구강', '완벽', '커버', '구강', '케어', '제품', '그동안', '잇몸', '염증', '잇몸', '붓다', '고통', '불편', '겪다', '취하다', '구강', '케어', '추천', '근본', '구강', '환경', '개선', '잇몸', '붓다', '잇몸', '염증', '잇몸', '가라앉다', '구강', '문제', '도움', '구강', '유산균', '클리너', '리오', '밸런스', '구강', '케어', '구강', '문제', '원인', '유해', '생성', '억제', '건강', '구강', '환경', '역할', '개봉', '포장', '총알', '구강', '제품', '유산균', '보호', '개별', '포장', '위생', '보관', '요약', '비타민', '생기다', '크기', '작다', '두께', '살짝', '두껍다', '요한', '녹이다', '크기', '녹이다', '챙기다', '구강', '유산균', '아이', '구강', '유산균', '가족', '챙기다', '밸런스', '구강', '케어', '갈아타다', '아무래도', '구강', '건강', '예상', '맛있다', '많이', '달다', '아이', '거부', '싱크', '잇몸', '건강', '도움', '영양소', '잇몸', '영양제', '한정', '녹이다', '구강', '케어', '잇몸', '영양제', '재생', '화질', '선택', '옵션', '자동', '접다', '펴다', '잇몸', '양제', '냉장', '보관', '냉장고', '서양', '녹이다', '평소', '양치', '출혈', '잇몸', '붓다', '잇몸', '염증', '불편', '믿다', '유산균', '제조', '시설', '만들어지다', '잇몸', '영양제', '밸런스', '구강', '케어', '클리너', '리오', '밸런스', '케어', '구강', '유산균', '잇몸', '염증', '잇몸', '영양제', '잇몸', '내리다', '잇몸', '붓다', '클리너', '클리너', '리오', '밸런스', '케어', '클리너', '케어', '밸런스', '케어', '구강', '관리', '이웃', '잇몸', '건강', '괜찮다', '아직', '괜찮다', '부모', '잇몸', '약하다', '브릿지', '시술', '많이', '치아', '잇몸', '관리', '항상', '관심', '어금니', '자주', '붓다', '염증', '생기다', '잇몸', '도움', '영양제', '고민', '바이오', '리얼', '제품', '이용', '기회', '생기다', '선물', '바이오', '리얼', '케어', '잇몸', '영양제', '치아', '형성', '필요', '칼슘', '더불어', '항산화', '도움', '프로', '폴리스', '비타민', '비타민', '건강', '도움', '제품', '잇몸', '건강', '영양제', '챙기다', '잇몸', '영양제', '틈틈히', '복용', '잇몸', '영양제', '효과', '잇몸', '건강', '챙기다', '도움', '건강', '잇몸', '돌아오다', '기대', '약통', '함께', '보내주다', '바이오', '센스', '영양제', '함께', '챙기다', '보관', '여행', '요약', '출산', '쉽다', '잇몸', '치아', '건강', '걱정', '산모', '건강', '도움', '출산', '앞두다', '임산부', '출산', '선물', '혹은', '부모님', '어르신', '명절', '선물', '잇몸', '영양제', '잇몸', '영양제', '비하다', '퀄리티', '성비', '제품', '선물', '바이오', '리얼', '잇몸', '영양', '제주', '알약', '크기', '넘기다', '편하다', '사이즈', '잇몸', '건강', '챙기다', '아침', '점심', '저녁', '규칙', '복용', '대한', '부담', '내려놓다', '바쁘다', '현대', '사회', '사무실', '붙박이', '직장인', '햇빛', '기회', '죠바', '리얼', '케어', '잇몸', '건강', '부족', '비타민', '보충', '알로', '건강', '관리', '제품', '바이오', '리얼', '케어', '꾸준히', '복용', '잇몸', '건강', '되돌리다', '기대', '치아', '영양제', '건강', '추가', '구성', '잇몸', '치약', '바이오', '리얼', '치아', '영양제', '건강', '추가', '구성', '잇몸', '어리다', '관리', '평생', '치아', '관리', '소홀', '건강', '빨간불', '켜지다', '금액', '되돌리다', '상태', '치아', '잇몸', '잇몸', '영양제', '햇살', '마을', '햇살', '인사', '액티브', '햇살', '마을', '햇살', '인사', '액티브', '현직', '약사', '설계', '개발', '제품', '믿음', '햇살', '마을', '햇살', '인사', '액티브', '햇살', '마을', '햇살', '인사', '액티브', '항상', '도움', '프로', '폴리스', '주원료', '함유', '치아', '형성', '필요', '칼슘', '비타민', '함유', '비타민', '기능', '유지', '필요', '성분', '딱딱', '필요', '성분', '쏙쏙', '고르다', '만들어지다', '역시', '약사', '설립', '브랜드', '믿음', '게다가', '수익', '일부', '어린이', '치료', '재단', '기부', '제품', '햇살', '마을', '이튼', '햇살', '인사', '액티브', '기부', '동참', '참여', '치아', '잇몸', '건강', '동시', '챙기다', '닿다', '부원료', '아보카도', '추출물', '옥수수', '수염', '추출', '말리', '생선', '콜라겐', '식물', '스테롤', '엄선', '재료', '어머니', '아버지', '잇몸', '영양제', '햇살', '마을', '햇살', '인사', '액티브', '함께', '잇몸', '영양제', '햇살', '마을', '햇살', '인사', '액티브', '재생', '화질', '선택', '옵션', '자동', '잇몸', '영양제', '햇살', '마을', '햇살', '인사', '액티브', '보통', '칼슘', '섭취', '필요', '소년', '어린이', '건강', '건강관리', '필요', '중장년', '연령대', '함께', '섭취', '가족', '제품', '교정', '잇몸', '관리', '잇몸', '좋아지다', '칼슘', '섭취', '꾸준히', '햇살', '마을', '햇살', '인사', '액티브', '일석', '몸속', '영양', '완전', '햇살', '마을', '햇살', '인사', '액티브', '한일', '제품', '보통', '기본', '제공', '성비', '꾸준히', '리뷰', '많이', '정제', '편하다', '넘기다', '꾸준히', '식품', '의약', '처가', '인정', '건강', '기능', '식품', '성분', '꼼꼼히', '살펴보다', '치아', '잇몸', '잇몸', '영양제', '안성맞춤', '한번', '편리', '포장', '개별', '관리', '편하다', '휴대', '편하다', '장점', '놀다', '여행', '챙기다', '햇살', '마을', '햇살', '인사', '액티브', '꾸준히', '구용', '치아', '관리', '잇몸', '관리', '햇살', '마을', '햇살', '인사', '액티브', '관리', '보시기', '바라다', '남기다', '참고', '바라다', '햇살', '마을', '햇살', '인사', '액티브', '추천', '이튼', '햇살', '인사', '액티브', '플러스', '영양제', '치약', '추가', '상품', '선택', '햇살', '마을', '햇살', '마을', '햇살', '마을', '제품', '현직', '약사', '설계', '제품', '잇몸', '붓다', '잇몸', '내리다', '걱정', '잇몸', '영양제', '치아', '교정', '교정', '확실히', '장치', '떼다', '잇몸', '데미지', '하악', '일부', '잇몸', '내리다', '육안', '약간', '백세', '시대', '잇몸', '걱정', '너무나', '앞서다', '노년', '심하다', '찾아오다', '각종', '고통', '다소', '젊다', '나이', '시작', '잇몸', '영양제', '뇌리', '스치다', '다큐', '잇몸', '케어', '우선', '챙기다', '인사', '플러스', '시작', '약사', '닷컴', '인사', '플러스', '잇몸', '붓다', '인사', '플러스', '골드', '약사', '닷컴', '전문', '약사', '소개', '가족', '건강', '기능', '식품', '약사', '닷컴', '도착', '잇몸', '영양제', '이름', '인사', '플러스', '링크', '구매', '가능', '살펴보다', '박스', '잇몸', '내리다', '잇몸', '부음', '잇몸', '영양제', '잇몸', '케어', '모두', '담다', '인사', '플러스', '프로', '폴리스', '아보카도', '추출물', '옥수수', '추출물', '비타민', '함유', '기능', '유지', '필요', '요소', '갖추다', '용량', '아래', '이미지', '참고', '인사', '플러스', '재생', '화질', '선택', '옵션', '자동', '인사', '플러스', '잇몸', '내리다', '걱정', '시작', '인사', '플러스', '알약', '크기', '냄새', '물이랑', '같이', '넘기다', '같이', '한방', '삼키다', '크기', '부담', '잇몸', '용량', '가격', '성비', '잇몸', '영양제', '크기', '영양제', '프로', '폴리스', '비타민', '산호', '칼슘', '비타민', '잇몸', '붓다', '나이', '잇몸', '내리다', '조금씩', '걱정', '시작', '잇몸', '영양제', '걱정', '덜다', '인사', '플러스', '꿀꺽', '부광약품', '웰치', '부광약품', '약품', '웰치', '잇몸', '영양제', '영양제', '건강', '잇몸', '건강', '잇몸', '건강관리', '건강', '잇몸', '웰치', '잇몸', '웰치', '이유', '잇몸', '건강', '부광약품', '웰치', '프로', '폴리스', '치아', '건강', '기능', '식품', '건강', '건강', '영양제', '건강', '기능', '식품', '청춘', '시절', '돌아보다', '날씨', '춥다', '얼음', '음료', '마시다', '다르다', '잇몸', '건강', '좋아지다', '나이', '치아', '교정', '유지', '장치', '항상', '음식', '조심스럽다', '잇몸', '건강관리', '신경', '쓰이다', '장수', '시대', '살아가다', '현대인', '생활', '건강', '잇몸', '건강', '생활', '최고', '덕목', '건강', '관리', '계시다', '담배', '많이', '피우다', '잇몸', '건강관리', '제로', '남편', '때리다', '잇몸', '오래', '걸리다', '많이', '나중', '공감', '그만큼', '잇몸', '건강', '중요', '인지', '기회', '고치', '영양제', '섭취', '열심히', '관리', '건강', '잇몸', '건강', '현대인', '생활', '건강', '치아', '잇몸', '건강', '전신', '건강', '영양', '미치다', '더욱', '건강', '중요', '인지', '발전', '사회', '인류', '문명', '맛있다', '음식', '세상', '맛나', '향연', '만끽', '잇몸', '건강', '건강', '관리', '준비', '영양제', '계다', '내치다', '건강', '잇몸', '건강', '영양제', '계시다', '부광약품', '웰치', '영구', '유지', '장치', '건강', '잇몸', '영양제', '섭취', '기회', '건강', '잇몸', '선택', '웰치', '섭취', '부광약품', '웰치', '영양제', '부광약품', '웰치', '부광약품', '웰치', '영양소', '알아보다', '웰치', '프로', '폴리스', '추출물', '탄산칼슘', '비타민', '비타민', '황산', '산화아연', '셀렌', '나트륨', '식물', '스테롤', '옥수수', '수염', '말리', '코엔', '자임', '콜라겐', '영양소', '함유', '형성', '필요', '칼슘', '함유', '항산화', '도움', '플로', '폴리스', '함유', '플라보노이드', '함유', '웰치', '웰치', '영양소', '담기다', '단순히', '영양제', '웰치', '형성', '도움', '원료', '담다', '건강', '잇몸', '건강', '항산화', '관리', '도움', '추천', '이유', '부광약품', '웰치', '부광약품', '웰치', '치아', '영양제', '영양', '정보', '소개', '프로', '폴리스', '추출물', '항산화', '도움', '칼슘', '형성', '필요', '신경', '근육', '기능', '유지', '필요', '정상', '혈액', '응고', '필요', '골다공증', '발생', '위험', '감소', '도움', '비타민', '결합', '조직', '형성', '기능', '유지', '필요', '흡수', '필요', '항산화', '작용', '유해', '산소', '세포', '보호', '필요', '비타민', '골다공증', '발생', '위험', '감소', '도움', '칼슘', '흡수', '필요', '형성', '필요', '에너지', '이용', '필요', '정상', '면역', '기능', '필요', '정상', '세포', '분열', '필요', '셀레', '유해', '산소', '세포', '보호', '필요', '웰치', '영양', '기능', '살펴보다', '단순히', '잇몸', '건강', '영양제', '건강', '잇몸', '건강', '도움', '건강', '기능', '식품', '부광약품', '웰치', '부광약품', '웰치', '식물', '스테롤', '부원료', '슈퍼', '푸드', '아보카도', '추출', '분말', '함유', '세계', '대수', '펴다', '푸드', '토마토', '추출물', '함유', '토마토', '라이', '섭취', '항산화', '도움', '웰치', '영양', '기능', '부광약품', '웰치', '건강', '기능', '식품', '건강', '잇몸', '건강', '지키다', '칼슘', '아연', '플로', '폴리스', '비타민', '비타민', '셀레', '망간', '복합', '성분', '배합', '형성', '항산화', '도움', '영양제', '최강', '장점', '부광약품', '웰치', '부광약품', '웰치', '분량', '건강', '잇몸', '건강관리', '시작', '섭취', '늘리다', '웰치', '섭취', '섭취', '부광약품', '웰치', '그동안', '잇몸', '영양제', '영양제', '따로', '챙기다', '섭취', '기억', '웰치', '섭취', '건강', '잇몸', '건강', '챙기다', '부광약품', '웰치', '나이', '먼저', '건강', '적신호', '잇몸', '아프다', '치아', '상해', '치료', '시작', '시점', '스트레스', '심하다', '잇몸', '아프다', '힘들다', '웰치', '섭취', '잇몸', '건강관리', '도움', '느낌', '부광약품', '웰치', '치질', '잇몸', '잇몸', '약하다', '웰치', '추천', '요세', '장수', '시대', '살아가다', '치아', '건강', '지키다', '부광약품', '웰치', '나이', '순간', '관리', '젊다', '안심', '관리', '건강', '잇몸', '건강', '생활', '입다', '치아', '잇몸', '건강', '잃다', '전신', '건강', '잃다', '잊다', '부광약품', '웰치', '부광약품', '웰치', '섭취', '건강', '건강', '챙기다', '웰치', '치아', '건강', '혜자', '울다', '건강', '기능', '식품', '부광약품', '웰치', '웰치', '주황색', '한번', '섭취', '건강', '칼슘', '영양제', '잇몸', '건강', '건강', '두루두루', '챙기다', '부광약품', '웰치', '부광약품', '웰치', '복용', '방법', '섭취', '넘기다', '편하다', '함께', '드세다', '부광약품', '웰치', '치아', '건강관리', '잇몸', '영양제', '추천', '영양제', '추천', '부광약품', '웰치', '섭취', '웰치', '부광약품', '웰치', '그동안', '부광약품', '치약', '요구', '청결', '제품', '칫솔', '그동안', '부광약품', '출시', '구강', '건강', '제품', '사용', '경험', '그동안', '경험', '부광약품', '제품', '데일리', '관리', '부광약품', '웰치', '건강', '기능', '식품', '건강', '잇몸', '건강', '건강', '챙기다', '혜자', '효자', '영양제', '풍요롭다', '생활', '건강', '낙원', '부광약품', '슬로건', '맞다', '영양제', '웰치', '겨울', '건강', '웰치', '시작', '섭취', '웰치', '추천', '체크', '정상', '면역', '기능', '필요', '치아', '건강관리', '필요', '항산화', '관리', '필요', '지시', '신경', '근육', '기능', '유지', '필요', '골다공증', '발생', '위험', '걱정', '칼슘', '섭취', '필요', '부광약품', '웰치', '부광약품', '웰치', '제품', '정보', '열람', '구매', '희망', '링크', '참고', '부광약품', '공식', '웰치', '공식', '아래', '참고', '건강', '도움', '바라다', '웰치', '섭취', '잇몸', '건강', '도움', '네이버스', '마트', '스토어', '부광약품', '공식', '부광약품', '공식', '온라인', '네이버', '쇼핑', '스마트', '스토어', '믿다', '제약', '회사', '부광약품', '온라인', '공식', '홈페이지', '네이버스', '마트', '스토어', '부광약품', '웰치', '부광약품', '웰치', '오라', '오늘', '라이브', '방송', '오늘', '라이브', '방송', '녹다', '라이브', '머스', '포스팅', '제품', '무상', '제공받다', '작성', '후기', '이웃', '잇몸', '영양제', '챙기다', '치아', '교정', '결혼', '아무래도', '늦다', '나이', '치아', '교정', '시작', '잇몸', '영양제', '챙기다', '찰나', '바이오', '리얼', '케어', '만나다', '회정', '꾸준히', '섭취', '알로', '잇몸', '건강', '챙기다', '우선', '알약', '보관함', '보내주다', '활용', '이라다', '매번', '챙기다', '남편', '챙기다', '유통', '기한', '치아', '형성', '필요', '칼슘', '항산화', '도움', '프로', '폴리스', '비타민', '비타민', '남녀노소', '어른신', '선물', '직접', '영양제', '챙기다', '결과', '효과', '꾸준히', '믿다', '현대인', '사무실', '비타민', '부족', '비타민', '챙기다', '잇몸', '건강', '챙기다', '석조', '잇몸', '영양제', '비하다', '퀄리티', '제품', '성비', '가격', '부담', '가격', '출산', '잇몸', '치아', '건강', '걱정', '산모', '잇몸', '영양제', '출산', '선물', '인기', '잇몸', '약하다', '잇몸', '건강', '걱정스럽다', '개별', '포장', '위생', '언제', '챙기다', '다가오다', '어버이날', '양가', '부모', '선물', '치아', '잇몸', '영양제', '리얼', '추천', '잇몸', '영양제', '재생', '화질', '선택', '옵션', '자동', '잇몸', '영양', '치아', '영양제', '건강', '추가', '구성', '잇몸', '치약', '바이오', '리얼', '치아', '영양제', '건강', '추가', '구성', '잇몸', '치약', '이탈', '트리', '사디', '플러스', '프리미엄', '새롭다', '패키지', '디자인', '출시', '잇몸', '영양제', '사디', '플러스', '프리미엄', '낳다', '잇몸', '지인', '추천', '확실히', '영양제', '차이', '요인', '사디', '플러스', '치아', '형성', '칼슘', '주성분', '프로', '폴리스', '옥수수', '추출', '분말', '콜라겐', '소자', '식물', '스테롤', '건강', '도움', '건강', '기능', '식품', '섭취', '건강', '챙기다', '어요', '부모', '선물', '아내', '선물', '남편', '선물', '생신', '선물', '세요', '박스', '구매', '메디안', '잇몸', '치약', '증정', '이벤트', '구매', '아래', '링크', '클릭', '요인', '사디', '플러스', '프로', '폴리스', '영양제', '박스', '구매', '잇몸', '과학', '치약', '드림', '건강', '사디', '플러스', '프로', '폴리스', '영양제', '박스', '구매', '잇몸', '과학', '치약', '드림', '잇몸', '양제', '사디', '플러스', '프리미엄', '부모', '선물', '프로', '폴리스', '영양제', '어버이날', '선물', '추천', '신랑', '선물', '건강', '보조', '식품', '추천', '건강', '잇몸']\n"
          ]
        }
      ]
    },
    {
      "cell_type": "code",
      "source": [
        "# 리스트를 딕셔너리로 생성하고 빈도수에 따라 키워드를 정렬하는 함수\n",
        "def count_f(my_list):\n",
        "    count = {} # 딕셔너리 생성\n",
        "\n",
        "    for item in my_list:\n",
        "        count[item] = count.get(item, 0) + 1\n",
        "    \n",
        "    final_df = (pd.DataFrame(list(count.items()),\n",
        "                            columns=['keyword', 'count']))\n",
        "    \n",
        "    # 빈도수가 10보다 작다면 해당 행 삭제\n",
        "    d_row = final_df[final_df['count'] < 5].index\n",
        "    final_df = final_df.drop(d_row)\n",
        "\n",
        "    # count 칼럼에 따라서 내림차순 정렬\n",
        "    final_df = final_df.sort_values(by=['count', 'keyword'], ascending=False)\n",
        "    final_df = final_df.reset_index(drop=True) # index 초기화    \n",
        "    \n",
        "    return final_df\n",
        "\n",
        "# 데이터프레임 csv파일로 저장하는 함수\n",
        "# def df_export_csv(my_df):\n",
        "#     my_file = input('저장할 파일의 이름을 입력하세요 : ')\n",
        "#     exp = my_df.to_csv(('{0}.csv').format(my_file), index=False, header=False, encoding='cp949')\n",
        "    \n",
        "#     return exp\n",
        "\n",
        "a2 = count_f(a)\n",
        "print(a2)\n",
        "# b = df_export_csv(a2)\n",
        "a2.to_csv('/content/잇몸영양제_내용_count.csv',encoding='utf-8-sig')"
      ],
      "metadata": {
        "id": "smHbw1UOVFHD",
        "colab": {
          "base_uri": "https://localhost:8080/"
        },
        "outputId": "98e7091b-906e-4e6c-c4b8-4cd1ee1502e1"
      },
      "execution_count": 226,
      "outputs": [
        {
          "output_type": "stream",
          "name": "stdout",
          "text": [
            "    keyword  count\n",
            "0        잇몸   1553\n",
            "1       영양제    918\n",
            "2        건강    698\n",
            "3       챙기다    370\n",
            "4        성분    333\n",
            "..      ...    ...\n",
            "782      검사      5\n",
            "783    건강식품      5\n",
            "784     강하다      5\n",
            "785      강추      5\n",
            "786      감기      5\n",
            "\n",
            "[787 rows x 2 columns]\n"
          ]
        }
      ]
    },
    {
      "cell_type": "code",
      "source": [
        "# 한글과 공백 제외 모두 제거 : 띄어쓰기 유지, 구두점 제거\n",
        "\n",
        "def gonggack_remove(df):\n",
        "  df_replace = df.str.replace('[^ㄱ-ㅎㅏ-ㅣ가-힣 ]',\"\")\n",
        "  return df_replace\n",
        "\n",
        "ab_df = gonggack_remove(df_치과_제목['제목'])\n",
        "ab_df[:10]"
      ],
      "metadata": {
        "colab": {
          "base_uri": "https://localhost:8080/"
        },
        "id": "X78KhIepsKJU",
        "outputId": "c016e175-ed6e-472c-b8cb-f54c19ed75c6"
      },
      "execution_count": 26,
      "outputs": [
        {
          "output_type": "stream",
          "name": "stderr",
          "text": [
            "/usr/local/lib/python3.7/dist-packages/ipykernel_launcher.py:4: FutureWarning: The default value of regex will change from True to False in a future version.\n",
            "  after removing the cwd from sys.path.\n"
          ]
        },
        {
          "output_type": "execute_result",
          "data": {
            "text/plain": [
              "0           치과전용칫솔 치석 제거 잘 되는 칫솔 추천\n",
              "1         치과 공포증 치료 받기 무서워요 극복에 중요한\n",
              "2           아주대근처 매탄동 우리사랑치과에서 치료시작\n",
              "3           오즈어린이치과의원 동래점만세아 신경치료ㅠㅠ\n",
              "4          치과치료스케일링잇몸질환  라이나생명치아보험 \n",
              "5              김해치과 진료비 비쌀 이유가 있을까요\n",
              "6               순천치과에서 앞니 임플란트 했어요 \n",
              "7    잇몸이 부었을때는 치과치료와 인사돌플러스 함께 병행하기\n",
              "8                      인천교정치과 시기까지도\n",
              "9                     창원치과 걱정 그만할게요\n",
              "Name: 제목, dtype: object"
            ]
          },
          "metadata": {},
          "execution_count": 26
        }
      ]
    },
    {
      "cell_type": "code",
      "source": [
        "# 데이터프레임 특정 열값을 리스트로 변환\n",
        "spacing_cen = []\n",
        "for sc in ab_df:\n",
        "    spacing_cen.append(sc)\n",
        "# print(spacing_cen)\n",
        "\n",
        "# 리스트 문자열 변환\n",
        "result = ' '.join(s for s in spacing_cen)\n",
        "# print(result)"
      ],
      "metadata": {
        "id": "3aUg6OnsvTNy"
      },
      "execution_count": 44,
      "outputs": []
    },
    {
      "cell_type": "code",
      "source": [
        "# 띄어쓰기가 없는 문장 임의로 만들기\n",
        "new_sent = result.replace(\" \", '') \n",
        "# print(new_sent)"
      ],
      "metadata": {
        "id": "c1JzPf_Zvp0T"
      },
      "execution_count": 45,
      "outputs": []
    },
    {
      "cell_type": "code",
      "source": [
        "# 띄어쓰기\n",
        "spacing = Spacing()\n",
        "kospacing_sent = spacing(result) \n",
        "# print(sent) # 원본 확인용   \n",
        "# print(kospacing_list)"
      ],
      "metadata": {
        "id": "uWKf3owNwDFu"
      },
      "execution_count": 46,
      "outputs": []
    },
    {
      "cell_type": "code",
      "source": [
        "# 문법 정규화\n",
        "kospacing_list = [okt.normalize(kospacing_sent)]"
      ],
      "metadata": {
        "id": "vvpif_9awpoa"
      },
      "execution_count": 47,
      "outputs": []
    },
    {
      "cell_type": "code",
      "source": [
        "# 명사 추출\n",
        "\n",
        "n_list=[]\n",
        "for word in blist:\n",
        "    n_list.append(okt.nouns(word))\n",
        "\n",
        "# 이중리스트 제거\n",
        "final_n = sum(n_list, [])\n",
        "print(final_n)"
      ],
      "metadata": {
        "colab": {
          "base_uri": "https://localhost:8080/"
        },
        "id": "yWnLoKG8w9oL",
        "outputId": "1dcef23c-05f3-4d0c-c493-fddb529b54a9"
      },
      "execution_count": 49,
      "outputs": [
        {
          "output_type": "stream",
          "name": "stdout",
          "text": [
            "['전용', '칫솔', '치석', '제거', '칫솔', '추천', '공포증', '치료', '극복', '아주대', '근처', '매탄동', '우리', '사랑', '치료', '시작', '오즈', '어린이', '의원', '동래', '점', '만', '세아', '신경치료', '치료', '스케일링', '잇몸', '질환', '라이나', '생명', '치아', '보험', '김해', '진료', '비', '이유', '순', '천', '앞니', '임플란트', '잇몸', '이', '치료', '인', '사', '돌', '플러스', '병행', '인천', '교', '정치', '시기', '창원', '걱정', '의정부', '비용', '부담', '서초동', '추천', '마음가짐', '일산', '동물병원', '알콩', '이', '첫', '진료', '관악구', '교정', '거꾸로', '반대', '교합', '비', '수술', '교정', '치료', '로', '방배동', '신경치료', '실패', '로', '발치', '임플란트', '케이스', '수원', '임플란트', '선택', '기준', '가지', '턱관절', '어디', '로', '가야', '고민', '절개', '고', '법', '은', '잇몸', '성형', '노하우', '서면', '임플란트', '를', '찾기', '상태', '마케팅', '코', '시국', '문의', '폭주', '방법', '오산', '치', '충치', '이빨', '부평', '교', '정치', '인상', '통해', '신경치료', '대한', '정부', '역', '걱정', '이', '비용', '사랑니', '공장', '잎사귀', '방문', '기사', '설', '주의', '교대역', '후회', '영등포', '더', '이', '유', '웹툰', '웃음', '가스', '수면', '치료', '어린이', '범어역', '치아', '문제', '심화', '대체', '진료', '로', '가산동', '은', '어디', '광화문역', '디지털', '임플란트', '수술', '혜택', '부산', '수술', '결과', '우체국', '치아', '보험', '현대', '보험', '라이나', '생명', '보험', '인', '천치', '구강', '관리', '오산', '임플란트', '치아', '걱정', '영유', '구강', '검진', '차', '시기', '우리', '아기', '첫', '진료', '정부', '임플란트', '선택', '중요', '보험', '가입', '고민', '보험', '대해', '장애인', '진료', '경남', '장애인', '구강', '진료', '센터', '신림동', '교정', '사례', '부터', '요', '블로그', '마케팅', '네이버', '지도', '상위', '노출', '답', '웹툰', '겁', '어린이', '공포증', '위', '가지', '방법', '수원', '교정', '깜짝', '놀', '랄', '걸', '요', '광화문', '선', '임플란트', '로', '잇몸', '이', '안', '부산', '서면', '임플란트', '선택', '시', '점', '부평', '과정', '로', '가산디지털단지역', '만', '기록', '일상', '이야기', '잇몸', '염증', '치료', '치료', '인', '사', '돌', '포항', '갯', '마을', '차차차', '윤치', '포항', '청하면', '맛집', '윤', '스토', '청담', '씨', '디씨', '린이치', '의원', '곤찌', '인생', '첫', '구강', '검진', '의사', '간호사', '한의사', '치과의사', '수', '및', '기관', '별', '비율', '신림역', '라미', '네', '이', '트란', '치료', '직종', '설명', '회', '영등포구', '지원', '소독', '관리사', '양성', '과정', '오산', '원', '양심', '적', '수원', '마인드', '네', '요', '부산', '서면', '임플란트', '체크', '광주', '광역시', '청소', '광주', '청소', '업체', '탑', '클린', '팀', '상무지구', '병원', '신', '생명', '보험', '준비', '치아', '보험', '임플란트', '여부', '레진', '가격', '충치', '부담', '부산', '임플란트', '후기', '를', '부산', '전체', '임플란트', '선택', '시', '후기', '를', '참고', '부산', '임플란트', '은', '어디', '서면', '부산', '사랑니', '발치', '를', '땐', '발치', '경험', '이', '김해', '책임', '전담', '제로', '진료', '선택', '앞니', '부정교합', '돌출', '수원', '닥터', '노아', '오', '스템', '임플란트', '안내', '안양', '추천', '장점', '이', '인지', '체크', '턱', '병원', '고민', '방문', '해', '플레이', '도우', '치과의사', '놀이', '오', '리지', '널', '베를린', '나', '만', '알', '면', '안', '인치', '추천', '선생님', '예비', '위생', '사', '퍼스', '널', '브랜딩', '이야기', '공', '포심', '해결', '은', '치료', '도', '코로나', '백신', '접종', '증명서', '교', '하치', '치아', '교정', '선택', '월', '마지막', '주간', '회고', '기', '엑스', '퍼트', '상담', '병원', '현장', '강의', '이', '태도', '기술', '병원', '직원', '교육', '순천', '개원', '및', '마케팅', '플랜', '우리', '아이', '를', '위', '전담', '선생님', '아동', '주치의', '제도', '안내', '살', '등교시간', '정상화', '실란트', '검진', '일상', '부천', '앞니', '레진', '치료', '박', '선', '치과', '기숙사', '호', '투어', '꼬맹이', '진료', '젓가락', '치아', '부평구', '년', '아동', '주치의', '사업', '안내', '신', '내동', '추천', '일요일', '진료', '동동', '부정교합', '은', '교정', '성', '다해', '치과위생사', '선생님', '장기', '근속', '리뷰', '년', '사용', '중인', '전용', '칫솔', '년', '혁신', '한국인', '파워', '브랜드', '빛고을', '남편', '이', '아이', '진료', '비', '로', '니', '고', '야드', '로', '치과의사', '선생님', '벼룩', '삼', '만리', '포', '시즌', '월', '회식', '원주', '임플란트', '세미나', '원주', '의원', '김영욱', '대표', '원장', '일산', '동구', '믿음', '이', '이', '유', '신도', '프린팅', '솔루션', '기공사', '학술', '대회', '및', '기', '자재', '전시회', '폐', '금금', '가루', '고가', '매입', '식', '일산', '치아', '교정', '안성', '확인', '세밀', '함', '맞춤', '진료', '로']\n"
          ]
        }
      ]
    },
    {
      "cell_type": "code",
      "source": [
        "a = list(itertools.chain(*den['tokens']))\n",
        "b = count_f(a)\n",
        "\n",
        "# # 이중리스트 제거\n",
        "# final_n(변수) = sum(n_list(리스트), [])\n",
        "# print(final_n)"
      ],
      "metadata": {
        "id": "qSBlN4acVFEd"
      },
      "execution_count": null,
      "outputs": []
    }
  ]
}