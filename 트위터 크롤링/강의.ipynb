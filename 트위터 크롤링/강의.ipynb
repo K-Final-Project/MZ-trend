{
 "cells": [
  {
   "cell_type": "code",
   "execution_count": null,
   "metadata": {},
   "outputs": [],
   "source": [
    "from selenium import webdriver\n",
    "from selenium.webdriver import ActionChains\n",
    "from selenium.webdriver.common.keys import Keys\n",
    "from selenium.webdriver.common.by import By\n",
    "import time\n",
    "import datetime as dt\n",
    "import requests\n",
    "import pandas as pd\n",
    "from bs4 import BeautifulSoup\n",
    "from openpyxl import Workbook\n",
    "\n",
    "driver = webdriver.Chrome()\n",
    "driver.maximize_window() # 브라우저 화면 최대화\n",
    "driver.get('https://twitter.com/search?q=%EB%AC%B4%EC%8B%A0%EC%82%AC&src=typed_query&f=live')\n",
    "time.sleep(1)\n",
    "\n",
    "\n"
   ]
  }
 ],
 "metadata": {
  "language_info": {
   "name": "python"
  },
  "orig_nbformat": 4
 },
 "nbformat": 4,
 "nbformat_minor": 2
}
