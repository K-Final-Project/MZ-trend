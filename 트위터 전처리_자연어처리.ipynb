{
 "cells": [
  {
   "cell_type": "code",
   "execution_count": 2,
   "metadata": {},
   "outputs": [],
   "source": [
    "import pandas as pd"
   ]
  },
  {
   "cell_type": "code",
   "execution_count": 5,
   "metadata": {},
   "outputs": [],
   "source": [
    "#파일 합치기\n",
    "den1 = pd.read_csv('크롤링 raw data\\치과1.csv')\n",
    "den2 = pd.read_csv('크롤링 raw data\\치과2.csv')\n",
    "den3 = pd.read_csv('크롤링 raw data\\치과3.csv')\n",
    "den4 = pd.read_csv('크롤링 raw data\\치과4.csv')\n",
    "\n",
    "den = pd.concat([den1,den2,den3,den4], ignore_index=True)\n",
    "den = den.drop('Unnamed: 0', axis=1)"
   ]
  },
  {
   "cell_type": "code",
   "execution_count": 6,
   "metadata": {},
   "outputs": [
    {
     "data": {
      "text/html": [
       "<div>\n",
       "<style scoped>\n",
       "    .dataframe tbody tr th:only-of-type {\n",
       "        vertical-align: middle;\n",
       "    }\n",
       "\n",
       "    .dataframe tbody tr th {\n",
       "        vertical-align: top;\n",
       "    }\n",
       "\n",
       "    .dataframe thead th {\n",
       "        text-align: right;\n",
       "    }\n",
       "</style>\n",
       "<table border=\"1\" class=\"dataframe\">\n",
       "  <thead>\n",
       "    <tr style=\"text-align: right;\">\n",
       "      <th></th>\n",
       "      <th>본문</th>\n",
       "      <th>날짜</th>\n",
       "      <th>리트윗</th>\n",
       "      <th>하트</th>\n",
       "    </tr>\n",
       "  </thead>\n",
       "  <tbody>\n",
       "    <tr>\n",
       "      <th>0</th>\n",
       "      <td>병원에 가야할거같은데\\n그냥 집앞 내과가서 항염제 달라고 하면 되는건지\\n아무래도 ...</td>\n",
       "      <td>13초</td>\n",
       "      <td>NaN</td>\n",
       "      <td>NaN</td>\n",
       "    </tr>\n",
       "    <tr>\n",
       "      <th>1</th>\n",
       "      <td>5D384\\n\\n나의 애기르 전해 들은 친구들은 세명이 캠핑느낌\\n쇼핑\\n재선거\\n...</td>\n",
       "      <td>25분</td>\n",
       "      <td>NaN</td>\n",
       "      <td>NaN</td>\n",
       "    </tr>\n",
       "    <tr>\n",
       "      <th>2</th>\n",
       "      <td>앞니 두톨 안 보이는 김에 궁금증 1나\\n과연 제현이는 유치 빠질 때 울었을 까 안...</td>\n",
       "      <td>26분</td>\n",
       "      <td>4</td>\n",
       "      <td>9</td>\n",
       "    </tr>\n",
       "    <tr>\n",
       "      <th>3</th>\n",
       "      <td>\"정말 실례지만..한 가지 여쭤볼 게 있는데요. 혹시 베타신가요?\"\\n채굴팀 사람은...</td>\n",
       "      <td>26분</td>\n",
       "      <td>NaN</td>\n",
       "      <td>1</td>\n",
       "    </tr>\n",
       "    <tr>\n",
       "      <th>4</th>\n",
       "      <td>앞니 두톨 안 보이는 김에 궁금증 1나\\n과연 제현이는 유치 빠질 때 울었을 까 안...</td>\n",
       "      <td>26분</td>\n",
       "      <td>4</td>\n",
       "      <td>9</td>\n",
       "    </tr>\n",
       "    <tr>\n",
       "      <th>...</th>\n",
       "      <td>...</td>\n",
       "      <td>...</td>\n",
       "      <td>...</td>\n",
       "      <td>...</td>\n",
       "    </tr>\n",
       "    <tr>\n",
       "      <th>24434</th>\n",
       "      <td>현진이 진짜 귀여운 점...\\n치과 같다고 하면 치과 상황극 해주고\\n라디오DJ같다...</td>\n",
       "      <td>3월 26일</td>\n",
       "      <td>NaN</td>\n",
       "      <td>2</td>\n",
       "    </tr>\n",
       "    <tr>\n",
       "      <th>24435</th>\n",
       "      <td>치과 안무서워 하는 황은 신기하다 역시 사람보다 귀신을 무서워할거같은 사람</td>\n",
       "      <td>3월 26일</td>\n",
       "      <td>NaN</td>\n",
       "      <td>NaN</td>\n",
       "    </tr>\n",
       "    <tr>\n",
       "      <th>24436</th>\n",
       "      <td>ㅆㅂ 전동면도기 누가 치과같다니까 냅다 상황극해줌 와중에 가글하고오세요~ &lt; 이거 ...</td>\n",
       "      <td>3월 26일</td>\n",
       "      <td>5</td>\n",
       "      <td>4</td>\n",
       "    </tr>\n",
       "    <tr>\n",
       "      <th>24437</th>\n",
       "      <td>치과온줄알았다고 면도기? 하하하핳ㅋㅋㅋㅋ\\n자 아~ 하세요~~(드르르륵)\\n네~ 혀...</td>\n",
       "      <td>3월 26일</td>\n",
       "      <td>75</td>\n",
       "      <td>64</td>\n",
       "    </tr>\n",
       "    <tr>\n",
       "      <th>24438</th>\n",
       "      <td>NaN</td>\n",
       "      <td>NaN</td>\n",
       "      <td>NaN</td>\n",
       "      <td>NaN</td>\n",
       "    </tr>\n",
       "  </tbody>\n",
       "</table>\n",
       "<p>24439 rows × 4 columns</p>\n",
       "</div>"
      ],
      "text/plain": [
       "                                                      본문      날짜  리트윗   하트\n",
       "0      병원에 가야할거같은데\\n그냥 집앞 내과가서 항염제 달라고 하면 되는건지\\n아무래도 ...     13초  NaN  NaN\n",
       "1      5D384\\n\\n나의 애기르 전해 들은 친구들은 세명이 캠핑느낌\\n쇼핑\\n재선거\\n...     25분  NaN  NaN\n",
       "2      앞니 두톨 안 보이는 김에 궁금증 1나\\n과연 제현이는 유치 빠질 때 울었을 까 안...     26분    4    9\n",
       "3      \"정말 실례지만..한 가지 여쭤볼 게 있는데요. 혹시 베타신가요?\"\\n채굴팀 사람은...     26분  NaN    1\n",
       "4      앞니 두톨 안 보이는 김에 궁금증 1나\\n과연 제현이는 유치 빠질 때 울었을 까 안...     26분    4    9\n",
       "...                                                  ...     ...  ...  ...\n",
       "24434  현진이 진짜 귀여운 점...\\n치과 같다고 하면 치과 상황극 해주고\\n라디오DJ같다...  3월 26일  NaN    2\n",
       "24435          치과 안무서워 하는 황은 신기하다 역시 사람보다 귀신을 무서워할거같은 사람  3월 26일  NaN  NaN\n",
       "24436  ㅆㅂ 전동면도기 누가 치과같다니까 냅다 상황극해줌 와중에 가글하고오세요~ < 이거 ...  3월 26일    5    4\n",
       "24437  치과온줄알았다고 면도기? 하하하핳ㅋㅋㅋㅋ\\n자 아~ 하세요~~(드르르륵)\\n네~ 혀...  3월 26일   75   64\n",
       "24438                                                NaN     NaN  NaN  NaN\n",
       "\n",
       "[24439 rows x 4 columns]"
      ]
     },
     "execution_count": 6,
     "metadata": {},
     "output_type": "execute_result"
    }
   ],
   "source": [
    "den"
   ]
  },
  {
   "cell_type": "markdown",
   "metadata": {},
   "source": [
    "## 전처리"
   ]
  },
  {
   "cell_type": "code",
   "execution_count": 107,
   "metadata": {},
   "outputs": [
    {
     "data": {
      "text/plain": [
       "본문       457\n",
       "날짜       548\n",
       "리트윗    22740\n",
       "하트     14474\n",
       "dtype: int64"
      ]
     },
     "execution_count": 107,
     "metadata": {},
     "output_type": "execute_result"
    }
   ],
   "source": [
    "#결측값 확인\n",
    "den.isna().sum()"
   ]
  },
  {
   "cell_type": "code",
   "execution_count": 108,
   "metadata": {},
   "outputs": [],
   "source": [
    "# #날짜 처리\n",
    "# idx = 0\n",
    "# for date in den['날짜']:\n",
    "#     try:\n",
    "#         if '초' in date or '분' in date or '시간' in date:\n",
    "#             print(date)\n",
    "#             den['날짜'][idx] = '5월 5일'\n",
    "#         idx += 1\n",
    "#     except:\n",
    "#         idx += 1"
   ]
  },
  {
   "cell_type": "code",
   "execution_count": 109,
   "metadata": {},
   "outputs": [],
   "source": [
    "#날짜 처리\n",
    "def date(date):\n",
    "    try:\n",
    "        if '초' in date or '분' in date or '시간' in date:\n",
    "            return '5월 5일'\n",
    "        else:\n",
    "            return date\n",
    "    except:\n",
    "        return date\n",
    "\n",
    "def year(date):\n",
    "    try:\n",
    "        if '년' not in date:\n",
    "            return '2022년 ' + date  \n",
    "    except:   \n",
    "        return date"
   ]
  },
  {
   "cell_type": "code",
   "execution_count": 110,
   "metadata": {},
   "outputs": [],
   "source": [
    "#날짜 처리\n",
    "den['날짜'] = den['날짜'].apply(date).apply(year)\n",
    "\n",
    "#NaN 처리\n",
    "den[['리트윗','하트']]= den[['리트윗','하트']].fillna(0) # 0으로 채우기\n",
    "den['날짜'] = den['날짜'].fillna(method='ffill')        # 이전 행 날짜로 채우기"
   ]
  },
  {
   "cell_type": "code",
   "execution_count": 111,
   "metadata": {},
   "outputs": [
    {
     "data": {
      "text/html": [
       "<div>\n",
       "<style scoped>\n",
       "    .dataframe tbody tr th:only-of-type {\n",
       "        vertical-align: middle;\n",
       "    }\n",
       "\n",
       "    .dataframe tbody tr th {\n",
       "        vertical-align: top;\n",
       "    }\n",
       "\n",
       "    .dataframe thead th {\n",
       "        text-align: right;\n",
       "    }\n",
       "</style>\n",
       "<table border=\"1\" class=\"dataframe\">\n",
       "  <thead>\n",
       "    <tr style=\"text-align: right;\">\n",
       "      <th></th>\n",
       "      <th>본문</th>\n",
       "      <th>날짜</th>\n",
       "      <th>리트윗</th>\n",
       "      <th>하트</th>\n",
       "    </tr>\n",
       "  </thead>\n",
       "  <tbody>\n",
       "    <tr>\n",
       "      <th>0</th>\n",
       "      <td>병원에 가야할거같은데\\n그냥 집앞 내과가서 항염제 달라고 하면 되는건지\\n아무래도 ...</td>\n",
       "      <td>2022년 5월 5일</td>\n",
       "      <td>0</td>\n",
       "      <td>0</td>\n",
       "    </tr>\n",
       "    <tr>\n",
       "      <th>1</th>\n",
       "      <td>5D384\\n\\n나의 애기르 전해 들은 친구들은 세명이 캠핑느낌\\n쇼핑\\n재선거\\n...</td>\n",
       "      <td>2022년 5월 5일</td>\n",
       "      <td>0</td>\n",
       "      <td>0</td>\n",
       "    </tr>\n",
       "    <tr>\n",
       "      <th>2</th>\n",
       "      <td>앞니 두톨 안 보이는 김에 궁금증 1나\\n과연 제현이는 유치 빠질 때 울었을 까 안...</td>\n",
       "      <td>2022년 5월 5일</td>\n",
       "      <td>4</td>\n",
       "      <td>9</td>\n",
       "    </tr>\n",
       "    <tr>\n",
       "      <th>3</th>\n",
       "      <td>\"정말 실례지만..한 가지 여쭤볼 게 있는데요. 혹시 베타신가요?\"\\n채굴팀 사람은...</td>\n",
       "      <td>2022년 5월 5일</td>\n",
       "      <td>0</td>\n",
       "      <td>1</td>\n",
       "    </tr>\n",
       "    <tr>\n",
       "      <th>4</th>\n",
       "      <td>앞니 두톨 안 보이는 김에 궁금증 1나\\n과연 제현이는 유치 빠질 때 울었을 까 안...</td>\n",
       "      <td>2022년 5월 5일</td>\n",
       "      <td>4</td>\n",
       "      <td>9</td>\n",
       "    </tr>\n",
       "    <tr>\n",
       "      <th>...</th>\n",
       "      <td>...</td>\n",
       "      <td>...</td>\n",
       "      <td>...</td>\n",
       "      <td>...</td>\n",
       "    </tr>\n",
       "    <tr>\n",
       "      <th>24434</th>\n",
       "      <td>현진이 진짜 귀여운 점...\\n치과 같다고 하면 치과 상황극 해주고\\n라디오DJ같다...</td>\n",
       "      <td>2022년 3월 26일</td>\n",
       "      <td>0</td>\n",
       "      <td>2</td>\n",
       "    </tr>\n",
       "    <tr>\n",
       "      <th>24435</th>\n",
       "      <td>치과 안무서워 하는 황은 신기하다 역시 사람보다 귀신을 무서워할거같은 사람</td>\n",
       "      <td>2022년 3월 26일</td>\n",
       "      <td>0</td>\n",
       "      <td>0</td>\n",
       "    </tr>\n",
       "    <tr>\n",
       "      <th>24436</th>\n",
       "      <td>ㅆㅂ 전동면도기 누가 치과같다니까 냅다 상황극해줌 와중에 가글하고오세요~ &lt; 이거 ...</td>\n",
       "      <td>2022년 3월 26일</td>\n",
       "      <td>5</td>\n",
       "      <td>4</td>\n",
       "    </tr>\n",
       "    <tr>\n",
       "      <th>24437</th>\n",
       "      <td>치과온줄알았다고 면도기? 하하하핳ㅋㅋㅋㅋ\\n자 아~ 하세요~~(드르르륵)\\n네~ 혀...</td>\n",
       "      <td>2022년 3월 26일</td>\n",
       "      <td>75</td>\n",
       "      <td>64</td>\n",
       "    </tr>\n",
       "    <tr>\n",
       "      <th>24438</th>\n",
       "      <td>NaN</td>\n",
       "      <td>2022년 3월 26일</td>\n",
       "      <td>0</td>\n",
       "      <td>0</td>\n",
       "    </tr>\n",
       "  </tbody>\n",
       "</table>\n",
       "<p>24439 rows × 4 columns</p>\n",
       "</div>"
      ],
      "text/plain": [
       "                                                      본문            날짜 리트윗  하트\n",
       "0      병원에 가야할거같은데\\n그냥 집앞 내과가서 항염제 달라고 하면 되는건지\\n아무래도 ...   2022년 5월 5일   0   0\n",
       "1      5D384\\n\\n나의 애기르 전해 들은 친구들은 세명이 캠핑느낌\\n쇼핑\\n재선거\\n...   2022년 5월 5일   0   0\n",
       "2      앞니 두톨 안 보이는 김에 궁금증 1나\\n과연 제현이는 유치 빠질 때 울었을 까 안...   2022년 5월 5일   4   9\n",
       "3      \"정말 실례지만..한 가지 여쭤볼 게 있는데요. 혹시 베타신가요?\"\\n채굴팀 사람은...   2022년 5월 5일   0   1\n",
       "4      앞니 두톨 안 보이는 김에 궁금증 1나\\n과연 제현이는 유치 빠질 때 울었을 까 안...   2022년 5월 5일   4   9\n",
       "...                                                  ...           ...  ..  ..\n",
       "24434  현진이 진짜 귀여운 점...\\n치과 같다고 하면 치과 상황극 해주고\\n라디오DJ같다...  2022년 3월 26일   0   2\n",
       "24435          치과 안무서워 하는 황은 신기하다 역시 사람보다 귀신을 무서워할거같은 사람  2022년 3월 26일   0   0\n",
       "24436  ㅆㅂ 전동면도기 누가 치과같다니까 냅다 상황극해줌 와중에 가글하고오세요~ < 이거 ...  2022년 3월 26일   5   4\n",
       "24437  치과온줄알았다고 면도기? 하하하핳ㅋㅋㅋㅋ\\n자 아~ 하세요~~(드르르륵)\\n네~ 혀...  2022년 3월 26일  75  64\n",
       "24438                                                NaN  2022년 3월 26일   0   0\n",
       "\n",
       "[24439 rows x 4 columns]"
      ]
     },
     "execution_count": 111,
     "metadata": {},
     "output_type": "execute_result"
    }
   ],
   "source": [
    "den"
   ]
  },
  {
   "cell_type": "code",
   "execution_count": 112,
   "metadata": {},
   "outputs": [
    {
     "data": {
      "text/plain": [
       "17913"
      ]
     },
     "execution_count": 112,
     "metadata": {},
     "output_type": "execute_result"
    }
   ],
   "source": [
    "# 중복 내용 하나만 남기고 제거\n",
    "den = den.drop_duplicates(['본문'], keep='first')\n",
    "\n",
    "# 최종 데이터 크기\n",
    "len(den)"
   ]
  },
  {
   "cell_type": "markdown",
   "metadata": {},
   "source": [
    "## 본문칼럼 자연어 처리"
   ]
  },
  {
   "cell_type": "code",
   "execution_count": null,
   "metadata": {},
   "outputs": [],
   "source": []
  }
 ],
 "metadata": {
  "interpreter": {
   "hash": "ec941bd8bb0ae143d69810a7681108feaa579377ac192cf74762181a2637c571"
  },
  "kernelspec": {
   "display_name": "Python 3.8.5 ('base')",
   "language": "python",
   "name": "python3"
  },
  "language_info": {
   "codemirror_mode": {
    "name": "ipython",
    "version": 3
   },
   "file_extension": ".py",
   "mimetype": "text/x-python",
   "name": "python",
   "nbconvert_exporter": "python",
   "pygments_lexer": "ipython3",
   "version": "3.8.5"
  },
  "orig_nbformat": 4
 },
 "nbformat": 4,
 "nbformat_minor": 2
}
