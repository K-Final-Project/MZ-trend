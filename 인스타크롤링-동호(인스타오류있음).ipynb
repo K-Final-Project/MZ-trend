{
 "cells": [
  {
   "cell_type": "code",
   "execution_count": 1,
   "metadata": {},
   "outputs": [],
   "source": [
    "# 필요 패키지 호출\n",
    "from selenium import webdriver\n",
    "from selenium.webdriver import ActionChains\n",
    "from selenium.webdriver.common.keys import Keys\n",
    "from selenium.webdriver.common.by import By\n",
    "import urllib.parse\n",
    "from urllib.request import Request, urlopen\n",
    "from bs4 import BeautifulSoup\n",
    "import time\n",
    "import re\n",
    "import pyautogui\n",
    "import random\n",
    "import psycopg2\n",
    "import pandas as pd\n",
    "import urllib.request\n",
    "import json\n"
   ]
  },
  {
   "cell_type": "markdown",
   "metadata": {},
   "source": [
    "### instagram 크롤링을 위한 함수 정의 및 준비"
   ]
  },
  {
   "cell_type": "code",
   "execution_count": 30,
   "metadata": {},
   "outputs": [],
   "source": [
    "## 리스트 \n",
    "        \n",
    "CAMPING_dic = {'#캠핑':0, '#캠핑요리':0, '#캠핑용품':0, '#캠핑소품':0, '#캠핑그램':0, '#캠퍼':0, '#캠린이':0, '#감성캠핑':0, \n",
    "'#차박':0, '#글램핑':0, '#오토캠핑':0, '#카라반캠핑':0, '#카라반':0, '#노지캠핑':0, '#오지캠핑':0,\n",
    "'#캠핑요리':0, '#캠핑음식':0, '#캠핑스타그램':0, '#캠핑장':0, '#캠핑카':0, '#불멍':0, '#백패커':0}\n",
    "\n",
    "camping = list(CAMPING_dic.keys())\n",
    "\n",
    "Camping_ls = []\n",
    "for i in camping:\n",
    "        Camping_ls.append(i.replace('#',''))"
   ]
  },
  {
   "cell_type": "code",
   "execution_count": 31,
   "metadata": {},
   "outputs": [
    {
     "data": {
      "text/plain": [
       "['캠핑',\n",
       " '캠핑요리',\n",
       " '캠핑용품',\n",
       " '캠핑소품',\n",
       " '캠핑그램',\n",
       " '캠퍼',\n",
       " '캠린이',\n",
       " '감성캠핑',\n",
       " '차박',\n",
       " '글램핑',\n",
       " '오토캠핑',\n",
       " '카라반캠핑',\n",
       " '카라반',\n",
       " '노지캠핑',\n",
       " '오지캠핑',\n",
       " '캠핑음식',\n",
       " '캠핑스타그램',\n",
       " '캠핑장',\n",
       " '캠핑카',\n",
       " '불멍',\n",
       " '백패커']"
      ]
     },
     "execution_count": 31,
     "metadata": {},
     "output_type": "execute_result"
    }
   ],
   "source": [
    "Camping_ls"
   ]
  },
  {
   "cell_type": "code",
   "execution_count": 2,
   "metadata": {},
   "outputs": [],
   "source": [
    "# 함수 정의 : 검색어 조건에 따른 url 생성\n",
    "def insta_searching(word):\n",
    "    url = f\"https://www.instagram.com/explore/tags/{word}\"\n",
    "    return url"
   ]
  },
  {
   "cell_type": "code",
   "execution_count": 3,
   "metadata": {},
   "outputs": [],
   "source": [
    "# 함수정의 : 열린 페이지에서 첫번째 게시물 클릭 + sleep 메소드 통하여 시차 두기\n",
    "def select_first(driver):\n",
    "    first = driver.find_elements_by_css_selector('div._9AhH0')[0]\n",
    "    first.click()\n",
    "    time.sleep(random.randint(2,5))"
   ]
  },
  {
   "cell_type": "code",
   "execution_count": 4,
   "metadata": {},
   "outputs": [],
   "source": [
    "# 첫 번째 게시물 클릭 후 다음 게시물 클릭\n",
    "def move_next(driver):\n",
    "    right = driver.find_element_by_css_selector(\"div.l8mY4.feth3\")\n",
    "    right.click()\n",
    "    time.sleep(6)"
   ]
  },
  {
   "cell_type": "code",
   "execution_count": 5,
   "metadata": {},
   "outputs": [],
   "source": [
    "def reple(): # 댓글 플러스 버튼 누르기  \n",
    "    while True:\n",
    "        try :\n",
    "            button = driver.find_element_by_css_selector('body > div.RnEpo._Yhr4 > div.pbNvD.QZZGH.bW6vo > div > article > div > div.HP0qD > div > div > div.eo2As > div.EtaWk > ul > li > div > button')\n",
    "            button.click()\n",
    "            time.sleep(3)\n",
    "        except : \n",
    "            break"
   ]
  },
  {
   "cell_type": "code",
   "execution_count": 6,
   "metadata": {},
   "outputs": [],
   "source": [
    "def re_reple(): # 대댓글 버튼 누르기\n",
    "\n",
    "    buttons = driver.find_elements_by_css_selector('li > ul > li > div > button')\n",
    "\n",
    "    for button in buttons:\n",
    "        button.send_keys(Keys.ENTER)\n",
    "        time.sleep(2)"
   ]
  },
  {
   "cell_type": "code",
   "execution_count": 7,
   "metadata": {},
   "outputs": [],
   "source": [
    "def reple_id():  # 인스타 댓글의 id 카운팅\n",
    "    id_f = []\n",
    "    ids  = driver.find_elements_by_css_selector('div.C4VMK > h3 > div > span > a')\n",
    "    for id in ids:\n",
    "        id_a = id.text.strip()\n",
    "        id_f.append(id_a)\n",
    "    return len(id_f)"
   ]
  },
  {
   "cell_type": "code",
   "execution_count": 8,
   "metadata": {},
   "outputs": [],
   "source": [
    "# 함수 정의 : 본문 내용, 작성일자, 좋아요 수, 해시태그 가져오기\n",
    "import re\n",
    "from bs4 import BeautifulSoup\n",
    "\n",
    "\n",
    "\n",
    "def get_content(driver):\n",
    "    \n",
    "    html = driver.page_source\n",
    "    soup = BeautifulSoup(html, 'lxml')\n",
    "    \n",
    "\n",
    "    # 본문 내용 \n",
    "    try:\n",
    "        content = soup.select('div.MOdxS')[0].text \n",
    "    except:\n",
    "        content = ' '\n",
    "    \n",
    "    \n",
    "\n",
    "\n",
    "    # 해시태그 \n",
    "    tags = re.findall(r'#[^\\s#,\\\\]+', content)  \n",
    "    # 작성일자 \n",
    "    date = soup.select('time')[0]['datetime'][:10]\n",
    "    # 좋아요\n",
    "    try:\n",
    "        like = soup.select('section.EDfFK.ygqzn > div > div > div > a > div > span')[-1].text\n",
    "    except:\n",
    "        like = 0\n",
    "\n",
    "    data = [reple_id(),content, tags, date, like]  # 댓글 수 카운팅, 본문, 해시태그, 날짜, 좋아요 수\n",
    "   \n",
    "\n",
    "    return data"
   ]
  },
  {
   "cell_type": "code",
   "execution_count": 10,
   "metadata": {},
   "outputs": [
    {
     "name": "stderr",
     "output_type": "stream",
     "text": [
      "C:\\Users\\User\\AppData\\Local\\Temp/ipykernel_15500/1759250432.py:19: DeprecationWarning: find_element_by_* commands are deprecated. Please use find_element() instead\n",
      "  driver.find_element_by_name('username').send_keys(username)\n",
      "C:\\Users\\User\\AppData\\Local\\Temp/ipykernel_15500/1759250432.py:20: DeprecationWarning: find_element_by_* commands are deprecated. Please use find_element() instead\n",
      "  driver.find_element_by_name('password').send_keys(userpw)\n",
      "C:\\Users\\User\\AppData\\Local\\Temp/ipykernel_15500/1759250432.py:22: DeprecationWarning: find_element_by_* commands are deprecated. Please use find_element() instead\n",
      "  driver.find_element_by_css_selector('button.sqdOP.L3NKy.y3zKF').click()\n",
      "C:\\Users\\User\\AppData\\Local\\Temp/ipykernel_15500/1759250432.py:26: DeprecationWarning: find_element_by_* commands are deprecated. Please use find_element() instead\n",
      "  driver.find_element_by_css_selector('button.sqdOP.L3NKy.y3zKF').click()\n",
      "C:\\Users\\User\\AppData\\Local\\Temp/ipykernel_15500/1759250432.py:29: DeprecationWarning: find_element_by_* commands are deprecated. Please use find_element() instead\n",
      "  driver.find_element_by_css_selector('button.aOOlW.HoLwm').click()\n",
      "C:\\Users\\User\\AppData\\Local\\Temp/ipykernel_15500/2264629210.py:3: DeprecationWarning: find_elements_by_* commands are deprecated. Please use find_elements() instead\n",
      "  first = driver.find_elements_by_css_selector('div._9AhH0')[0]\n"
     ]
    },
    {
     "name": "stdout",
     "output_type": "stream",
     "text": [
      "0\n"
     ]
    },
    {
     "name": "stderr",
     "output_type": "stream",
     "text": [
      "C:\\Users\\User\\AppData\\Local\\Temp/ipykernel_15500/2672829169.py:4: DeprecationWarning: find_element_by_* commands are deprecated. Please use find_element() instead\n",
      "  button = driver.find_element_by_css_selector('body > div.RnEpo._Yhr4 > div.pbNvD.QZZGH.bW6vo > div > article > div > div.HP0qD > div > div > div.eo2As > div.EtaWk > ul > li > div > button')\n"
     ]
    },
    {
     "name": "stdout",
     "output_type": "stream",
     "text": [
      "[0, '오랜만에 텐트와 타프 ... 진짜 진짜 진짜 힘들다 🤣강풍에 찢어지고ㅠㅠ날라가고 버라이어티 했던 하루 \\U0001f979#요요캠프#솔로캠핑#미니멀캠핑#노지캠핑#오지캠핑#솔캠#텐트#힐레베르그#지프랭글러#캠핑#carcamping #camping#solocamping #solocamp #キャンプ', ['#요요캠프', '#솔로캠핑', '#미니멀캠핑', '#노지캠핑', '#오지캠핑', '#솔캠', '#텐트', '#힐레베르그', '#지프랭글러', '#캠핑', '#carcamping', '#camping', '#solocamping', '#solocamp', '#キャンプ'], '2022-04-29', '460']\n"
     ]
    },
    {
     "name": "stderr",
     "output_type": "stream",
     "text": [
      "C:\\Users\\User\\AppData\\Local\\Temp/ipykernel_15500/3074305543.py:3: DeprecationWarning: find_element_by_* commands are deprecated. Please use find_element() instead\n",
      "  right = driver.find_element_by_css_selector(\"div.l8mY4.feth3\")\n"
     ]
    },
    {
     "name": "stdout",
     "output_type": "stream",
     "text": [
      "1\n",
      "[0, '.-✔ HARD GEAR HEXA TARP 55뜨거워지는 햇살,효과적인 자외선 차단 기능으로쾌적하게 그늘을 즐기고 싶다면?- 뛰어난 내구성의 립스탑 방식 옥스포드 300D 원단- 5m x 5.25m의 넓은 면적- UV 코팅으로 효과적인 자외선 차단- 육각 형태의 멋스러운 디자인- 가볍고 튼튼한 전용 폴대 별도 구매 가능블랙과 화이트 두 가지 색상으로 만날 수 있는시원하고 넓은 휴식공간을 즐겨보세요🖤🤍#하드기어 #타프 #헥사타프 #타프추천 #캠핑용품 #캠핑장비 #감성캠핑 #갬성캠핑 #camping #camp #camper #camplife #캠린이 #캠핑필수템 #감성캠핑용품 #캠핑용품추천 #캠핑 #캠퍼 #캠프 #캠핑스타그램 #캠핑그램', ['#하드기어', '#타프', '#헥사타프', '#타프추천', '#캠핑용품', '#캠핑장비', '#감성캠핑', '#갬성캠핑', '#camping', '#camp', '#camper', '#camplife', '#캠린이', '#캠핑필수템', '#감성캠핑용품', '#캠핑용품추천', '#캠핑', '#캠퍼', '#캠프', '#캠핑스타그램', '#캠핑그램'], '2022-04-29', '244']\n",
      "2\n",
      "[0, '#내맘대로..올리고 싶은 사진 올리기🏞🏕.저기에 랭글러가 서있다면....#캠핑 #백패킹 #camping #backpacking #outdoors #절벽캠핑 #キャンプ #랭글러 사고파..', ['#내맘대로..올리고', '#캠핑', '#백패킹', '#camping', '#backpacking', '#outdoors', '#절벽캠핑', '#キャンプ', '#랭글러'], '2022-04-29', '186']\n",
      "3\n",
      "[0, '미노캠프 모기스틱2년 만에 다시 선보입니다모기향 1개로 모기를 박멸 할수 없기에2개 1set 예전가격 그대로길어진 사이즈와 넓어진 파우치 안에 모기향까지 넣어5월 2일은 모기 & 벌레 없는 캠핑의 시작#모기향거치대#모기향#모기향케이스#모기향홀더#모기향연소기#캠핑모기향#캠핑#백패킹#차박#캠핑용품#감성용품#미노캠프#소량생산#한정생산#핸드메이드#5월2일#스토어팜재오픈', ['#모기향거치대', '#모기향', '#모기향케이스', '#모기향홀더', '#모기향연소기', '#캠핑모기향', '#캠핑', '#백패킹', '#차박', '#캠핑용품', '#감성용품', '#미노캠프', '#소량생산', '#한정생산', '#핸드메이드', '#5월2일', '#스토어팜재오픈'], '2022-04-28', '537']\n",
      "4\n",
      "[0, \"#광고 #웨버 -미국 프리미엄 BBQ 그릴 브랜드 웨버 플래그십 스토어, 웨버 바베큐 클럽 강남 리론칭파티에 다녀왔어요🍖@webergrills_korea이곳에선 캠핑 감성 가득한 웨버의 프리미엄 라이프 스타일과 더불어, 오픈 기념 한정판 레드 케틀 에디션도 만날 수 있어요. 🏕쉐프님이 웨버 그릴에 구워주신 겉바속촉 그릴 푸드도 맛있었구요. 😋'웨버 그릴 아카데미'를 통해 다양한 그릴링 방법과 레시피를 경험하는 참여형 클래스까지 진행된다고 하니, 꼭 한번 체험해보세요. 😊<웨버 바베큐 클럽 강남>📍서울 강남구 도곡로 251.- #웨버바베큐클럽강남 #웨버그릴 #웨버그릴아카데미 #바베큐그릴#weber #webergrill\", ['#광고', '#웨버', '#웨버바베큐클럽강남', '#웨버그릴', '#웨버그릴아카데미', '#바베큐그릴', '#weber', '#webergrill'], '2022-04-29', '638']\n",
      "5\n",
      "[0, '감성캠핑💡지난 주말은 멀지 않은 곳에운 좋게도 딱 한 자리가 남아서다음날 연장도 하고 아주꽉 채운 1박 캠핑을 했어요.뷰나 시설도 중요하지만 가끔은그저 집 가까운 곳이 최고 같아요🤭이제 낮에는 타프가 필요한 온도라오랜만에 꺼내서 피칭했더니역시 캠핑은 타프구나, 싶더라구요👍타프 아래 앉아 있는 것 만으로도왠지 어딘가로 여행 온 기분도 나고제대로 캠핑하는, 비로소 캠퍼 느낌😁미리미리 장비 점검 해야겠어요.여름캠핑 곧 시작입니다🧡..드디어 금요일이 왔네요🙌신나고 싶은 마음과는 달리비는 오고 춥고 왠지 쓸쓸하고이불 속으로 다시 쏙 들어가면엄청 행복해질 것 같지만오늘 하루를 잘 보내 주어야또 내일도 일요일도, 그리고새로운 한 주가 와주니까어차피 할 일들, 우리 최대한 미친듯이 뛰고 밤에 눕자구요😉..#감성캠핑 #캠핑칸 #마카플러스#캠핑용품 #캠핑정보 #타프 #텐풍#더리포즈쉘프 #깃든 #캠핑이불 #시로앤마로 #토르박스 #제임슨위스키', ['#감성캠핑', '#캠핑칸', '#마카플러스', '#캠핑용품', '#캠핑정보', '#타프', '#텐풍', '#더리포즈쉘프', '#깃든', '#캠핑이불', '#시로앤마로', '#토르박스', '#제임슨위스키'], '2022-04-29', '522']\n",
      "6\n",
      "[0, '매주 일하러 가는 캠핑⛺️놀 땐 놀고 일할 때도 노는 거처럼시작했으니 끝까지 해보자고-!그렇게 난 오늘도 편집의 늪으로#캠핑 #유튜버의삶 #즐거운인생', ['#캠핑', '#유튜버의삶', '#즐거운인생'], '2022-04-29', '133']\n",
      "7\n",
      "[0, '잠시후 22시15분에 영상 보러오세요 되는일이 하나도 없던 지난주 처음으로 낚시도 해보고 팩주머니도 없어 타프도 못치고 강제 미니멀 ㅋㅋ이번 영상 포인트 많아요 ㅋㅋ맨 끝인사 꼭 보셔야해요 #유튜브 #도토리tv #캠핑 #캠퍼 #타프 #미니멀캠핑 #낚시', ['#유튜브', '#도토리tv', '#캠핑', '#캠퍼', '#타프', '#미니멀캠핑', '#낚시'], '2022-04-28', '1,716']\n",
      "8\n",
      "[0, '백패킹의 맛을 알아버렸네☺️너무 맛있다,,🤍', [], '2022-04-28', '459']\n",
      "9\n",
      "[0, '👋', [], '2022-04-29', '2']\n"
     ]
    }
   ],
   "source": [
    "# 크롤링 시작\n",
    "\"\"\"\n",
    "driver.get(url)을 통해 검색 페이지 접속하고,\n",
    "target 변수에 크롤링할 게시글의 수를 바인딩\n",
    "\"\"\"\n",
    "\n",
    "# 인스타그램 로그인을 위한 계정 정보\n",
    "username = pyautogui.prompt(\"인스타 아이디를 입력하세요.\")\n",
    "userpw = pyautogui.prompt(\"비밀번호를 입력하세요.\")\n",
    "time.sleep(3)\n",
    "\n",
    "# 크롬 브라우저 열기\n",
    "driver = webdriver.Chrome(executable_path='chromedriver')\n",
    "driver.get(r'https://www.instagram.com')\n",
    "# loginUrl = 'https://www.instagram.com/accounts/login/'\n",
    "time.sleep(random.randint(3,5))\n",
    "\n",
    "# login\n",
    "driver.find_element_by_name('username').send_keys(username)\n",
    "driver.find_element_by_name('password').send_keys(userpw)\n",
    "time.sleep(random.randint(1,2))\n",
    "driver.find_element_by_css_selector('button.sqdOP.L3NKy.y3zKF').click()\n",
    "time.sleep(random.randint(3,5))\n",
    "\n",
    "# 정보 나중에 저장하기 클릭하고 넘어가기\n",
    "driver.find_element_by_css_selector('button.sqdOP.L3NKy.y3zKF').click()\n",
    "time.sleep(7)\n",
    "# 설정 나중에하기 클릭하고 넘어가기\n",
    "driver.find_element_by_css_selector('button.aOOlW.HoLwm').click()\n",
    "time.sleep(7)\n",
    "\n",
    "\n",
    "# 게시물을 조회할 검색 키워드 입력 요청\n",
    "# word = pyautogui.prompt(\"검색어를 입력하세요.\")\n",
    "word = pyautogui.prompt(\"검색어를 입력하세요.\")\n",
    "url = insta_searching(word)\n",
    "\n",
    "# 검색 결과 페이지 열기\n",
    "driver.get(url)\n",
    "time.sleep(random.randint(5,8))\n",
    "\n",
    "# 첫 번째 게시물 클릭\n",
    "select_first(driver)\n",
    "\n",
    "# 본격적으로 데이터 수집시작\n",
    "# 수집할 게시물의 수 (최근 500개)\n",
    "contents = []\n",
    "target = int(pyautogui.prompt(\"크롤링할 범위를 숫자로 설정해주세요. \"))\n",
    "\n",
    "\n",
    "\n",
    "for n in range(target):\n",
    "    print(n)\n",
    "    \n",
    "    try: # 날짜, 내용, 해시태그, 좋아요 수\n",
    "        reple()\n",
    "        re_reple()\n",
    "        abb = get_content(driver)\n",
    "        contents.append(abb)\n",
    "        print(contents[n][:10])\n",
    "        move_next(driver)\n",
    "    except:\n",
    "        print('fail')"
   ]
  },
  {
   "cell_type": "code",
   "execution_count": null,
   "metadata": {},
   "outputs": [],
   "source": []
  },
  {
   "cell_type": "code",
   "execution_count": null,
   "metadata": {},
   "outputs": [],
   "source": []
  },
  {
   "cell_type": "code",
   "execution_count": null,
   "metadata": {},
   "outputs": [],
   "source": []
  },
  {
   "cell_type": "code",
   "execution_count": null,
   "metadata": {},
   "outputs": [],
   "source": []
  },
  {
   "cell_type": "markdown",
   "metadata": {},
   "source": [
    "#### 쓰지않은 원본코드"
   ]
  },
  {
   "cell_type": "code",
   "execution_count": 22,
   "metadata": {},
   "outputs": [
    {
     "name": "stderr",
     "output_type": "stream",
     "text": [
      "C:\\Users\\User\\AppData\\Local\\Temp/ipykernel_22652/1427925327.py:5: DeprecationWarning: find_elements_by_* commands are deprecated. Please use find_elements() instead\n",
      "  ids  = driver.find_elements_by_css_selector('div.C4VMK > h3 > div > span > a')\n",
      "C:\\Users\\User\\AppData\\Local\\Temp/ipykernel_22652/1427925327.py:6: DeprecationWarning: find_elements_by_* commands are deprecated. Please use find_elements() instead\n",
      "  replies = driver.find_elements_by_css_selector('div.C4VMK > div.MOdxS > span')\n"
     ]
    }
   ],
   "source": [
    "# 댓글 내용 추출\n",
    "id_f = []\n",
    "rp_f = []\n",
    "\n",
    "ids  = driver.find_elements_by_css_selector('div.C4VMK > h3 > div > span > a')\n",
    "replies = driver.find_elements_by_css_selector('div.C4VMK > div.MOdxS > span')\n",
    "\n",
    "for id, reply in zip(ids, replies):\n",
    "    id_a = id.text.strip()\n",
    "    id_f.append(id_a)\n",
    "\n",
    "    rp_a = reply.text.strip()\n",
    "    rp_f.append(rp_a)"
   ]
  },
  {
   "cell_type": "code",
   "execution_count": 25,
   "metadata": {},
   "outputs": [
    {
     "name": "stdout",
     "output_type": "stream",
     "text": [
      "['jongdali_jeon_jong_gu', 'jang_yong_slk', 'koduckju', 'kms6274', 'lucky2w3e']\n"
     ]
    }
   ],
   "source": [
    "print(id_f)"
   ]
  },
  {
   "cell_type": "code",
   "execution_count": 26,
   "metadata": {},
   "outputs": [
    {
     "name": "stdout",
     "output_type": "stream",
     "text": [
      "['<등꽃 아래서>\\n\\n짧은 생이라\\n더\\n애틋하다.....\\n\\n새벽2시30븐에 출발하여\\n4군데 돌았다....\\n\\n여행하기 좋은 계절\\n촬영하다 중간에 정자에서 쉬고....\\n산책하다\\n또\\n촬영하고....\\n\\n이 꽃\\n넘 이쁘다.\\n\\n#전국여행\\n#경남하동\\n#하동여행\\n#하동물향기쉼터\\n#나의기록\\n#봄여행\\n#사진여행\\n#취미스타그램\\n#꽃출사가자🌼🌻🌹🍀🌷🌸💐🌿🍂🌾🌱🌙⭐☀🐸👏👉\\n#히동핫플\\n#하동카페\\n#1박2일\\n#캠핑카\\n#등꽃아래서\\n#캐논이미지스토밍\\n#canon\\n#감성샷\\n#등꽃\\n#가족여행\\n#캠핑\\n#벤로코리아\\n#벤로필터\\n#부티크\\n#photo  by  할리 장동건\\n#미션\\n#자연과  가장  자연스럽게', '멋진 작품입니다 👏👏👏', '등꽃이 질투했을듯요 😂😂😂', '👏👏👏👏👏😍😍😍😍', '등꽃 아래서 너무 아름다운 미선님...']\n"
     ]
    }
   ],
   "source": [
    "print(rp_f)"
   ]
  }
 ],
 "metadata": {
  "interpreter": {
   "hash": "a76c945293c8850cfaa1447e1d53bd2a8e8559f114a858d8c7dc2cf3da940760"
  },
  "kernelspec": {
   "display_name": "Python 3.9.7 ('base')",
   "language": "python",
   "name": "python3"
  },
  "language_info": {
   "codemirror_mode": {
    "name": "ipython",
    "version": 3
   },
   "file_extension": ".py",
   "mimetype": "text/x-python",
   "name": "python",
   "nbconvert_exporter": "python",
   "pygments_lexer": "ipython3",
   "version": "3.9.7"
  },
  "orig_nbformat": 4
 },
 "nbformat": 4,
 "nbformat_minor": 2
}
