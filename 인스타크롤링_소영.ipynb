{
 "cells": [
  {
   "cell_type": "markdown",
   "metadata": {},
   "source": [
    "# 잉스타 "
   ]
  },
  {
   "cell_type": "code",
   "execution_count": 4,
   "metadata": {},
   "outputs": [
    {
     "name": "stdout",
     "output_type": "stream",
     "text": [
      "Requirement already satisfied: selenium in c:\\users\\user\\anaconda2\\lib\\site-packages (4.1.3)\n",
      "Requirement already satisfied: trio~=0.17 in c:\\users\\user\\anaconda2\\lib\\site-packages (from selenium) (0.20.0)\n",
      "Requirement already satisfied: trio-websocket~=0.9 in c:\\users\\user\\anaconda2\\lib\\site-packages (from selenium) (0.9.2)\n",
      "Requirement already satisfied: urllib3[secure,socks]~=1.26 in c:\\users\\user\\anaconda2\\lib\\site-packages (from selenium) (1.26.7)\n",
      "Requirement already satisfied: outcome in c:\\users\\user\\anaconda2\\lib\\site-packages (from trio~=0.17->selenium) (1.1.0)\n",
      "Requirement already satisfied: attrs>=19.2.0 in c:\\users\\user\\anaconda2\\lib\\site-packages (from trio~=0.17->selenium) (21.2.0)\n",
      "Requirement already satisfied: sniffio in c:\\users\\user\\anaconda2\\lib\\site-packages (from trio~=0.17->selenium) (1.2.0)\n",
      "Requirement already satisfied: cffi>=1.14 in c:\\users\\user\\anaconda2\\lib\\site-packages (from trio~=0.17->selenium) (1.14.6)\n",
      "Requirement already satisfied: async-generator>=1.9 in c:\\users\\user\\anaconda2\\lib\\site-packages (from trio~=0.17->selenium) (1.10)\n",
      "Requirement already satisfied: sortedcontainers in c:\\users\\user\\anaconda2\\lib\\site-packages (from trio~=0.17->selenium) (2.4.0)\n",
      "Requirement already satisfied: idna in c:\\users\\user\\anaconda2\\lib\\site-packages (from trio~=0.17->selenium) (3.2)\n",
      "Requirement already satisfied: pycparser in c:\\users\\user\\anaconda2\\lib\\site-packages (from cffi>=1.14->trio~=0.17->selenium) (2.20)\n",
      "Requirement already satisfied: wsproto>=0.14 in c:\\users\\user\\anaconda2\\lib\\site-packages (from trio-websocket~=0.9->selenium) (1.1.0)\n",
      "Requirement already satisfied: pyOpenSSL>=0.14 in c:\\users\\user\\anaconda2\\lib\\site-packages (from urllib3[secure,socks]~=1.26->selenium) (21.0.0)\n",
      "Requirement already satisfied: cryptography>=1.3.4 in c:\\users\\user\\anaconda2\\lib\\site-packages (from urllib3[secure,socks]~=1.26->selenium) (3.4.8)\n",
      "Requirement already satisfied: certifi in c:\\users\\user\\anaconda2\\lib\\site-packages (from urllib3[secure,socks]~=1.26->selenium) (2021.10.8)\n",
      "Requirement already satisfied: PySocks!=1.5.7,<2.0,>=1.5.6 in c:\\users\\user\\anaconda2\\lib\\site-packages (from urllib3[secure,socks]~=1.26->selenium) (1.7.1)\n",
      "Requirement already satisfied: six>=1.5.2 in c:\\users\\user\\anaconda2\\lib\\site-packages (from pyOpenSSL>=0.14->urllib3[secure,socks]~=1.26->selenium) (1.16.0)\n",
      "Requirement already satisfied: h11<1,>=0.9.0 in c:\\users\\user\\anaconda2\\lib\\site-packages (from wsproto>=0.14->trio-websocket~=0.9->selenium) (0.13.0)\n",
      "Requirement already satisfied: psycopg2-binary in c:\\users\\user\\anaconda2\\lib\\site-packages (2.9.3)\n",
      "Requirement already satisfied: psycopg2 in c:\\users\\user\\anaconda2\\lib\\site-packages (2.9.3)\n",
      "Collecting pyautogui\n",
      "  Downloading PyAutoGUI-0.9.53.tar.gz (59 kB)\n",
      "Collecting pymsgbox\n",
      "  Downloading PyMsgBox-1.0.9.tar.gz (18 kB)\n",
      "  Installing build dependencies: started\n",
      "  Installing build dependencies: finished with status 'done'\n",
      "  Getting requirements to build wheel: started\n",
      "  Getting requirements to build wheel: finished with status 'done'\n",
      "    Preparing wheel metadata: started\n",
      "    Preparing wheel metadata: finished with status 'done'\n",
      "Collecting PyTweening>=1.0.1\n",
      "  Downloading pytweening-1.0.4.tar.gz (14 kB)\n",
      "Collecting pyscreeze>=0.1.21\n",
      "  Downloading PyScreeze-0.1.28.tar.gz (25 kB)\n",
      "  Installing build dependencies: started\n",
      "  Installing build dependencies: finished with status 'done'\n",
      "  Getting requirements to build wheel: started\n",
      "  Getting requirements to build wheel: finished with status 'done'\n",
      "    Preparing wheel metadata: started\n",
      "    Preparing wheel metadata: finished with status 'done'\n",
      "Collecting pygetwindow>=0.0.5\n",
      "  Downloading PyGetWindow-0.0.9.tar.gz (9.7 kB)\n",
      "Collecting mouseinfo\n",
      "  Downloading MouseInfo-0.1.3.tar.gz (10 kB)\n",
      "Collecting pyrect\n",
      "  Downloading PyRect-0.2.0.tar.gz (17 kB)\n",
      "Collecting pyperclip\n",
      "  Using cached pyperclip-1.8.2-py3-none-any.whl\n",
      "Building wheels for collected packages: pyautogui, pygetwindow, pyscreeze, PyTweening, mouseinfo, pymsgbox, pyrect\n",
      "  Building wheel for pyautogui (setup.py): started\n",
      "  Building wheel for pyautogui (setup.py): finished with status 'done'\n",
      "  Created wheel for pyautogui: filename=PyAutoGUI-0.9.53-py3-none-any.whl size=36613 sha256=45b46e4dcabae0c8d0e60adeeac27e271b00aa21a73127b0d420838fef7b7a85\n",
      "  Stored in directory: c:\\users\\user\\appdata\\local\\pip\\cache\\wheels\\d8\\97\\e4\\d2edca92a87d3b5fbfb527264750a17b4ba297b9a7cab6e67f\n",
      "  Building wheel for pygetwindow (setup.py): started\n",
      "  Building wheel for pygetwindow (setup.py): finished with status 'done'\n",
      "  Created wheel for pygetwindow: filename=PyGetWindow-0.0.9-py3-none-any.whl size=11080 sha256=4d625e8c4ddadb80efff369a1f54bf6d8ead90153e1892646a89230ff1b08a2c\n",
      "  Stored in directory: c:\\users\\user\\appdata\\local\\pip\\cache\\wheels\\44\\ab\\20\\423c3a444793767e4e41f8377bc902f77bee212e68dcce85a5\n",
      "  Building wheel for pyscreeze (PEP 517): started\n",
      "  Building wheel for pyscreeze (PEP 517): finished with status 'done'\n",
      "  Created wheel for pyscreeze: filename=PyScreeze-0.1.28-py3-none-any.whl size=13021 sha256=3d09a20f5ae551075bd7a78746cb8c31e43e9bfc0733b7e2ff6cad744e6cb35b\n",
      "  Stored in directory: c:\\users\\user\\appdata\\local\\pip\\cache\\wheels\\a2\\5b\\86\\99f1d8fac5d92de0ccb3f0d4ad15e3f4278baf75a9b0f20b93\n",
      "  Building wheel for PyTweening (setup.py): started\n",
      "  Building wheel for PyTweening (setup.py): finished with status 'done'\n",
      "  Created wheel for PyTweening: filename=pytweening-1.0.4-py3-none-any.whl size=5854 sha256=fdfa9b9f35f3e2b76591e21bd5c1ab64da7d50ef9a72bc553c8ef41024a1e9d3\n",
      "  Stored in directory: c:\\users\\user\\appdata\\local\\pip\\cache\\wheels\\a4\\5d\\d2\\ba4c8f82163233ffaadcf383c1e34d7d92635d357d13e7b78d\n",
      "  Building wheel for mouseinfo (setup.py): started\n",
      "  Building wheel for mouseinfo (setup.py): finished with status 'done'\n",
      "  Created wheel for mouseinfo: filename=MouseInfo-0.1.3-py3-none-any.whl size=10906 sha256=2cc22c22becf1486e97c738b963e56caa255addbde42ef9b12036c22b436ba7d\n",
      "  Stored in directory: c:\\users\\user\\appdata\\local\\pip\\cache\\wheels\\61\\73\\b9\\6fb1131ab36e650206e3aa0ad7a68907b41b32ac2d4f75f543\n",
      "  Building wheel for pymsgbox (PEP 517): started\n",
      "  Building wheel for pymsgbox (PEP 517): finished with status 'done'\n",
      "  Created wheel for pymsgbox: filename=PyMsgBox-1.0.9-py3-none-any.whl size=7420 sha256=f3d46b855d3e4517bab998fa6b008d79bd54ed399dcedcb614113807c795d0d2\n",
      "  Stored in directory: c:\\users\\user\\appdata\\local\\pip\\cache\\wheels\\7f\\13\\8c\\584c519464297d9637f9cd29fd1dcdf55e2a2cab225c76a2db\n",
      "  Building wheel for pyrect (setup.py): started\n",
      "  Building wheel for pyrect (setup.py): finished with status 'done'\n",
      "  Created wheel for pyrect: filename=PyRect-0.2.0-py2.py3-none-any.whl size=11195 sha256=62e2808df992433eab7ccd11a71c137c40a339eea6ce603983a861449aaf6778\n",
      "  Stored in directory: c:\\users\\user\\appdata\\local\\pip\\cache\\wheels\\25\\80\\fa\\27bb4a1c2e21f64ec71390489d52e57b7cc8afbe79bd595c5e\n",
      "Successfully built pyautogui pygetwindow pyscreeze PyTweening mouseinfo pymsgbox pyrect\n",
      "Installing collected packages: pyrect, pyperclip, PyTweening, pyscreeze, pymsgbox, pygetwindow, mouseinfo, pyautogui\n",
      "Successfully installed PyTweening-1.0.4 mouseinfo-0.1.3 pyautogui-0.9.53 pygetwindow-0.0.9 pymsgbox-1.0.9 pyperclip-1.8.2 pyrect-0.2.0 pyscreeze-0.1.28\n"
     ]
    }
   ],
   "source": [
    "!pip install selenium\n",
    "!pip install psycopg2-binary\n",
    "!pip install psycopg2\n",
    "!pip install pyautogui"
   ]
  },
  {
   "cell_type": "code",
   "execution_count": 1,
   "metadata": {},
   "outputs": [],
   "source": [
    "# 필요 패키지 호출\n",
    "from selenium import webdriver\n",
    "from selenium.webdriver.common.keys import Keys\n",
    "from selenium.webdriver.common.by import By\n",
    "from selenium.webdriver import ActionChains\n",
    "from bs4 import BeautifulSoup\n",
    "import selenium\n",
    "import time\n",
    "import urllib.parse\n",
    "import re\n",
    "import pyautogui\n",
    "import random\n",
    "import psycopg2\n",
    "import pandas as pd\n",
    "import urllib.request\n",
    "import json"
   ]
  },
  {
   "cell_type": "markdown",
   "metadata": {},
   "source": [
    "### DB 불러오기"
   ]
  },
  {
   "cell_type": "code",
   "execution_count": 19,
   "metadata": {},
   "outputs": [
    {
     "name": "stdout",
     "output_type": "stream",
     "text": [
      "=== 접속 성공 =====\n"
     ]
    }
   ],
   "source": [
    "# DB 생성\n",
    "conn_str = \"host=localhost dbname=postgres user=postgres password=admin port=5433\"\n",
    "\n",
    "try:\n",
    "    conn = psycopg2.connect(conn_str)\n",
    "    print(\"=== 접속 성공 =====\")\n",
    "# except:\n",
    "#   print(\"접속오류 !!\")\n",
    "\n",
    "except psycopg2.DatabaseError as db_err:\n",
    "    print(\"접속오류 !!\")\n",
    "    print(db_err)\n",
    "    \n",
    "cur = conn.cursor() # cursor 인스턴스 : 데이터 조작용 생성\n"
   ]
  },
  {
   "cell_type": "markdown",
   "metadata": {},
   "source": [
    "### instagram 크롤링을 위한 함수 정의 및 준비"
   ]
  },
  {
   "cell_type": "code",
   "execution_count": 20,
   "metadata": {},
   "outputs": [],
   "source": [
    "## 리스트 \n",
    "        \n",
    "CAMPING_dic = {'#캠핑':0, '#캠핑요리':0, '#캠핑용품':0, '#캠핑소품':0, '#캠핑그램':0, '#캠퍼':0, '#캠린이':0, '#감성캠핑':0, \n",
    "'#차박':0, '#글램핑':0, '#오토캠핑':0, '#카라반캠핑':0, '#카라반':0, '#노지캠핑':0, '#오지캠핑':0,\n",
    "'#캠핑요리':0, '#캠핑음식':0, '#캠핑스타그램':0, '#캠핑장':0, '#캠핑카':0, '#불멍':0, '#백패커':0}\n",
    "\n",
    "camping = list(CAMPING_dic.keys())\n",
    "\n",
    "Camping_ls = []\n",
    "for i in camping:\n",
    "        Camping_ls.append(i.replace('#',''))"
   ]
  },
  {
   "cell_type": "code",
   "execution_count": 21,
   "metadata": {},
   "outputs": [
    {
     "data": {
      "text/plain": [
       "['캠핑',\n",
       " '캠핑요리',\n",
       " '캠핑용품',\n",
       " '캠핑소품',\n",
       " '캠핑그램',\n",
       " '캠퍼',\n",
       " '캠린이',\n",
       " '감성캠핑',\n",
       " '차박',\n",
       " '글램핑',\n",
       " '오토캠핑',\n",
       " '카라반캠핑',\n",
       " '카라반',\n",
       " '노지캠핑',\n",
       " '오지캠핑',\n",
       " '캠핑음식',\n",
       " '캠핑스타그램',\n",
       " '캠핑장',\n",
       " '캠핑카',\n",
       " '불멍',\n",
       " '백패커']"
      ]
     },
     "execution_count": 21,
     "metadata": {},
     "output_type": "execute_result"
    }
   ],
   "source": [
    "Camping_ls"
   ]
  },
  {
   "cell_type": "code",
   "execution_count": 2,
   "metadata": {},
   "outputs": [],
   "source": [
    "# 함수 정의 : 검색어 조건에 따른 url 생성\n",
    "def insta_searching(word):\n",
    "    url = f\"https://www.instagram.com/explore/tags/{word}\"\n",
    "    return url"
   ]
  },
  {
   "cell_type": "code",
   "execution_count": 3,
   "metadata": {},
   "outputs": [],
   "source": [
    "# 함수정의 : 열린 페이지에서 첫번째 게시물 클릭 + sleep 메소드 통하여 시차 두기\n",
    "def select_first(driver):\n",
    "    first = driver.find_elements_by_css_selector('div._9AhH0')[0]\n",
    "    first.click()\n",
    "    time.sleep(random.randint(2,5))"
   ]
  },
  {
   "cell_type": "code",
   "execution_count": 4,
   "metadata": {},
   "outputs": [],
   "source": [
    "# 함수 정의 : 본문 내용, 작성일자, 좋아요 수, 해시태그 가져오기\n",
    "import re\n",
    "from bs4 import BeautifulSoup\n",
    "\n",
    "def get_content(driver):\n",
    "    \n",
    "    html = driver.page_source\n",
    "    soup = BeautifulSoup(html, 'lxml')\n",
    "    \n",
    "    # 본문 내용 \n",
    "    try:\n",
    "        content = soup.select('div.MOdxS > span')[0].text\n",
    "    except:\n",
    "        content = ' '\n",
    "        \n",
    "    # 해시태그 \n",
    "    tag = re.findall(r'#[^\\s#,\\\\]+', content)  \n",
    "    # 작성일자 \n",
    "    date = soup.select('time._1o9PC')[0]['datetime'][:10]\n",
    "    # 좋아요\n",
    "    try:\n",
    "        like = soup.select('div.fDxYl > span')[0].text\n",
    "    except:\n",
    "        like = 0\n",
    "    # 댓글에 달린 id count\n",
    "    ids  = len(driver.find_elements_by_css_selector('div.C4VMK > h3 > div > span > a'))\n",
    "\n",
    "\n",
    "    return content, tag, date, like , ids\n",
    "    # results = [content, tags, date, like]\n",
    "    # return results"
   ]
  },
  {
   "cell_type": "code",
   "execution_count": 5,
   "metadata": {},
   "outputs": [],
   "source": [
    "def reple(): # 댓글 플러스 버튼 누르기  \n",
    "    while True:\n",
    "        try :\n",
    "            button = driver.find_element_by_css_selector('body > div.RnEpo._Yhr4 > div.pbNvD.QZZGH.bW6vo > div > article > div > div.HP0qD > div > div > div.eo2As > div.EtaWk > ul > li > div > button')\n",
    "            button.click()\n",
    "            time.sleep(3)\n",
    "        except : \n",
    "            break"
   ]
  },
  {
   "cell_type": "code",
   "execution_count": 6,
   "metadata": {},
   "outputs": [],
   "source": [
    "def re_reple(): # 대댓글 버튼 누르기\n",
    "\n",
    "    buttons = driver.find_elements_by_css_selector('li > ul > li > div > button')\n",
    "\n",
    "    for button in buttons:\n",
    "        button.send_keys(Keys.ENTER)\n",
    "        time.sleep(2)"
   ]
  },
  {
   "cell_type": "code",
   "execution_count": 7,
   "metadata": {},
   "outputs": [],
   "source": [
    "# 첫 번째 게시물 클릭 후 다음 게시물 클릭\n",
    "def move_next(driver):\n",
    "    right = driver.find_element_by_css_selector(\"div.l8mY4.feth3\")\n",
    "    right.click()\n",
    "    time.sleep(random.randint(3,5))"
   ]
  },
  {
   "cell_type": "markdown",
   "metadata": {},
   "source": [
    "### instagram 크롤링 코드\n",
    "* time.sleep()을 이용하여 페이지 막히는 것 예방"
   ]
  },
  {
   "cell_type": "code",
   "execution_count": 29,
   "metadata": {},
   "outputs": [
    {
     "ename": "SyntaxError",
     "evalue": "invalid syntax (Temp/ipykernel_1656/1609269039.py, line 44)",
     "output_type": "error",
     "traceback": [
      "\u001b[1;36m  File \u001b[1;32m\"C:\\Users\\User\\AppData\\Local\\Temp/ipykernel_1656/1609269039.py\"\u001b[1;36m, line \u001b[1;32m44\u001b[0m\n\u001b[1;33m    본격적으로 데이터 수집시작\u001b[0m\n\u001b[1;37m          ^\u001b[0m\n\u001b[1;31mSyntaxError\u001b[0m\u001b[1;31m:\u001b[0m invalid syntax\n"
     ]
    }
   ],
   "source": [
    "# 크롤링 시작\n",
    "\"\"\"\n",
    "driver.get(url)을 통해 검색 페이지 접속하고,\n",
    "target 변수에 크롤링할 게시글의 수를 바인딩\n",
    "\"\"\"\n",
    "\n",
    "# 인스타그램 로그인을 위한 계정 정보\n",
    "username = pyautogui.prompt(\"인스타 아이디를 입력하세요.\")\n",
    "userpw = pyautogui.prompt(\"비밀번호를 입력하세요.\")\n",
    "time.sleep(3)\n",
    "\n",
    "# 크롬 브라우저 열기\n",
    "driver = webdriver.Chrome(executable_path='chromedriver')\n",
    "driver.get(r'https://www.instagram.com')\n",
    "# loginUrl = 'https://www.instagram.com/accounts/login/'\n",
    "time.sleep(random.randint(3,5))\n",
    "\n",
    "# login\n",
    "driver.find_element_by_name('username').send_keys(username)\n",
    "driver.find_element_by_name('password').send_keys(userpw)\n",
    "time.sleep(random.randint(1,2))\n",
    "driver.find_element_by_css_selector('button.sqdOP.L3NKy.y3zKF').click()\n",
    "time.sleep(random.randint(3,5))\n",
    "\n",
    "# 정보 나중에 저장하기 클릭하고 넘어가기\n",
    "driver.find_element_by_css_selector('button.sqdOP.L3NKy.y3zKF').click()\n",
    "time.sleep(random.randint(3,5))\n",
    "# 설정 나중에하기 클릭하고 넘어가기\n",
    "driver.find_element_by_css_selector('button.aOOlW.HoLwm').click()\n",
    "time.sleep(random.randint(3,5))\n",
    "\n",
    "\n",
    "# 게시물을 조회할 검색 키워드 입력 요청\n",
    "word = pyautogui.prompt(\"검색어를 입력하세요.\")\n",
    "url = insta_searching(word)\n",
    "\n",
    "# 검색 결과 페이지 열기\n",
    "driver.get(url)\n",
    "time.sleep(random.randint(5,8))\n",
    "\n",
    "# 첫 번째 게시물 클릭\n",
    "select_first(driver)\n",
    "\n",
    "# 본격적으로 데이터 수집시작\n",
    "# 수집할 게시물의 수 (최근 500개)\n",
    "\n",
    "for n in range(10):\n",
    "    print(n)\n",
    "    \n",
    "    try:\n",
    "        # 날짜, 내용, 해시태그, 좋아요 수\n",
    "        content,tags,date,like = get_content(driver)\n",
    "        print(content)\n",
    "        move_next(driver)\n",
    "        \n",
    "        if n < 10 or word == 'Camping_ls': #검색 시 관계있는 게시물\n",
    "            if word == 'Camping_ls':\n",
    "                try:\n",
    "                    # 인기게시물 날짜, 내용, 해시태그, 좋아요 수  DB\n",
    "                    print(date,content,tags,like)\n",
    "                    cur.execute(\"INSERT INTO camping_x (day, content, tags, insta_like) VALUES (%s,%s,%s,%s);\",(date,content,tags,like))\n",
    "                    conn.commit()\n",
    "\n",
    "                except:\n",
    "                    conn.rollback()\n",
    "                    print(\"--- DB error\")\n",
    "            else: #최신게시물\n",
    "                try:\n",
    "                    # 검색어 'Camping_ls'의 인기게시물에 대한 날짜, 내용, 해시태그, 좋아요 수  DB\n",
    "                    cur.execute(\"INSERT INTO camping (day, content, tags, insta_like) VALUES (%s,%s,%s,%s);\",(date,content,tags,like))\n",
    "                    conn.commit()\n",
    "                    \n",
    "                except:\n",
    "                    conn.rollback()\n",
    "                    print(\"--- DB error\")\n",
    "                \n",
    "            \n",
    "        else:\n",
    "            if tags != []:\n",
    "                for me in tags:\n",
    "                    for i in range(0,len(Camping_ls)):            \n",
    "                        if camping[i] == me.upper():\n",
    "                                Camping_ls[camping[i]] += 1\n",
    "                            \n",
    "            else:\n",
    "                for j in range(0,len(Camping_ls)):\n",
    "                    m = ''.join(char for char in camping[j] if  char.isalnum())\n",
    "                    if m in content.upper():\n",
    "                        Camping_ls[camping[j]] += 1\n",
    "\n",
    "                            \n",
    "    except:\n",
    "        time.sleep(random.randint(1,2))\n",
    "        move_next(driver)\n",
    "\n",
    "# mbti별 언급된 수 DB\n",
    "for no in camping:\n",
    "    try:\n",
    "        cur.execute(\"INSERT INTO count_ (camping,n) VALUES (%s,%s);\",(no.replace('#',''),Camping_ls[no]))\n",
    "        conn.commit()\n",
    "\n",
    "    except:\n",
    "        conn.rollback()\n",
    "        print(\"--- DB error\")\n",
    "\n",
    "print(f'총 게시물 수 는 (최대1000개만 수집) : {n-8}')"
   ]
  },
  {
   "cell_type": "code",
   "execution_count": 8,
   "metadata": {},
   "outputs": [
    {
     "name": "stdout",
     "output_type": "stream",
     "text": [
      "데이터 저장 시작 2022/05/02 18:27:39\n"
     ]
    }
   ],
   "source": [
    "from datetime import date, timedelta, datetime\n",
    "print('데이터 저장 시작' , datetime.today().strftime(\"%Y/%m/%d %H:%M:%S\"))"
   ]
  },
  {
   "cell_type": "code",
   "execution_count": 9,
   "metadata": {},
   "outputs": [],
   "source": [
    "import openpyxl"
   ]
  },
  {
   "cell_type": "code",
   "execution_count": 10,
   "metadata": {},
   "outputs": [
    {
     "name": "stderr",
     "output_type": "stream",
     "text": [
      "C:\\Users\\User\\AppData\\Local\\Temp/ipykernel_10828/4143854838.py:19: DeprecationWarning: find_element_by_* commands are deprecated. Please use find_element() instead\n",
      "  driver.find_element_by_name('username').send_keys(username)\n",
      "C:\\Users\\User\\AppData\\Local\\Temp/ipykernel_10828/4143854838.py:20: DeprecationWarning: find_element_by_* commands are deprecated. Please use find_element() instead\n",
      "  driver.find_element_by_name('password').send_keys(userpw)\n",
      "C:\\Users\\User\\AppData\\Local\\Temp/ipykernel_10828/4143854838.py:22: DeprecationWarning: find_element_by_* commands are deprecated. Please use find_element() instead\n",
      "  driver.find_element_by_css_selector('button.sqdOP.L3NKy.y3zKF').click()\n",
      "C:\\Users\\User\\AppData\\Local\\Temp/ipykernel_10828/4143854838.py:26: DeprecationWarning: find_element_by_* commands are deprecated. Please use find_element() instead\n",
      "  driver.find_element_by_css_selector('button.sqdOP.L3NKy.y3zKF').click()\n",
      "C:\\Users\\User\\AppData\\Local\\Temp/ipykernel_10828/4143854838.py:29: DeprecationWarning: find_element_by_* commands are deprecated. Please use find_element() instead\n",
      "  driver.find_element_by_css_selector('button.aOOlW.HoLwm').click()\n",
      "C:\\Users\\User\\AppData\\Local\\Temp/ipykernel_10828/2264629210.py:3: DeprecationWarning: find_elements_by_* commands are deprecated. Please use find_elements() instead\n",
      "  first = driver.find_elements_by_css_selector('div._9AhH0')[0]\n"
     ]
    },
    {
     "name": "stdout",
     "output_type": "stream",
     "text": [
      "0\n"
     ]
    },
    {
     "name": "stderr",
     "output_type": "stream",
     "text": [
      "C:\\Users\\User\\AppData\\Local\\Temp/ipykernel_10828/2672829169.py:4: DeprecationWarning: find_element_by_* commands are deprecated. Please use find_element() instead\n",
      "  button = driver.find_element_by_css_selector('body > div.RnEpo._Yhr4 > div.pbNvD.QZZGH.bW6vo > div > article > div > div.HP0qD > div > div > div.eo2As > div.EtaWk > ul > li > div > button')\n",
      "C:\\Users\\User\\AppData\\Local\\Temp/ipykernel_10828/3902582992.py:26: DeprecationWarning: find_elements_by_* commands are deprecated. Please use find_elements() instead\n",
      "  ids  = len(driver.find_elements_by_css_selector('div.C4VMK > h3 > div > span > a'))\n",
      "C:\\Users\\User\\AppData\\Local\\Temp/ipykernel_10828/4143854838.py:71: DeprecationWarning: find_elements_by_* commands are deprecated. Please use find_elements() instead\n",
      "  bbbb = len(driver.find_elements_by_css_selector('div > li > div > div > div.C4VMK > div.MOdxS > span'))\n",
      "C:\\Users\\User\\AppData\\Local\\Temp/ipykernel_10828/4143854838.py:73: DeprecationWarning: find_elements_by_* commands are deprecated. Please use find_elements() instead\n",
      "  replies = driver.find_elements_by_css_selector('ul:nth-child('+ str(i+2) +') > div > li > div > div > div.C4VMK > div.MOdxS > span')\n"
     ]
    },
    {
     "name": "stdout",
     "output_type": "stream",
     "text": [
      "2021-05-10\n"
     ]
    },
    {
     "name": "stderr",
     "output_type": "stream",
     "text": [
      "C:\\Users\\User\\AppData\\Local\\Temp/ipykernel_10828/2303173463.py:3: DeprecationWarning: find_element_by_* commands are deprecated. Please use find_element() instead\n",
      "  right = driver.find_element_by_css_selector(\"div.l8mY4.feth3\")\n"
     ]
    },
    {
     "name": "stdout",
     "output_type": "stream",
     "text": [
      "1\n",
      "2022-04-16\n",
      "2\n",
      "2021-09-26\n",
      "데이터 저장 시작 2022/05/02 18:29:32\n",
      "완료 2022/05/02 18:29:32\n"
     ]
    }
   ],
   "source": [
    "# 크롤링 시작\n",
    "\"\"\"\n",
    "driver.get(url)을 통해 검색 페이지 접속하고,\n",
    "target 변수에 크롤링할 게시글의 수를 바인딩\n",
    "\"\"\"\n",
    "\n",
    "# 인스타그램 로그인을 위한 계정 정보\n",
    "username = pyautogui.prompt(\"인스타 아이디를 입력하세요.\")\n",
    "userpw = pyautogui.prompt(\"비밀번호를 입력하세요.\")\n",
    "time.sleep(3)\n",
    "\n",
    "# 크롬 브라우저 열기\n",
    "driver = webdriver.Chrome(executable_path='chromedriver')\n",
    "driver.get(r'https://www.instagram.com')\n",
    "# loginUrl = 'https://www.instagram.com/accounts/login/'\n",
    "time.sleep(random.randint(3,5))\n",
    "\n",
    "# login\n",
    "driver.find_element_by_name('username').send_keys(username)\n",
    "driver.find_element_by_name('password').send_keys(userpw)\n",
    "time.sleep(random.randint(1,2))\n",
    "driver.find_element_by_css_selector('button.sqdOP.L3NKy.y3zKF').click()\n",
    "time.sleep(random.randint(3,5))\n",
    "\n",
    "# 정보 나중에 저장하기 클릭하고 넘어가기\n",
    "driver.find_element_by_css_selector('button.sqdOP.L3NKy.y3zKF').click()\n",
    "time.sleep(random.randint(3,5))\n",
    "# 설정 나중에하기 클릭하고 넘어가기\n",
    "driver.find_element_by_css_selector('button.aOOlW.HoLwm').click()\n",
    "time.sleep(random.randint(3,5))\n",
    "\n",
    "\n",
    "# 게시물을 조회할 검색 키워드 입력 요청\n",
    "word = pyautogui.prompt(\"검색어를 입력하세요.\")\n",
    "url = insta_searching(word)\n",
    "\n",
    "# 검색 결과 페이지 열기\n",
    "driver.get(url)\n",
    "time.sleep(random.randint(5,8))\n",
    "\n",
    "# 첫 번째 게시물 클릭\n",
    "select_first(driver)\n",
    "\n",
    "# 본격적으로 데이터 수집시작\n",
    "## 본문, 날짜, 좋아요수, 해시태그, 댓글 전체수, 전체 댓글들\n",
    "contents = []\n",
    "dates = []\n",
    "likes = []\n",
    "tags = []\n",
    "id_count = []\n",
    "rp = []\n",
    "\n",
    "# 검색범위 입력 요청\n",
    "target = int(pyautogui.prompt(\"검색범위를 입력하세요.\"))\n",
    "\n",
    "\n",
    "for n in range(target):\n",
    "    print(n)\n",
    "    try: # 날짜, 내용, 해시태그, 좋아요 수, id로 파악한 댓글수, 전체 댓글\n",
    "        reple()\n",
    "        re_reple()\n",
    "        content, tag, date, like, ids = get_content(driver)\n",
    "        print(date)\n",
    "        contents.append(content)\n",
    "        dates.append(date)\n",
    "        likes.append(like)\n",
    "        tags.append(tag)\n",
    "        id_count.append(ids)\n",
    "        rp_b=[]    # 전체 댓글을 따로 리스트로 넣지않으면 array가 달라져서 활용할수 없어진다.\n",
    "        bbbb = len(driver.find_elements_by_css_selector('div > li > div > div > div.C4VMK > div.MOdxS > span'))\n",
    "        for i in range(bbbb) :\n",
    "            replies = driver.find_elements_by_css_selector('ul:nth-child('+ str(i+2) +') > div > li > div > div > div.C4VMK > div.MOdxS > span')\n",
    "            for reply in replies:\n",
    "                rp_a = reply.text.strip()\n",
    "                rp_b.append(rp_a)\n",
    "        rp.append(rp_b)\n",
    "\n",
    "        move_next(driver)  # 다음 게시글로\n",
    "    except:\n",
    "        print('fail')\n",
    "        time.sleep(2)\n",
    "        move_next(driver)\n",
    "print('데이터 저장 시작' , datetime.today().strftime(\"%Y/%m/%d %H:%M:%S\"))\n",
    "\n",
    "#엑셀로 저장      \n",
    "word = 'instagram crawling'  #파일이름 \n",
    "results_df = pd.DataFrame({'본문':contents,'댓글':rp,'태그':tags, '날짜':dates,'좋아요':likes,'전체 댓글 수':id_count})\n",
    "# results_df.drop_duplicates(subset = contents , inplace = True) #중복 게시글 제거\n",
    "results_df.reset_index(drop=True, inplace = True) #인덱스 재설정\n",
    "if not os.path.exists('./' + word + '.xlsx') : \n",
    "    with pd.ExcelWriter('./' + word + '.xlsx', mode='w', engine='openpyxl') as writer : #엑셀 파일 없으면 생성\n",
    "        results_df.to_excel(writer, sheet_name = word, index=False)\n",
    "else: \n",
    "    with pd.ExcelWriter('./' + word + '.xlsx', mode='w', engine='openpyxl') as writer : #엑셀 파일 있으면 덮어씌우기\n",
    "        results_df.to_excel(writer, sheet_name = word, index=False)\n",
    "print('완료' , datetime.today().strftime(\"%Y/%m/%d %H:%M:%S\"))\n",
    "driver.quit()"
   ]
  },
  {
   "cell_type": "code",
   "execution_count": 27,
   "metadata": {},
   "outputs": [
    {
     "data": {
      "text/html": [
       "<div>\n",
       "<style scoped>\n",
       "    .dataframe tbody tr th:only-of-type {\n",
       "        vertical-align: middle;\n",
       "    }\n",
       "\n",
       "    .dataframe tbody tr th {\n",
       "        vertical-align: top;\n",
       "    }\n",
       "\n",
       "    .dataframe thead th {\n",
       "        text-align: right;\n",
       "    }\n",
       "</style>\n",
       "<table border=\"1\" class=\"dataframe\">\n",
       "  <thead>\n",
       "    <tr style=\"text-align: right;\">\n",
       "      <th></th>\n",
       "      <th>본문</th>\n",
       "      <th>댓글</th>\n",
       "      <th>태그</th>\n",
       "      <th>날짜</th>\n",
       "      <th>좋아요</th>\n",
       "      <th>전체 댓글 수</th>\n",
       "    </tr>\n",
       "  </thead>\n",
       "  <tbody>\n",
       "    <tr>\n",
       "      <th>0</th>\n",
       "      <td>🙆 비도 오고, 월요일..평안하신지요? 바닐라떼 벤티..일단 커서 좋네요..새로운 ...</td>\n",
       "      <td>['달달한거 좋아하시는 것 같아요~~ㅎㅎ^^ 그래서 파인프라를 쓰시는구나 싶어요~~...</td>\n",
       "      <td>['#양말', '#축구', '#선한영향력', '#황진기', '#온누리교회', '#한...</td>\n",
       "      <td>2021-05-10</td>\n",
       "      <td>210</td>\n",
       "      <td>18</td>\n",
       "    </tr>\n",
       "    <tr>\n",
       "      <th>1</th>\n",
       "      <td>@@치과 안다니고 싶은 사람은 꼭 보세요#광고 #치과 #치통 #치주염 #치아 #대박...</td>\n",
       "      <td>['@chan0_223', '@pspyeong', '@0117.j @117_janu...</td>\n",
       "      <td>['#광고', '#치과', '#치통', '#치주염', '#치아', '#대박........</td>\n",
       "      <td>2022-04-16</td>\n",
       "      <td>783</td>\n",
       "      <td>63</td>\n",
       "    </tr>\n",
       "    <tr>\n",
       "      <th>2</th>\n",
       "      <td>#광고 칫솔 #gum #588칫솔제가 요즘 사용하는 0.4mm 초미세모로 치아와 잇...</td>\n",
       "      <td>['🖤💥🖤💥🖤', 'So give me one', 'ㅅㅔ상에', '🔥', '😍😍😍'...</td>\n",
       "      <td>['#광고', '#gum', '#588칫솔제가', '#GUM', '#칫솔', '#5...</td>\n",
       "      <td>2021-09-26</td>\n",
       "      <td>0</td>\n",
       "      <td>12</td>\n",
       "    </tr>\n",
       "  </tbody>\n",
       "</table>\n",
       "</div>"
      ],
      "text/plain": [
       "                                                  본문  \\\n",
       "0  🙆 비도 오고, 월요일..평안하신지요? 바닐라떼 벤티..일단 커서 좋네요..새로운 ...   \n",
       "1  @@치과 안다니고 싶은 사람은 꼭 보세요#광고 #치과 #치통 #치주염 #치아 #대박...   \n",
       "2  #광고 칫솔 #gum #588칫솔제가 요즘 사용하는 0.4mm 초미세모로 치아와 잇...   \n",
       "\n",
       "                                                  댓글  \\\n",
       "0  ['달달한거 좋아하시는 것 같아요~~ㅎㅎ^^ 그래서 파인프라를 쓰시는구나 싶어요~~...   \n",
       "1  ['@chan0_223', '@pspyeong', '@0117.j @117_janu...   \n",
       "2  ['🖤💥🖤💥🖤', 'So give me one', 'ㅅㅔ상에', '🔥', '😍😍😍'...   \n",
       "\n",
       "                                                  태그          날짜  좋아요  전체 댓글 수  \n",
       "0  ['#양말', '#축구', '#선한영향력', '#황진기', '#온누리교회', '#한...  2021-05-10  210       18  \n",
       "1  ['#광고', '#치과', '#치통', '#치주염', '#치아', '#대박........  2022-04-16  783       63  \n",
       "2  ['#광고', '#gum', '#588칫솔제가', '#GUM', '#칫솔', '#5...  2021-09-26    0       12  "
      ]
     },
     "execution_count": 27,
     "metadata": {},
     "output_type": "execute_result"
    }
   ],
   "source": [
    "results_df = pd.read_excel('../MZproject/instagram crawling.xlsx')\n",
    "results_df"
   ]
  },
  {
   "cell_type": "code",
   "execution_count": 20,
   "metadata": {},
   "outputs": [
    {
     "data": {
      "text/plain": [
       "0    달달한거좋아하시는것같아요ㅎㅎ그래서파인프라를쓰시는구나싶어요ㅎㅎ아웅벤티사이즈로바닐라라떼...\n",
       "1    chan0_223pspyeong0117j117_janueljieun02059653공...\n",
       "2    Sogivemeoneㅅㅔ상에진짜귀엽다ㅠSogivemeoneOneforyouandon...\n",
       "Name: 댓글, dtype: object"
      ]
     },
     "execution_count": 20,
     "metadata": {},
     "output_type": "execute_result"
    }
   ],
   "source": [
    "# results_df[\"본문\"] = results_df[\"본문\"].str.replace(pat=r'[^\\w]', repl=r' ', regex=True)\n",
    "results_df[\"댓글\"] = results_df[\"댓글\"].str.replace(pat=r'[^\\w]', repl=r'', regex=True)\n",
    "# results_df[\"태그\"] = results_df[\"태그\"].str.replace(pat=r'[^\\w]', repl=r' ', regex=True)\n",
    "results_df['댓글']"
   ]
  },
  {
   "cell_type": "code",
   "execution_count": null,
   "metadata": {},
   "outputs": [],
   "source": []
  },
  {
   "cell_type": "markdown",
   "metadata": {},
   "source": [
    "#### 한글 깨짐을 합쳐주기"
   ]
  },
  {
   "cell_type": "code",
   "execution_count": null,
   "metadata": {},
   "outputs": [
    {
     "name": "stdout",
     "output_type": "stream",
     "text": [
      "Collecting hangul-utils\n",
      "  Downloading hangul_utils-0.4.5-py3-none-any.whl (20 kB)\n",
      "Requirement already satisfied: tqdm in c:\\users\\user\\anaconda3\\lib\\site-packages (from hangul-utils) (4.62.3)\n",
      "Collecting map-async>=1.2.3\n",
      "  Downloading map_async-1.2.3-py3-none-any.whl (3.6 kB)\n",
      "Requirement already satisfied: six in c:\\users\\user\\anaconda3\\lib\\site-packages (from hangul-utils) (1.12.0)\n",
      "Collecting hangul-utils\n",
      "  Downloading hangul_utils-0.4.4-py3-none-any.whl (20 kB)\n",
      "  Downloading hangul_utils-0.4.3-py3-none-any.whl (20 kB)\n",
      "  Downloading hangul_utils-0.4.2-py3-none-any.whl (20 kB)\n",
      "  Downloading hangul_utils-0.4.1-py3-none-any.whl (20 kB)\n",
      "Collecting map-async==1.1\n",
      "  Downloading map_async-1.1-py3-none-any.whl (3.5 kB)\n",
      "Collecting hangul-utils\n",
      "  Downloading hangul_utils-0.4-py3-none-any.whl (20 kB)\n",
      "  Downloading hangul-utils-0.3.0.tar.gz (4.3 kB)\n",
      "Collecting twkorean>=0.1.5\n",
      "  Downloading twkorean-0.1.5.tar.gz (8.2 kB)\n",
      "Collecting hangul-utils\n",
      "  Downloading hangul-utils-0.2.tar.gz (2.6 kB)\n",
      "Building wheels for collected packages: hangul-utils\n",
      "  Building wheel for hangul-utils (setup.py): started\n",
      "  Building wheel for hangul-utils (setup.py): finished with status 'done'\n",
      "  Created wheel for hangul-utils: filename=hangul_utils-0.2-py3-none-any.whl size=3264 sha256=0e7ff9a90d49cc79a0d516b13a98f00622d28d91b9a9627c400adaec3f5d6ace\n",
      "  Stored in directory: c:\\users\\user\\appdata\\local\\pip\\cache\\wheels\\12\\e5\\dc\\92e385dc96ad3720e5396a2b7a694f70a3630883b7b6972c05\n",
      "Successfully built hangul-utils\n",
      "Installing collected packages: hangul-utils\n",
      "Successfully installed hangul-utils-0.2\n",
      "Note: you may need to restart the kernel to use updated packages.\n"
     ]
    }
   ],
   "source": [
    " pip install hangul-utils"
   ]
  },
  {
   "cell_type": "code",
   "execution_count": 22,
   "metadata": {},
   "outputs": [],
   "source": [
    "from hangul_utils import split_syllables, join_jamos\n",
    "\n",
    "sample_text = '''[리포트]\n",
    "\n",
    "어제만 해도 차갑던 저녁 공기가 한층 온화해졌습니다. 때맞춰 이곳 삼청동 길에도 사람들이 \n",
    "붐비고 있는데, 문제는 미세먼지입니다.\n",
    "\n",
    "대기정체로 먼지가 빠져나가지 못하면서, 내일까지는 곳곳에서 평소 두 세배 수준의 짙은 먼지가 \n",
    "나타나겠고요. 연무가 남으면서 낮에도 시야가 뿌연 곳이 많겠습니다.'''"
   ]
  },
  {
   "cell_type": "code",
   "execution_count": 28,
   "metadata": {},
   "outputs": [
    {
     "name": "stdout",
     "output_type": "stream",
     "text": [
      "[\"['달달한거 좋아하시는 것 같아요~~ㅎㅎ^^ 그래서 파인프라를 쓰시는구나 싶어요~~ㅎㅎ☺😊😄', '아웅 벤티사이즈로 😍😍👏👏', '바닐라 라떼 너무 맛나 보여요^^', '그대로놔두면 치매에 알츠하이머까지요?😂 ...무서워욧..', '한주의 시작도 기쁜마음으로😍😍', '❤️❤️❤️❤️❤️❤️🇰🇷🇰🇷🇰🇷🇰🇷🇰🇷🇰🇷🇰🇷🇰🇷', '이번주도 홧팅입니다🙌', '소통해요🔥좋은 하루 되세요~!', '👏👏👏👏']\", \"['@chan0_223', '@pspyeong', '@0117.j @117_januel', '@jieun02059653 공감', '@water__a__ 첫번째 사진 마냥 온 신경이 아픔 가라', '@god_mimi_s2 이거 첫번째 사진 넘 무섭다😭', '@y_kevin88 조심혀', '@yes_or_uno', '@suri_m92 😮😮😮', '@yudini._.j 😮', '@yun._.jiji 넌 정말 대다네', '@ottff_kjh_s 치과무셔', '@chaechae_e.e', '@jb__kyu', '@dearyunju', '@hojin4636 요즣 치과땜에 고생하는 너와 나', '@sm0keerrday', '@i_love_u_dy070105 소름 나 충치 생긴거 알고 뜨워주냐… ㅋㅋㅋㅋㅋㅋㅋㅋㅋ난 억울하다고', '@kimbokyungee', '@gwon1115', '@j.iiiin2 피부과 정기권보다 치과 정기권 끊어야할 것 같은데 대구 치과 괜차는 곳 알아보쟈..', '@hyehe_hehe_0805', '@juho_0228', '@seolli_o 개존같네', '@__vely.e', '@14.9012', '@jinju0227', '@shine_left_eye', '@mi_ga_mi_ga', '@sehee___pp', '@sso_1.27', '@2_ji_soo_ ㅜㅜ', '@yeinee_s2 ㅋㅋ', '@aweekyeong 응?서아?ㅜㅜ', '@h.tae____ 이래서 머리가 아픈거야!', '@ooo_rinni 예린아...trigeminal nerve의 3가지 tract 분류가 떠오르지 않니..? 아니면 미안해.....', '@1ov3.sy', '@thanhtam.holy ㅠㅠ', '@wrkxdo 정독해', '뭔소리야 진짜 ㅋㅋㅋ', '치석제거는 치과가야겠죠', '치실만 써서 이물질 안끼게만 해도 치과갈일없다던데....', '🙌🙌🙌🙌🙌🙌', '@newstar.rara', '@j_tpdud 무서워..', '무식하게 이빨이래 …', '@hwiseobg 으 징그러어ㅝ', '침 삼킬때 목아픈 증상이 나타나면 옥수수 수염차 직접 우려 마시면 하루만에 증상 사라짐...', '치과의사 선생님들 작은 이빨속 안에 갉아내고 신경까지 제거하고 메꾸고 이빨 뽑고 잇몸 꿰매는거 보면 문득 드는 생각. 이 분들 컴퓨터조립이나 세공예 같은거 잘 하지 않으실까?? 이런 생각 들드라고요 ㅠㅋ', '응 이가탄,인사돌 얘기 하는것 자체가 개소리란다']\", \"['🖤💥🖤💥🖤', 'So give me one', '세상에', '🔥', '😍😍😍', '진짜 귀엽다ㅠ', 'So give me one', 'One for you and one for someone you love', '❤️❤️❤️❤️❤️', '얼마나 아름다운 일인가 😍', '🤗🤗🤗🤗🤗🤗🤗🤗🤗🤗🤗🤗🤗🤗', '❤️❤️❤️❤️❤️❤️❤️❤️']\"]\n"
     ]
    }
   ],
   "source": [
    "aaaa = []  # 데이터 프레임에서 자음과 모음 분할된것 하나로 합쳐주기\n",
    "for i in range(len(results_df[\"댓글\"])):\n",
    "    jamo = split_syllables(results_df[\"댓글\"][i])\n",
    "    chars = list(set(jamo))\n",
    "    char_to_ix = { ch:i for i,ch in enumerate(chars) }\n",
    "    ix_to_char = { i:ch for i,ch in enumerate(chars) }\n",
    "    jamo_numbers = [char_to_ix[x] for x in jamo]\n",
    "    restored_jamo = ''.join([ix_to_char[x] for x in jamo_numbers])\n",
    "    restored_text = join_jamos(restored_jamo)\n",
    "    aaaa.append(restored_text)\n",
    "print(aaaa)"
   ]
  },
  {
   "cell_type": "code",
   "execution_count": 78,
   "metadata": {},
   "outputs": [
    {
     "name": "stdout",
     "output_type": "stream",
     "text": [
      "[ㄹㅣㅍㅗㅌㅡ]\n",
      "\n",
      "ㅇㅓㅈㅔㅁㅏㄴ ㅎㅐㄷㅗ ㅊㅏㄱㅏㅂㄷㅓㄴ ㅈㅓㄴㅕㄱ ㄱㅗㅇㄱㅣㄱㅏ ㅎㅏㄴㅊㅡㅇ ㅇㅗㄴㅎㅘㅎㅐㅈㅕㅆㅅㅡㅂㄴㅣㄷㅏ. ㄸㅐㅁㅏㅈㅊㅝ ㅇㅣㄱㅗㅅ ㅅㅏㅁㅊㅓㅇㄷㅗㅇ ㄱㅣㄹㅇㅔㄷㅗ ㅅㅏㄹㅏㅁㄷㅡㄹㅇㅣ \n",
      "ㅂㅜㅁㅂㅣㄱㅗ ㅇㅣㅆㄴㅡㄴㄷㅔ, ㅁㅜㄴㅈㅔㄴㅡㄴ ㅁㅣㅅㅔㅁㅓㄴㅈㅣㅇㅣㅂㄴㅣㄷㅏ.\n",
      "\n",
      "ㄷㅐㄱㅣㅈㅓㅇㅊㅔㄹㅗ ㅁㅓㄴㅈㅣㄱㅏ ㅃㅏㅈㅕㄴㅏㄱㅏㅈㅣ ㅁㅗㅅㅎㅏㅁㅕㄴㅅㅓ, ㄴㅐㅇㅣㄹㄲㅏㅈㅣㄴㅡㄴ ㄱㅗㅅㄱㅗㅅㅇㅔㅅㅓ ㅍㅕㅇㅅㅗ ㄷㅜ ㅅㅔㅂㅐ ㅅㅜㅈㅜㄴㅇㅢ ㅈㅣㅌㅇㅡㄴ ㅁㅓㄴㅈㅣㄱㅏ \n",
      "ㄴㅏㅌㅏㄴㅏㄱㅔㅆㄱㅗㅇㅛ. ㅇㅕㄴㅁㅜㄱㅏ ㄴㅏㅁㅇㅡㅁㅕㄴㅅㅓ ㄴㅏㅈㅇㅔㄷㅗ ㅅㅣㅇㅑㄱㅏ ㅃㅜㅇㅕㄴ ㄱㅗㅅㅇㅣ ㅁㅏㄶㄱㅔㅆㅅㅡㅂㄴㅣㄷㅏ.\n"
     ]
    }
   ],
   "source": [
    "jamo = split_syllables(sample_text)\n",
    "print(jamo)"
   ]
  },
  {
   "cell_type": "code",
   "execution_count": 68,
   "metadata": {},
   "outputs": [
    {
     "name": "stdout",
     "output_type": "stream",
     "text": [
      "{'S': 0, 'ノ': 1, 'ㅔ': 2, 'ㅅ': 3, 'ᅮ': 4, 'w': 5, 'ㅓ': 6, 's': 7, 'ー': 8, 'ㄷ': 9, 'ᄌ': 10, '~': 11, '5': 12, 'た': 13, 'ㅈ': 14, 'h': 15, 'ᆼ': 16, 'ᅢ': 17, 'ᆫ': 18, 'ㅐ': 19, 'ㅣ': 20, '0': 21, 'ᅳ': 22, 'ᅦ': 23, 'ㅏ': 24, 'ᄒ': 25, 'ᅡ': 26, 'i': 27, 'n': 28, 'O': 29, '[': 30, 'ㅆ': 31, 'ᄇ': 32, 'm': 33, 'ㅕ': 34, 'b': 35, 'び': 36, 'ᄎ': 37, ':': 38, '.': 39, 'r': 40, 'ᅧ': 41, 'ᅵ': 42, '3': 43, 'ㅄ': 44, 'ㅎ': 45, 'ᄅ': 46, 'u': 47, 'a': 48, 'ㅗ': 49, 'ㅍ': 50, 't': 51, 'ᄀ': 52, 'ス': 53, '#': 54, 'ᄉ': 55, 'き': 56, 'ㄱ': 57, '-': 58, ')': 59, '1': 60, 'd': 61, 'ㄹ': 62, 'g': 63, 'ク': 64, 'ᅯ': 65, 'o': 66, 'ᆷ': 67, 'ᄑ': 68, 'ㅋ': 69, ']': 70, 'ㅇ': 71, 'l': 72, 'ㅂ': 73, 'ᆸ': 74, 'ㅁ': 75, 'k': 76, 'ᅩ': 77, 'ピ': 78, ' ': 79, 'ᄆ': 80, 'C': 81, 'p': 82, 'ᄂ': 83, 'ᅥ': 84, 'ᆯ': 85, 'ㅛ': 86, 'ᄋ': 87, 'ᄃ': 88, '2': 89, 'ㅡ': 90, 'ㄴ': 91, 'e': 92, 'ㅝ': 93, 'ㅜ': 94}\n"
     ]
    }
   ],
   "source": [
    "chars = list(set(jamo))\n",
    "char_to_ix = { ch:i for i,ch in enumerate(chars) }\n",
    "ix_to_char = { i:ch for i,ch in enumerate(chars) }\n",
    "print(char_to_ix)"
   ]
  },
  {
   "cell_type": "code",
   "execution_count": 69,
   "metadata": {},
   "outputs": [
    {
     "name": "stdout",
     "output_type": "stream",
     "text": [
      "[30, 7, 28, 66, 5, 82, 92, 48, 76, 79, 0, 27, 15, 92, 47, 28, 63, 79, 87, 4, 18, 87, 41, 16, 55, 42, 52, 26, 18, 79, 32, 41, 18, 52, 41, 16, 79, 87, 26, 18, 83, 17, 70, 71, 24, 91, 91, 34, 71, 45, 24, 3, 2, 71, 86, 79, 3, 90, 91, 49, 71, 94, 50, 20, 69, 90, 79, 3, 20, 45, 90, 71, 14, 6, 75, 71, 20, 73, 91, 20, 9, 24, 39, 12, 71, 93, 62, 11, 60, 21, 71, 93, 62, 79, 45, 24, 14, 6, 62, 57, 20, 79, 87, 4, 18, 87, 41, 16, 55, 42, 52, 26, 18, 79, 87, 26, 18, 83, 17, 88, 22, 46, 42, 74, 83, 42, 88, 26, 39, 52, 42, 52, 26, 18, 79, 38, 79, 12, 87, 65, 85, 11, 60, 21, 87, 65, 85, 79, 45, 24, 14, 6, 62, 57, 20, 71, 93, 62, 11, 87, 42, 85, 79, 38, 79, 60, 21, 38, 43, 21, 48, 33, 79, 11, 79, 89, 60, 38, 21, 21, 82, 33, 87, 4, 18, 87, 41, 16, 55, 42, 52, 26, 18, 79, 37, 26, 67, 52, 77, 25, 26, 55, 41, 55, 84, 79, 80, 17, 10, 26, 16, 79, 32, 26, 16, 80, 4, 18, 87, 23, 79, 32, 4, 85, 68, 41, 18, 25, 26, 67, 71, 20, 79, 71, 6, 44, 57, 20, 62, 79, 73, 24, 62, 24, 57, 2, 31, 3, 90, 73, 91, 20, 9, 24, 79, 57, 24, 75, 3, 24, 45, 24, 73, 91, 20, 9, 24, 79, 38, 58, 59, 79, 39, 54, 3, 90, 91, 49, 71, 94, 50, 20, 69, 90, 79, 54, 7, 28, 66, 5, 82, 92, 48, 76, 54, 53, 1, 8, 78, 8, 64, 54, 3, 90, 91, 49, 71, 94, 50, 20, 69, 90, 71, 6, 50, 19, 62, 6, 62, 54, 7, 28, 66, 5, 82, 92, 48, 76, 48, 82, 82, 48, 40, 92, 72, 54, 69, 19, 75, 50, 20, 71, 79, 54, 71, 24, 71, 94, 3, 9, 49, 71, 6, 54, 81, 48, 33, 82, 27, 28, 63, 79, 54, 29, 47, 51, 61, 66, 66, 40, 79, 54, 81, 48, 33, 82, 27, 28, 63, 5, 92, 48, 40, 54, 51, 48, 76, 27, 35, 27, 79, 54, 13, 56, 36]\n"
     ]
    }
   ],
   "source": [
    "jamo_numbers = [char_to_ix[x] for x in jamo]\n",
    "print(jamo_numbers)"
   ]
  },
  {
   "cell_type": "code",
   "execution_count": 70,
   "metadata": {},
   "outputs": [
    {
     "name": "stdout",
     "output_type": "stream",
     "text": [
      "[snowpeak Siheung 운영시간 변경 안내]안녕하세요 스노우피크 시흥점입니다.5월~10월 하절기 운영시간 안내드립니다.기간 : 5월~10월 하절기월~일 : 10:30am ~ 21:00pm운영시간 참고하셔서 매장 방문에 불편함이 없길 바라겠습니다 감사합니다 :-) .#스노우피크 #snowpeak#スノーピーク#스노우피크어패럴#snowpeakapparel#캠핑 #아웃도어#Camping #Outdoor #Campingwear#takibi #たきび\n"
     ]
    }
   ],
   "source": [
    "restored_jamo = ''.join([ix_to_char[x] for x in jamo_numbers])\n",
    "restored_text = join_jamos(restored_jamo)\n",
    "print(restored_text)"
   ]
  },
  {
   "cell_type": "code",
   "execution_count": 29,
   "metadata": {},
   "outputs": [],
   "source": [
    "results_df.to_excel(excel_writer='sample.xlsx') #엑셀로 저장"
   ]
  },
  {
   "cell_type": "code",
   "execution_count": null,
   "metadata": {},
   "outputs": [],
   "source": []
  },
  {
   "cell_type": "markdown",
   "metadata": {},
   "source": [
    "### 인스타 DB를 이용한 시각화 \n",
    "* 그래프 그리기 함수 정의"
   ]
  },
  {
   "cell_type": "code",
   "execution_count": 33,
   "metadata": {},
   "outputs": [],
   "source": [
    "# line & bar 그래프\n",
    "def plot2(x,y,title,kind, xlabel, ylabel):\n",
    "    import platform\n",
    "    import matplotlib.pyplot as plt\n",
    "    import matplotlib.font_manager as fm\n",
    "    import seaborn as sns\n",
    "\n",
    "    # 한글 깨지는 현상 수정\n",
    "    system_name = platform.system()\n",
    "    if system_name == 'Windows':\n",
    "        # Windows 운영체제\n",
    "        plt.rc('font', family='Malgun Gothic')\n",
    "    elif system_name == 'Darwin':\n",
    "        # Mac OS\n",
    "        plt.rc('font', family='AppleGothic')\n",
    "    elif system_name == 'Linux':\n",
    "        # Linux\n",
    "        path = '/usr/share/fonts/truetype/nanum/NanumMyeongjo.ttf'\n",
    "        font_name = fm.FontProperties(fname=path, size=12)\n",
    "        plt.rc('font', family=font_name)\n",
    "    else:\n",
    "        print(\"Not support\")\n",
    "\n",
    "    # 그래프 그리기\n",
    "    colors = sns.color_palette(\"pastel\", len(x)) ## 색상 지정\n",
    "    plt.figure(figsize=(10,5))\n",
    "    if kind == 'line':\n",
    "        plt.plot(x,y,label=ylabel,marker='H')\n",
    "            \n",
    "\n",
    "    elif kind == 'bar':\n",
    "        plt.bar(x,y,color=colors,edgecolor='black')\n",
    "    \n",
    "    plt.title(title)\n",
    "    plt.xlabel(xlabel)\n",
    "    plt.ylabel(ylabel)\n",
    "    plt.legend()\n",
    "    plt.show()"
   ]
  },
  {
   "cell_type": "markdown",
   "metadata": {},
   "source": [
    "* MBTI별 언급된 수 (인스타)"
   ]
  },
  {
   "cell_type": "code",
   "execution_count": 7,
   "metadata": {},
   "outputs": [],
   "source": [
    "# Count DB 데이터 불러오기 (863)\n",
    "try:\n",
    "    cur.execute(\"select * from public.count;\") # sql 문장\n",
    "    conn.commit()\n",
    "    count = cur.fetchall()\n",
    "    \n",
    "except:\n",
    "    conn.rollback()\n",
    "    print(\"--- DB error\")"
   ]
  },
  {
   "cell_type": "code",
   "execution_count": 27,
   "metadata": {},
   "outputs": [
    {
     "name": "stderr",
     "output_type": "stream",
     "text": [
      "No handles with labels found to put in legend.\n"
     ]
    },
    {
     "data": {
      "image/png": "[encoded data removed]",
      "text/plain": [
       "<Figure size 720x360 with 1 Axes>"
      ]
     },
     "metadata": {
      "needs_background": "light"
     },
     "output_type": "display_data"
    }
   ],
   "source": [
    "# 그래프 그리기\n",
    "mbti = []\n",
    "n = []\n",
    "for i in range(0,len(count)):\n",
    "    mbti.append(count[i][0])\n",
    "    n.append(count[i][1])\n",
    "\n",
    "plot2(mbti,n,'MBTI별 언급된 수 (인스타)','bar','MBTI','언급 수')"
   ]
  },
  {
   "cell_type": "code",
   "execution_count": 14,
   "metadata": {},
   "outputs": [
    {
     "data": {
      "text/plain": [
       "'좋아요 1,245개'"
      ]
     },
     "execution_count": 14,
     "metadata": {},
     "output_type": "execute_result"
    }
   ],
   "source": [
    "# DB 데이터 조회 불러오기 (INFJ, INFP, ENFP)\n",
    "top3 = ['infj', 'infp', 'enfp']\n",
    "idx = 0\n",
    "\n",
    "top3_df = pd.DataFrame(columns=['mbti','전체게시물', '좋아요 게시물', '1000개이상', '500개이상',  '500개미만'])\n",
    "\n",
    "for m in top3:\n",
    "    try:\n",
    "        cur.execute(f\"select * from public.insta_{m};\")\n",
    "        conn.commit()\n",
    "        mbti_kind = cur.fetchall()\n",
    "        \n",
    "        n1,n2,n3 = 0,0,0 # n1 : 1000개이상 n2 : 500개이상 n3 : 나머지\n",
    "        for i in range(0,len(mbti_kind)):\n",
    "            # like의 형태가 '좋아요 1,245개'이므로, 1245 형태로 변환 작업 실시 \n",
    "            if '좋' in mbti_kind[i][3]:\n",
    "                if int(mbti_kind[i][3][4:-1].replace(',','')) > 999:\n",
    "                    n1 += 1\n",
    "                elif int(mbti_kind[i][3][4:-1].replace(',','')) > 499:\n",
    "                    n2 += 1\n",
    "                else:\n",
    "                    n3 += 1\n",
    "        top3_df.loc[idx] = [m,len(mbti_kind),(n1+n2+n3),n1,n2,n3,]\n",
    "        idx += 1\n",
    "          \n",
    "    except:\n",
    "        conn.rollback()\n",
    "        print(\"--- DB error\")\n",
    "\n",
    "mbti_kind[0][3]"
   ]
  },
  {
   "cell_type": "code",
   "execution_count": 36,
   "metadata": {},
   "outputs": [
    {
     "data": {
      "text/html": [
       "<div>\n",
       "<style scoped>\n",
       "    .dataframe tbody tr th:only-of-type {\n",
       "        vertical-align: middle;\n",
       "    }\n",
       "\n",
       "    .dataframe tbody tr th {\n",
       "        vertical-align: top;\n",
       "    }\n",
       "\n",
       "    .dataframe thead th {\n",
       "        text-align: right;\n",
       "    }\n",
       "</style>\n",
       "<table border=\"1\" class=\"dataframe\">\n",
       "  <thead>\n",
       "    <tr style=\"text-align: right;\">\n",
       "      <th></th>\n",
       "      <th>mbti</th>\n",
       "      <th>전체게시물</th>\n",
       "      <th>좋아요 게시물</th>\n",
       "      <th>1000개이상</th>\n",
       "      <th>500개이상</th>\n",
       "      <th>500개미만</th>\n",
       "      <th>전체대비좋아요</th>\n",
       "      <th>좋아요대비1000</th>\n",
       "      <th>좋아요대비500</th>\n",
       "    </tr>\n",
       "  </thead>\n",
       "  <tbody>\n",
       "    <tr>\n",
       "      <th>0</th>\n",
       "      <td>infj</td>\n",
       "      <td>480</td>\n",
       "      <td>373</td>\n",
       "      <td>37</td>\n",
       "      <td>39</td>\n",
       "      <td>297</td>\n",
       "      <td>77.71</td>\n",
       "      <td>7.71</td>\n",
       "      <td>20.38</td>\n",
       "    </tr>\n",
       "    <tr>\n",
       "      <th>1</th>\n",
       "      <td>infp</td>\n",
       "      <td>491</td>\n",
       "      <td>415</td>\n",
       "      <td>43</td>\n",
       "      <td>27</td>\n",
       "      <td>345</td>\n",
       "      <td>84.52</td>\n",
       "      <td>8.76</td>\n",
       "      <td>16.87</td>\n",
       "    </tr>\n",
       "    <tr>\n",
       "      <th>2</th>\n",
       "      <td>enfp</td>\n",
       "      <td>495</td>\n",
       "      <td>433</td>\n",
       "      <td>25</td>\n",
       "      <td>29</td>\n",
       "      <td>379</td>\n",
       "      <td>87.47</td>\n",
       "      <td>5.05</td>\n",
       "      <td>12.47</td>\n",
       "    </tr>\n",
       "  </tbody>\n",
       "</table>\n",
       "</div>"
      ],
      "text/plain": [
       "   mbti 전체게시물 좋아요 게시물 1000개이상 500개이상 500개미만  전체대비좋아요  좋아요대비1000  좋아요대비500\n",
       "0  infj   480     373      37     39    297    77.71       7.71     20.38\n",
       "1  infp   491     415      43     27    345    84.52       8.76     16.87\n",
       "2  enfp   495     433      25     29    379    87.47       5.05     12.47"
      ]
     },
     "execution_count": 36,
     "metadata": {},
     "output_type": "execute_result"
    }
   ],
   "source": [
    "전체대비좋아요 = []\n",
    "좋아요대비1000 = []\n",
    "좋아요대비500 = []\n",
    "\n",
    "# 좋아요 변수 정의 (반올림 작업)\n",
    "for i in range(0,len(top3_df)):\n",
    "    a1 = round((top3_df.iloc[i][2]/top3_df.iloc[i][1]*100), 2)\n",
    "    a2 = round((top3_df.iloc[i][3]/top3_df.iloc[i][1]*100), 2)\n",
    "    a3 = round(((top3_df.iloc[i][3]+top3_df.iloc[i][4])/top3_df.iloc[i][2]*100), 2)\n",
    "\n",
    "    전체대비좋아요.append(a1)\n",
    "    좋아요대비1000.append(a2)\n",
    "    좋아요대비500.append(a3)\n",
    "\n",
    "# Dataframe 열 추가\n",
    "top3_df['전체대비좋아요']=전체대비좋아요\n",
    "top3_df['좋아요대비1000']=좋아요대비1000\n",
    "top3_df['좋아요대비500']=좋아요대비500\n",
    "\n",
    "top3_df"
   ]
  },
  {
   "cell_type": "code",
   "execution_count": 39,
   "metadata": {},
   "outputs": [
    {
     "data": {
      "text/plain": [
       "<matplotlib.legend.Legend at 0x1d278de98b0>"
      ]
     },
     "execution_count": 39,
     "metadata": {},
     "output_type": "execute_result"
    },
    {
     "data": {
      "image/png": "[encoded data removed]",
      "text/plain": [
       "<Figure size 576x360 with 1 Axes>"
      ]
     },
     "metadata": {
      "needs_background": "light"
     },
     "output_type": "display_data"
    }
   ],
   "source": [
    "## 그래프 그리기\n",
    "import matplotlib.pyplot as plt\n",
    "import numpy as np\n",
    "\n",
    "# 그림 사이즈, 바 굵기 조정\n",
    "plt.figure(figsize=(8,5))\n",
    "bar_width = 0.25\n",
    "\n",
    "# MBTI가 3개이므로 0, 1, 2 위치를 기준으로 삼음\n",
    "index = np.arange(3)\n",
    "\n",
    "# 각 변수별로 3개 bar를 순서대로 나타내는 과정, 각 그래프는 0.25의 간격을 두고 그려짐\n",
    "b1 = plt.bar(index, list(top3_df.loc[0][6:]), bar_width, alpha=0.4, color='red', label='INFJ',edgecolor='black')\n",
    "\n",
    "b2 = plt.bar(index + bar_width, list(top3_df.loc[1][6:]), bar_width, alpha=0.4, color='blue', label='INFP',edgecolor='black')\n",
    "\n",
    "b3 = plt.bar(index + 2 * bar_width, list(top3_df.loc[2][6:]), bar_width, alpha=0.4, color='green', label='ENFP',edgecolor='black')\n",
    "\n",
    "# x축 위치를 정 가운데로 조정하고 x축의 텍스트를 year 정보와 매칭\n",
    "plt.xticks(np.arange(bar_width, 3 + bar_width, 1), ['전체대비좋아요','좋아요대비1000','좋아요대비500'])\n",
    "\n",
    "# x축, y축 이름 및 범례 설정\n",
    "plt.xlabel('mbti별', size = 13)\n",
    "plt.ylabel('%', size = 13)\n",
    "plt.title('MBTI별 각 대비 % (인스타)')\n",
    "plt.legend()"
   ]
  },
  {
   "cell_type": "markdown",
   "metadata": {},
   "source": [
    "### 도서 API"
   ]
  },
  {
   "cell_type": "code",
   "execution_count": 30,
   "metadata": {},
   "outputs": [
    {
     "data": {
      "text/html": [
       "<div>\n",
       "<style scoped>\n",
       "    .dataframe tbody tr th:only-of-type {\n",
       "        vertical-align: middle;\n",
       "    }\n",
       "\n",
       "    .dataframe tbody tr th {\n",
       "        vertical-align: top;\n",
       "    }\n",
       "\n",
       "    .dataframe thead th {\n",
       "        text-align: right;\n",
       "    }\n",
       "</style>\n",
       "<table border=\"1\" class=\"dataframe\">\n",
       "  <thead>\n",
       "    <tr style=\"text-align: right;\">\n",
       "      <th></th>\n",
       "      <th>Title</th>\n",
       "      <th>Link</th>\n",
       "      <th>Publisher</th>\n",
       "      <th>Isbn</th>\n",
       "      <th>Pubdate</th>\n",
       "      <th>Description</th>\n",
       "    </tr>\n",
       "  </thead>\n",
       "  <tbody>\n",
       "    <tr>\n",
       "      <th>0</th>\n",
       "      <td>흔한남매 흔한 MBTI (믿거나 말거나 나에게 어울리는 직업)</td>\n",
       "      <td>http://book.naver.com/bookdb/book_detail.php?b...</td>\n",
       "      <td>대원키즈</td>\n",
       "      <td>1136273794 9791136273796</td>\n",
       "      <td>20210901</td>\n",
       "      <td>흔한남매와 함께 떠나는MBTI 유형별 직업 여행『흔한 MBTI』는 널리 알려진 MB...</td>\n",
       "    </tr>\n",
       "    <tr>\n",
       "      <th>1</th>\n",
       "      <td>우리들의 MBTI (나의 성격을 이해하고 더 멋진 내가 되는)</td>\n",
       "      <td>http://book.naver.com/bookdb/book_detail.php?b...</td>\n",
       "      <td>다산어린이</td>\n",
       "      <td>1130639401 9791130639406</td>\n",
       "      <td>20210726</td>\n",
       "      <td>MBTI는 성격 유형마다 타고난 강점을 활용하고 단점을 보완하면서 성장할 수 있는 ...</td>\n",
       "    </tr>\n",
       "    <tr>\n",
       "      <th>2</th>\n",
       "      <td>나의 MBTI가 궁금하단 마리몽</td>\n",
       "      <td>http://book.naver.com/bookdb/book_detail.php?b...</td>\n",
       "      <td>더모던</td>\n",
       "      <td>1164455354 9791164455355</td>\n",
       "      <td>20211130</td>\n",
       "      <td>여러분의 MBTI는 무엇입니까?\\n\\n혈액형 A형은 소심하고, O형은 활발하다고 유...</td>\n",
       "    </tr>\n",
       "    <tr>\n",
       "      <th>3</th>\n",
       "      <td>MBTI의 의미 (MBTI는 과학인가?)</td>\n",
       "      <td>http://book.naver.com/bookdb/book_detail.php?b...</td>\n",
       "      <td>하움출판사</td>\n",
       "      <td>1164407112 9791164407118</td>\n",
       "      <td>20201119</td>\n",
       "      <td>&amp;quot;MBTI는 과학적인가?&amp;quot; 이 질문에 대한 나의 대답은 이것이다....</td>\n",
       "    </tr>\n",
       "  </tbody>\n",
       "</table>\n",
       "</div>"
      ],
      "text/plain": [
       "                                Title  \\\n",
       "0  흔한남매 흔한 MBTI (믿거나 말거나 나에게 어울리는 직업)   \n",
       "1  우리들의 MBTI (나의 성격을 이해하고 더 멋진 내가 되는)   \n",
       "2                   나의 MBTI가 궁금하단 마리몽   \n",
       "3              MBTI의 의미 (MBTI는 과학인가?)   \n",
       "\n",
       "                                                Link Publisher  \\\n",
       "0  http://book.naver.com/bookdb/book_detail.php?b...      대원키즈   \n",
       "1  http://book.naver.com/bookdb/book_detail.php?b...     다산어린이   \n",
       "2  http://book.naver.com/bookdb/book_detail.php?b...       더모던   \n",
       "3  http://book.naver.com/bookdb/book_detail.php?b...     하움출판사   \n",
       "\n",
       "                       Isbn   Pubdate  \\\n",
       "0  1136273794 9791136273796  20210901   \n",
       "1  1130639401 9791130639406  20210726   \n",
       "2  1164455354 9791164455355  20211130   \n",
       "3  1164407112 9791164407118  20201119   \n",
       "\n",
       "                                         Description  \n",
       "0  흔한남매와 함께 떠나는MBTI 유형별 직업 여행『흔한 MBTI』는 널리 알려진 MB...  \n",
       "1  MBTI는 성격 유형마다 타고난 강점을 활용하고 단점을 보완하면서 성장할 수 있는 ...  \n",
       "2  여러분의 MBTI는 무엇입니까?\\n\\n혈액형 A형은 소심하고, O형은 활발하다고 유...  \n",
       "3  &quot;MBTI는 과학적인가?&quot; 이 질문에 대한 나의 대답은 이것이다....  "
      ]
     },
     "execution_count": 30,
     "metadata": {},
     "output_type": "execute_result"
    }
   ],
   "source": [
    "client_id = \"SFBVy_Sps38LXkNxHNoq\"\n",
    "client_secret = \"zlixlrNhi3\"\n",
    "\n",
    "query = urllib.parse.quote(input('검색할 단어'))\n",
    "display = 100\n",
    "start = 1\n",
    "end = 1000\n",
    "idx = 0\n",
    "sort = 'sim'\n",
    "\n",
    "df = pd.DataFrame(columns=['Title', 'Link',  'Publisher', 'Isbn', 'Pubdate', 'Description'])\n",
    "\n",
    "for start_index in range(start, end, display):\n",
    "    url = \"https://openapi.naver.com/v1/search/book?query=\" + query + \\\n",
    "        \"&display=\" + str(display) + \\\n",
    "        \"&start=\" + str(start_index) + \\\n",
    "        \"&sort=\" + sort\n",
    "    request = urllib.request.Request(url)\n",
    "    request.add_header(\"X-Naver-Client-Id\", client_id)\n",
    "    request.add_header(\"X-Naver-Client-Secret\", client_secret)\n",
    "    response = urllib.request.urlopen(request)\n",
    "    rescode = response.getcode()\n",
    "    if (rescode == 200):\n",
    "        response_body = response.read()\n",
    "        items = json.loads(response_body.decode('utf-8'))[\"items\"]\n",
    "        remove_tag = re.compile('<.*?>')\n",
    "        for item_index in range(0, len(items)):\n",
    "            title = re.sub(remove_tag, '', items[item_index]['title']) # 제목\n",
    "            link = items[item_index]['link'] # 하이퍼텍스트 link\n",
    "            image = items[item_index]['image'] # 썸네일 이미지의 URL\n",
    "            author = items[item_index]['author'] # 저자\n",
    "            price = items[item_index]['price'] # 정가\n",
    "            discount = items[item_index]['discount'] # 할인가격\n",
    "            publisher = items[item_index]['publisher'] # 출판사\n",
    "            isbn = items[item_index]['isbn'] # 국제표준도서번호(ISBN) 넘버\n",
    "            description = re.sub(remove_tag, '', items[item_index]['description']) # 검색결과 문서의 내용 요약\n",
    "            pubdate = items[item_index]['pubdate'] # 출간일\n",
    "\n",
    "            df.loc[idx] = [title, link, publisher, isbn, pubdate, description]\n",
    "            idx += 1\n",
    "    else:\n",
    "        print(\"Error Code: \" + rescode)\n",
    "\n",
    "df.loc[0:3]"
   ]
  },
  {
   "cell_type": "code",
   "execution_count": 34,
   "metadata": {},
   "outputs": [
    {
     "data": {
      "image/png": "[encoded data removed]",
      "text/plain": [
       "<Figure size 720x360 with 1 Axes>"
      ]
     },
     "metadata": {
      "needs_background": "light"
     },
     "output_type": "display_data"
    }
   ],
   "source": [
    "# 데이터 정제\n",
    "date = {'2015':0,'2016':0,'2017':0,'2018':0,'2019':0,'2020':0,'2021':0}\n",
    "date_k = list(date.keys())\n",
    "\n",
    "for i in range(0,len(df)):\n",
    "    for j in range(0,len(date_k)):\n",
    "        if date_k[j] in df['Pubdate'][i]:\n",
    "            date[date_k[j]] += 1\n",
    "\n",
    "date_v = list(date.values())\n",
    "\n",
    "# 그래프 그리기\n",
    "plot2(date_k, date_v, '네이버 책','line','발행년도','발행건수')"
   ]
  }
 ],
 "metadata": {
  "interpreter": {
   "hash": "a76c945293c8850cfaa1447e1d53bd2a8e8559f114a858d8c7dc2cf3da940760"
  },
  "kernelspec": {
   "display_name": "Python 3.9.7 ('base')",
   "language": "python",
   "name": "python3"
  },
  "language_info": {
   "codemirror_mode": {
    "name": "ipython",
    "version": 3
   },
   "file_extension": ".py",
   "mimetype": "text/x-python",
   "name": "python",
   "nbconvert_exporter": "python",
   "pygments_lexer": "ipython3",
   "version": "3.9.7"
  },
  "orig_nbformat": 4
 },
 "nbformat": 4,
 "nbformat_minor": 2
}
