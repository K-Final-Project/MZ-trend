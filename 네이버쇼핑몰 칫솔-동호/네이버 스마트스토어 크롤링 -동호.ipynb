{
 "cells": [
  {
   "cell_type": "code",
   "execution_count": 1,
   "metadata": {},
   "outputs": [],
   "source": [
    "import selenium\n",
    "import datetime\n",
    "from datetime import date, timedelta, datetime\n",
    "from selenium import webdriver\n",
    "from selenium.webdriver.common.keys import Keys\n",
    "from selenium.webdriver.common.by import By\n",
    "import time\n",
    "import random\n",
    "import pandas as pd\n",
    "import csv\n",
    "import math"
   ]
  },
  {
   "cell_type": "code",
   "execution_count": 2,
   "metadata": {},
   "outputs": [],
   "source": [
    "# 소요 시간 체크\n",
    "global sec\n",
    "def hms():\n",
    "    global sec\n",
    "    hours = sec // 3600\n",
    "    sec = sec - hours*3600\n",
    "    mu = sec // 60\n",
    "    ss = sec - mu*60\n",
    "    print('처리시간은 '+str(int(hours))+ '시간 '+ str(int(mu))+ '분 ' + str(int(ss)) + '초 걸렸습니다. '+ f\"총 {int(sec)}초\")\n"
   ]
  },
  {
   "cell_type": "code",
   "execution_count": 3,
   "metadata": {},
   "outputs": [],
   "source": [
    "def review_check(__init__):    # 리뷰페이지로 이동하기\n",
    "    browser.find_element(By.TAG_NAME,'body').send_keys(Keys.PAGE_DOWN)\n",
    "    browser.find_element(By.TAG_NAME,'body').send_keys(Keys.PAGE_DOWN)\n",
    "    try:\n",
    "        time.sleep(2)\n",
    "        browser.find_element(By.XPATH,'//*[@id=\"content\"]/div/div[3]/div[3]/ul/li[2]/a').click()\n",
    "        \n",
    "    except:\n",
    "        browser.find_element(By.TAG_NAME,'body').send_keys(Keys.PAGE_DOWN)\n",
    "        time.sleep(2)\n",
    "        browser.find_element(By.XPATH,'//*[@id=\"content\"]/div/div[3]/div[3]/ul/li[2]/a').click()"
   ]
  },
  {
   "cell_type": "code",
   "execution_count": 4,
   "metadata": {},
   "outputs": [],
   "source": [
    "def crawling_smart_store(__init__):\n",
    "    rp_len = len(browser.find_elements(By.CLASS_NAME,'_2389dRohZq'))\n",
    "    # 댓글 크롤링\n",
    "    for i in range(rp_len) :\n",
    "        try:\n",
    "            a = browser.find_element(By.XPATH,'//*[@id=\"REVIEW\"]/div/div[3]/div/div[2]/ul/li['+str(i+1)+']/div/div[1]/div/div[1]/div/div[1]/div[2]/div').text\n",
    "            contents.append(a)\n",
    "        except:\n",
    "            pass\n",
    "\n",
    "    # 날짜 크롤링\n",
    "        try:\n",
    "            dates.append(browser.find_element_by_xpath(f'//*[@id=\"REVIEW\"]/div/div[3]/div/div[2]/ul/li[{i+1}]/div/div/div/div[1]/div/div[1]/div[1]/div[2]/div[2]/span').text)\n",
    "            browser.implicitly_wait(1)\n",
    "        except:\n",
    "            dates.append('')\n",
    "    \n",
    "    # 별점 점수\n",
    "        try:\n",
    "            score.append(browser.find_element(By.XPATH,f'//*[@id=\"REVIEW\"]/div/div[3]/div/div[2]/ul/li[{i+1}]/div/div/div/div[1]/div/div[1]/div[1]/div[2]/div[1]/em').text)\n",
    "        except:\n",
    "            dates.append('')\n",
    "    # 재구매\n",
    "        try :\n",
    "            if browser.find_element(By.XPATH,f'//*[@id=\"REVIEW\"]/div/div[3]/div/div[2]/ul/li[{i+1}]/div/div[1]/div/div[1]/div/div/div[2]/div/span[1]').text == '재구매' :\n",
    "                re_buy.append('재구매')\n",
    "            elif browser.find_element(By.XPATH,f'//*[@id=\"REVIEW\"]/div/div[3]/div/div[2]/ul/li[{i+1}]/div/div[1]/div/div[1]/div/div/div[2]/div/span[2]').text == '재구매' :\n",
    "                re_buy.append('재구매')\n",
    "            else :\n",
    "                re_buy.append('0')\n",
    "        except :\n",
    "            re_buy.append('0')\n",
    "\n",
    "    # 한달사용 후기\n",
    "        try :\n",
    "            if browser.find_element(By.XPATH,f'//*[@id=\"REVIEW\"]/div/div[3]/div/div[2]/ul/li[{i+1}]/div/div[1]/div/div[1]/div/div/div[2]/div/span[1]').text == '한달사용기' :\n",
    "                month_use.append('한달사용기')\n",
    "            elif browser.find_element(By.XPATH,f'//*[@id=\"REVIEW\"]/div/div[3]/div/div[2]/ul/li[{i+1}]/div/div[1]/div/div[1]/div/div/div[2]/div/span[2]').text == '한달사용기' :\n",
    "                month_use.append('한달사용기')\n",
    "            else :\n",
    "                month_use.append('0')\n",
    "        except :\n",
    "            month_use.append('0')\n",
    "            \n",
    "    # 종류\n",
    "        try : \n",
    "            category.append(browser.find_element_by_xpath(f'//*[@id=\"REVIEW\"]/div/div[3]/div/div[2]/ul/li[{i+1}]/div/div/div/div[1]/div/div/div[1]/div[2]/div[3]/div/button/span').text)\n",
    "        except :\n",
    "            category.append('0')"
   ]
  },
  {
   "cell_type": "code",
   "execution_count": 5,
   "metadata": {},
   "outputs": [
    {
     "name": "stdout",
     "output_type": "stream",
     "text": [
      "데이터 수집 시작 2022/05/24 17:46:05\n",
      "2페이지 중 1번째 페이지\n"
     ]
    },
    {
     "name": "stderr",
     "output_type": "stream",
     "text": [
      "c:\\Users\\User\\AppData\\Local\\Programs\\Python\\Python37\\lib\\site-packages\\ipykernel_launcher.py:13: DeprecationWarning: find_element_by_xpath is deprecated. Please use find_element(by=By.XPATH, value=xpath) instead\n",
      "  del sys.path[0]\n",
      "c:\\Users\\User\\AppData\\Local\\Programs\\Python\\Python37\\lib\\site-packages\\ipykernel_launcher.py:47: DeprecationWarning: find_element_by_xpath is deprecated. Please use find_element(by=By.XPATH, value=xpath) instead\n",
      "c:\\Users\\User\\AppData\\Local\\Programs\\Python\\Python37\\lib\\site-packages\\ipykernel_launcher.py:57: DeprecationWarning: find_element_by_xpath is deprecated. Please use find_element(by=By.XPATH, value=xpath) instead\n"
     ]
    },
    {
     "name": "stdout",
     "output_type": "stream",
     "text": [
      "2페이지 중 2번째 페이지\n",
      "총 3페이지 + 3번째 페이지의 나머지 댓글\n",
      "완료 2022/05/24 17:48:44\n",
      "처리시간은 0시간 2분 38초 걸렸습니다. 총 158초\n"
     ]
    }
   ],
   "source": [
    "# 스마트스토어 크롤링\n",
    "browser = webdriver.Chrome()\n",
    "browser.implicitly_wait(5)\n",
    "browser.maximize_window() # 브라우저 화면 최대화\n",
    "browser.implicitly_wait(10)\n",
    "time.sleep(2)\n",
    "\n",
    "# 데이터 크롤링 시작시간\n",
    "print('데이터 수집 시작' , datetime.today().strftime(\"%Y/%m/%d %H:%M:%S\"))\n",
    "start = time.time()\n",
    "\n",
    "# 페이지 get + 2022.5.23일 스마트스토어 업데이트 확인에 따라 크롤링 코드 추가\n",
    "browser.get('https://smartstore.naver.com/로 시작하는 url을 넣어주세요')     # https://smartstore.naver.com/로 시작하는 url을 넣어주세요\n",
    "browser.implicitly_wait(10)\n",
    "time.sleep(2)\n",
    "\n",
    "# 리뷰페이지로 이동하기\n",
    "review_check(3)\n",
    "browser.implicitly_wait(5)\n",
    "browser.find_element(By.TAG_NAME,'body').send_keys(Keys.PAGE_DOWN)\n",
    "time.sleep(2)\n",
    "browser.find_element(By.XPATH,'//*[@id=\"REVIEW\"]/div/div[3]/div/div[1]/div[1]/ul/li[2]').click()\n",
    "time.sleep(2)\n",
    "\n",
    "# 댓글, 날짜, 별점, 재구매여부, 한달사용후기, 구매칫솔종류\n",
    "contents = []\n",
    "dates = []\n",
    "score = []\n",
    "re_buy = []\n",
    "category = []\n",
    "month_use = []\n",
    "\n",
    "\n",
    "# 댓글페이지 계산. 2만건 이상은 빈페이지만 나오는 제한이 있으므로, 2만건 이상은 페이지를 지정함\n",
    "review_range = browser.find_element(By.XPATH,'//*[@id=\"content\"]/div/div[2]/div[1]/div[2]/div[1]/a').text\n",
    "review_range = int(review_range.replace(',',''))\n",
    "if review_range >= 20000:\n",
    "    page = 1000\n",
    "elif review_range < 20000:\n",
    "    page = (review_range // 20)\n",
    "\n",
    "\n",
    "# p는 페이지 넘기기 위한 번호 임의 생성\n",
    "p = 2\n",
    "for z in range(page): \n",
    "    print(\"{0}페이지 중 {1}번째 페이지\".format(page,z+1))\n",
    "    rp_len = len(browser.find_elements(By.CLASS_NAME,'_2389dRohZq'))\n",
    "\n",
    "    # 댓글 수집\n",
    "    crawling_smart_store(z)\n",
    "\n",
    "    # 다음 페이지로 이동       \n",
    "    p +=1   \n",
    "    # 페이지 넘어간 이후 계속해서 click하기 위해 작성\n",
    "    try:\n",
    "        browser.find_element_by_xpath('//*[@id=\"REVIEW\"]/div/div[3]/div/div[2]/div/div/a['+ str(p) +']').click()\n",
    "        if p == 12:\n",
    "            p = 2\n",
    "        browser.implicitly_wait(5)\n",
    "        time.sleep(random.uniform(0.5,1.5))\n",
    "    except:\n",
    "        browser.find_element_by_xpath('//*[@id=\"REVIEW\"]/div/div[3]/div/div[2]/div/div/a['+ str(p) +']').text == ''\n",
    "\n",
    "\n",
    "# 마지막 페이지의 댓글 수집하기 \n",
    "if review_range < 20000:                # 마지막으로 넘긴 페이지 나머지 댓글 가져오기\n",
    "    if review_range % 20 > 0:\n",
    "        print(\"총 {0}페이지 + {0}번째 페이지의 나머지 댓글\".format(page+1))\n",
    "        crawling_smart_store(1)\n",
    "else:                                   # 페이지를 넘어가지않고 다 가져온 경우 + 1000페이지를 넘어가 빈페이지만 나온 경우 \n",
    "    print(\"총 {0}페이지\".format(page))\n",
    "    pass\n",
    "\n",
    "\n",
    "# 데이터 크롤링 완료 + 소요시간 확인\n",
    "print('완료' , datetime.today().strftime(\"%Y/%m/%d %H:%M:%S\"))\n",
    "end = time.time()\n",
    "sec = (end - start)\n",
    "hms()\n",
    "browser.quit()\n",
    "\n",
    "# 데이터 프레임화\n",
    "df = pd.DataFrame({'내용':contents, '날짜':dates,'별점':score,'재구매':re_buy,'한달사용기':month_use,'종류':category})"
   ]
  },
  {
   "cell_type": "code",
   "execution_count": null,
   "metadata": {},
   "outputs": [],
   "source": [
    "# 위와 통합시 간혹 저장되지않는 경우 확인. 따로 빼서 할 시 저장됨.\n",
    "df.to_csv('스마트스토어 크롤링.csv')"
   ]
  },
  {
   "cell_type": "code",
   "execution_count": 6,
   "metadata": {},
   "outputs": [
    {
     "name": "stdout",
     "output_type": "stream",
     "text": [
      "페이지당 평균 52초 사용\n"
     ]
    }
   ],
   "source": [
    "# 페이지당 소요시간 확인. 인터넷과 컴퓨터 성능에 영향을 받음\n",
    "if review_range < 20000:\n",
    "    if review_range % 20 > 0:\n",
    "        print(f'페이지당 평균 {int(sec / (page+1))}초 사용')\n",
    "else:\n",
    "    print(f'페이지당 평균 {int(sec / (page))}초 사용')\n",
    "    pass"
   ]
  },
  {
   "cell_type": "code",
   "execution_count": null,
   "metadata": {},
   "outputs": [],
   "source": []
  }
 ],
 "metadata": {
  "interpreter": {
   "hash": "82d4c6f819cf47785f735f902f00da8643513d08dab4f4c7470bccf934b8d2d6"
  },
  "kernelspec": {
   "display_name": "Python 3.7.9 64-bit",
   "language": "python",
   "name": "python3"
  },
  "language_info": {
   "codemirror_mode": {
    "name": "ipython",
    "version": 3
   },
   "file_extension": ".py",
   "mimetype": "text/x-python",
   "name": "python",
   "nbconvert_exporter": "python",
   "pygments_lexer": "ipython3",
   "version": "3.7.9"
  },
  "orig_nbformat": 4
 },
 "nbformat": 4,
 "nbformat_minor": 2
}
