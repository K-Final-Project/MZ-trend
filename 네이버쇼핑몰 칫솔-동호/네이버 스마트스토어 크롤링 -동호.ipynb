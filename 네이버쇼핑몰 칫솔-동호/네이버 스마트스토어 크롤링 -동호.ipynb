{
 "cells": [
  {
   "cell_type": "code",
   "execution_count": 1,
   "metadata": {},
   "outputs": [],
   "source": [
    "import selenium\n",
    "from selenium import webdriver\n",
    "from selenium.webdriver.common.keys import Keys\n",
    "from selenium.webdriver.common.by import By\n",
    "from selenium.webdriver.support.ui import WebDriverWait\n",
    "from selenium.webdriver.support import expected_conditions as EC\n",
    "from selenium.common.exceptions import TimeoutException\n",
    "from bs4 import BeautifulSoup as bs\n",
    "import time\n",
    "import random\n",
    "import pandas as pd"
   ]
  },
  {
   "cell_type": "code",
   "execution_count": 2,
   "metadata": {},
   "outputs": [
    {
     "name": "stderr",
     "output_type": "stream",
     "text": [
      "C:\\Users\\User\\AppData\\Local\\Temp/ipykernel_18744/1506880657.py:35: DeprecationWarning: find_element_by_* commands are deprecated. Please use find_element() instead\n",
      "  dates.append(browser.find_element_by_xpath(f'//*[@id=\"REVIEW\"]/div/div[3]/div/div[2]/ul/li[{i+1}]/div/div/div/div[1]/div/div[1]/div[1]/div[2]/div[2]/span').text)\n",
      "C:\\Users\\User\\AppData\\Local\\Temp/ipykernel_18744/1506880657.py:69: DeprecationWarning: find_element_by_* commands are deprecated. Please use find_element() instead\n",
      "  category.append(browser.find_element_by_xpath(f'//*[@id=\"REVIEW\"]/div/div[3]/div/div[2]/ul/li[{i+1}]/div/div/div/div[1]/div/div/div[1]/div[2]/div[3]/div/button/span').text)\n",
      "C:\\Users\\User\\AppData\\Local\\Temp/ipykernel_18744/1506880657.py:75: DeprecationWarning: find_element_by_* commands are deprecated. Please use find_element() instead\n",
      "  browser.find_element_by_xpath('//*[@id=\"REVIEW\"]/div/div[3]/div/div[2]/div/div/a['+ str(p) +']').click()\n"
     ]
    }
   ],
   "source": [
    "# 칫솔(SNG 치과칫솔 교정칫솔 미세모 치과용 교정용 치아 잇몸 어금니 칫솔 12개) 크롤링\n",
    "\n",
    "\n",
    "browser = webdriver.Chrome()\n",
    "browser.implicitly_wait(5)\n",
    "browser.maximize_window() # 브라우저 화면 최대화\n",
    "browser.implicitly_wait(5)\n",
    "# 페이지 get\n",
    "browser.get('https://smartstore.naver.com/cocosale/products/410137724?NaPm=ct%3Dl2u6g4i8%7Cci%3D4235bbee6b69f60619fbfeb9e9861612abbb49b9%7Ctr%3Dslsl%7Csn%3D370206%7Chk%3Dca5aad5fa1d499d9b4e76b398c36de9a346ac2a9')\n",
    "\n",
    "\n",
    "\n",
    "# 댓글, 날짜, 별점, 재구매여부, 한달사용후기, 구매칫솔종류\n",
    "contents = []\n",
    "dates = []\n",
    "score = []\n",
    "re_buy = []\n",
    "category = []\n",
    "month_use = []\n",
    "\n",
    "# p는 페이지 넘기기 위한 번호 임의 생성\n",
    "p = 2\n",
    "for z in range(999): \n",
    "    # 제목 크롤링\n",
    "    rp_len = len(browser.find_elements(By.CLASS_NAME,'_2389dRohZq'))\n",
    "    for i in range(rp_len) :\n",
    "        try:\n",
    "            a = browser.find_element(By.XPATH,'//*[@id=\"REVIEW\"]/div/div[3]/div/div[2]/ul/li['+str(i+1)+']/div/div[1]/div/div[1]/div/div[1]/div[2]/div').text\n",
    "            contents.append(a)\n",
    "        except:\n",
    "            pass\n",
    "\n",
    "    # 날짜 크롤링\n",
    "        try:\n",
    "            dates.append(browser.find_element_by_xpath(f'//*[@id=\"REVIEW\"]/div/div[3]/div/div[2]/ul/li[{i+1}]/div/div/div/div[1]/div/div[1]/div[1]/div[2]/div[2]/span').text)\n",
    "            browser.implicitly_wait(1)\n",
    "        except:\n",
    "            dates.append('')\n",
    "    \n",
    "    # 별점 점수\n",
    "        try:\n",
    "            score.append(browser.find_element(By.XPATH,f'//*[@id=\"REVIEW\"]/div/div[3]/div/div[2]/ul/li[{i+1}]/div/div/div/div[1]/div/div[1]/div[1]/div[2]/div[1]/em').text)\n",
    "        except:\n",
    "            dates.append('')\n",
    "    # 재구매\n",
    "        try :\n",
    "            if browser.find_element(By.XPATH,f'//*[@id=\"REVIEW\"]/div/div[3]/div/div[2]/ul/li[{i+1}]/div/div[1]/div/div[1]/div/div/div[2]/div/span[1]').text == '재구매' :\n",
    "                re_buy.append('재구매')\n",
    "            elif browser.find_element(By.XPATH,f'//*[@id=\"REVIEW\"]/div/div[3]/div/div[2]/ul/li[{i+1}]/div/div[1]/div/div[1]/div/div/div[2]/div/span[2]').text == '재구매' :\n",
    "                re_buy.append('재구매')\n",
    "            else :\n",
    "                re_buy.append('0')\n",
    "        except :\n",
    "            re_buy.append('0')\n",
    "\n",
    "    # 한달사용 후기\n",
    "        try :\n",
    "            if browser.find_element(By.XPATH,f'//*[@id=\"REVIEW\"]/div/div[3]/div/div[2]/ul/li[{i+1}]/div/div[1]/div/div[1]/div/div/div[2]/div/span[1]').text == '한달사용기' :\n",
    "                month_use.append('한달사용기')\n",
    "            elif browser.find_element(By.XPATH,f'//*[@id=\"REVIEW\"]/div/div[3]/div/div[2]/ul/li[{i+1}]/div/div[1]/div/div[1]/div/div/div[2]/div/span[2]').text == '한달사용기' :\n",
    "                month_use.append('한달사용기')\n",
    "            else :\n",
    "                month_use.append('0')\n",
    "        except :\n",
    "            month_use.append('0')\n",
    "            \n",
    "    # 종류\n",
    "        try : \n",
    "            category.append(browser.find_element_by_xpath(f'//*[@id=\"REVIEW\"]/div/div[3]/div/div[2]/ul/li[{i+1}]/div/div/div/div[1]/div/div/div[1]/div[2]/div[3]/div/button/span').text)\n",
    "        except :\n",
    "            category.append('0')\n",
    "\n",
    "    # 다음 페이지로 이동       \n",
    "    p +=1   \n",
    "    browser.find_element_by_xpath('//*[@id=\"REVIEW\"]/div/div[3]/div/div[2]/div/div/a['+ str(p) +']').click()\n",
    "    browser.implicitly_wait(5)\n",
    "    time.sleep(random.uniform(0.5,1.5))\n",
    "\n",
    "    # 페이지 넘어간 이후 계속해서 click하기 위해 작성\n",
    "    try:\n",
    "        if p == 12:\n",
    "            p = 2\n",
    "    except:\n",
    "        p = 3\n",
    "# 데이터 프레임화\n",
    "df = pd.DataFrame({'내용':contents, '날짜':dates,'별점':score,'재구매':re_buy,'한달사용기':month_use,'종류':category})\n",
    "df.to_excel('칫솔.xlsx')"
   ]
  },
  {
   "cell_type": "code",
   "execution_count": null,
   "metadata": {},
   "outputs": [],
   "source": []
  },
  {
   "cell_type": "code",
   "execution_count": null,
   "metadata": {},
   "outputs": [],
   "source": []
  },
  {
   "cell_type": "markdown",
   "metadata": {},
   "source": [
    "## 연습장"
   ]
  },
  {
   "cell_type": "code",
   "execution_count": 78,
   "metadata": {},
   "outputs": [
    {
     "data": {
      "text/plain": [
       "['큰아들 교정칫솔로 샀어요. 집에서 쓰기는 좋은데 다른칫솔케이스에 넣으려니 길이가 좀 기네요 ㅎㅎ사은품 주신거 잘 쓰겠습니다^^',\n",
       " '큰아들 교정칫솔로 샀어요. 집에서 쓰기는 좋은데 다른칫솔케이스에 넣으려니 길이가 좀 기네요 ㅎㅎ사은품 주신거 잘 쓰겠습니다^^',\n",
       " '교정시작후 칫솔비용이 조금은 부담이였는데 정말좋아요~\\n이제 마음이 놓이네요.',\n",
       " '한달사용기칫솔 너무 좋네요. 인생칫솔 찾았습니다. 이제 이것만 구매해서 칫솔 사용할거 같습니다. 좋은 제품 만들어 판매해 주셔서 감사합니다.',\n",
       " '배송도 빠르고 포장도 꼼꼼하네요\\n칫솔은 생각보다 너무 좋아요!\\n색상도 다양하고 뚜껑도 있어서 놀러갈때 가지고 가기에도 편할거 같네요~',\n",
       " '교정중인 딸이가 괜찮다고하네요\\n앞으론 여기서 구입해야겠어요',\n",
       " '교정 시작해서 장치랑 치아 사이에 칫솔질 하려고 샀어요 잘 되면 좋겠네요',\n",
       " '미세모는 부드럽고 일반은 딱 적당합니다! 좋은 가격에 잘 산 것 같네요ㅎㅎ',\n",
       " '어금니칫솔은 부드러운 모보다 단단한 게 사용하기 좋대서 주문했어요 가격도 비싸지 않고 좋아요',\n",
       " '항상 잘 쓰고 있어요. 사용하는 칫솔 다 사용하면 재구매 예정입니다.',\n",
       " '좋은가격에 구매했어요.다쓰고 재주문 할꺼에요',\n",
       " '한달사용기재구매아직도 유용하게 잘 사용중입니다',\n",
       " '교정을 시작하며 구입해봅니다',\n",
       " '아직 사용전이지만, 포장과 배송은 만족스러웠습니다.',\n",
       " '월래쓰던거라 잘쓸께요!! 감사해요!!',\n",
       " '한달사용기동그란칫솔은 탱탱하니 솔이 좋아요.구석구석 잘 닦이네요.',\n",
       " '한달사용기칫솔 사이즈가 제가 생각했던것 보다 더 커요\\n저는 덧니가 있어 보통 사이즈보다 작은걸 사용해요\\n보통 쓰는 분들은 괜찮을듯해요',\n",
       " '재구매자주 교체해야하는 교정용 칫솔로 가성비 좋아요. 부드러워서 사용감도 좋아요',\n",
       " '처음엔 좀 칫솔모가 센가 했는데 적응해서 아주 잘 쓰고 있어요ㅎㅎ\\n집에 하나, 가방에 하나, 사무실에도 하나 막 써도 많으니 아주 좋아요!',\n",
       " '사랑니 닦기 너무 좋습니다 진짜... 사랑니가 올바르게 나서 발치를 안해도 되는 사람입니다. 근데 발치를 안하니까 생긴 문제점이 일반칫솔로는 사랑니가 깨끗하게 다 안닦인다는 점... 그래서 사랑니에 충치가 몇개 생겼더군요 그래서 작은 칫솔을 찾다가 이 상품을 발견했습니다. 솔 부분이 뾰족해서 치아와 잇몸 사이를 세밀하게 닦을 수 있고 입을 크게 벌리면 사랑니 뒷부분까지 다 닿습니다! 정말 최고ㅠ 이제 어금니 칫솔 없으면 살아갈 수 없는 몸이 되어버렸습니다...']"
      ]
     },
     "execution_count": 78,
     "metadata": {},
     "output_type": "execute_result"
    }
   ],
   "source": [
    "\n",
    "rp_len = len(browser.find_elements(By.CLASS_NAME,'_2389dRohZq'))\n",
    "\n",
    "for i in range(rp_len) :\n",
    "    a = browser.find_element(By.XPATH,'//*[@id=\"REVIEW\"]/div/div[3]/div/div[2]/ul/li['+str(i+1)+']/div/div[1]/div/div[1]/div/div[1]/div[2]/div').text\n",
    "    contents.append(a)\n"
   ]
  },
  {
   "cell_type": "code",
   "execution_count": null,
   "metadata": {},
   "outputs": [],
   "source": []
  }
 ],
 "metadata": {
  "interpreter": {
   "hash": "9164a3399a70d355c381b62813f30880ed90ca5a6f321bf0d85375640bda7ee5"
  },
  "kernelspec": {
   "display_name": "Python 3.7.9 64-bit",
   "language": "python",
   "name": "python3"
  },
  "language_info": {
   "codemirror_mode": {
    "name": "ipython",
    "version": 3
   },
   "file_extension": ".py",
   "mimetype": "text/x-python",
   "name": "python",
   "nbconvert_exporter": "python",
   "pygments_lexer": "ipython3",
   "version": "3.9.7"
  },
  "orig_nbformat": 4
 },
 "nbformat": 4,
 "nbformat_minor": 2
}
