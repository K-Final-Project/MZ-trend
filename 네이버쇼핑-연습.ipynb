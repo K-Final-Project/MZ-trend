{
 "cells": [
  {
   "cell_type": "markdown",
   "metadata": {},
   "source": [
    "##### 네이버 api를 이용하여 검색, 1000개 엑셀로 저장하기(쓸모있을까?)"
   ]
  },
  {
   "cell_type": "code",
   "execution_count": 49,
   "metadata": {},
   "outputs": [],
   "source": [
    "import requests\n",
    "import openpyxl\n",
    "\n",
    "client_id = 'jek_glKrisAJjvGlMeeB'\n",
    "client_secret = 'piOGCKDcOB'\n",
    "start, num = 1, 0\n",
    "\n",
    "excel_file = openpyxl.Workbook()\n",
    "excel_sheet = excel_file.active\n",
    "excel_sheet.column_dimensions['B'].width = 100\n",
    "excel_sheet.column_dimensions['C'].width = 100\n",
    "excel_sheet.append(['랭킹', '제목', '링크'])\n",
    "\n",
    "for index in range(10):\n",
    "    start_number = start + (index * 100)\n",
    "    naver_open_api = 'https://openapi.naver.com/v1/search/shop.json?query=칫솔&display=100&start=' + str(start_number)\n",
    "    header_params = {\"X-Naver-Client-Id\":client_id, \"X-Naver-Client-Secret\":client_secret}\n",
    "    res = requests.get(naver_open_api, headers=header_params)\n",
    "    if res.status_code == 200:\n",
    "        data = res.json()\n",
    "        for item in data['items']:\n",
    "            num += 1\n",
    "            excel_sheet.append([num, item['title'], item['link']])\n",
    "    else:\n",
    "        print (\"Error Code:\", res.status_code)\n",
    "\n",
    "excel_file.save('칫솔.xlsx')\n",
    "excel_file.close()"
   ]
  },
  {
   "cell_type": "markdown",
   "metadata": {},
   "source": [
    "#### 네이버쇼핑몰 크롤링 작업중"
   ]
  },
  {
   "cell_type": "code",
   "execution_count": 1,
   "metadata": {},
   "outputs": [],
   "source": [
    "def page_down(__init__):\n",
    "    for c in range(0,__init__):\n",
    "        driver.find_element_by_tag_name('body').send_keys(Keys.PAGE_DOWN)\n",
    "        time.sleep(1)"
   ]
  },
  {
   "cell_type": "code",
   "execution_count": 2,
   "metadata": {},
   "outputs": [],
   "source": [
    "def page_up():\n",
    "    driver.execute_script(\"window.scrollTo(0, 0)\") "
   ]
  },
  {
   "cell_type": "code",
   "execution_count": 10,
   "metadata": {},
   "outputs": [
    {
     "ename": "NoSuchElementException",
     "evalue": "Message: no such element: Unable to locate element: {\"method\":\"xpath\",\"selector\":\"//*[@id=\"REVIEW\"]/div/div[3]/div/div[2]/div/div/a[3]\"}\n  (Session info: chrome=101.0.4951.54)\nStacktrace:\nBacktrace:\n\tOrdinal0 [0x004A7413+2389011]\n\tOrdinal0 [0x00439F61+1941345]\n\tOrdinal0 [0x0032C658+837208]\n\tOrdinal0 [0x003591DD+1020381]\n\tOrdinal0 [0x0035949B+1021083]\n\tOrdinal0 [0x00386032+1204274]\n\tOrdinal0 [0x00374194+1130900]\n\tOrdinal0 [0x00384302+1196802]\n\tOrdinal0 [0x00373F66+1130342]\n\tOrdinal0 [0x0034E546+976198]\n\tOrdinal0 [0x0034F456+980054]\n\tGetHandleVerifier [0x00659632+1727522]\n\tGetHandleVerifier [0x0070BA4D+2457661]\n\tGetHandleVerifier [0x0053EB81+569713]\n\tGetHandleVerifier [0x0053DD76+566118]\n\tOrdinal0 [0x00440B2B+1968939]\n\tOrdinal0 [0x00445988+1989000]\n\tOrdinal0 [0x00445A75+1989237]\n\tOrdinal0 [0x0044ECB1+2026673]\n\tBaseThreadInitThunk [0x75AFFA29+25]\n\tRtlGetAppContainerNamedObjectPath [0x77C77A7E+286]\n\tRtlGetAppContainerNamedObjectPath [0x77C77A4E+238]\n",
     "output_type": "error",
     "traceback": [
      "\u001b[1;31m---------------------------------------------------------------------------\u001b[0m",
      "\u001b[1;31mNoSuchElementException\u001b[0m                    Traceback (most recent call last)",
      "\u001b[1;32m~\\AppData\\Local\\Temp/ipykernel_8060/1132142665.py\u001b[0m in \u001b[0;36m<module>\u001b[1;34m\u001b[0m\n\u001b[0;32m     59\u001b[0m \u001b[1;31m#     # 다음 페이지로 이동\u001b[0m\u001b[1;33m\u001b[0m\u001b[1;33m\u001b[0m\u001b[0m\n\u001b[0;32m     60\u001b[0m \u001b[1;33m\u001b[0m\u001b[0m\n\u001b[1;32m---> 61\u001b[1;33m \u001b[0mdriver\u001b[0m\u001b[1;33m.\u001b[0m\u001b[0mfind_element\u001b[0m\u001b[1;33m(\u001b[0m\u001b[0mBy\u001b[0m\u001b[1;33m.\u001b[0m\u001b[0mXPATH\u001b[0m\u001b[1;33m,\u001b[0m\u001b[1;34m'//*[@id=\"REVIEW\"]/div/div[3]/div/div[2]/div/div/a[3]'\u001b[0m\u001b[1;33m)\u001b[0m\u001b[1;33m.\u001b[0m\u001b[0mclick\u001b[0m\u001b[1;33m(\u001b[0m\u001b[1;33m)\u001b[0m\u001b[1;33m\u001b[0m\u001b[1;33m\u001b[0m\u001b[0m\n\u001b[0m\u001b[0;32m     62\u001b[0m \u001b[0mtime\u001b[0m\u001b[1;33m.\u001b[0m\u001b[0msleep\u001b[0m\u001b[1;33m(\u001b[0m\u001b[1;36m0.5\u001b[0m\u001b[1;33m)\u001b[0m\u001b[1;33m\u001b[0m\u001b[1;33m\u001b[0m\u001b[0m\n\u001b[0;32m     63\u001b[0m \u001b[0mdriver\u001b[0m\u001b[1;33m.\u001b[0m\u001b[0mimplicitly_wait\u001b[0m\u001b[1;33m(\u001b[0m\u001b[1;36m3\u001b[0m\u001b[1;33m)\u001b[0m\u001b[1;33m\u001b[0m\u001b[1;33m\u001b[0m\u001b[0m\n",
      "\u001b[1;32m~\\anaconda3\\lib\\site-packages\\selenium\\webdriver\\remote\\webdriver.py\u001b[0m in \u001b[0;36mfind_element\u001b[1;34m(self, by, value)\u001b[0m\n\u001b[0;32m   1242\u001b[0m             \u001b[0mvalue\u001b[0m \u001b[1;33m=\u001b[0m \u001b[1;34m'[name=\"%s\"]'\u001b[0m \u001b[1;33m%\u001b[0m \u001b[0mvalue\u001b[0m\u001b[1;33m\u001b[0m\u001b[1;33m\u001b[0m\u001b[0m\n\u001b[0;32m   1243\u001b[0m \u001b[1;33m\u001b[0m\u001b[0m\n\u001b[1;32m-> 1244\u001b[1;33m         return self.execute(Command.FIND_ELEMENT, {\n\u001b[0m\u001b[0;32m   1245\u001b[0m             \u001b[1;34m'using'\u001b[0m\u001b[1;33m:\u001b[0m \u001b[0mby\u001b[0m\u001b[1;33m,\u001b[0m\u001b[1;33m\u001b[0m\u001b[1;33m\u001b[0m\u001b[0m\n\u001b[0;32m   1246\u001b[0m             'value': value})['value']\n",
      "\u001b[1;32m~\\anaconda3\\lib\\site-packages\\selenium\\webdriver\\remote\\webdriver.py\u001b[0m in \u001b[0;36mexecute\u001b[1;34m(self, driver_command, params)\u001b[0m\n\u001b[0;32m    422\u001b[0m         \u001b[0mresponse\u001b[0m \u001b[1;33m=\u001b[0m \u001b[0mself\u001b[0m\u001b[1;33m.\u001b[0m\u001b[0mcommand_executor\u001b[0m\u001b[1;33m.\u001b[0m\u001b[0mexecute\u001b[0m\u001b[1;33m(\u001b[0m\u001b[0mdriver_command\u001b[0m\u001b[1;33m,\u001b[0m \u001b[0mparams\u001b[0m\u001b[1;33m)\u001b[0m\u001b[1;33m\u001b[0m\u001b[1;33m\u001b[0m\u001b[0m\n\u001b[0;32m    423\u001b[0m         \u001b[1;32mif\u001b[0m \u001b[0mresponse\u001b[0m\u001b[1;33m:\u001b[0m\u001b[1;33m\u001b[0m\u001b[1;33m\u001b[0m\u001b[0m\n\u001b[1;32m--> 424\u001b[1;33m             \u001b[0mself\u001b[0m\u001b[1;33m.\u001b[0m\u001b[0merror_handler\u001b[0m\u001b[1;33m.\u001b[0m\u001b[0mcheck_response\u001b[0m\u001b[1;33m(\u001b[0m\u001b[0mresponse\u001b[0m\u001b[1;33m)\u001b[0m\u001b[1;33m\u001b[0m\u001b[1;33m\u001b[0m\u001b[0m\n\u001b[0m\u001b[0;32m    425\u001b[0m             response['value'] = self._unwrap_value(\n\u001b[0;32m    426\u001b[0m                 response.get('value', None))\n",
      "\u001b[1;32m~\\anaconda3\\lib\\site-packages\\selenium\\webdriver\\remote\\errorhandler.py\u001b[0m in \u001b[0;36mcheck_response\u001b[1;34m(self, response)\u001b[0m\n\u001b[0;32m    245\u001b[0m                 \u001b[0malert_text\u001b[0m \u001b[1;33m=\u001b[0m \u001b[0mvalue\u001b[0m\u001b[1;33m[\u001b[0m\u001b[1;34m'alert'\u001b[0m\u001b[1;33m]\u001b[0m\u001b[1;33m.\u001b[0m\u001b[0mget\u001b[0m\u001b[1;33m(\u001b[0m\u001b[1;34m'text'\u001b[0m\u001b[1;33m)\u001b[0m\u001b[1;33m\u001b[0m\u001b[1;33m\u001b[0m\u001b[0m\n\u001b[0;32m    246\u001b[0m             \u001b[1;32mraise\u001b[0m \u001b[0mexception_class\u001b[0m\u001b[1;33m(\u001b[0m\u001b[0mmessage\u001b[0m\u001b[1;33m,\u001b[0m \u001b[0mscreen\u001b[0m\u001b[1;33m,\u001b[0m \u001b[0mstacktrace\u001b[0m\u001b[1;33m,\u001b[0m \u001b[0malert_text\u001b[0m\u001b[1;33m)\u001b[0m  \u001b[1;31m# type: ignore[call-arg]  # mypy is not smart enough here\u001b[0m\u001b[1;33m\u001b[0m\u001b[1;33m\u001b[0m\u001b[0m\n\u001b[1;32m--> 247\u001b[1;33m         \u001b[1;32mraise\u001b[0m \u001b[0mexception_class\u001b[0m\u001b[1;33m(\u001b[0m\u001b[0mmessage\u001b[0m\u001b[1;33m,\u001b[0m \u001b[0mscreen\u001b[0m\u001b[1;33m,\u001b[0m \u001b[0mstacktrace\u001b[0m\u001b[1;33m)\u001b[0m\u001b[1;33m\u001b[0m\u001b[1;33m\u001b[0m\u001b[0m\n\u001b[0m\u001b[0;32m    248\u001b[0m \u001b[1;33m\u001b[0m\u001b[0m\n\u001b[0;32m    249\u001b[0m     \u001b[1;32mdef\u001b[0m \u001b[0m_value_or_default\u001b[0m\u001b[1;33m(\u001b[0m\u001b[0mself\u001b[0m\u001b[1;33m,\u001b[0m \u001b[0mobj\u001b[0m\u001b[1;33m:\u001b[0m \u001b[0mMapping\u001b[0m\u001b[1;33m[\u001b[0m\u001b[0m_KT\u001b[0m\u001b[1;33m,\u001b[0m \u001b[0m_VT\u001b[0m\u001b[1;33m]\u001b[0m\u001b[1;33m,\u001b[0m \u001b[0mkey\u001b[0m\u001b[1;33m:\u001b[0m \u001b[0m_KT\u001b[0m\u001b[1;33m,\u001b[0m \u001b[0mdefault\u001b[0m\u001b[1;33m:\u001b[0m \u001b[0m_VT\u001b[0m\u001b[1;33m)\u001b[0m \u001b[1;33m->\u001b[0m \u001b[0m_VT\u001b[0m\u001b[1;33m:\u001b[0m\u001b[1;33m\u001b[0m\u001b[1;33m\u001b[0m\u001b[0m\n",
      "\u001b[1;31mNoSuchElementException\u001b[0m: Message: no such element: Unable to locate element: {\"method\":\"xpath\",\"selector\":\"//*[@id=\"REVIEW\"]/div/div[3]/div/div[2]/div/div/a[3]\"}\n  (Session info: chrome=101.0.4951.54)\nStacktrace:\nBacktrace:\n\tOrdinal0 [0x004A7413+2389011]\n\tOrdinal0 [0x00439F61+1941345]\n\tOrdinal0 [0x0032C658+837208]\n\tOrdinal0 [0x003591DD+1020381]\n\tOrdinal0 [0x0035949B+1021083]\n\tOrdinal0 [0x00386032+1204274]\n\tOrdinal0 [0x00374194+1130900]\n\tOrdinal0 [0x00384302+1196802]\n\tOrdinal0 [0x00373F66+1130342]\n\tOrdinal0 [0x0034E546+976198]\n\tOrdinal0 [0x0034F456+980054]\n\tGetHandleVerifier [0x00659632+1727522]\n\tGetHandleVerifier [0x0070BA4D+2457661]\n\tGetHandleVerifier [0x0053EB81+569713]\n\tGetHandleVerifier [0x0053DD76+566118]\n\tOrdinal0 [0x00440B2B+1968939]\n\tOrdinal0 [0x00445988+1989000]\n\tOrdinal0 [0x00445A75+1989237]\n\tOrdinal0 [0x0044ECB1+2026673]\n\tBaseThreadInitThunk [0x75AFFA29+25]\n\tRtlGetAppContainerNamedObjectPath [0x77C77A7E+286]\n\tRtlGetAppContainerNamedObjectPath [0x77C77A4E+238]\n"
     ]
    }
   ],
   "source": [
    "from selenium import webdriver\n",
    "from selenium.webdriver.common.keys import Keys\n",
    "from selenium.webdriver.common.by import By\n",
    "import time\n",
    "import pandas as pd\n",
    "\n",
    "# word = '칫솔' \n",
    "driver = webdriver.Chrome()\n",
    "driver.get('https://smartstore.naver.com/proxihealthcare/products/5852661344?n_media=11068&n_query=%EC%B9%AB%EC%86%94&n_rank=3&n_ad_group=grp-a001-02-000000026465283&n_ad=nad-a001-02-000000179334065&n_campaign_type=2&n_mall_id=ncp_1nx4lq_01&n_mall_pid=5852661344&n_ad_group_type=2&NaPm=ct%3Dl2u2sufc%7Cci%3D0yC0002PL7fw2lqnSeYA%7Ctr%3Dpla%7Chk%3Ddb221ba6aa7678d4bbb77a5dc0e93e2e365ffb7f')    #카카오페이지 웹툰 가져오기\n",
    "driver.maximize_window()\n",
    "# page_down(19)\n",
    "# time.sleep(2)\n",
    "# page_up()\n",
    "# driver.find_elements(By.CLASS_NAME,'basicList_link__1MaTN')[0].click()\n",
    "# driver.switch_to.window(driver.window_handles[1])\n",
    "\n",
    "\n",
    "\n",
    "contents = []\n",
    "dates = []\n",
    "score = []\n",
    "re_buy = []\n",
    "\n",
    "p = 2\n",
    "for z in range(1): \n",
    "    # 제목 크롤링\n",
    "    rp_len = len(driver.find_elements(By.CLASS_NAME,'_2389dRohZq'))\n",
    "    for i in range(rp_len) :\n",
    "        try:\n",
    "            a = driver.find_element(By.XPATH,'//*[@id=\"REVIEW\"]/div/div[3]/div/div[2]/ul/li['+str(i+1)+']/div/div[1]/div/div[1]/div/div[1]/div[2]/div').text\n",
    "            contents.append(a)\n",
    "        except:\n",
    "            pass\n",
    "\n",
    "    # 날짜 크롤링\n",
    "        try:\n",
    "            dates.append(driver.find_element_by_xpath(f'//*[@id=\"REVIEW\"]/div/div[3]/div/div[2]/ul/li[{i+1}]/div/div/div/div[1]/div/div[1]/div[1]/div[2]/div[2]/span').text)\n",
    "            driver.implicitly_wait(1)\n",
    "        except:\n",
    "            dates.append('')\n",
    "    \n",
    "    # 별점 점수\n",
    "        try:\n",
    "            score.append(driver.find_element(By.XPATH,f'//*[@id=\"REVIEW\"]/div/div[3]/div/div[2]/ul/li[{i+1}]/div/div/div/div[1]/div/div[1]/div[1]/div[2]/div[1]/em').text)\n",
    "        except:\n",
    "            dates.append('')\n",
    "        \n",
    "    # 재구매\n",
    "        try :\n",
    "            if driver.find_element_by_xpath(f'//*[@id=\"REVIEW\"]/div/div[3]/div/div[2]/ul/li[{i+1}]/div/div[1]/div/div[1]/div/div/div[2]/div/span[1]').text == '재구매' :\n",
    "                re_buy.append(driver.find_element_by_xpath(f'//*[@id=\"REVIEW\"]/div/div[3]/div/div[2]/ul/li[{i+1}]/div/div/div/div[1]/div/div[1]/div[1]/div[2]/div[2]/span').text)\n",
    "            elif driver.find_element_by_xpath(f'//*[@id=\"REVIEW\"]/div/div[3]/div/div[2]/ul/li[{i+1}]/div/div[1]/div/div[1]/div/div/div[2]/div/span[2]').text == '재구매' :\n",
    "                re_buy.append(driver.find_element_by_xpath(f'//*[@id=\"REVIEW\"]/div/div[3]/div/div[2]/ul/li[{i+1}]/div/div/div/div[1]/div/div[1]/div[1]/div[2]/div[2]/span').text)\n",
    "        except :\n",
    "            re_buy.append('0')\n",
    "\n",
    "\n",
    "\n",
    "#     # 다음 페이지로 이동       \n",
    "\n",
    "driver.find_element(By.XPATH,'//*[@id=\"REVIEW\"]/div/div[3]/div/div[2]/div/div/a[3]').click()\n",
    "time.sleep(0.5)\n",
    "driver.implicitly_wait(3)\n",
    "\n",
    "    \n",
    "# try:\n",
    "#     if p == 12:\n",
    "#         p = 2\n",
    "# except:\n",
    "#     p = 3\n",
    "# time.sleep(0.5)\n",
    "# driver.implicitly_wait(3)\n",
    "\n",
    "# time.sleep(3)\n",
    "# driver.close()\n",
    "# driver.switch_to.window(driver.window_handles[0])\n",
    "# time.sleep(1)\n",
    "# driver.find_elements(By.CLASS_NAME,'basicList_link__1MaTN')[1].click()\n",
    "df = pd.DataFrame({'내용':contents, '날짜':dates,'별점':score})\n",
    "df"
   ]
  },
  {
   "cell_type": "code",
   "execution_count": null,
   "metadata": {},
   "outputs": [],
   "source": []
  },
  {
   "cell_type": "code",
   "execution_count": 5,
   "metadata": {},
   "outputs": [
    {
     "data": {
      "text/plain": [
       "10"
      ]
     },
     "execution_count": 5,
     "metadata": {},
     "output_type": "execute_result"
    }
   ],
   "source": [
    "\n",
    "len(driver.find_elements(By.XPATH,'//*[@id=\"REVIEW\"]/div/div[3]/div/div[2]/div/div/a'))-2\n",
    "\n",
    "# for i in range(2):\n",
    "#     driver.find_element(By.XPATH,'//*[@id=\"REVIEW\"]/div/div[3]/div/div[2]/div/div/a[{0}]'.format(i+1)).send_keys('\\n')\n",
    "#     time.sleep(10)"
   ]
  },
  {
   "cell_type": "code",
   "execution_count": 43,
   "metadata": {},
   "outputs": [],
   "source": [
    "def page_click(__init__):\n",
    "    pages_num = len(driver.find_elements(By.XPATH,'//*[@id=\"REVIEW\"]/div/div[3]/div/div[2]/div/div/a'))-1\n",
    "    for i in range(pages_num):\n",
    "        path_review = '//*[@id=\"REVIEW\"]/div/div[3]/div/div[2]/div/div/a[{0}]'.format(i+2)\n",
    "        \n",
    "        if driver.find_element(By.XPATH,path_review).text == '':\n",
    "            break\n",
    "        else:\n",
    "            driver.find_element(By.XPATH,path_review).click()\n",
    "            time.sleep(1)"
   ]
  },
  {
   "cell_type": "code",
   "execution_count": 44,
   "metadata": {},
   "outputs": [],
   "source": [
    "page_click(1)"
   ]
  },
  {
   "cell_type": "code",
   "execution_count": 40,
   "metadata": {},
   "outputs": [
    {
     "data": {
      "text/plain": [
       "12"
      ]
     },
     "execution_count": 40,
     "metadata": {},
     "output_type": "execute_result"
    }
   ],
   "source": [
    "pages_num = len(driver.find_elements(By.XPATH,'//*[@id=\"REVIEW\"]/div/div[3]/div/div[2]/div/div/a'))\n",
    "pages_num\n"
   ]
  },
  {
   "cell_type": "code",
   "execution_count": 6,
   "metadata": {},
   "outputs": [],
   "source": [
    "pages_num = len(driver.find_elements(By.XPATH,'//*[@id=\"REVIEW\"]/div/div[3]/div/div[2]/div/div/a'))-2\n",
    "for i in range(10):\n",
    "    path_review = '//*[@id=\"REVIEW\"]/div/div[3]/div/div[2]/div/div/a[{0}]'\n",
    "    if driver.find_element(By.XPATH,path_review.format(i+2)).text == 1:\n",
    "        driver.find_element(By.XPATH,path_review.format(i+2)).click()"
   ]
  },
  {
   "cell_type": "code",
   "execution_count": 8,
   "metadata": {},
   "outputs": [
    {
     "ename": "NoSuchElementException",
     "evalue": "Message: no such element: Unable to locate element: {\"method\":\"xpath\",\"selector\":\"//*[@id=\"REVIEW\"]/div/div[3]/div/div[2]/div/div/a[12]\"}\n  (Session info: chrome=101.0.4951.54)\nStacktrace:\nBacktrace:\n\tOrdinal0 [0x004A7413+2389011]\n\tOrdinal0 [0x00439F61+1941345]\n\tOrdinal0 [0x0032C658+837208]\n\tOrdinal0 [0x003591DD+1020381]\n\tOrdinal0 [0x0035949B+1021083]\n\tOrdinal0 [0x00386032+1204274]\n\tOrdinal0 [0x00374194+1130900]\n\tOrdinal0 [0x00384302+1196802]\n\tOrdinal0 [0x00373F66+1130342]\n\tOrdinal0 [0x0034E546+976198]\n\tOrdinal0 [0x0034F456+980054]\n\tGetHandleVerifier [0x00659632+1727522]\n\tGetHandleVerifier [0x0070BA4D+2457661]\n\tGetHandleVerifier [0x0053EB81+569713]\n\tGetHandleVerifier [0x0053DD76+566118]\n\tOrdinal0 [0x00440B2B+1968939]\n\tOrdinal0 [0x00445988+1989000]\n\tOrdinal0 [0x00445A75+1989237]\n\tOrdinal0 [0x0044ECB1+2026673]\n\tBaseThreadInitThunk [0x75AFFA29+25]\n\tRtlGetAppContainerNamedObjectPath [0x77C77A7E+286]\n\tRtlGetAppContainerNamedObjectPath [0x77C77A4E+238]\n",
     "output_type": "error",
     "traceback": [
      "\u001b[1;31m---------------------------------------------------------------------------\u001b[0m",
      "\u001b[1;31mNoSuchElementException\u001b[0m                    Traceback (most recent call last)",
      "\u001b[1;32m~\\AppData\\Local\\Temp/ipykernel_17812/225479690.py\u001b[0m in \u001b[0;36m<module>\u001b[1;34m\u001b[0m\n\u001b[0;32m      4\u001b[0m     \u001b[0mdriver\u001b[0m\u001b[1;33m.\u001b[0m\u001b[0mfind_element\u001b[0m\u001b[1;33m(\u001b[0m\u001b[0mBy\u001b[0m\u001b[1;33m.\u001b[0m\u001b[0mXPATH\u001b[0m\u001b[1;33m,\u001b[0m\u001b[0mpath_review\u001b[0m\u001b[1;33m)\u001b[0m\u001b[1;33m.\u001b[0m\u001b[0mclick\u001b[0m\u001b[1;33m(\u001b[0m\u001b[1;33m)\u001b[0m\u001b[1;33m\u001b[0m\u001b[1;33m\u001b[0m\u001b[0m\n\u001b[0;32m      5\u001b[0m     \u001b[0mtime\u001b[0m\u001b[1;33m.\u001b[0m\u001b[0msleep\u001b[0m\u001b[1;33m(\u001b[0m\u001b[1;36m2\u001b[0m\u001b[1;33m)\u001b[0m\u001b[1;33m\u001b[0m\u001b[1;33m\u001b[0m\u001b[0m\n\u001b[1;32m----> 6\u001b[1;33m     \u001b[1;32mif\u001b[0m \u001b[0mint\u001b[0m\u001b[1;33m(\u001b[0m\u001b[0mdriver\u001b[0m\u001b[1;33m.\u001b[0m\u001b[0mfind_element\u001b[0m\u001b[1;33m(\u001b[0m\u001b[0mBy\u001b[0m\u001b[1;33m.\u001b[0m\u001b[0mXPATH\u001b[0m\u001b[1;33m,\u001b[0m\u001b[0mpath_review\u001b[0m\u001b[1;33m)\u001b[0m\u001b[1;33m.\u001b[0m\u001b[0mtext\u001b[0m\u001b[1;33m)\u001b[0m  \u001b[1;33m==\u001b[0m \u001b[1;36m11\u001b[0m\u001b[1;33m:\u001b[0m\u001b[1;33m\u001b[0m\u001b[1;33m\u001b[0m\u001b[0m\n\u001b[0m\u001b[0;32m      7\u001b[0m         \u001b[1;32mbreak\u001b[0m\u001b[1;33m\u001b[0m\u001b[1;33m\u001b[0m\u001b[0m\n",
      "\u001b[1;32m~\\anaconda3\\lib\\site-packages\\selenium\\webdriver\\remote\\webdriver.py\u001b[0m in \u001b[0;36mfind_element\u001b[1;34m(self, by, value)\u001b[0m\n\u001b[0;32m   1242\u001b[0m             \u001b[0mvalue\u001b[0m \u001b[1;33m=\u001b[0m \u001b[1;34m'[name=\"%s\"]'\u001b[0m \u001b[1;33m%\u001b[0m \u001b[0mvalue\u001b[0m\u001b[1;33m\u001b[0m\u001b[1;33m\u001b[0m\u001b[0m\n\u001b[0;32m   1243\u001b[0m \u001b[1;33m\u001b[0m\u001b[0m\n\u001b[1;32m-> 1244\u001b[1;33m         return self.execute(Command.FIND_ELEMENT, {\n\u001b[0m\u001b[0;32m   1245\u001b[0m             \u001b[1;34m'using'\u001b[0m\u001b[1;33m:\u001b[0m \u001b[0mby\u001b[0m\u001b[1;33m,\u001b[0m\u001b[1;33m\u001b[0m\u001b[1;33m\u001b[0m\u001b[0m\n\u001b[0;32m   1246\u001b[0m             'value': value})['value']\n",
      "\u001b[1;32m~\\anaconda3\\lib\\site-packages\\selenium\\webdriver\\remote\\webdriver.py\u001b[0m in \u001b[0;36mexecute\u001b[1;34m(self, driver_command, params)\u001b[0m\n\u001b[0;32m    422\u001b[0m         \u001b[0mresponse\u001b[0m \u001b[1;33m=\u001b[0m \u001b[0mself\u001b[0m\u001b[1;33m.\u001b[0m\u001b[0mcommand_executor\u001b[0m\u001b[1;33m.\u001b[0m\u001b[0mexecute\u001b[0m\u001b[1;33m(\u001b[0m\u001b[0mdriver_command\u001b[0m\u001b[1;33m,\u001b[0m \u001b[0mparams\u001b[0m\u001b[1;33m)\u001b[0m\u001b[1;33m\u001b[0m\u001b[1;33m\u001b[0m\u001b[0m\n\u001b[0;32m    423\u001b[0m         \u001b[1;32mif\u001b[0m \u001b[0mresponse\u001b[0m\u001b[1;33m:\u001b[0m\u001b[1;33m\u001b[0m\u001b[1;33m\u001b[0m\u001b[0m\n\u001b[1;32m--> 424\u001b[1;33m             \u001b[0mself\u001b[0m\u001b[1;33m.\u001b[0m\u001b[0merror_handler\u001b[0m\u001b[1;33m.\u001b[0m\u001b[0mcheck_response\u001b[0m\u001b[1;33m(\u001b[0m\u001b[0mresponse\u001b[0m\u001b[1;33m)\u001b[0m\u001b[1;33m\u001b[0m\u001b[1;33m\u001b[0m\u001b[0m\n\u001b[0m\u001b[0;32m    425\u001b[0m             response['value'] = self._unwrap_value(\n\u001b[0;32m    426\u001b[0m                 response.get('value', None))\n",
      "\u001b[1;32m~\\anaconda3\\lib\\site-packages\\selenium\\webdriver\\remote\\errorhandler.py\u001b[0m in \u001b[0;36mcheck_response\u001b[1;34m(self, response)\u001b[0m\n\u001b[0;32m    245\u001b[0m                 \u001b[0malert_text\u001b[0m \u001b[1;33m=\u001b[0m \u001b[0mvalue\u001b[0m\u001b[1;33m[\u001b[0m\u001b[1;34m'alert'\u001b[0m\u001b[1;33m]\u001b[0m\u001b[1;33m.\u001b[0m\u001b[0mget\u001b[0m\u001b[1;33m(\u001b[0m\u001b[1;34m'text'\u001b[0m\u001b[1;33m)\u001b[0m\u001b[1;33m\u001b[0m\u001b[1;33m\u001b[0m\u001b[0m\n\u001b[0;32m    246\u001b[0m             \u001b[1;32mraise\u001b[0m \u001b[0mexception_class\u001b[0m\u001b[1;33m(\u001b[0m\u001b[0mmessage\u001b[0m\u001b[1;33m,\u001b[0m \u001b[0mscreen\u001b[0m\u001b[1;33m,\u001b[0m \u001b[0mstacktrace\u001b[0m\u001b[1;33m,\u001b[0m \u001b[0malert_text\u001b[0m\u001b[1;33m)\u001b[0m  \u001b[1;31m# type: ignore[call-arg]  # mypy is not smart enough here\u001b[0m\u001b[1;33m\u001b[0m\u001b[1;33m\u001b[0m\u001b[0m\n\u001b[1;32m--> 247\u001b[1;33m         \u001b[1;32mraise\u001b[0m \u001b[0mexception_class\u001b[0m\u001b[1;33m(\u001b[0m\u001b[0mmessage\u001b[0m\u001b[1;33m,\u001b[0m \u001b[0mscreen\u001b[0m\u001b[1;33m,\u001b[0m \u001b[0mstacktrace\u001b[0m\u001b[1;33m)\u001b[0m\u001b[1;33m\u001b[0m\u001b[1;33m\u001b[0m\u001b[0m\n\u001b[0m\u001b[0;32m    248\u001b[0m \u001b[1;33m\u001b[0m\u001b[0m\n\u001b[0;32m    249\u001b[0m     \u001b[1;32mdef\u001b[0m \u001b[0m_value_or_default\u001b[0m\u001b[1;33m(\u001b[0m\u001b[0mself\u001b[0m\u001b[1;33m,\u001b[0m \u001b[0mobj\u001b[0m\u001b[1;33m:\u001b[0m \u001b[0mMapping\u001b[0m\u001b[1;33m[\u001b[0m\u001b[0m_KT\u001b[0m\u001b[1;33m,\u001b[0m \u001b[0m_VT\u001b[0m\u001b[1;33m]\u001b[0m\u001b[1;33m,\u001b[0m \u001b[0mkey\u001b[0m\u001b[1;33m:\u001b[0m \u001b[0m_KT\u001b[0m\u001b[1;33m,\u001b[0m \u001b[0mdefault\u001b[0m\u001b[1;33m:\u001b[0m \u001b[0m_VT\u001b[0m\u001b[1;33m)\u001b[0m \u001b[1;33m->\u001b[0m \u001b[0m_VT\u001b[0m\u001b[1;33m:\u001b[0m\u001b[1;33m\u001b[0m\u001b[1;33m\u001b[0m\u001b[0m\n",
      "\u001b[1;31mNoSuchElementException\u001b[0m: Message: no such element: Unable to locate element: {\"method\":\"xpath\",\"selector\":\"//*[@id=\"REVIEW\"]/div/div[3]/div/div[2]/div/div/a[12]\"}\n  (Session info: chrome=101.0.4951.54)\nStacktrace:\nBacktrace:\n\tOrdinal0 [0x004A7413+2389011]\n\tOrdinal0 [0x00439F61+1941345]\n\tOrdinal0 [0x0032C658+837208]\n\tOrdinal0 [0x003591DD+1020381]\n\tOrdinal0 [0x0035949B+1021083]\n\tOrdinal0 [0x00386032+1204274]\n\tOrdinal0 [0x00374194+1130900]\n\tOrdinal0 [0x00384302+1196802]\n\tOrdinal0 [0x00373F66+1130342]\n\tOrdinal0 [0x0034E546+976198]\n\tOrdinal0 [0x0034F456+980054]\n\tGetHandleVerifier [0x00659632+1727522]\n\tGetHandleVerifier [0x0070BA4D+2457661]\n\tGetHandleVerifier [0x0053EB81+569713]\n\tGetHandleVerifier [0x0053DD76+566118]\n\tOrdinal0 [0x00440B2B+1968939]\n\tOrdinal0 [0x00445988+1989000]\n\tOrdinal0 [0x00445A75+1989237]\n\tOrdinal0 [0x0044ECB1+2026673]\n\tBaseThreadInitThunk [0x75AFFA29+25]\n\tRtlGetAppContainerNamedObjectPath [0x77C77A7E+286]\n\tRtlGetAppContainerNamedObjectPath [0x77C77A4E+238]\n"
     ]
    }
   ],
   "source": [
    "pages_num = len(driver.find_elements(By.XPATH,'//*[@id=\"REVIEW\"]/div/div[3]/div/div[2]/div/div/a'))-1\n",
    "for i in range(pages_num):\n",
    "    path_review = '//*[@id=\"REVIEW\"]/div/div[3]/div/div[2]/div/div/a[{0}]'.format(i+2)\n",
    "    driver.find_element(By.XPATH,path_review).click()\n",
    "    time.sleep(2)\n",
    "    if driver.find_element(By.XPATH,path_review).text // 10 == 1:\n",
    "        break"
   ]
  },
  {
   "cell_type": "code",
   "execution_count": null,
   "metadata": {},
   "outputs": [],
   "source": [
    "//*[@id=\"REVIEW\"]/div/div[3]/div/div[2]/div/div/a[6]\n",
    "//*[@id=\"REVIEW\"]/div/div[3]/div/div[2]/div/div/a[{0}]"
   ]
  },
  {
   "cell_type": "code",
   "execution_count": null,
   "metadata": {},
   "outputs": [],
   "source": []
  },
  {
   "cell_type": "code",
   "execution_count": 147,
   "metadata": {},
   "outputs": [],
   "source": [
    "pages=driver.find_elements(By.XPATH,'//*[@id=\"REVIEW\"]/div/div[3]/div/div[2]/div/div')[0]\n",
    "# driver.find_element(By.XPATH,'//*[@id=\"REVIEW\"]/div/div[3]/div/div[2]/div/div/a[2]').text\n"
   ]
  },
  {
   "cell_type": "code",
   "execution_count": 162,
   "metadata": {},
   "outputs": [
    {
     "data": {
      "text/plain": [
       "0"
      ]
     },
     "execution_count": 162,
     "metadata": {},
     "output_type": "execute_result"
    }
   ],
   "source": [
    "8//10"
   ]
  },
  {
   "cell_type": "code",
   "execution_count": 148,
   "metadata": {},
   "outputs": [
    {
     "data": {
      "text/plain": [
       "[<selenium.webdriver.remote.webelement.WebElement (session=\"cbbf9e35f2dbd4b88b1d8926d4e29f8c\", element=\"f5cf15de-c4a6-4bd5-8d4c-93dd26e30859\")>]"
      ]
     },
     "execution_count": 148,
     "metadata": {},
     "output_type": "execute_result"
    }
   ],
   "source": [
    "driver.find_elements(By.XPATH,'//*[@id=\"REVIEW\"]/div/div[3]/div/div[2]/ul/li[1]/div/div[1]/div/div[1]/div/div[1]/div[2]/div/span')\n",
    "# //*[@id=\"REVIEW\"]/div/div[3]/div/div[2]/ul/li[2]/div/div[2]/div[2]/div[2]/p\n",
    "# //*[@id=\"REVIEW\"]/div/div[3]/div/div[2]/ul/li[1]/div/div[1]/div/div[1]/div/div[1]/div[2]/div/span"
   ]
  },
  {
   "cell_type": "code",
   "execution_count": null,
   "metadata": {},
   "outputs": [
    {
     "data": {
      "text/plain": [
       "0"
      ]
     },
     "metadata": {},
     "output_type": "display_data"
    }
   ],
   "source": [
    "8//10"
   ]
  },
  {
   "cell_type": "markdown",
   "metadata": {},
   "source": [
    "# 셀레니움으로 dirve 지정된 탭을 옮기고 닫을수 있게 하기"
   ]
  },
  {
   "cell_type": "code",
   "execution_count": 72,
   "metadata": {},
   "outputs": [
    {
     "name": "stdout",
     "output_type": "stream",
     "text": [
      "['CDwindow-4C4994C54369DA9E6A090A00EA26764E', 'CDwindow-799523494BDA96E1DC59981957C5A0F7']\n"
     ]
    }
   ],
   "source": [
    "from selenium import webdriver\n",
    "import time\n",
    "\n",
    "driver = webdriver.Chrome()\n",
    "\n",
    "driver.get('https://google.com')\n",
    "time.sleep(1)\n",
    "\n",
    "driver.execute_script('window.open(\"https://naver.com\");')\n",
    "time.sleep(1)\n",
    "driver.switch_to.window(driver.window_handles[1])\n",
    "time.sleep(1)\n",
    "\n",
    "driver.close()\n",
    "\n",
    "print(driver.window_handles)"
   ]
  },
  {
   "cell_type": "code",
   "execution_count": 167,
   "metadata": {},
   "outputs": [
    {
     "ename": "IndexError",
     "evalue": "list index out of range",
     "output_type": "error",
     "traceback": [
      "\u001b[1;31m---------------------------------------------------------------------------\u001b[0m",
      "\u001b[1;31mIndexError\u001b[0m                                Traceback (most recent call last)",
      "\u001b[1;32m~\\AppData\\Local\\Temp/ipykernel_2980/1676381384.py\u001b[0m in \u001b[0;36m<module>\u001b[1;34m\u001b[0m\n\u001b[0;32m      2\u001b[0m \u001b[1;31m# driver.find_elements(By.XPATH,'//*[@id=\"REVIEW\"]/div/div[3]/div/div[2]/ul/li[1]/div/div/div/div[1]/div/div/div[2]/div')[0].text\u001b[0m\u001b[1;33m\u001b[0m\u001b[1;33m\u001b[0m\u001b[0m\n\u001b[0;32m      3\u001b[0m \u001b[1;31m# //*[@id=\"REVIEW\"]/div/div[3]/div/div[2]/ul/li[2]/div/div/div/div[1]/div/div/div[2]/div\u001b[0m\u001b[1;33m\u001b[0m\u001b[1;33m\u001b[0m\u001b[0m\n\u001b[1;32m----> 4\u001b[1;33m \u001b[0mdriver\u001b[0m\u001b[1;33m.\u001b[0m\u001b[0mfind_elements\u001b[0m\u001b[1;33m(\u001b[0m\u001b[0mBy\u001b[0m\u001b[1;33m.\u001b[0m\u001b[0mXPATH\u001b[0m\u001b[1;33m,\u001b[0m\u001b[1;34m'//*[@id=\"REVIEW\"]/div/div[3]/div/div[2]/ul/li[1]/div/div/div/div[1]/div/div/div[2]/div'\u001b[0m\u001b[1;33m)\u001b[0m\u001b[1;33m[\u001b[0m\u001b[1;36m0\u001b[0m\u001b[1;33m]\u001b[0m\u001b[1;33m.\u001b[0m\u001b[0mtext\u001b[0m\u001b[1;33m\u001b[0m\u001b[1;33m\u001b[0m\u001b[0m\n\u001b[0m\u001b[0;32m      5\u001b[0m \u001b[1;33m\u001b[0m\u001b[0m\n\u001b[0;32m      6\u001b[0m \u001b[1;31m# driver.find_element(By.XPATH,'//*[@id=\"REVIEW\"]/div/div[3]/div/div[2]/ul/li[1]/div/div[1]/div/div[1]/div/div/div[2]').text\u001b[0m\u001b[1;33m\u001b[0m\u001b[1;33m\u001b[0m\u001b[0m\n",
      "\u001b[1;31mIndexError\u001b[0m: list index out of range"
     ]
    }
   ],
   "source": [
    "# //*[@id=\"REVIEW\"]/div/div[3]/div/div[2]/ul/li[1]/div/div[1]/div/div[1]/div/div/div[2]/div/span[2]/text()\n",
    "# driver.find_elements(By.XPATH,'//*[@id=\"REVIEW\"]/div/div[3]/div/div[2]/ul/li[1]/div/div/div/div[1]/div/div/div[2]/div')[0].text\n",
    "# //*[@id=\"REVIEW\"]/div/div[3]/div/div[2]/ul/li[2]/div/div/div/div[1]/div/div/div[2]/div\n",
    "driver.find_elements(By.XPATH,'//*[@id=\"REVIEW\"]/div/div[3]/div/div[2]/ul/li[1]/div/div/div/div[1]/div/div/div[2]/div')[0].text\n",
    "//*[@id=\"REVIEW\"]/div/div[3]/div/div[2]/ul/li[1]/div/div[1]/div/div[1]/div/div[1]/div[2]/div/span/text()\n",
    "# driver.find_element(By.XPATH,'//*[@id=\"REVIEW\"]/div/div[3]/div/div[2]/ul/li[1]/div/div[1]/div/div[1]/div/div/div[2]').text\n",
    "\n",
    "# driver.find_element(By.XPATH,'//*[@id=\"REVIEW\"]/div/div[3]/div/div[2]/ul/li[6]/div/div/div/div[1]/div/div[1]/div[2]').text\n",
    "\n"
   ]
  },
  {
   "cell_type": "code",
   "execution_count": null,
   "metadata": {},
   "outputs": [],
   "source": []
  },
  {
   "cell_type": "code",
   "execution_count": null,
   "metadata": {},
   "outputs": [],
   "source": []
  },
  {
   "cell_type": "code",
   "execution_count": null,
   "metadata": {},
   "outputs": [],
   "source": []
  },
  {
   "cell_type": "code",
   "execution_count": 59,
   "metadata": {},
   "outputs": [],
   "source": [
    "from bs4 import BeautifulSoup\n",
    "from selenium import webdriver \n",
    "import pandas as pd\n",
    "from tqdm.notebook import tqdm\n",
    "import time\n",
    "import re\n",
    "import sys\n",
    "from selenium.webdriver.common.keys import Keys #키보드 키를 제어하는 라이브러리\n",
    "keys = Keys()"
   ]
  },
  {
   "cell_type": "code",
   "execution_count": 60,
   "metadata": {},
   "outputs": [],
   "source": [
    "word = '칫솔'\n",
    "url ='https://search.shopping.naver.com/search/all?frm=NVSHATC&origQuery=%EC%B9%AB%EC%86%94&pagingIndex=1&pagingSize=40&productSet=total&query='+word+'&sort=rel&timestamp=&viewType=list'    #카카오페이지 웹툰 가져오기\n",
    "driver = webdriver.Chrome()\n",
    "driver.get(url)\n",
    "time.sleep(2)"
   ]
  },
  {
   "cell_type": "code",
   "execution_count": 20,
   "metadata": {},
   "outputs": [
    {
     "name": "stderr",
     "output_type": "stream",
     "text": [
      "C:\\Users\\User\\AppData\\Local\\Temp/ipykernel_7968/3239546969.py:9: DeprecationWarning: find_element_by_* commands are deprecated. Please use find_element() instead\n",
      "  driver.find_element_by_css_selector('#REVIEW > div > div._2y6yIawL6t > div > div.cv6id6JEkg > div > div > '+str(pagenum)+'').send_keys(keys.ENTER)\n"
     ]
    },
    {
     "ename": "NoSuchElementException",
     "evalue": "Message: no such element: Unable to locate element: {\"method\":\"css selector\",\"selector\":\"#REVIEW > div > div._2y6yIawL6t > div > div.cv6id6JEkg > div > div > a:nth-child(2)\"}\n  (Session info: chrome=101.0.4951.54)\nStacktrace:\nBacktrace:\n\tOrdinal0 [0x004A7413+2389011]\n\tOrdinal0 [0x00439F61+1941345]\n\tOrdinal0 [0x0032C658+837208]\n\tOrdinal0 [0x003591DD+1020381]\n\tOrdinal0 [0x0035949B+1021083]\n\tOrdinal0 [0x00386032+1204274]\n\tOrdinal0 [0x00374194+1130900]\n\tOrdinal0 [0x00384302+1196802]\n\tOrdinal0 [0x00373F66+1130342]\n\tOrdinal0 [0x0034E546+976198]\n\tOrdinal0 [0x0034F456+980054]\n\tGetHandleVerifier [0x00659632+1727522]\n\tGetHandleVerifier [0x0070BA4D+2457661]\n\tGetHandleVerifier [0x0053EB81+569713]\n\tGetHandleVerifier [0x0053DD76+566118]\n\tOrdinal0 [0x00440B2B+1968939]\n\tOrdinal0 [0x00445988+1989000]\n\tOrdinal0 [0x00445A75+1989237]\n\tOrdinal0 [0x0044ECB1+2026673]\n\tBaseThreadInitThunk [0x75AFFA29+25]\n\tRtlGetAppContainerNamedObjectPath [0x77C77A7E+286]\n\tRtlGetAppContainerNamedObjectPath [0x77C77A4E+238]\n",
     "output_type": "error",
     "traceback": [
      "\u001b[1;31m---------------------------------------------------------------------------\u001b[0m",
      "\u001b[1;31mNoSuchElementException\u001b[0m                    Traceback (most recent call last)",
      "\u001b[1;32m~\\AppData\\Local\\Temp/ipykernel_7968/3239546969.py\u001b[0m in \u001b[0;36m<module>\u001b[1;34m\u001b[0m\n\u001b[0;32m      7\u001b[0m \u001b[1;32mwhile\u001b[0m \u001b[0mcount\u001b[0m \u001b[1;33m<\u001b[0m \u001b[0mstop\u001b[0m\u001b[1;33m:\u001b[0m\u001b[1;33m\u001b[0m\u001b[1;33m\u001b[0m\u001b[0m\n\u001b[0;32m      8\u001b[0m     \u001b[1;32mfor\u001b[0m \u001b[0mpagenum\u001b[0m \u001b[1;32min\u001b[0m \u001b[0mnext_btn\u001b[0m\u001b[1;33m:\u001b[0m\u001b[1;33m\u001b[0m\u001b[1;33m\u001b[0m\u001b[0m\n\u001b[1;32m----> 9\u001b[1;33m         \u001b[0mdriver\u001b[0m\u001b[1;33m.\u001b[0m\u001b[0mfind_element_by_css_selector\u001b[0m\u001b[1;33m(\u001b[0m\u001b[1;34m'#REVIEW > div > div._2y6yIawL6t > div > div.cv6id6JEkg > div > div > '\u001b[0m\u001b[1;33m+\u001b[0m\u001b[0mstr\u001b[0m\u001b[1;33m(\u001b[0m\u001b[0mpagenum\u001b[0m\u001b[1;33m)\u001b[0m\u001b[1;33m+\u001b[0m\u001b[1;34m''\u001b[0m\u001b[1;33m)\u001b[0m\u001b[1;33m.\u001b[0m\u001b[0msend_keys\u001b[0m\u001b[1;33m(\u001b[0m\u001b[0mkeys\u001b[0m\u001b[1;33m.\u001b[0m\u001b[0mENTER\u001b[0m\u001b[1;33m)\u001b[0m\u001b[1;33m\u001b[0m\u001b[1;33m\u001b[0m\u001b[0m\n\u001b[0m\u001b[0;32m     10\u001b[0m         \u001b[0mtime\u001b[0m\u001b[1;33m.\u001b[0m\u001b[0msleep\u001b[0m\u001b[1;33m(\u001b[0m\u001b[1;36m2\u001b[0m\u001b[1;33m)\u001b[0m\u001b[1;33m\u001b[0m\u001b[1;33m\u001b[0m\u001b[0m\n\u001b[0;32m     11\u001b[0m         \u001b[1;32mfor\u001b[0m \u001b[0mi\u001b[0m \u001b[1;32min\u001b[0m \u001b[0mrange\u001b[0m\u001b[1;33m(\u001b[0m\u001b[1;36m0\u001b[0m\u001b[1;33m,\u001b[0m\u001b[1;36m20\u001b[0m\u001b[1;33m)\u001b[0m\u001b[1;33m:\u001b[0m\u001b[1;33m\u001b[0m\u001b[1;33m\u001b[0m\u001b[0m\n",
      "\u001b[1;32m~\\anaconda3\\lib\\site-packages\\selenium\\webdriver\\remote\\webdriver.py\u001b[0m in \u001b[0;36mfind_element_by_css_selector\u001b[1;34m(self, css_selector)\u001b[0m\n\u001b[0;32m    806\u001b[0m             \u001b[0mstacklevel\u001b[0m\u001b[1;33m=\u001b[0m\u001b[1;36m2\u001b[0m\u001b[1;33m,\u001b[0m\u001b[1;33m\u001b[0m\u001b[1;33m\u001b[0m\u001b[0m\n\u001b[0;32m    807\u001b[0m         )\n\u001b[1;32m--> 808\u001b[1;33m         \u001b[1;32mreturn\u001b[0m \u001b[0mself\u001b[0m\u001b[1;33m.\u001b[0m\u001b[0mfind_element\u001b[0m\u001b[1;33m(\u001b[0m\u001b[0mby\u001b[0m\u001b[1;33m=\u001b[0m\u001b[0mBy\u001b[0m\u001b[1;33m.\u001b[0m\u001b[0mCSS_SELECTOR\u001b[0m\u001b[1;33m,\u001b[0m \u001b[0mvalue\u001b[0m\u001b[1;33m=\u001b[0m\u001b[0mcss_selector\u001b[0m\u001b[1;33m)\u001b[0m\u001b[1;33m\u001b[0m\u001b[1;33m\u001b[0m\u001b[0m\n\u001b[0m\u001b[0;32m    809\u001b[0m \u001b[1;33m\u001b[0m\u001b[0m\n\u001b[0;32m    810\u001b[0m     \u001b[1;32mdef\u001b[0m \u001b[0mfind_elements_by_css_selector\u001b[0m\u001b[1;33m(\u001b[0m\u001b[0mself\u001b[0m\u001b[1;33m,\u001b[0m \u001b[0mcss_selector\u001b[0m\u001b[1;33m)\u001b[0m \u001b[1;33m->\u001b[0m \u001b[0mWebElement\u001b[0m\u001b[1;33m:\u001b[0m\u001b[1;33m\u001b[0m\u001b[1;33m\u001b[0m\u001b[0m\n",
      "\u001b[1;32m~\\anaconda3\\lib\\site-packages\\selenium\\webdriver\\remote\\webdriver.py\u001b[0m in \u001b[0;36mfind_element\u001b[1;34m(self, by, value)\u001b[0m\n\u001b[0;32m   1242\u001b[0m             \u001b[0mvalue\u001b[0m \u001b[1;33m=\u001b[0m \u001b[1;34m'[name=\"%s\"]'\u001b[0m \u001b[1;33m%\u001b[0m \u001b[0mvalue\u001b[0m\u001b[1;33m\u001b[0m\u001b[1;33m\u001b[0m\u001b[0m\n\u001b[0;32m   1243\u001b[0m \u001b[1;33m\u001b[0m\u001b[0m\n\u001b[1;32m-> 1244\u001b[1;33m         return self.execute(Command.FIND_ELEMENT, {\n\u001b[0m\u001b[0;32m   1245\u001b[0m             \u001b[1;34m'using'\u001b[0m\u001b[1;33m:\u001b[0m \u001b[0mby\u001b[0m\u001b[1;33m,\u001b[0m\u001b[1;33m\u001b[0m\u001b[1;33m\u001b[0m\u001b[0m\n\u001b[0;32m   1246\u001b[0m             'value': value})['value']\n",
      "\u001b[1;32m~\\anaconda3\\lib\\site-packages\\selenium\\webdriver\\remote\\webdriver.py\u001b[0m in \u001b[0;36mexecute\u001b[1;34m(self, driver_command, params)\u001b[0m\n\u001b[0;32m    422\u001b[0m         \u001b[0mresponse\u001b[0m \u001b[1;33m=\u001b[0m \u001b[0mself\u001b[0m\u001b[1;33m.\u001b[0m\u001b[0mcommand_executor\u001b[0m\u001b[1;33m.\u001b[0m\u001b[0mexecute\u001b[0m\u001b[1;33m(\u001b[0m\u001b[0mdriver_command\u001b[0m\u001b[1;33m,\u001b[0m \u001b[0mparams\u001b[0m\u001b[1;33m)\u001b[0m\u001b[1;33m\u001b[0m\u001b[1;33m\u001b[0m\u001b[0m\n\u001b[0;32m    423\u001b[0m         \u001b[1;32mif\u001b[0m \u001b[0mresponse\u001b[0m\u001b[1;33m:\u001b[0m\u001b[1;33m\u001b[0m\u001b[1;33m\u001b[0m\u001b[0m\n\u001b[1;32m--> 424\u001b[1;33m             \u001b[0mself\u001b[0m\u001b[1;33m.\u001b[0m\u001b[0merror_handler\u001b[0m\u001b[1;33m.\u001b[0m\u001b[0mcheck_response\u001b[0m\u001b[1;33m(\u001b[0m\u001b[0mresponse\u001b[0m\u001b[1;33m)\u001b[0m\u001b[1;33m\u001b[0m\u001b[1;33m\u001b[0m\u001b[0m\n\u001b[0m\u001b[0;32m    425\u001b[0m             response['value'] = self._unwrap_value(\n\u001b[0;32m    426\u001b[0m                 response.get('value', None))\n",
      "\u001b[1;32m~\\anaconda3\\lib\\site-packages\\selenium\\webdriver\\remote\\errorhandler.py\u001b[0m in \u001b[0;36mcheck_response\u001b[1;34m(self, response)\u001b[0m\n\u001b[0;32m    245\u001b[0m                 \u001b[0malert_text\u001b[0m \u001b[1;33m=\u001b[0m \u001b[0mvalue\u001b[0m\u001b[1;33m[\u001b[0m\u001b[1;34m'alert'\u001b[0m\u001b[1;33m]\u001b[0m\u001b[1;33m.\u001b[0m\u001b[0mget\u001b[0m\u001b[1;33m(\u001b[0m\u001b[1;34m'text'\u001b[0m\u001b[1;33m)\u001b[0m\u001b[1;33m\u001b[0m\u001b[1;33m\u001b[0m\u001b[0m\n\u001b[0;32m    246\u001b[0m             \u001b[1;32mraise\u001b[0m \u001b[0mexception_class\u001b[0m\u001b[1;33m(\u001b[0m\u001b[0mmessage\u001b[0m\u001b[1;33m,\u001b[0m \u001b[0mscreen\u001b[0m\u001b[1;33m,\u001b[0m \u001b[0mstacktrace\u001b[0m\u001b[1;33m,\u001b[0m \u001b[0malert_text\u001b[0m\u001b[1;33m)\u001b[0m  \u001b[1;31m# type: ignore[call-arg]  # mypy is not smart enough here\u001b[0m\u001b[1;33m\u001b[0m\u001b[1;33m\u001b[0m\u001b[0m\n\u001b[1;32m--> 247\u001b[1;33m         \u001b[1;32mraise\u001b[0m \u001b[0mexception_class\u001b[0m\u001b[1;33m(\u001b[0m\u001b[0mmessage\u001b[0m\u001b[1;33m,\u001b[0m \u001b[0mscreen\u001b[0m\u001b[1;33m,\u001b[0m \u001b[0mstacktrace\u001b[0m\u001b[1;33m)\u001b[0m\u001b[1;33m\u001b[0m\u001b[1;33m\u001b[0m\u001b[0m\n\u001b[0m\u001b[0;32m    248\u001b[0m \u001b[1;33m\u001b[0m\u001b[0m\n\u001b[0;32m    249\u001b[0m     \u001b[1;32mdef\u001b[0m \u001b[0m_value_or_default\u001b[0m\u001b[1;33m(\u001b[0m\u001b[0mself\u001b[0m\u001b[1;33m,\u001b[0m \u001b[0mobj\u001b[0m\u001b[1;33m:\u001b[0m \u001b[0mMapping\u001b[0m\u001b[1;33m[\u001b[0m\u001b[0m_KT\u001b[0m\u001b[1;33m,\u001b[0m \u001b[0m_VT\u001b[0m\u001b[1;33m]\u001b[0m\u001b[1;33m,\u001b[0m \u001b[0mkey\u001b[0m\u001b[1;33m:\u001b[0m \u001b[0m_KT\u001b[0m\u001b[1;33m,\u001b[0m \u001b[0mdefault\u001b[0m\u001b[1;33m:\u001b[0m \u001b[0m_VT\u001b[0m\u001b[1;33m)\u001b[0m \u001b[1;33m->\u001b[0m \u001b[0m_VT\u001b[0m\u001b[1;33m:\u001b[0m\u001b[1;33m\u001b[0m\u001b[1;33m\u001b[0m\u001b[0m\n",
      "\u001b[1;31mNoSuchElementException\u001b[0m: Message: no such element: Unable to locate element: {\"method\":\"css selector\",\"selector\":\"#REVIEW > div > div._2y6yIawL6t > div > div.cv6id6JEkg > div > div > a:nth-child(2)\"}\n  (Session info: chrome=101.0.4951.54)\nStacktrace:\nBacktrace:\n\tOrdinal0 [0x004A7413+2389011]\n\tOrdinal0 [0x00439F61+1941345]\n\tOrdinal0 [0x0032C658+837208]\n\tOrdinal0 [0x003591DD+1020381]\n\tOrdinal0 [0x0035949B+1021083]\n\tOrdinal0 [0x00386032+1204274]\n\tOrdinal0 [0x00374194+1130900]\n\tOrdinal0 [0x00384302+1196802]\n\tOrdinal0 [0x00373F66+1130342]\n\tOrdinal0 [0x0034E546+976198]\n\tOrdinal0 [0x0034F456+980054]\n\tGetHandleVerifier [0x00659632+1727522]\n\tGetHandleVerifier [0x0070BA4D+2457661]\n\tGetHandleVerifier [0x0053EB81+569713]\n\tGetHandleVerifier [0x0053DD76+566118]\n\tOrdinal0 [0x00440B2B+1968939]\n\tOrdinal0 [0x00445988+1989000]\n\tOrdinal0 [0x00445A75+1989237]\n\tOrdinal0 [0x0044ECB1+2026673]\n\tBaseThreadInitThunk [0x75AFFA29+25]\n\tRtlGetAppContainerNamedObjectPath [0x77C77A7E+286]\n\tRtlGetAppContainerNamedObjectPath [0x77C77A4E+238]\n"
     ]
    }
   ],
   "source": [
    "from selenium import webdriver \n",
    "count = 0\n",
    "stop = int(input(\"몇 세트 크롤링 할까요?(1-11페이지가 한세트: \"))\n",
    "next_btn = ['a:nth-child(2)', 'a:nth-child(3)']\n",
    "review_list = []\n",
    "\n",
    "while count < stop:\n",
    "    for pagenum in next_btn:\n",
    "        driver.find_element_by_css_selector('#REVIEW > div > div._2y6yIawL6t > div > div.cv6id6JEkg > div > div > '+str(pagenum)+'').send_keys(keys.ENTER)\n",
    "        time.sleep(2)\n",
    "        for i in range(0,20):\n",
    "            html = driver.page_source\n",
    "            soup = BeautifulSoup(html, \"html.parser\")\n",
    "            review = soup.find_all('div',class_='_1-CNpGwOcC')\n",
    "            review = review[i].text\n",
    "            review = re.sub('[^#0-9a-zA-Zㄱ-ㅣ가-힣 ]',\"\",review)\n",
    "            review_list.append(review)\n",
    "    count = count + 1\n",
    "\n",
    "\n",
    "review_list"
   ]
  },
  {
   "cell_type": "code",
   "execution_count": 61,
   "metadata": {},
   "outputs": [
    {
     "ename": "NoSuchElementException",
     "evalue": "Message: no such element: Unable to locate element: {\"method\":\"css selector\",\"selector\":\" div.cv6id6JEkg > div > div > a:nth-child(2)\"}\n  (Session info: chrome=101.0.4951.54)\nStacktrace:\nBacktrace:\n\tOrdinal0 [0x004A7413+2389011]\n\tOrdinal0 [0x00439F61+1941345]\n\tOrdinal0 [0x0032C658+837208]\n\tOrdinal0 [0x003591DD+1020381]\n\tOrdinal0 [0x0035949B+1021083]\n\tOrdinal0 [0x00386032+1204274]\n\tOrdinal0 [0x00374194+1130900]\n\tOrdinal0 [0x00384302+1196802]\n\tOrdinal0 [0x00373F66+1130342]\n\tOrdinal0 [0x0034E546+976198]\n\tOrdinal0 [0x0034F456+980054]\n\tGetHandleVerifier [0x00659632+1727522]\n\tGetHandleVerifier [0x0070BA4D+2457661]\n\tGetHandleVerifier [0x0053EB81+569713]\n\tGetHandleVerifier [0x0053DD76+566118]\n\tOrdinal0 [0x00440B2B+1968939]\n\tOrdinal0 [0x00445988+1989000]\n\tOrdinal0 [0x00445A75+1989237]\n\tOrdinal0 [0x0044ECB1+2026673]\n\tBaseThreadInitThunk [0x75AFFA29+25]\n\tRtlGetAppContainerNamedObjectPath [0x77C77A7E+286]\n\tRtlGetAppContainerNamedObjectPath [0x77C77A4E+238]\n",
     "output_type": "error",
     "traceback": [
      "\u001b[1;31m---------------------------------------------------------------------------\u001b[0m",
      "\u001b[1;31mNoSuchElementException\u001b[0m                    Traceback (most recent call last)",
      "\u001b[1;32m~\\AppData\\Local\\Temp/ipykernel_17812/2168761410.py\u001b[0m in \u001b[0;36m<module>\u001b[1;34m\u001b[0m\n\u001b[0;32m      1\u001b[0m \u001b[0mgathering\u001b[0m \u001b[1;33m=\u001b[0m \u001b[1;33m[\u001b[0m\u001b[1;33m]\u001b[0m\u001b[1;33m\u001b[0m\u001b[1;33m\u001b[0m\u001b[0m\n\u001b[0;32m      2\u001b[0m \u001b[0mx\u001b[0m \u001b[1;33m=\u001b[0m \u001b[1;36m1\u001b[0m\u001b[1;33m\u001b[0m\u001b[1;33m\u001b[0m\u001b[0m\n\u001b[1;32m----> 3\u001b[1;33m \u001b[0mdriver\u001b[0m\u001b[1;33m.\u001b[0m\u001b[0mfind_element\u001b[0m\u001b[1;33m(\u001b[0m\u001b[0mBy\u001b[0m\u001b[1;33m.\u001b[0m\u001b[0mCSS_SELECTOR\u001b[0m\u001b[1;33m,\u001b[0m\u001b[1;34m' div.cv6id6JEkg > div > div > a:nth-child({0})'\u001b[0m\u001b[1;33m.\u001b[0m\u001b[0mformat\u001b[0m\u001b[1;33m(\u001b[0m\u001b[0mx\u001b[0m\u001b[1;33m+\u001b[0m\u001b[1;36m1\u001b[0m\u001b[1;33m)\u001b[0m\u001b[1;33m)\u001b[0m\u001b[1;33m.\u001b[0m\u001b[0mtext\u001b[0m\u001b[1;33m\u001b[0m\u001b[1;33m\u001b[0m\u001b[0m\n\u001b[0m\u001b[0;32m      4\u001b[0m \u001b[1;32mfor\u001b[0m \u001b[0mx\u001b[0m \u001b[1;32min\u001b[0m \u001b[0mrange\u001b[0m\u001b[1;33m(\u001b[0m\u001b[1;36m10\u001b[0m\u001b[1;33m)\u001b[0m\u001b[1;33m:\u001b[0m\u001b[1;33m\u001b[0m\u001b[1;33m\u001b[0m\u001b[0m\n\u001b[0;32m      5\u001b[0m     \u001b[0mgathering\u001b[0m\u001b[1;33m.\u001b[0m\u001b[0mappend\u001b[0m\u001b[1;33m(\u001b[0m\u001b[0mdriver\u001b[0m\u001b[1;33m.\u001b[0m\u001b[0mfind_element\u001b[0m\u001b[1;33m(\u001b[0m\u001b[0mBy\u001b[0m\u001b[1;33m.\u001b[0m\u001b[0mCSS_SELECTOR\u001b[0m\u001b[1;33m,\u001b[0m\u001b[1;34m' div.cv6id6JEkg > div > div > a:nth-child({0})'\u001b[0m\u001b[1;33m.\u001b[0m\u001b[0mformat\u001b[0m\u001b[1;33m(\u001b[0m\u001b[0mx\u001b[0m\u001b[1;33m+\u001b[0m\u001b[1;36m1\u001b[0m\u001b[1;33m)\u001b[0m\u001b[1;33m)\u001b[0m\u001b[1;33m.\u001b[0m\u001b[0mtext\u001b[0m\u001b[1;33m)\u001b[0m\u001b[1;33m\u001b[0m\u001b[1;33m\u001b[0m\u001b[0m\n",
      "\u001b[1;32m~\\anaconda3\\lib\\site-packages\\selenium\\webdriver\\remote\\webdriver.py\u001b[0m in \u001b[0;36mfind_element\u001b[1;34m(self, by, value)\u001b[0m\n\u001b[0;32m   1242\u001b[0m             \u001b[0mvalue\u001b[0m \u001b[1;33m=\u001b[0m \u001b[1;34m'[name=\"%s\"]'\u001b[0m \u001b[1;33m%\u001b[0m \u001b[0mvalue\u001b[0m\u001b[1;33m\u001b[0m\u001b[1;33m\u001b[0m\u001b[0m\n\u001b[0;32m   1243\u001b[0m \u001b[1;33m\u001b[0m\u001b[0m\n\u001b[1;32m-> 1244\u001b[1;33m         return self.execute(Command.FIND_ELEMENT, {\n\u001b[0m\u001b[0;32m   1245\u001b[0m             \u001b[1;34m'using'\u001b[0m\u001b[1;33m:\u001b[0m \u001b[0mby\u001b[0m\u001b[1;33m,\u001b[0m\u001b[1;33m\u001b[0m\u001b[1;33m\u001b[0m\u001b[0m\n\u001b[0;32m   1246\u001b[0m             'value': value})['value']\n",
      "\u001b[1;32m~\\anaconda3\\lib\\site-packages\\selenium\\webdriver\\remote\\webdriver.py\u001b[0m in \u001b[0;36mexecute\u001b[1;34m(self, driver_command, params)\u001b[0m\n\u001b[0;32m    422\u001b[0m         \u001b[0mresponse\u001b[0m \u001b[1;33m=\u001b[0m \u001b[0mself\u001b[0m\u001b[1;33m.\u001b[0m\u001b[0mcommand_executor\u001b[0m\u001b[1;33m.\u001b[0m\u001b[0mexecute\u001b[0m\u001b[1;33m(\u001b[0m\u001b[0mdriver_command\u001b[0m\u001b[1;33m,\u001b[0m \u001b[0mparams\u001b[0m\u001b[1;33m)\u001b[0m\u001b[1;33m\u001b[0m\u001b[1;33m\u001b[0m\u001b[0m\n\u001b[0;32m    423\u001b[0m         \u001b[1;32mif\u001b[0m \u001b[0mresponse\u001b[0m\u001b[1;33m:\u001b[0m\u001b[1;33m\u001b[0m\u001b[1;33m\u001b[0m\u001b[0m\n\u001b[1;32m--> 424\u001b[1;33m             \u001b[0mself\u001b[0m\u001b[1;33m.\u001b[0m\u001b[0merror_handler\u001b[0m\u001b[1;33m.\u001b[0m\u001b[0mcheck_response\u001b[0m\u001b[1;33m(\u001b[0m\u001b[0mresponse\u001b[0m\u001b[1;33m)\u001b[0m\u001b[1;33m\u001b[0m\u001b[1;33m\u001b[0m\u001b[0m\n\u001b[0m\u001b[0;32m    425\u001b[0m             response['value'] = self._unwrap_value(\n\u001b[0;32m    426\u001b[0m                 response.get('value', None))\n",
      "\u001b[1;32m~\\anaconda3\\lib\\site-packages\\selenium\\webdriver\\remote\\errorhandler.py\u001b[0m in \u001b[0;36mcheck_response\u001b[1;34m(self, response)\u001b[0m\n\u001b[0;32m    245\u001b[0m                 \u001b[0malert_text\u001b[0m \u001b[1;33m=\u001b[0m \u001b[0mvalue\u001b[0m\u001b[1;33m[\u001b[0m\u001b[1;34m'alert'\u001b[0m\u001b[1;33m]\u001b[0m\u001b[1;33m.\u001b[0m\u001b[0mget\u001b[0m\u001b[1;33m(\u001b[0m\u001b[1;34m'text'\u001b[0m\u001b[1;33m)\u001b[0m\u001b[1;33m\u001b[0m\u001b[1;33m\u001b[0m\u001b[0m\n\u001b[0;32m    246\u001b[0m             \u001b[1;32mraise\u001b[0m \u001b[0mexception_class\u001b[0m\u001b[1;33m(\u001b[0m\u001b[0mmessage\u001b[0m\u001b[1;33m,\u001b[0m \u001b[0mscreen\u001b[0m\u001b[1;33m,\u001b[0m \u001b[0mstacktrace\u001b[0m\u001b[1;33m,\u001b[0m \u001b[0malert_text\u001b[0m\u001b[1;33m)\u001b[0m  \u001b[1;31m# type: ignore[call-arg]  # mypy is not smart enough here\u001b[0m\u001b[1;33m\u001b[0m\u001b[1;33m\u001b[0m\u001b[0m\n\u001b[1;32m--> 247\u001b[1;33m         \u001b[1;32mraise\u001b[0m \u001b[0mexception_class\u001b[0m\u001b[1;33m(\u001b[0m\u001b[0mmessage\u001b[0m\u001b[1;33m,\u001b[0m \u001b[0mscreen\u001b[0m\u001b[1;33m,\u001b[0m \u001b[0mstacktrace\u001b[0m\u001b[1;33m)\u001b[0m\u001b[1;33m\u001b[0m\u001b[1;33m\u001b[0m\u001b[0m\n\u001b[0m\u001b[0;32m    248\u001b[0m \u001b[1;33m\u001b[0m\u001b[0m\n\u001b[0;32m    249\u001b[0m     \u001b[1;32mdef\u001b[0m \u001b[0m_value_or_default\u001b[0m\u001b[1;33m(\u001b[0m\u001b[0mself\u001b[0m\u001b[1;33m,\u001b[0m \u001b[0mobj\u001b[0m\u001b[1;33m:\u001b[0m \u001b[0mMapping\u001b[0m\u001b[1;33m[\u001b[0m\u001b[0m_KT\u001b[0m\u001b[1;33m,\u001b[0m \u001b[0m_VT\u001b[0m\u001b[1;33m]\u001b[0m\u001b[1;33m,\u001b[0m \u001b[0mkey\u001b[0m\u001b[1;33m:\u001b[0m \u001b[0m_KT\u001b[0m\u001b[1;33m,\u001b[0m \u001b[0mdefault\u001b[0m\u001b[1;33m:\u001b[0m \u001b[0m_VT\u001b[0m\u001b[1;33m)\u001b[0m \u001b[1;33m->\u001b[0m \u001b[0m_VT\u001b[0m\u001b[1;33m:\u001b[0m\u001b[1;33m\u001b[0m\u001b[1;33m\u001b[0m\u001b[0m\n",
      "\u001b[1;31mNoSuchElementException\u001b[0m: Message: no such element: Unable to locate element: {\"method\":\"css selector\",\"selector\":\" div.cv6id6JEkg > div > div > a:nth-child(2)\"}\n  (Session info: chrome=101.0.4951.54)\nStacktrace:\nBacktrace:\n\tOrdinal0 [0x004A7413+2389011]\n\tOrdinal0 [0x00439F61+1941345]\n\tOrdinal0 [0x0032C658+837208]\n\tOrdinal0 [0x003591DD+1020381]\n\tOrdinal0 [0x0035949B+1021083]\n\tOrdinal0 [0x00386032+1204274]\n\tOrdinal0 [0x00374194+1130900]\n\tOrdinal0 [0x00384302+1196802]\n\tOrdinal0 [0x00373F66+1130342]\n\tOrdinal0 [0x0034E546+976198]\n\tOrdinal0 [0x0034F456+980054]\n\tGetHandleVerifier [0x00659632+1727522]\n\tGetHandleVerifier [0x0070BA4D+2457661]\n\tGetHandleVerifier [0x0053EB81+569713]\n\tGetHandleVerifier [0x0053DD76+566118]\n\tOrdinal0 [0x00440B2B+1968939]\n\tOrdinal0 [0x00445988+1989000]\n\tOrdinal0 [0x00445A75+1989237]\n\tOrdinal0 [0x0044ECB1+2026673]\n\tBaseThreadInitThunk [0x75AFFA29+25]\n\tRtlGetAppContainerNamedObjectPath [0x77C77A7E+286]\n\tRtlGetAppContainerNamedObjectPath [0x77C77A4E+238]\n"
     ]
    }
   ],
   "source": [
    "gathering = []\n",
    "x = 1\n",
    "driver.find_element(By.CSS_SELECTOR,' div.cv6id6JEkg > div > div > a:nth-child({0})'.format(x+1)).text\n",
    "for x in range(10):\n",
    "    gathering.append(driver.find_element(By.CSS_SELECTOR,' div.cv6id6JEkg > div > div > a:nth-child({0})'.format(x+1)).text)\n",
    "    if x== '':\n",
    "        break"
   ]
  },
  {
   "cell_type": "code",
   "execution_count": null,
   "metadata": {},
   "outputs": [],
   "source": [
    "page_bar = driver.find_element(By.CSS_SELECTOR,' div.cv6id6JEkg > div > div > a:nth-child({0})'.format(x+1))\n",
    "    ##################################################\n",
    "    # % 연산자를 활용해서 조건문을 추가합니다.\n",
    "    # 현재 페이지(n)가 5의 배수가 아닌 경우 n%5+1 페이지 버튼 클릭\n",
    "try:\n",
    "    if x % 5 != 0:\n",
    "        page_bar[x % 10 + 1].click()\n",
    "    else:\n",
    "        page_bar[11].click()\n",
    "except:\n",
    "    print(\"데이터 수집 완료\")\n",
    "    break\n"
   ]
  },
  {
   "cell_type": "code",
   "execution_count": null,
   "metadata": {},
   "outputs": [],
   "source": []
  },
  {
   "cell_type": "code",
   "execution_count": null,
   "metadata": {},
   "outputs": [],
   "source": []
  },
  {
   "cell_type": "code",
   "execution_count": 62,
   "metadata": {},
   "outputs": [],
   "source": [
    "df = pd.DataFrame(aaaa)"
   ]
  },
  {
   "cell_type": "code",
   "execution_count": 72,
   "metadata": {},
   "outputs": [],
   "source": [
    "df2 = df.replace('\\n',' ')"
   ]
  },
  {
   "cell_type": "code",
   "execution_count": 73,
   "metadata": {},
   "outputs": [
    {
     "data": {
      "text/html": [
       "<div>\n",
       "<style scoped>\n",
       "    .dataframe tbody tr th:only-of-type {\n",
       "        vertical-align: middle;\n",
       "    }\n",
       "\n",
       "    .dataframe tbody tr th {\n",
       "        vertical-align: top;\n",
       "    }\n",
       "\n",
       "    .dataframe thead th {\n",
       "        text-align: right;\n",
       "    }\n",
       "</style>\n",
       "<table border=\"1\" class=\"dataframe\">\n",
       "  <thead>\n",
       "    <tr style=\"text-align: right;\">\n",
       "      <th></th>\n",
       "      <th>0</th>\n",
       "    </tr>\n",
       "  </thead>\n",
       "  <tbody>\n",
       "    <tr>\n",
       "      <th>0</th>\n",
       "      <td>잇몸이 좋지않아 이것저것 써보던 중 무진동이라해서 구매해봤습니다. 잇몸이 약해지면서...</td>\n",
       "    </tr>\n",
       "    <tr>\n",
       "      <th>1</th>\n",
       "      <td>사무실에 두고 사용하려고 구매했어요!\\n진동이느껴지지 않아서 자극없어요!\\n3개월주...</td>\n",
       "    </tr>\n",
       "    <tr>\n",
       "      <th>2</th>\n",
       "      <td>구매후 1주일 가량 사용해본 결과 치태제거는 아직 잘 모르겠으나 잇몸 염증에는 확실...</td>\n",
       "    </tr>\n",
       "    <tr>\n",
       "      <th>3</th>\n",
       "      <td>이제 2일째 쓰는거라 치태제거 등은 잘 모르겠지만.. 칫솔모는 부드러워서 사용하기 ...</td>\n",
       "    </tr>\n",
       "    <tr>\n",
       "      <th>4</th>\n",
       "      <td>한달사용기장점: 치아가 뽀드득 닦이는 느낌, 단기간에 효과를 판단하기 어렵지만 관리...</td>\n",
       "    </tr>\n",
       "    <tr>\n",
       "      <th>5</th>\n",
       "      <td>쓰기전이지만 디자인은맘에드네요.비싼만큼 값어치하길</td>\n",
       "    </tr>\n",
       "    <tr>\n",
       "      <th>6</th>\n",
       "      <td>이번에 칫솔를 바꾸면서 구매했습니다 \\n미세 전류라길래 어떤가 싶어 호기심에 샀는데...</td>\n",
       "    </tr>\n",
       "    <tr>\n",
       "      <th>7</th>\n",
       "      <td>어렸을 때부터 치아가 굉장히 약하고 예민해서 칫솔도 아무거나 못쓰는 타입이었는데 한...</td>\n",
       "    </tr>\n",
       "    <tr>\n",
       "      <th>8</th>\n",
       "      <td>배송 완전 빠르네요. 주문하고 다음날 바로 받았아요^^ \\n평소 윗몸이 안 좋아 윗...</td>\n",
       "    </tr>\n",
       "    <tr>\n",
       "      <th>9</th>\n",
       "      <td>요즘 이가 점점 시리더니 염증까지 난리였는데 \\n미세전류칫솔 이거사고 잇몸이 케어가...</td>\n",
       "    </tr>\n",
       "    <tr>\n",
       "      <th>10</th>\n",
       "      <td>호불호가 갈린다는데 저는 만족합니다\\n드라마틱하진 않지만 먼가 조금씩 좋아지는 느낌입니다</td>\n",
       "    </tr>\n",
       "    <tr>\n",
       "      <th>11</th>\n",
       "      <td>부드럽게 잘 사용할 수 있어서 양치질 할 때 도움이 많이 되는 것\\n같아요 소재도 ...</td>\n",
       "    </tr>\n",
       "    <tr>\n",
       "      <th>12</th>\n",
       "      <td>칫솔모가 두껍고 단단해서 좋아요 이를 좀험하게 닦는편이라 안좋으면\\n잇몸에서 피나구...</td>\n",
       "    </tr>\n",
       "    <tr>\n",
       "      <th>13</th>\n",
       "      <td>잇몸이 약한 편이라 진동없이 미세전류 만으로 양치를 깨끗하게 할수 있어 좋네요 가벼...</td>\n",
       "    </tr>\n",
       "    <tr>\n",
       "      <th>14</th>\n",
       "      <td>칫솔은닦아도 늘 뭔가찝찝한기분이라서\\n바까봅니다 사용법간단하고 구석구석 잘닦여요\\n...</td>\n",
       "    </tr>\n",
       "    <tr>\n",
       "      <th>15</th>\n",
       "      <td>입안에서 자극적이지 않고 편안하게 사용할 수 있는 제품이라\\n참 좋더라고요 잇몸에 ...</td>\n",
       "    </tr>\n",
       "    <tr>\n",
       "      <th>16</th>\n",
       "      <td>잇몸이 약해서 찾아보다 구매한데여\\n심플한게 사용하기 편하고\\n양치후 절로 상쾌하다...</td>\n",
       "    </tr>\n",
       "    <tr>\n",
       "      <th>17</th>\n",
       "      <td>베송 참 빠르게 오네요 사용하기도 편리하고 무게감도 적당한게\\n참 좋더라고요 잇몸에...</td>\n",
       "    </tr>\n",
       "    <tr>\n",
       "      <th>18</th>\n",
       "      <td>구석에 닦기 힘든 부분까지 편하게 케어? 가능하니 좋네요 남편껏도 하나더 구매하려고...</td>\n",
       "    </tr>\n",
       "    <tr>\n",
       "      <th>19</th>\n",
       "      <td>진동이 아니라 미세 전류로 치아 관리를 해 주는 거라 자극이 없어 좋네요 \\n양치 ...</td>\n",
       "    </tr>\n",
       "  </tbody>\n",
       "</table>\n",
       "</div>"
      ],
      "text/plain": [
       "                                                    0\n",
       "0   잇몸이 좋지않아 이것저것 써보던 중 무진동이라해서 구매해봤습니다. 잇몸이 약해지면서...\n",
       "1   사무실에 두고 사용하려고 구매했어요!\\n진동이느껴지지 않아서 자극없어요!\\n3개월주...\n",
       "2   구매후 1주일 가량 사용해본 결과 치태제거는 아직 잘 모르겠으나 잇몸 염증에는 확실...\n",
       "3   이제 2일째 쓰는거라 치태제거 등은 잘 모르겠지만.. 칫솔모는 부드러워서 사용하기 ...\n",
       "4   한달사용기장점: 치아가 뽀드득 닦이는 느낌, 단기간에 효과를 판단하기 어렵지만 관리...\n",
       "5                         쓰기전이지만 디자인은맘에드네요.비싼만큼 값어치하길\n",
       "6   이번에 칫솔를 바꾸면서 구매했습니다 \\n미세 전류라길래 어떤가 싶어 호기심에 샀는데...\n",
       "7   어렸을 때부터 치아가 굉장히 약하고 예민해서 칫솔도 아무거나 못쓰는 타입이었는데 한...\n",
       "8   배송 완전 빠르네요. 주문하고 다음날 바로 받았아요^^ \\n평소 윗몸이 안 좋아 윗...\n",
       "9   요즘 이가 점점 시리더니 염증까지 난리였는데 \\n미세전류칫솔 이거사고 잇몸이 케어가...\n",
       "10  호불호가 갈린다는데 저는 만족합니다\\n드라마틱하진 않지만 먼가 조금씩 좋아지는 느낌입니다\n",
       "11  부드럽게 잘 사용할 수 있어서 양치질 할 때 도움이 많이 되는 것\\n같아요 소재도 ...\n",
       "12  칫솔모가 두껍고 단단해서 좋아요 이를 좀험하게 닦는편이라 안좋으면\\n잇몸에서 피나구...\n",
       "13  잇몸이 약한 편이라 진동없이 미세전류 만으로 양치를 깨끗하게 할수 있어 좋네요 가벼...\n",
       "14  칫솔은닦아도 늘 뭔가찝찝한기분이라서\\n바까봅니다 사용법간단하고 구석구석 잘닦여요\\n...\n",
       "15  입안에서 자극적이지 않고 편안하게 사용할 수 있는 제품이라\\n참 좋더라고요 잇몸에 ...\n",
       "16  잇몸이 약해서 찾아보다 구매한데여\\n심플한게 사용하기 편하고\\n양치후 절로 상쾌하다...\n",
       "17  베송 참 빠르게 오네요 사용하기도 편리하고 무게감도 적당한게\\n참 좋더라고요 잇몸에...\n",
       "18  구석에 닦기 힘든 부분까지 편하게 케어? 가능하니 좋네요 남편껏도 하나더 구매하려고...\n",
       "19  진동이 아니라 미세 전류로 치아 관리를 해 주는 거라 자극이 없어 좋네요 \\n양치 ..."
      ]
     },
     "execution_count": 73,
     "metadata": {},
     "output_type": "execute_result"
    }
   ],
   "source": [
    "df2"
   ]
  },
  {
   "cell_type": "code",
   "execution_count": null,
   "metadata": {},
   "outputs": [],
   "source": []
  }
 ],
 "metadata": {
  "interpreter": {
   "hash": "9164a3399a70d355c381b62813f30880ed90ca5a6f321bf0d85375640bda7ee5"
  },
  "kernelspec": {
   "display_name": "Python 3.7.9 64-bit",
   "language": "python",
   "name": "python3"
  },
  "language_info": {
   "name": "python",
   "version": "3.7.9"
  },
  "orig_nbformat": 4
 },
 "nbformat": 4,
 "nbformat_minor": 2
}
