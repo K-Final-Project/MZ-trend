{
 "cells": [
  {
   "cell_type": "code",
   "execution_count": 1,
   "metadata": {},
   "outputs": [],
   "source": [
    "import selenium\n",
    "from selenium import webdriver\n",
    "from selenium.webdriver.common.keys import Keys\n",
    "from selenium.webdriver.common.by import By\n",
    "from selenium.webdriver.support.ui import WebDriverWait\n",
    "from selenium.webdriver.support import expected_conditions as EC\n",
    "from selenium.common.exceptions import TimeoutException\n",
    "from bs4 import BeautifulSoup as bs\n",
    "import time\n",
    "import pandas as pd"
   ]
  },
  {
   "cell_type": "code",
   "execution_count": 4,
   "metadata": {},
   "outputs": [
    {
     "name": "stderr",
     "output_type": "stream",
     "text": [
      "C:\\Users\\82108\\AppData\\Local\\Temp/ipykernel_4628/1976321852.py:16: DeprecationWarning: find_element_by_xpath is deprecated. Please use find_element(by=By.XPATH, value=xpath) instead\n",
      "  if browser.find_element_by_xpath('/html/body/div[3]/div/div[1]/div/div[2]/div[3]/div/div[1]/table/tbody/tr[5]/td[1]').text == '1':\n",
      "C:\\Users\\82108\\AppData\\Local\\Temp/ipykernel_4628/1976321852.py:21: DeprecationWarning: find_element_by_xpath is deprecated. Please use find_element(by=By.XPATH, value=xpath) instead\n",
      "  titles.append(browser.find_element_by_xpath(f'/html/body/div[3]/div/div[1]/div/div[2]/div[3]/div/div[1]/table/tbody/tr[{i}]/td[2]/a').text)\n",
      "C:\\Users\\82108\\AppData\\Local\\Temp/ipykernel_4628/1976321852.py:28: DeprecationWarning: find_element_by_xpath is deprecated. Please use find_element(by=By.XPATH, value=xpath) instead\n",
      "  browser.find_element_by_xpath(f'/html/body/div[3]/div/div[1]/div/div[2]/div[3]/div/div[1]/table/tbody/tr[{j}]/td[2]/a').click()\n",
      "C:\\Users\\82108\\AppData\\Local\\Temp/ipykernel_4628/1976321852.py:29: DeprecationWarning: find_element_by_css_selector is deprecated. Please use find_element(by=By.CSS_SELECTOR, value=css_selector) instead\n",
      "  contents.append(browser.find_element_by_css_selector('#product-review-read').text)\n"
     ]
    },
    {
     "name": "stdout",
     "output_type": "stream",
     "text": [
      "1번째 페이지 리뷰 크롤링\n"
     ]
    },
    {
     "name": "stderr",
     "output_type": "stream",
     "text": [
      "C:\\Users\\82108\\AppData\\Local\\Temp/ipykernel_4628/1976321852.py:35: DeprecationWarning: find_element_by_xpath is deprecated. Please use find_element(by=By.XPATH, value=xpath) instead\n",
      "  browser.find_element_by_xpath('/html/body/div[3]/div/div[1]/div/div[2]/div[3]/div/div[2]/p[2]/a').click()\n"
     ]
    },
    {
     "name": "stdout",
     "output_type": "stream",
     "text": [
      "2번째 페이지 리뷰 크롤링\n",
      "3번째 페이지 리뷰 크롤링\n",
      "4번째 페이지 리뷰 크롤링\n",
      "5번째 페이지 리뷰 크롤링\n",
      "6번째 페이지 리뷰 크롤링\n",
      "7번째 페이지 리뷰 크롤링\n",
      "8번째 페이지 리뷰 크롤링\n",
      "9번째 페이지 리뷰 크롤링\n",
      "10번째 페이지 리뷰 크롤링\n",
      "11번째 페이지 리뷰 크롤링\n",
      "12번째 페이지 리뷰 크롤링\n",
      "13번째 페이지 리뷰 크롤링\n",
      "14번째 페이지 리뷰 크롤링\n",
      "15번째 페이지 리뷰 크롤링\n",
      "16번째 페이지 리뷰 크롤링\n",
      "17번째 페이지 리뷰 크롤링\n",
      "18번째 페이지 리뷰 크롤링\n",
      "19번째 페이지 리뷰 크롤링\n",
      "20번째 페이지 리뷰 크롤링\n",
      "21번째 페이지 리뷰 크롤링\n",
      "22번째 페이지 리뷰 크롤링\n",
      "23번째 페이지 리뷰 크롤링\n",
      "24번째 페이지 리뷰 크롤링\n",
      "25번째 페이지 리뷰 크롤링\n",
      "26번째 페이지 리뷰 크롤링\n",
      "27번째 페이지 리뷰 크롤링\n",
      "28번째 페이지 리뷰 크롤링\n",
      "29번째 페이지 리뷰 크롤링\n",
      "30번째 페이지 리뷰 크롤링\n",
      "31번째 페이지 리뷰 크롤링\n",
      "32번째 페이지 리뷰 크롤링\n",
      "33번째 페이지 리뷰 크롤링\n",
      "34번째 페이지 리뷰 크롤링\n",
      "35번째 페이지 리뷰 크롤링\n",
      "36번째 페이지 리뷰 크롤링\n",
      "37번째 페이지 리뷰 크롤링\n",
      "38번째 페이지 리뷰 크롤링\n",
      "39번째 페이지 리뷰 크롤링\n",
      "40번째 페이지 리뷰 크롤링\n",
      "41번째 페이지 리뷰 크롤링\n",
      "42번째 페이지 리뷰 크롤링\n",
      "43번째 페이지 리뷰 크롤링\n",
      "44번째 페이지 리뷰 크롤링\n",
      "45번째 페이지 리뷰 크롤링\n",
      "46번째 페이지 리뷰 크롤링\n",
      "47번째 페이지 리뷰 크롤링\n",
      "48번째 페이지 리뷰 크롤링\n",
      "49번째 페이지 리뷰 크롤링\n",
      "50번째 페이지 리뷰 크롤링\n",
      "51번째 페이지 리뷰 크롤링\n",
      "52번째 페이지 리뷰 크롤링\n",
      "53번째 페이지 리뷰 크롤링\n",
      "54번째 페이지 리뷰 크롤링\n",
      "55번째 페이지 리뷰 크롤링\n",
      "56번째 페이지 리뷰 크롤링\n",
      "57번째 페이지 리뷰 크롤링\n",
      "58번째 페이지 리뷰 크롤링\n",
      "59번째 페이지 리뷰 크롤링\n",
      "60번째 페이지 리뷰 크롤링\n",
      "61번째 페이지 리뷰 크롤링\n",
      "62번째 페이지 리뷰 크롤링\n",
      "63번째 페이지 리뷰 크롤링\n",
      "64번째 페이지 리뷰 크롤링\n",
      "65번째 페이지 리뷰 크롤링\n",
      "66번째 페이지 리뷰 크롤링\n",
      "67번째 페이지 리뷰 크롤링\n",
      "68번째 페이지 리뷰 크롤링\n",
      "69번째 페이지 리뷰 크롤링\n",
      "70번째 페이지 리뷰 크롤링\n",
      "71번째 페이지 리뷰 크롤링\n",
      "72번째 페이지 리뷰 크롤링\n",
      "73번째 페이지 리뷰 크롤링\n",
      "74번째 페이지 리뷰 크롤링\n",
      "75번째 페이지 리뷰 크롤링\n",
      "76번째 페이지 리뷰 크롤링\n",
      "77번째 페이지 리뷰 크롤링\n",
      "78번째 페이지 리뷰 크롤링\n",
      "79번째 페이지 리뷰 크롤링\n",
      "80번째 페이지 리뷰 크롤링\n",
      "81번째 페이지 리뷰 크롤링\n",
      "82번째 페이지 리뷰 크롤링\n",
      "83번째 페이지 리뷰 크롤링\n",
      "84번째 페이지 리뷰 크롤링\n",
      "85번째 페이지 리뷰 크롤링\n",
      "86번째 페이지 리뷰 크롤링\n",
      "87번째 페이지 리뷰 크롤링\n",
      "88번째 페이지 리뷰 크롤링\n",
      "89번째 페이지 리뷰 크롤링\n",
      "90번째 페이지 리뷰 크롤링\n",
      "91번째 페이지 리뷰 크롤링\n"
     ]
    },
    {
     "ename": "ValueError",
     "evalue": "All arrays must be of the same length",
     "output_type": "error",
     "traceback": [
      "\u001b[1;31m---------------------------------------------------------------------------\u001b[0m",
      "\u001b[1;31mValueError\u001b[0m                                Traceback (most recent call last)",
      "\u001b[1;32m~\\AppData\\Local\\Temp/ipykernel_4628/1976321852.py\u001b[0m in \u001b[0;36m<module>\u001b[1;34m\u001b[0m\n\u001b[0;32m     42\u001b[0m \u001b[1;33m\u001b[0m\u001b[0m\n\u001b[0;32m     43\u001b[0m \u001b[1;33m\u001b[0m\u001b[0m\n\u001b[1;32m---> 44\u001b[1;33m \u001b[0mdf\u001b[0m \u001b[1;33m=\u001b[0m \u001b[0mpd\u001b[0m\u001b[1;33m.\u001b[0m\u001b[0mDataFrame\u001b[0m\u001b[1;33m(\u001b[0m\u001b[1;33m{\u001b[0m\u001b[1;34m'제목'\u001b[0m\u001b[1;33m:\u001b[0m\u001b[0mtitles\u001b[0m\u001b[1;33m,\u001b[0m \u001b[1;34m'내용'\u001b[0m\u001b[1;33m:\u001b[0m\u001b[0mcontents\u001b[0m\u001b[1;33m}\u001b[0m\u001b[1;33m)\u001b[0m\u001b[1;33m\u001b[0m\u001b[1;33m\u001b[0m\u001b[0m\n\u001b[0m\u001b[0;32m     45\u001b[0m \u001b[1;33m\u001b[0m\u001b[0m\n\u001b[0;32m     46\u001b[0m \u001b[0mdf\u001b[0m\u001b[1;33m\u001b[0m\u001b[1;33m\u001b[0m\u001b[0m\n",
      "\u001b[1;32m~\\anaconda3\\lib\\site-packages\\pandas\\core\\frame.py\u001b[0m in \u001b[0;36m__init__\u001b[1;34m(self, data, index, columns, dtype, copy)\u001b[0m\n\u001b[0;32m    612\u001b[0m         \u001b[1;32melif\u001b[0m \u001b[0misinstance\u001b[0m\u001b[1;33m(\u001b[0m\u001b[0mdata\u001b[0m\u001b[1;33m,\u001b[0m \u001b[0mdict\u001b[0m\u001b[1;33m)\u001b[0m\u001b[1;33m:\u001b[0m\u001b[1;33m\u001b[0m\u001b[1;33m\u001b[0m\u001b[0m\n\u001b[0;32m    613\u001b[0m             \u001b[1;31m# GH#38939 de facto copy defaults to False only in non-dict cases\u001b[0m\u001b[1;33m\u001b[0m\u001b[1;33m\u001b[0m\u001b[0m\n\u001b[1;32m--> 614\u001b[1;33m             \u001b[0mmgr\u001b[0m \u001b[1;33m=\u001b[0m \u001b[0mdict_to_mgr\u001b[0m\u001b[1;33m(\u001b[0m\u001b[0mdata\u001b[0m\u001b[1;33m,\u001b[0m \u001b[0mindex\u001b[0m\u001b[1;33m,\u001b[0m \u001b[0mcolumns\u001b[0m\u001b[1;33m,\u001b[0m \u001b[0mdtype\u001b[0m\u001b[1;33m=\u001b[0m\u001b[0mdtype\u001b[0m\u001b[1;33m,\u001b[0m \u001b[0mcopy\u001b[0m\u001b[1;33m=\u001b[0m\u001b[0mcopy\u001b[0m\u001b[1;33m,\u001b[0m \u001b[0mtyp\u001b[0m\u001b[1;33m=\u001b[0m\u001b[0mmanager\u001b[0m\u001b[1;33m)\u001b[0m\u001b[1;33m\u001b[0m\u001b[1;33m\u001b[0m\u001b[0m\n\u001b[0m\u001b[0;32m    615\u001b[0m         \u001b[1;32melif\u001b[0m \u001b[0misinstance\u001b[0m\u001b[1;33m(\u001b[0m\u001b[0mdata\u001b[0m\u001b[1;33m,\u001b[0m \u001b[0mma\u001b[0m\u001b[1;33m.\u001b[0m\u001b[0mMaskedArray\u001b[0m\u001b[1;33m)\u001b[0m\u001b[1;33m:\u001b[0m\u001b[1;33m\u001b[0m\u001b[1;33m\u001b[0m\u001b[0m\n\u001b[0;32m    616\u001b[0m             \u001b[1;32mimport\u001b[0m \u001b[0mnumpy\u001b[0m\u001b[1;33m.\u001b[0m\u001b[0mma\u001b[0m\u001b[1;33m.\u001b[0m\u001b[0mmrecords\u001b[0m \u001b[1;32mas\u001b[0m \u001b[0mmrecords\u001b[0m\u001b[1;33m\u001b[0m\u001b[1;33m\u001b[0m\u001b[0m\n",
      "\u001b[1;32m~\\anaconda3\\lib\\site-packages\\pandas\\core\\internals\\construction.py\u001b[0m in \u001b[0;36mdict_to_mgr\u001b[1;34m(data, index, columns, dtype, typ, copy)\u001b[0m\n\u001b[0;32m    462\u001b[0m         \u001b[1;31m# TODO: can we get rid of the dt64tz special case above?\u001b[0m\u001b[1;33m\u001b[0m\u001b[1;33m\u001b[0m\u001b[0m\n\u001b[0;32m    463\u001b[0m \u001b[1;33m\u001b[0m\u001b[0m\n\u001b[1;32m--> 464\u001b[1;33m     return arrays_to_mgr(\n\u001b[0m\u001b[0;32m    465\u001b[0m         \u001b[0marrays\u001b[0m\u001b[1;33m,\u001b[0m \u001b[0mdata_names\u001b[0m\u001b[1;33m,\u001b[0m \u001b[0mindex\u001b[0m\u001b[1;33m,\u001b[0m \u001b[0mcolumns\u001b[0m\u001b[1;33m,\u001b[0m \u001b[0mdtype\u001b[0m\u001b[1;33m=\u001b[0m\u001b[0mdtype\u001b[0m\u001b[1;33m,\u001b[0m \u001b[0mtyp\u001b[0m\u001b[1;33m=\u001b[0m\u001b[0mtyp\u001b[0m\u001b[1;33m,\u001b[0m \u001b[0mconsolidate\u001b[0m\u001b[1;33m=\u001b[0m\u001b[0mcopy\u001b[0m\u001b[1;33m\u001b[0m\u001b[1;33m\u001b[0m\u001b[0m\n\u001b[0;32m    466\u001b[0m     )\n",
      "\u001b[1;32m~\\anaconda3\\lib\\site-packages\\pandas\\core\\internals\\construction.py\u001b[0m in \u001b[0;36marrays_to_mgr\u001b[1;34m(arrays, arr_names, index, columns, dtype, verify_integrity, typ, consolidate)\u001b[0m\n\u001b[0;32m    117\u001b[0m         \u001b[1;31m# figure out the index, if necessary\u001b[0m\u001b[1;33m\u001b[0m\u001b[1;33m\u001b[0m\u001b[0m\n\u001b[0;32m    118\u001b[0m         \u001b[1;32mif\u001b[0m \u001b[0mindex\u001b[0m \u001b[1;32mis\u001b[0m \u001b[1;32mNone\u001b[0m\u001b[1;33m:\u001b[0m\u001b[1;33m\u001b[0m\u001b[1;33m\u001b[0m\u001b[0m\n\u001b[1;32m--> 119\u001b[1;33m             \u001b[0mindex\u001b[0m \u001b[1;33m=\u001b[0m \u001b[0m_extract_index\u001b[0m\u001b[1;33m(\u001b[0m\u001b[0marrays\u001b[0m\u001b[1;33m)\u001b[0m\u001b[1;33m\u001b[0m\u001b[1;33m\u001b[0m\u001b[0m\n\u001b[0m\u001b[0;32m    120\u001b[0m         \u001b[1;32melse\u001b[0m\u001b[1;33m:\u001b[0m\u001b[1;33m\u001b[0m\u001b[1;33m\u001b[0m\u001b[0m\n\u001b[0;32m    121\u001b[0m             \u001b[0mindex\u001b[0m \u001b[1;33m=\u001b[0m \u001b[0mensure_index\u001b[0m\u001b[1;33m(\u001b[0m\u001b[0mindex\u001b[0m\u001b[1;33m)\u001b[0m\u001b[1;33m\u001b[0m\u001b[1;33m\u001b[0m\u001b[0m\n",
      "\u001b[1;32m~\\anaconda3\\lib\\site-packages\\pandas\\core\\internals\\construction.py\u001b[0m in \u001b[0;36m_extract_index\u001b[1;34m(data)\u001b[0m\n\u001b[0;32m    633\u001b[0m             \u001b[0mlengths\u001b[0m \u001b[1;33m=\u001b[0m \u001b[0mlist\u001b[0m\u001b[1;33m(\u001b[0m\u001b[0mset\u001b[0m\u001b[1;33m(\u001b[0m\u001b[0mraw_lengths\u001b[0m\u001b[1;33m)\u001b[0m\u001b[1;33m)\u001b[0m\u001b[1;33m\u001b[0m\u001b[1;33m\u001b[0m\u001b[0m\n\u001b[0;32m    634\u001b[0m             \u001b[1;32mif\u001b[0m \u001b[0mlen\u001b[0m\u001b[1;33m(\u001b[0m\u001b[0mlengths\u001b[0m\u001b[1;33m)\u001b[0m \u001b[1;33m>\u001b[0m \u001b[1;36m1\u001b[0m\u001b[1;33m:\u001b[0m\u001b[1;33m\u001b[0m\u001b[1;33m\u001b[0m\u001b[0m\n\u001b[1;32m--> 635\u001b[1;33m                 \u001b[1;32mraise\u001b[0m \u001b[0mValueError\u001b[0m\u001b[1;33m(\u001b[0m\u001b[1;34m\"All arrays must be of the same length\"\u001b[0m\u001b[1;33m)\u001b[0m\u001b[1;33m\u001b[0m\u001b[1;33m\u001b[0m\u001b[0m\n\u001b[0m\u001b[0;32m    636\u001b[0m \u001b[1;33m\u001b[0m\u001b[0m\n\u001b[0;32m    637\u001b[0m             \u001b[1;32mif\u001b[0m \u001b[0mhave_dicts\u001b[0m\u001b[1;33m:\u001b[0m\u001b[1;33m\u001b[0m\u001b[1;33m\u001b[0m\u001b[0m\n",
      "\u001b[1;31mValueError\u001b[0m: All arrays must be of the same length"
     ]
    }
   ],
   "source": [
    "# 치약 3번 상품(센소다인 : 네이버 공식 리뷰) 크롤링\n",
    "# https://search.shopping.naver.com/catalog/12303357683?query=%EC%B9%98%EC%95%BD&NaPm=ct%3Dl2sip96g%7Cci%3Dafa03f2e66c5303fa1f42fa10295d3905c0dcced%7Ctr%3Dslsl%7Csn%3D95694%7Chk%3D3deb07ba673cef8eaface22d13e39f62a9f9d89b\n",
    "\n",
    "browser = webdriver.Chrome()\n",
    "browser.implicitly_wait(5)\n",
    "browser.maximize_window() # 브라우저 화면 최대화\n",
    "browser.implicitly_wait(5)\n",
    "browser.get('https://search.shopping.naver.com/catalog/12303357683?query=%EC%B9%98%EC%95%BD&NaPm=ct%3Dl2sip96g%7Cci%3Dafa03f2e66c5303fa1f42fa10295d3905c0dcced%7Ctr%3Dslsl%7Csn%3D95694%7Chk%3D3deb07ba673cef8eaface22d13e39f62a9f9d89b')\n",
    "\n",
    "browser.implicitly_wait(5)  # 로딩이 끝날 때까지 5초까지는 기다려\n",
    "# 리뷰 페이지로 이동\n",
    "browser.find_element_by_xpath('/html/body/div/div/div[2]/div[2]/div[2]/div[3]/div[1]/ul/li[3]/a').click()\n",
    "browser.implicitly_wait(5)  # 로딩이 끝날 때까지 5초까지는 기다려\n",
    "\n",
    "# 최신 리뷰 페이지로 이동\n",
    "browser.find_element_by_xpath('/html/body/div/div/div[2]/div[2]/div[2]/div[3]/div[5]/div[2]/div[1]/div[1]/a[2]').click()\n",
    "browser.implicitly_wait(5)  # 로딩이 끝날 때까지 5초까지는 기다려\n",
    "\n",
    "\n",
    "contents = []\n",
    "dates = []\n",
    "\n",
    "\n",
    "p = 2\n",
    "for z in range(1, 20): \n",
    "    # 제목 크롤링\n",
    "    for i in range(1, 21):\n",
    "        a = browser.find_element_by_xpath(f'/html/body/div/div/div[2]/div[2]/div[2]/div[3]/div[5]/ul/li[{i}]')\n",
    "        browser.implicitly_wait(1)\n",
    "        a.click()\n",
    "        try:\n",
    "            contents.append(a.find_element_by_css_selector('.reviewItems_text__XIsTc').text)\n",
    "            browser.implicitly_wait(1)\n",
    "        except:\n",
    "            contents.append('')\n",
    "\n",
    "    # 날짜 크롤링\n",
    "        try:\n",
    "            dates.append(browser.find_element_by_xpath(f'/html/body/div/div/div[2]/div[2]/div[2]/div[3]/div[5]/ul/li[{i}]/div[1]/span[4]').text)\n",
    "            browser.implicitly_wait(1)\n",
    "        except:\n",
    "            dates.append('')\n",
    "\n",
    "    # 다음 페이지로 이동\n",
    "    browser.find_element_by_xpath('/html/body/div/div/div[2]/div[2]/div[2]/div[3]/div[5]/div[3]/a['+ str(p) +']').click()\n",
    "    p +=1\n",
    "    browser.implicitly_wait(1)\n",
    "    \n",
    "    try:\n",
    "        if p == 12:\n",
    "            p = 3\n",
    "    except:\n",
    "        p = 3\n",
    "\n",
    "df = pd.DataFrame({'내용':contents, '날짜':dates})\n",
    "\n",
    "df\n"
   ]
  },
  {
   "cell_type": "code",
   "execution_count": 5,
   "metadata": {},
   "outputs": [
    {
     "name": "stdout",
     "output_type": "stream",
     "text": [
      "460\n",
      "459\n"
     ]
    }
   ],
   "source": []
  },
  {
   "cell_type": "code",
   "execution_count": null,
   "metadata": {},
   "outputs": [],
   "source": []
  },
  {
   "cell_type": "code",
   "execution_count": 13,
   "metadata": {},
   "outputs": [],
   "source": []
  },
  {
   "cell_type": "code",
   "execution_count": null,
   "metadata": {},
   "outputs": [],
   "source": []
  },
  {
   "cell_type": "code",
   "execution_count": null,
   "metadata": {},
   "outputs": [],
   "source": []
  },
  {
   "cell_type": "code",
   "execution_count": null,
   "metadata": {},
   "outputs": [],
   "source": []
  },
  {
   "cell_type": "code",
   "execution_count": null,
   "metadata": {},
   "outputs": [],
   "source": []
  },
  {
   "cell_type": "code",
   "execution_count": null,
   "metadata": {},
   "outputs": [],
   "source": []
  },
  {
   "cell_type": "code",
   "execution_count": null,
   "metadata": {},
   "outputs": [],
   "source": []
  },
  {
   "cell_type": "code",
   "execution_count": null,
   "metadata": {},
   "outputs": [],
   "source": []
  },
  {
   "cell_type": "code",
   "execution_count": null,
   "metadata": {},
   "outputs": [],
   "source": []
  },
  {
   "cell_type": "code",
   "execution_count": null,
   "metadata": {},
   "outputs": [],
   "source": []
  },
  {
   "cell_type": "code",
   "execution_count": null,
   "metadata": {},
   "outputs": [],
   "source": []
  },
  {
   "cell_type": "code",
   "execution_count": null,
   "metadata": {},
   "outputs": [],
   "source": []
  },
  {
   "cell_type": "code",
   "execution_count": null,
   "metadata": {},
   "outputs": [],
   "source": []
  },
  {
   "cell_type": "code",
   "execution_count": null,
   "metadata": {},
   "outputs": [],
   "source": []
  },
  {
   "cell_type": "code",
   "execution_count": null,
   "metadata": {},
   "outputs": [],
   "source": [
    "# 새로 열린 탭을 기준 브라우저로 설정하고 닫기\n",
    "browser.switch_to.window(browser.window_handles[1])\n",
    "time.sleep(1)\n",
    "browser.close()\n",
    "\n",
    "# 원래 탭을 기준 브라우저로 다시 설정\n",
    "browser.switch_to.window(browser.window_handles[0])"
   ]
  }
 ],
 "metadata": {
  "interpreter": {
   "hash": "e4997e6457fd206359092b599bea291d3dc401a2d445c11f3660ede0d25a0149"
  },
  "kernelspec": {
   "display_name": "Python 3.9.7 ('base')",
   "language": "python",
   "name": "python3"
  },
  "language_info": {
   "codemirror_mode": {
    "name": "ipython",
    "version": 3
   },
   "file_extension": ".py",
   "mimetype": "text/x-python",
   "name": "python",
   "nbconvert_exporter": "python",
   "pygments_lexer": "ipython3",
   "version": "3.9.7"
  },
  "orig_nbformat": 4
 },
 "nbformat": 4,
 "nbformat_minor": 2
}
