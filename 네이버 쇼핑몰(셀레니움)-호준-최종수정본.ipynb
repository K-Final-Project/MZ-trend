{
 "cells": [
  {
   "cell_type": "code",
   "execution_count": 1,
   "metadata": {},
   "outputs": [],
   "source": [
    "import selenium\n",
    "from selenium import webdriver\n",
    "from selenium.webdriver.common.keys import Keys\n",
    "from selenium.webdriver.common.by import By\n",
    "from selenium.webdriver.support.ui import WebDriverWait\n",
    "from selenium.webdriver.support import expected_conditions as EC\n",
    "from selenium.common.exceptions import TimeoutException\n",
    "from bs4 import BeautifulSoup as bs\n",
    "import time\n",
    "import pandas as pd"
   ]
  },
  {
   "cell_type": "code",
   "execution_count": 6,
   "metadata": {},
   "outputs": [
    {
     "name": "stderr",
     "output_type": "stream",
     "text": [
      "C:\\Users\\82108\\AppData\\Local\\Temp/ipykernel_14280/831236921.py:12: DeprecationWarning: find_element_by_xpath is deprecated. Please use find_element(by=By.XPATH, value=xpath) instead\n",
      "  browser.find_element_by_xpath('/html/body/div/div/div[2]/div[2]/div[2]/div[3]/div[1]/ul/li[3]/a').click()\n",
      "C:\\Users\\82108\\AppData\\Local\\Temp/ipykernel_14280/831236921.py:16: DeprecationWarning: find_element_by_xpath is deprecated. Please use find_element(by=By.XPATH, value=xpath) instead\n",
      "  browser.find_element_by_xpath('/html/body/div/div/div[2]/div[2]/div[2]/div[3]/div[5]/div[2]/div[1]/div[1]/a[2]').click()\n",
      "C:\\Users\\82108\\AppData\\Local\\Temp/ipykernel_14280/831236921.py:31: DeprecationWarning: find_element_by_xpath is deprecated. Please use find_element(by=By.XPATH, value=xpath) instead\n",
      "  a = browser.find_element_by_xpath(f'/html/body/div/div/div[2]/div[2]/div[2]/div[3]/div[5]/ul/li[{i}]')\n"
     ]
    },
    {
     "name": "stdout",
     "output_type": "stream",
     "text": [
      "20 리뷰 크롤링 중, 634 개 크롤링 남음\n"
     ]
    },
    {
     "name": "stderr",
     "output_type": "stream",
     "text": [
      "c:\\Users\\82108\\anaconda3\\lib\\site-packages\\selenium\\webdriver\\remote\\webelement.py:484: UserWarning: find_element_by_css_selector is deprecated. Please use find_element(by=By.CSS_SELECTOR, value=css_selector) instead\n",
      "  warnings.warn(\"find_element_by_css_selector is deprecated. Please use find_element(by=By.CSS_SELECTOR, value=css_selector) instead\")\n",
      "C:\\Users\\82108\\AppData\\Local\\Temp/ipykernel_14280/831236921.py:43: DeprecationWarning: find_element_by_xpath is deprecated. Please use find_element(by=By.XPATH, value=xpath) instead\n",
      "  dates.append(browser.find_element_by_xpath(f'/html/body/div/div/div[2]/div[2]/div[2]/div[3]/div[5]/ul/li[{i}]/div[1]/span[4]').text)\n",
      "C:\\Users\\82108\\AppData\\Local\\Temp/ipykernel_14280/831236921.py:50: DeprecationWarning: find_element_by_xpath is deprecated. Please use find_element(by=By.XPATH, value=xpath) instead\n",
      "  browser.find_element_by_xpath('/html/body/div/div/div[2]/div[2]/div[2]/div[3]/div[5]/div[3]/a['+ str(p) +']').click()\n"
     ]
    },
    {
     "name": "stdout",
     "output_type": "stream",
     "text": [
      "40 리뷰 크롤링 중, 614 개 크롤링 남음\n",
      "60 리뷰 크롤링 중, 594 개 크롤링 남음\n",
      "80 리뷰 크롤링 중, 574 개 크롤링 남음\n",
      "100 리뷰 크롤링 중, 554 개 크롤링 남음\n",
      "120 리뷰 크롤링 중, 534 개 크롤링 남음\n",
      "140 리뷰 크롤링 중, 514 개 크롤링 남음\n",
      "160 리뷰 크롤링 중, 494 개 크롤링 남음\n",
      "180 리뷰 크롤링 중, 474 개 크롤링 남음\n",
      "200 리뷰 크롤링 중, 454 개 크롤링 남음\n",
      "220 리뷰 크롤링 중, 434 개 크롤링 남음\n"
     ]
    },
    {
     "name": "stderr",
     "output_type": "stream",
     "text": [
      "C:\\Users\\82108\\AppData\\Local\\Temp/ipykernel_14280/831236921.py:64: DeprecationWarning: find_element_by_xpath is deprecated. Please use find_element(by=By.XPATH, value=xpath) instead\n",
      "  a = browser.find_element_by_xpath(f'/html/body/div/div/div[2]/div[2]/div[2]/div[3]/div[5]/ul/li[{i}]')\n",
      "C:\\Users\\82108\\AppData\\Local\\Temp/ipykernel_14280/831236921.py:76: DeprecationWarning: find_element_by_xpath is deprecated. Please use find_element(by=By.XPATH, value=xpath) instead\n",
      "  dates.append(browser.find_element_by_xpath(f'/html/body/div/div/div[2]/div[2]/div[2]/div[3]/div[5]/ul/li[{i}]/div[1]/span[4]').text)\n",
      "C:\\Users\\82108\\AppData\\Local\\Temp/ipykernel_14280/831236921.py:83: DeprecationWarning: find_element_by_xpath is deprecated. Please use find_element(by=By.XPATH, value=xpath) instead\n",
      "  browser.find_element_by_xpath('/html/body/div/div/div[2]/div[2]/div[2]/div[3]/div[5]/div[3]/a['+ str(pp) +']').click()\n"
     ]
    },
    {
     "name": "stdout",
     "output_type": "stream",
     "text": [
      "240 리뷰 크롤링 중, 414 개 크롤링 남음\n",
      "260 리뷰 크롤링 중, 394 개 크롤링 남음\n",
      "280 리뷰 크롤링 중, 374 개 크롤링 남음\n",
      "300 리뷰 크롤링 중, 354 개 크롤링 남음\n",
      "320 리뷰 크롤링 중, 334 개 크롤링 남음\n",
      "340 리뷰 크롤링 중, 314 개 크롤링 남음\n",
      "360 리뷰 크롤링 중, 294 개 크롤링 남음\n",
      "380 리뷰 크롤링 중, 274 개 크롤링 남음\n",
      "400 리뷰 크롤링 중, 254 개 크롤링 남음\n",
      "420 리뷰 크롤링 중, 234 개 크롤링 남음\n",
      "440 리뷰 크롤링 중, 214 개 크롤링 남음\n",
      "460 리뷰 크롤링 중, 194 개 크롤링 남음\n",
      "480 리뷰 크롤링 중, 174 개 크롤링 남음\n",
      "500 리뷰 크롤링 중, 154 개 크롤링 남음\n",
      "520 리뷰 크롤링 중, 134 개 크롤링 남음\n",
      "540 리뷰 크롤링 중, 114 개 크롤링 남음\n",
      "560 리뷰 크롤링 중, 94 개 크롤링 남음\n",
      "580 리뷰 크롤링 중, 74 개 크롤링 남음\n",
      "600 리뷰 크롤링 중, 54 개 크롤링 남음\n",
      "620 리뷰 크롤링 중, 34 개 크롤링 남음\n",
      "640 리뷰 크롤링 중, 14 개 크롤링 남음\n",
      "660 리뷰 크롤링 중, -6 개 크롤링 남음\n"
     ]
    }
   ],
   "source": [
    "# 치약 3번 상품(센소다인 : 네이버 공식 리뷰) 크롤링\n",
    "# https://search.shopping.naver.com/catalog/12303357683?query=%EC%B9%98%EC%95%BD&NaPm=ct%3Dl2sip96g%7Cci%3Dafa03f2e66c5303fa1f42fa10295d3905c0dcced%7Ctr%3Dslsl%7Csn%3D95694%7Chk%3D3deb07ba673cef8eaface22d13e39f62a9f9d89b\n",
    "\n",
    "browser = webdriver.Chrome()\n",
    "browser.implicitly_wait(5)\n",
    "browser.maximize_window() # 브라우저 화면 최대화\n",
    "browser.implicitly_wait(5)\n",
    "browser.get('https://search.shopping.naver.com/catalog/28405699554?query=%EC%B9%98%EC%95%BD&NaPm=ct%3Dl2tqufts%7Cci%3D8c8261e86dd943e7adc673e12d73aaf01393f49d%7Ctr%3Dslsl%7Csn%3D95694%7Chk%3D1ae356403b008b4fc29b36ef0a1c907e95f6fede')\n",
    "\n",
    "browser.implicitly_wait(5)  # 로딩이 끝날 때까지 5초까지는 기다려\n",
    "# 리뷰 페이지로 이동\n",
    "browser.find_element_by_xpath('/html/body/div/div/div[2]/div[2]/div[2]/div[3]/div[1]/ul/li[3]/a').click()\n",
    "browser.implicitly_wait(5)  # 로딩이 끝날 때까지 5초까지는 기다려\n",
    "\n",
    "# 최신 리뷰 페이지로 이동\n",
    "browser.find_element_by_xpath('/html/body/div/div/div[2]/div[2]/div[2]/div[3]/div[5]/div[2]/div[1]/div[1]/a[2]').click()\n",
    "browser.implicitly_wait(5)  # 로딩이 끝날 때까지 5초까지는 기다려\n",
    "\n",
    "\n",
    "contents = []\n",
    "dates = []\n",
    "\n",
    "p = 1\n",
    "for z in range(1, 11):\n",
    "\n",
    "                            # 목표 크롤링 리뷰 수 수정\n",
    "    print(z * 20, '리뷰 크롤링 중,', 654 - (z * 20), '개 크롤링 남음')\n",
    "\n",
    "    # 제목 크롤링\n",
    "    for i in range(1, 21):\n",
    "        a = browser.find_element_by_xpath(f'/html/body/div/div/div[2]/div[2]/div[2]/div[3]/div[5]/ul/li[{i}]')\n",
    "        browser.implicitly_wait(1)\n",
    "        a.click()\n",
    "        time.sleep(0.5)\n",
    "        try:\n",
    "            contents.append(a.find_element_by_css_selector('.reviewItems_text__XIsTc').text)\n",
    "            browser.implicitly_wait(1)\n",
    "        except:\n",
    "            contents.append('')\n",
    "\n",
    "    # 날짜 크롤링\n",
    "        try:\n",
    "            dates.append(browser.find_element_by_xpath(f'/html/body/div/div/div[2]/div[2]/div[2]/div[3]/div[5]/ul/li[{i}]/div[1]/span[4]').text)\n",
    "            browser.implicitly_wait(1)\n",
    "        except:\n",
    "            dates.append('')\n",
    "\n",
    "    # 다음 페이지로 이동\n",
    "    p +=1\n",
    "    browser.find_element_by_xpath('/html/body/div/div/div[2]/div[2]/div[2]/div[3]/div[5]/div[3]/a['+ str(p) +']').click()\n",
    "    browser.implicitly_wait(1)\n",
    "    time.sleep(1)\n",
    "\n",
    "\n",
    "time.sleep(2)\n",
    "\n",
    "pp = 2\n",
    "for z in range(1, 50):\n",
    "    try:\n",
    "                                # 목표 크롤링 리뷰 수 - 200 수정\n",
    "        print(200 + z * 20, '리뷰 크롤링 중,', 454 - (z * 20), '개 크롤링 남음')\n",
    "    \n",
    "        # 제목 크롤링\n",
    "        for i in range(1, 21):\n",
    "            a = browser.find_element_by_xpath(f'/html/body/div/div/div[2]/div[2]/div[2]/div[3]/div[5]/ul/li[{i}]')\n",
    "            browser.implicitly_wait(1)\n",
    "            a.click()\n",
    "            time.sleep(0.5)\n",
    "            try:\n",
    "                contents.append(a.find_element_by_css_selector('.reviewItems_text__XIsTc').text)\n",
    "                browser.implicitly_wait(1)\n",
    "            except:\n",
    "                contents.append('')\n",
    "\n",
    "        # 날짜 크롤링\n",
    "            try:\n",
    "                dates.append(browser.find_element_by_xpath(f'/html/body/div/div/div[2]/div[2]/div[2]/div[3]/div[5]/ul/li[{i}]/div[1]/span[4]').text)\n",
    "                browser.implicitly_wait(1)\n",
    "            except:\n",
    "                dates.append('')\n",
    "\n",
    "        # 다음 페이지로 이동\n",
    "        pp +=1\n",
    "        browser.find_element_by_xpath('/html/body/div/div/div[2]/div[2]/div[2]/div[3]/div[5]/div[3]/a['+ str(pp) +']').click()\n",
    "        browser.implicitly_wait(1)\n",
    "        time.sleep(1)\n",
    "    \n",
    "        try :\n",
    "            if pp == 12:\n",
    "                pp = 2\n",
    "        except:\n",
    "            pp = 2\n",
    "    except:\n",
    "        break\n",
    "        print('크롤링 완료.')\n",
    "\n",
    "\n",
    "\n",
    "\n",
    "\n",
    "\n",
    "\n",
    "df = pd.DataFrame({'내용':contents, '날짜':dates})\n",
    "df.to_csv('aaa.csv', encoding = 'utf-8-sig')"
   ]
  },
  {
   "cell_type": "code",
   "execution_count": null,
   "metadata": {},
   "outputs": [],
   "source": []
  }
 ],
 "metadata": {
  "interpreter": {
   "hash": "28219e3f9b02e576b089e0d76d27e826543416d6255c1219df1c9b8db97f34ce"
  },
  "kernelspec": {
   "display_name": "Python 3.9.7 ('base')",
   "language": "python",
   "name": "python3"
  },
  "language_info": {
   "codemirror_mode": {
    "name": "ipython",
    "version": 3
   },
   "file_extension": ".py",
   "mimetype": "text/x-python",
   "name": "python",
   "nbconvert_exporter": "python",
   "pygments_lexer": "ipython3",
   "version": "3.9.7"
  },
  "orig_nbformat": 4
 },
 "nbformat": 4,
 "nbformat_minor": 2
}
