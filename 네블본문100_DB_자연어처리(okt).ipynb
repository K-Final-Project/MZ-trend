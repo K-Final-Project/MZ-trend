{
 "cells": [
  {
   "cell_type": "code",
   "execution_count": 100,
   "metadata": {},
   "outputs": [
    {
     "name": "stdout",
     "output_type": "stream",
     "text": [
      "Connection established\n"
     ]
    },
    {
     "data": {
      "text/html": [
       "<div>\n",
       "<style scoped>\n",
       "    .dataframe tbody tr th:only-of-type {\n",
       "        vertical-align: middle;\n",
       "    }\n",
       "\n",
       "    .dataframe tbody tr th {\n",
       "        vertical-align: top;\n",
       "    }\n",
       "\n",
       "    .dataframe thead th {\n",
       "        text-align: right;\n",
       "    }\n",
       "</style>\n",
       "<table border=\"1\" class=\"dataframe\">\n",
       "  <thead>\n",
       "    <tr style=\"text-align: right;\">\n",
       "      <th></th>\n",
       "      <th>내용</th>\n",
       "    </tr>\n",
       "  </thead>\n",
       "  <tbody>\n",
       "    <tr>\n",
       "      <th>0</th>\n",
       "      <td>언젠가부터 왼쪽 어금니 사이에 \\n음식물이 끼기 시작했는데요.\\n양치를 할 때마다 ...</td>\n",
       "    </tr>\n",
       "    <tr>\n",
       "      <th>1</th>\n",
       "      <td>마스크 시대가 열리면서\\n저의 입냄새를 경험하게 되었어요\\n 제가 맡기에도 고약했고...</td>\n",
       "    </tr>\n",
       "    <tr>\n",
       "      <th>2</th>\n",
       "      <td>날이 갑자기 더워지면서\\n마스크안에서 숨쉬는 게\\n답답해지더라구요.\\n일할 때도 덥...</td>\n",
       "    </tr>\n",
       "    <tr>\n",
       "      <th>3</th>\n",
       "      <td>전 양치할때 이를 빡빡 닦는 편이에요. \\n이게 잘못된 습관이라는건 알고 있지만\\n...</td>\n",
       "    </tr>\n",
       "    <tr>\n",
       "      <th>4</th>\n",
       "      <td>마스크를 착용하면서 어쩔 수 없이\\n제 자신의 입냄새를 맡게 되었는데요.\\n가끔은 ...</td>\n",
       "    </tr>\n",
       "    <tr>\n",
       "      <th>5</th>\n",
       "      <td>오랜시간 마스크를 착용하면서\\n깨닫게 된 한가지가 바로 저의 입냄새에요.\\n가끔은 ...</td>\n",
       "    </tr>\n",
       "    <tr>\n",
       "      <th>6</th>\n",
       "      <td>안녕하세요\\n오늘은 \"시린이 치약\"에대해 소개해드리려 합니다^^\\n날씨가 풀리면서 ...</td>\n",
       "    </tr>\n",
       "    <tr>\n",
       "      <th>7</th>\n",
       "      <td>최근에 온도가 27도까지 올랐었죠.\\n초봄인데도 벌써 날씨가 이러는 걸 보니\\n앞으...</td>\n",
       "    </tr>\n",
       "    <tr>\n",
       "      <th>8</th>\n",
       "      <td>마스크를 쓰고 다니니까\\n입에서 냄새가 나는 게 확연하게\\n느껴지고 불쾌하기까지...</td>\n",
       "    </tr>\n",
       "    <tr>\n",
       "      <th>9</th>\n",
       "      <td>특별히 차가운 음식을 먹지 않았는데도\\n치아의 시림이 발생하더라고요.\\n이가 많이 ...</td>\n",
       "    </tr>\n",
       "  </tbody>\n",
       "</table>\n",
       "</div>"
      ],
      "text/plain": [
       "                                                  내용\n",
       "0  언젠가부터 왼쪽 어금니 사이에 \\n음식물이 끼기 시작했는데요.\\n양치를 할 때마다 ...\n",
       "1  마스크 시대가 열리면서\\n저의 입냄새를 경험하게 되었어요\\n 제가 맡기에도 고약했고...\n",
       "2  날이 갑자기 더워지면서\\n마스크안에서 숨쉬는 게\\n답답해지더라구요.\\n일할 때도 덥...\n",
       "3  전 양치할때 이를 빡빡 닦는 편이에요. \\n이게 잘못된 습관이라는건 알고 있지만\\n...\n",
       "4  마스크를 착용하면서 어쩔 수 없이\\n제 자신의 입냄새를 맡게 되었는데요.\\n가끔은 ...\n",
       "5  오랜시간 마스크를 착용하면서\\n깨닫게 된 한가지가 바로 저의 입냄새에요.\\n가끔은 ...\n",
       "6  안녕하세요\\n오늘은 \"시린이 치약\"에대해 소개해드리려 합니다^^\\n날씨가 풀리면서 ...\n",
       "7  최근에 온도가 27도까지 올랐었죠.\\n초봄인데도 벌써 날씨가 이러는 걸 보니\\n앞으...\n",
       "8    마스크를 쓰고 다니니까\\n입에서 냄새가 나는 게 확연하게\\n느껴지고 불쾌하기까지...\n",
       "9  특별히 차가운 음식을 먹지 않았는데도\\n치아의 시림이 발생하더라고요.\\n이가 많이 ..."
      ]
     },
     "execution_count": 100,
     "metadata": {},
     "output_type": "execute_result"
    }
   ],
   "source": [
    "import pandas as pd\n",
    "import numpy as np\n",
    "import psycopg2\n",
    "\n",
    "# db connect \n",
    "conn = psycopg2.connect( \n",
    "    host = \"localhost\", \n",
    "    dbname = \"naver_blog\", \n",
    "    user = \"postgres\", \n",
    "    password = \"1234\"\n",
    "    )         \n",
    "sslmode = \"require\"\n",
    "print(\"Connection established\")\n",
    "\n",
    "cursor = conn.cursor()\n",
    "\n",
    "# Fetch all rows from table\n",
    "cursor.execute(\"SELECT 내용 FROM 시린이;\")\n",
    "result = cursor.fetchall()\n",
    "\n",
    "# 데이터프레임으로 만들기\n",
    "시린이_df = pd.DataFrame(result)\n",
    "시린이_df.columns = [i[0] for i in  cursor.description]\n",
    "시린이_df.head(10)\n",
    "# Cleanup\n",
    "# conn.commit()\n",
    "# cursor.close()\n",
    "# conn.close()\n"
   ]
  },
  {
   "cell_type": "code",
   "execution_count": 101,
   "metadata": {},
   "outputs": [
    {
     "data": {
      "text/plain": [
       "0"
      ]
     },
     "execution_count": 101,
     "metadata": {},
     "output_type": "execute_result"
    }
   ],
   "source": [
    "시린이_df['내용'].duplicated().sum()"
   ]
  },
  {
   "cell_type": "code",
   "execution_count": null,
   "metadata": {},
   "outputs": [],
   "source": [
    "시린이_df['내용'].replace('', np.nan, inplace=True) # np.nan으로 결측값을 인식할 때 해결\n",
    "시린이_df"
   ]
  },
  {
   "cell_type": "code",
   "execution_count": 103,
   "metadata": {},
   "outputs": [
    {
     "name": "stdout",
     "output_type": "stream",
     "text": [
      "결측치의 전체합 :  0\n"
     ]
    },
    {
     "data": {
      "text/html": [
       "<div>\n",
       "<style scoped>\n",
       "    .dataframe tbody tr th:only-of-type {\n",
       "        vertical-align: middle;\n",
       "    }\n",
       "\n",
       "    .dataframe tbody tr th {\n",
       "        vertical-align: top;\n",
       "    }\n",
       "\n",
       "    .dataframe thead th {\n",
       "        text-align: right;\n",
       "    }\n",
       "</style>\n",
       "<table border=\"1\" class=\"dataframe\">\n",
       "  <thead>\n",
       "    <tr style=\"text-align: right;\">\n",
       "      <th></th>\n",
       "      <th>내용</th>\n",
       "    </tr>\n",
       "  </thead>\n",
       "  <tbody>\n",
       "    <tr>\n",
       "      <th>0</th>\n",
       "      <td>언젠가부터 왼쪽 어금니 사이에 \\n음식물이 끼기 시작했는데요.\\n양치를 할 때마다 ...</td>\n",
       "    </tr>\n",
       "    <tr>\n",
       "      <th>1</th>\n",
       "      <td>마스크 시대가 열리면서\\n저의 입냄새를 경험하게 되었어요\\n 제가 맡기에도 고약했고...</td>\n",
       "    </tr>\n",
       "    <tr>\n",
       "      <th>2</th>\n",
       "      <td>날이 갑자기 더워지면서\\n마스크안에서 숨쉬는 게\\n답답해지더라구요.\\n일할 때도 덥...</td>\n",
       "    </tr>\n",
       "    <tr>\n",
       "      <th>3</th>\n",
       "      <td>전 양치할때 이를 빡빡 닦는 편이에요. \\n이게 잘못된 습관이라는건 알고 있지만\\n...</td>\n",
       "    </tr>\n",
       "    <tr>\n",
       "      <th>4</th>\n",
       "      <td>마스크를 착용하면서 어쩔 수 없이\\n제 자신의 입냄새를 맡게 되었는데요.\\n가끔은 ...</td>\n",
       "    </tr>\n",
       "    <tr>\n",
       "      <th>...</th>\n",
       "      <td>...</td>\n",
       "    </tr>\n",
       "    <tr>\n",
       "      <th>95</th>\n",
       "      <td>https://blog.naver.com/talove0831/222056441644...</td>\n",
       "    </tr>\n",
       "    <tr>\n",
       "      <th>96</th>\n",
       "      <td>수원치과 치아마모로 시린이 \\n날도 추운데 치아도 추워요\\n물한잔 편안하게 마시지 ...</td>\n",
       "    </tr>\n",
       "    <tr>\n",
       "      <th>97</th>\n",
       "      <td>이번에 사용해본 치약은\\n투비짱 \\n시린이 잇몸 치약 \\n입냄새제거 불소치약 \\n으...</td>\n",
       "    </tr>\n",
       "    <tr>\n",
       "      <th>98</th>\n",
       "      <td>구매후기만 쓰는 배당노마드입니다.\\n시린이 확실히 완화되었음\\n센소다인 치약쓰기전까...</td>\n",
       "    </tr>\n",
       "    <tr>\n",
       "      <th>99</th>\n",
       "      <td>금니로 씌운지 (치아 크라운)십년도 넘은 위쪽  치아가,\\n어느날 갑자기 시리기 시...</td>\n",
       "    </tr>\n",
       "  </tbody>\n",
       "</table>\n",
       "<p>100 rows × 1 columns</p>\n",
       "</div>"
      ],
      "text/plain": [
       "                                                   내용\n",
       "0   언젠가부터 왼쪽 어금니 사이에 \\n음식물이 끼기 시작했는데요.\\n양치를 할 때마다 ...\n",
       "1   마스크 시대가 열리면서\\n저의 입냄새를 경험하게 되었어요\\n 제가 맡기에도 고약했고...\n",
       "2   날이 갑자기 더워지면서\\n마스크안에서 숨쉬는 게\\n답답해지더라구요.\\n일할 때도 덥...\n",
       "3   전 양치할때 이를 빡빡 닦는 편이에요. \\n이게 잘못된 습관이라는건 알고 있지만\\n...\n",
       "4   마스크를 착용하면서 어쩔 수 없이\\n제 자신의 입냄새를 맡게 되었는데요.\\n가끔은 ...\n",
       "..                                                ...\n",
       "95  https://blog.naver.com/talove0831/222056441644...\n",
       "96  수원치과 치아마모로 시린이 \\n날도 추운데 치아도 추워요\\n물한잔 편안하게 마시지 ...\n",
       "97  이번에 사용해본 치약은\\n투비짱 \\n시린이 잇몸 치약 \\n입냄새제거 불소치약 \\n으...\n",
       "98  구매후기만 쓰는 배당노마드입니다.\\n시린이 확실히 완화되었음\\n센소다인 치약쓰기전까...\n",
       "99  금니로 씌운지 (치아 크라운)십년도 넘은 위쪽  치아가,\\n어느날 갑자기 시리기 시...\n",
       "\n",
       "[100 rows x 1 columns]"
      ]
     },
     "execution_count": 103,
     "metadata": {},
     "output_type": "execute_result"
    }
   ],
   "source": [
    "def nomalize(df):\n",
    "    df_copy = df.copy() # 데이터프레임 원본 카피\n",
    "    df_isnull = df_copy.isnull().sum().sum() # 전체 결측 데이터 합산\n",
    "    print('결측치의 전체합 : ', df_isnull) #  결측치 합산값 확인\n",
    "    # df_fill = df_copy.fillna(0)\n",
    "    # df_drop = df_fill.dropna(axis=0)\n",
    "    df_drop = df_copy.dropna(axis=0)\n",
    "    return df_drop\n",
    "\n",
    "a_df = nomalize(시린이_df)\n",
    "a_df\n"
   ]
  },
  {
   "cell_type": "code",
   "execution_count": 104,
   "metadata": {},
   "outputs": [],
   "source": [
    "# 데이터프레임 csv파일로 저장\n",
    "시린이_df.to_csv('df_시린이_내용.csv', index=False, header=True, encoding='utf-8-sig') # encoding='utf-8-sig' : 크롤링 후 csv에 저장할 때"
   ]
  },
  {
   "cell_type": "markdown",
   "metadata": {},
   "source": [
    "### 자연어처리"
   ]
  },
  {
   "cell_type": "code",
   "execution_count": 3,
   "metadata": {},
   "outputs": [
    {
     "data": {
      "text/html": [
       "<div>\n",
       "<style scoped>\n",
       "    .dataframe tbody tr th:only-of-type {\n",
       "        vertical-align: middle;\n",
       "    }\n",
       "\n",
       "    .dataframe tbody tr th {\n",
       "        vertical-align: top;\n",
       "    }\n",
       "\n",
       "    .dataframe thead th {\n",
       "        text-align: right;\n",
       "    }\n",
       "</style>\n",
       "<table border=\"1\" class=\"dataframe\">\n",
       "  <thead>\n",
       "    <tr style=\"text-align: right;\">\n",
       "      <th></th>\n",
       "      <th>내용</th>\n",
       "    </tr>\n",
       "  </thead>\n",
       "  <tbody>\n",
       "    <tr>\n",
       "      <th>0</th>\n",
       "      <td>양치질을 아무리 잘한다고 하더라도\\n잘못된 양치질 또는 잇몸 자체가 약한 경우에는\\...</td>\n",
       "    </tr>\n",
       "    <tr>\n",
       "      <th>1</th>\n",
       "      <td>아무리 하루 세 번 양치를 잘한다 해도\\n치아에는 쉽게 문제가 생기곤 하는데...</td>\n",
       "    </tr>\n",
       "    <tr>\n",
       "      <th>2</th>\n",
       "      <td>나이가 드니 치아도 약해지나 봐요.\\n옛날이면 돌도 씹어 먹었을 텐데\\n이제는 그토...</td>\n",
       "    </tr>\n",
       "    <tr>\n",
       "      <th>3</th>\n",
       "      <td>잇몸 영양제 조금 아쉬웠던 이유\\n한번씩 잇몸이 욱신대는 느낌이 느껴질때가 있어요....</td>\n",
       "    </tr>\n",
       "    <tr>\n",
       "      <th>4</th>\n",
       "      <td>어머니께서 예전부터 잇몸이 좋지 않아\\n최근에 임플란트를 예정 중에 계신데 치과에서...</td>\n",
       "    </tr>\n",
       "  </tbody>\n",
       "</table>\n",
       "</div>"
      ],
      "text/plain": [
       "                                                  내용\n",
       "0  양치질을 아무리 잘한다고 하더라도\\n잘못된 양치질 또는 잇몸 자체가 약한 경우에는\\...\n",
       "1      아무리 하루 세 번 양치를 잘한다 해도\\n치아에는 쉽게 문제가 생기곤 하는데...\n",
       "2  나이가 드니 치아도 약해지나 봐요.\\n옛날이면 돌도 씹어 먹었을 텐데\\n이제는 그토...\n",
       "3  잇몸 영양제 조금 아쉬웠던 이유\\n한번씩 잇몸이 욱신대는 느낌이 느껴질때가 있어요....\n",
       "4  어머니께서 예전부터 잇몸이 좋지 않아\\n최근에 임플란트를 예정 중에 계신데 치과에서..."
      ]
     },
     "execution_count": 3,
     "metadata": {},
     "output_type": "execute_result"
    }
   ],
   "source": [
    "# 원본 파일 복사하기\n",
    "c잇몸영양제_df = 잇몸영양제_df.copy()\n",
    "c잇몸영양제_df.head()"
   ]
  },
  {
   "cell_type": "code",
   "execution_count": 4,
   "metadata": {},
   "outputs": [],
   "source": [
    "import numpy as np\n",
    "import nltk\n",
    "import matplotlib.pyplot as plt\n",
    "import re # 정규표현식\n",
    "import urllib.request\n",
    "from tqdm import tqdm # 작업 진행률 표시\n",
    "from tensorflow.keras.preprocessing.text import Tokenizer # 텍스트 토큰화\n",
    "from tensorflow.keras.preprocessing.sequence import pad_sequences # 길이가 다른 여러 문장의 길이를 임의로 동일하게 맞춰줌"
   ]
  },
  {
   "cell_type": "code",
   "execution_count": 20,
   "metadata": {},
   "outputs": [],
   "source": [
    "from nltk.corpus import stopwords\n",
    "from nltk.tokenize import word_tokenize \n",
    "from collections import Counter\n",
    "from konlpy.tag import Okt"
   ]
  },
  {
   "cell_type": "code",
   "execution_count": 19,
   "metadata": {},
   "outputs": [],
   "source": [
    "# 자연어처리 라이브러리 불러오기\n",
    "okt = Okt()"
   ]
  },
  {
   "cell_type": "code",
   "execution_count": 5,
   "metadata": {},
   "outputs": [
    {
     "name": "stderr",
     "output_type": "stream",
     "text": [
      "C:\\Users\\User\\AppData\\Local\\Temp/ipykernel_1372/1458016269.py:3: FutureWarning: The default value of regex will change from True to False in a future version.\n",
      "  c잇몸영양제_df['내용'] = c잇몸영양제_df['내용'].str.replace('[^ㄱ-ㅎㅏ-ㅣ가-힣 ]',\"\")\n"
     ]
    },
    {
     "data": {
      "text/html": [
       "<div>\n",
       "<style scoped>\n",
       "    .dataframe tbody tr th:only-of-type {\n",
       "        vertical-align: middle;\n",
       "    }\n",
       "\n",
       "    .dataframe tbody tr th {\n",
       "        vertical-align: top;\n",
       "    }\n",
       "\n",
       "    .dataframe thead th {\n",
       "        text-align: right;\n",
       "    }\n",
       "</style>\n",
       "<table border=\"1\" class=\"dataframe\">\n",
       "  <thead>\n",
       "    <tr style=\"text-align: right;\">\n",
       "      <th></th>\n",
       "      <th>내용</th>\n",
       "    </tr>\n",
       "  </thead>\n",
       "  <tbody>\n",
       "    <tr>\n",
       "      <th>0</th>\n",
       "      <td>양치질을 아무리 잘한다고 하더라도잘못된 양치질 또는 잇몸 자체가 약한 경우에는잇몸 ...</td>\n",
       "    </tr>\n",
       "    <tr>\n",
       "      <th>1</th>\n",
       "      <td>아무리 하루 세 번 양치를 잘한다 해도치아에는 쉽게 문제가 생기곤 하는데얼마...</td>\n",
       "    </tr>\n",
       "    <tr>\n",
       "      <th>2</th>\n",
       "      <td>나이가 드니 치아도 약해지나 봐요옛날이면 돌도 씹어 먹었을 텐데이제는 그토록 좋아하...</td>\n",
       "    </tr>\n",
       "    <tr>\n",
       "      <th>3</th>\n",
       "      <td>잇몸 영양제 조금 아쉬웠던 이유한번씩 잇몸이 욱신대는 느낌이 느껴질때가 있어요그런 ...</td>\n",
       "    </tr>\n",
       "    <tr>\n",
       "      <th>4</th>\n",
       "      <td>어머니께서 예전부터 잇몸이 좋지 않아최근에 임플란트를 예정 중에 계신데 치과에서 상...</td>\n",
       "    </tr>\n",
       "    <tr>\n",
       "      <th>5</th>\n",
       "      <td>안녕하세요 치과입니다저희 병원에 치주 질환이 심해져서 내원해 주시는환자분들을 살펴보...</td>\n",
       "    </tr>\n",
       "    <tr>\n",
       "      <th>6</th>\n",
       "      <td>저도 이제 연식이 어느정도 되다보니 요즘엔 질긴 고기나 딱딱한 음식을 먹을 때면 치...</td>\n",
       "    </tr>\n",
       "    <tr>\n",
       "      <th>7</th>\n",
       "      <td>엄마가 인플란트를 준비하고 계신데 치과에서 잇몸상태가 좋지 않아서 치료를 조금 더 ...</td>\n",
       "    </tr>\n",
       "    <tr>\n",
       "      <th>8</th>\n",
       "      <td>안녕하세요 밤곰이에요 치아 건강은 오복 중 하나라는 말이 있어요 그만큼 치아는 우리...</td>\n",
       "    </tr>\n",
       "    <tr>\n",
       "      <th>9</th>\n",
       "      <td>세까지 함께하는 치아와 잇몸년 전쯤 오른쪽 아래 어금니가 너무 아파서 참고 참다 치...</td>\n",
       "    </tr>\n",
       "  </tbody>\n",
       "</table>\n",
       "</div>"
      ],
      "text/plain": [
       "                                                  내용\n",
       "0  양치질을 아무리 잘한다고 하더라도잘못된 양치질 또는 잇몸 자체가 약한 경우에는잇몸 ...\n",
       "1      아무리 하루 세 번 양치를 잘한다 해도치아에는 쉽게 문제가 생기곤 하는데얼마...\n",
       "2  나이가 드니 치아도 약해지나 봐요옛날이면 돌도 씹어 먹었을 텐데이제는 그토록 좋아하...\n",
       "3  잇몸 영양제 조금 아쉬웠던 이유한번씩 잇몸이 욱신대는 느낌이 느껴질때가 있어요그런 ...\n",
       "4  어머니께서 예전부터 잇몸이 좋지 않아최근에 임플란트를 예정 중에 계신데 치과에서 상...\n",
       "5  안녕하세요 치과입니다저희 병원에 치주 질환이 심해져서 내원해 주시는환자분들을 살펴보...\n",
       "6  저도 이제 연식이 어느정도 되다보니 요즘엔 질긴 고기나 딱딱한 음식을 먹을 때면 치...\n",
       "7  엄마가 인플란트를 준비하고 계신데 치과에서 잇몸상태가 좋지 않아서 치료를 조금 더 ...\n",
       "8  안녕하세요 밤곰이에요 치아 건강은 오복 중 하나라는 말이 있어요 그만큼 치아는 우리...\n",
       "9  세까지 함께하는 치아와 잇몸년 전쯤 오른쪽 아래 어금니가 너무 아파서 참고 참다 치..."
      ]
     },
     "execution_count": 5,
     "metadata": {},
     "output_type": "execute_result"
    }
   ],
   "source": [
    "# 한글과 공백 제외 모두 제거 : 띄어쓰기 유지, 구두점 제거\n",
    "\n",
    "c잇몸영양제_df['내용'] = c잇몸영양제_df['내용'].str.replace('[^ㄱ-ㅎㅏ-ㅣ가-힣 ]',\"\")\n",
    "c잇몸영양제_df[:10]"
   ]
  },
  {
   "cell_type": "code",
   "execution_count": null,
   "metadata": {},
   "outputs": [],
   "source": [
    "#  PyKoSpacing : 띄어쓰기 임의로 만들기\n",
    "# !pip install git+https://github.com/haven-jeon/PyKoSpacing.git"
   ]
  },
  {
   "cell_type": "code",
   "execution_count": 6,
   "metadata": {},
   "outputs": [],
   "source": [
    "from pykospacing import Spacing\n",
    "\n",
    "# 데이터프레임 특정 열값을 리스트로 변환\n",
    "spacing_cen = []\n",
    "for sc in c잇몸영양제_df['내용']:\n",
    "    spacing_cen.append(sc)\n",
    "# print(spacing_cen)\n",
    "\n",
    "# 리스트 문자열 변환\n",
    "result = ' '.join(s for s in spacing_cen)\n",
    "# print(result)"
   ]
  },
  {
   "cell_type": "code",
   "execution_count": 7,
   "metadata": {},
   "outputs": [],
   "source": [
    "# 띄어쓰기가 없는 문장 임의로 만들기\n",
    "new_sent = result.replace(\" \", '') \n",
    "# print(new_sent)"
   ]
  },
  {
   "cell_type": "code",
   "execution_count": 8,
   "metadata": {},
   "outputs": [],
   "source": [
    "# 띄어쓰기\n",
    "spacing = Spacing()\n",
    "kospacing_sent = spacing(result) \n",
    "# print(sent) # 원본 확인용   \n",
    "# print(kospacing_list)"
   ]
  },
  {
   "cell_type": "code",
   "execution_count": 11,
   "metadata": {},
   "outputs": [],
   "source": [
    "# 문법 정규화\n",
    "kospacing_list = [okt.normalize(kospacing_sent)]"
   ]
  },
  {
   "cell_type": "code",
   "execution_count": null,
   "metadata": {},
   "outputs": [],
   "source": [
    "# Py_Hanspell : 맞춤법 검사_데이터가 크면 안 됨\n",
    "# !pip install git+https://github.com/ssut/py-hanspell.git\n",
    "# from hanspell import spell_checker\n",
    "# spelled_sent = spell_checker.check(kospacing_sent)\n",
    "\n",
    "# hanspell_sent = spelled_sent.checked\n",
    "# print(hanspell_sent)"
   ]
  },
  {
   "cell_type": "code",
   "execution_count": 16,
   "metadata": {},
   "outputs": [
    {
     "name": "stderr",
     "output_type": "stream",
     "text": [
      "'cp'��(��) ���� �Ǵ� �ܺ� ����, ������ �� �ִ� ���α׷�, �Ǵ�\n",
      "��ġ ������ �ƴմϴ�.\n",
      "'jar'��(��) ���� �Ǵ� �ܺ� ����, ������ �� �ִ� ���α׷�, �Ǵ�\n",
      "��ġ ������ �ƴմϴ�.\n"
     ]
    }
   ],
   "source": [
    "import os\n",
    "\n",
    "os.chdir(r\"C:\\Users\\User\\anaconda3\\Lib\\site-packages\\konlpy\\java\")\n",
    "os.getcwd()\n",
    "os.makedirs('./my_dict')\n",
    "\n",
    "!cp C:\\\\Users\\\\User\\\\anaconda3\\\\Lib\\\\site-packages\\\\konlpy\\\\java\\\\open-korean-text-2.1.0.jar C:\\\\Users\\\\User\\\\anaconda3\\\\Lib\\\\site-packages\\\\konlpy\\\\java\\\\my_dict\\\\open-korean-text-2.1.0.jar\n",
    "!jar xvf C:\\\\Users\\\\User\\\\anaconda3\\\\Lib\\\\site-packages\\\\konlpy\\\\java\\\\my_dict\\\\open-korean-text-2.1.0.jar"
   ]
  },
  {
   "cell_type": "code",
   "execution_count": null,
   "metadata": {},
   "outputs": [],
   "source": [
    "# 사용자 사전 열기\n",
    "with open(f\"/usr/local/lib/python3.7/dist-packages/konlpy/java/org/openkoreantext/processor/util/noun/names.txt\") as f:\n",
    "    data = f.read()\n",
    "# 새로운 단어 추가\n",
    "data += '존잘키링연하남\\n제현이\\n치과\\n상황극\\n전동\\n면도기\\n'\n",
    "# 파일 새롭게 저장\n",
    "with open(\"/usr/local/lib/python3.7/dist-packages/konlpy/java/org/openkoreantext/processor/util/noun/names.txt\", 'w') as f:\n",
    "    f.write(data)\n",
    "\n",
    "!jar cvf /usr/local/lib/python3.7/dist-packages/konlpy/java/aaa/open-korean-text-2.1.0.jar * \n",
    "# 확인용\n",
    "a = spell_checker.check('존잘키링연하남')\n",
    "result = a.checked\n",
    "print(result)\n",
    "\n",
    "okt.morphs('존잘키링연하남')\n"
   ]
  },
  {
   "cell_type": "code",
   "execution_count": 9,
   "metadata": {},
   "outputs": [
    {
     "ename": "NameError",
     "evalue": "name 'kospacing_list' is not defined",
     "output_type": "error",
     "traceback": [
      "\u001b[1;31m---------------------------------------------------------------------------\u001b[0m",
      "\u001b[1;31mNameError\u001b[0m                                 Traceback (most recent call last)",
      "\u001b[1;32m~\\AppData\\Local\\Temp/ipykernel_12060/2639886383.py\u001b[0m in \u001b[0;36m<module>\u001b[1;34m\u001b[0m\n\u001b[0;32m      6\u001b[0m \u001b[0mstop_words\u001b[0m \u001b[1;33m=\u001b[0m \u001b[0mset\u001b[0m\u001b[1;33m(\u001b[0m\u001b[0mstopwords\u001b[0m\u001b[1;33m)\u001b[0m\u001b[1;33m\u001b[0m\u001b[1;33m\u001b[0m\u001b[0m\n\u001b[0;32m      7\u001b[0m \u001b[1;33m\u001b[0m\u001b[0m\n\u001b[1;32m----> 8\u001b[1;33m \u001b[1;32mfor\u001b[0m \u001b[0mword_tokens\u001b[0m \u001b[1;32min\u001b[0m \u001b[0mkospacing_list\u001b[0m\u001b[1;33m:\u001b[0m\u001b[1;33m\u001b[0m\u001b[1;33m\u001b[0m\u001b[0m\n\u001b[0m\u001b[0;32m      9\u001b[0m     \u001b[0mbul_word\u001b[0m\u001b[1;33m.\u001b[0m\u001b[0mappend\u001b[0m\u001b[1;33m(\u001b[0m\u001b[1;33m[\u001b[0m\u001b[0mword\u001b[0m \u001b[1;32mfor\u001b[0m \u001b[0mword\u001b[0m \u001b[1;32min\u001b[0m \u001b[0mokt\u001b[0m\u001b[1;33m.\u001b[0m\u001b[0mmorphs\u001b[0m\u001b[1;33m(\u001b[0m\u001b[0mword_tokens\u001b[0m\u001b[1;33m)\u001b[0m \u001b[1;32mif\u001b[0m \u001b[1;32mnot\u001b[0m \u001b[0mword\u001b[0m \u001b[1;32min\u001b[0m \u001b[0mstop_words\u001b[0m\u001b[1;33m]\u001b[0m\u001b[1;33m)\u001b[0m\u001b[1;33m\u001b[0m\u001b[1;33m\u001b[0m\u001b[0m\n\u001b[0;32m     10\u001b[0m \u001b[1;33m\u001b[0m\u001b[0m\n",
      "\u001b[1;31mNameError\u001b[0m: name 'kospacing_list' is not defined"
     ]
    }
   ],
   "source": [
    "# 불용어 제거 \n",
    "\n",
    "bul_word = []\n",
    "stopwords = ['같이','많은','특히','때문','그런','처럼','또한','의','가','이','은','들','을','하는','로','는','좀','잘','걍','과','도','를','으로','자','에','와','한','하다','것','못','된','또는','에는','에서','그리고','많이','대해','있지만','다시','또','이렇게','함께','해','경우','저','수','할','라고','때']\n",
    "\n",
    "stop_words = set(stopwords)\n",
    "\n",
    "for word_tokens in kospacing_list:\n",
    "    bul_word.append([word for word in okt.morphs(word_tokens) if not word in stop_words])\n",
    "\n",
    "# print(bul_word)\n",
    "\n",
    "# 이중리스트 제거\n",
    "blist = sum(bul_word, [])"
   ]
  },
  {
   "cell_type": "code",
   "execution_count": null,
   "metadata": {},
   "outputs": [],
   "source": [
    "# 명사 추출\n",
    "\n",
    "n_list=[]\n",
    "for word in blist:\n",
    "    n_list.append(okt.nouns(word))\n",
    "\n",
    "# 이중리스트 제거\n",
    "final_n = sum(n_list, [])\n",
    "print(final_n)"
   ]
  },
  {
   "cell_type": "code",
   "execution_count": 41,
   "metadata": {},
   "outputs": [
    {
     "name": "stdout",
     "output_type": "stream",
     "text": [
      "    keyword  count\n",
      "0        잇몸   1547\n",
      "1         고   1304\n",
      "2        양제    923\n",
      "3        건강    744\n",
      "4        치아    700\n",
      "..      ...    ...\n",
      "354      냄새     20\n",
      "355      권장     20\n",
      "356      구성     20\n",
      "357      결합     20\n",
      "358       감     20\n",
      "\n",
      "[359 rows x 2 columns]\n",
      "<class 'pandas.core.frame.DataFrame'>\n"
     ]
    }
   ],
   "source": [
    "# 리스트를 딕셔너리로 생성하고 빈도수에 따라 키워드를 정렬하는 함수\n",
    "def count_f(my_list):\n",
    "    count = {} # 딕셔너리 생성\n",
    "\n",
    "    for item in my_list:\n",
    "        count[item] = count.get(item, 0) + 1\n",
    "    \n",
    "    final_df = (pd.DataFrame(list(count.items()),\n",
    "                            columns=['keyword', 'count']))\n",
    "    \n",
    "    # 빈도수가 10보다 작다면 해당 행 삭제\n",
    "    d_row = final_df[final_df['count'] < 20].index\n",
    "    final_df = final_df.drop(d_row)\n",
    "\n",
    "    # count 칼럼에 따라서 내림차순 정렬\n",
    "    final_df = final_df.sort_values(by=['count', 'keyword'], ascending=False)\n",
    "    final_df = final_df.reset_index(drop=True) # index 초기화    \n",
    "    \n",
    "    return final_df\n",
    "\n",
    "# 데이터프레임 csv파일로 저장하는 함수\n",
    "def df_export_csv(my_df):\n",
    "    my_file = input('저장할 파일의 이름을 입력하세요 : ')\n",
    "    exp = my_df.to_csv(('{0}.csv').format(my_file), index=False, header=False, encoding='cp949')\n",
    "    \n",
    "    return exp\n",
    "\n",
    "\n",
    "a = count_f(final_n)\n",
    "b = df_export_csv(a)\n",
    "print(a)\n",
    "print(type(a))"
   ]
  }
 ],
 "metadata": {
  "interpreter": {
   "hash": "f08154012ddadd8e950e6e9e035c7a7b32c136e7647e9b7c77e02eb723a8bedb"
  },
  "kernelspec": {
   "display_name": "Python 3.9.7 ('base')",
   "language": "python",
   "name": "python3"
  },
  "language_info": {
   "codemirror_mode": {
    "name": "ipython",
    "version": 3
   },
   "file_extension": ".py",
   "mimetype": "text/x-python",
   "name": "python",
   "nbconvert_exporter": "python",
   "pygments_lexer": "ipython3",
   "version": "3.9.7"
  },
  "orig_nbformat": 4
 },
 "nbformat": 4,
 "nbformat_minor": 2
}
